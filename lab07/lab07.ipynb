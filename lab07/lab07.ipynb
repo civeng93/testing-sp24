{
 "cells": [
  {
   "cell_type": "code",
   "execution_count": null,
   "id": "0b8e99ba",
   "metadata": {
    "deletable": false,
    "editable": false
   },
   "outputs": [],
   "source": [
    "# Initialize Otter\n",
    "import otter\n",
    "grader = otter.Notebook(\"lab07.ipynb\")"
   ]
  },
  {
   "cell_type": "markdown",
   "id": "5af9dc94",
   "metadata": {},
   "source": [
    "### CE 93: Lab Assignment 07\n",
    "\n",
    "You must submit the lab to Gradescope by the due date. You will submit the zip file produced by running the final cell of the assignment.\n",
    "\n",
    "## About this Lab\n",
    "The objective of this assignment is to compute numerical summaries that quantify the dependence between two datasets and to employ simulation techniques to model complex scenarios.\n",
    "\n",
    "## Instructions \n",
    "**Run the first cell, Initialize Otter**, to import the autograder and submission exporter.\n",
    "\n",
    "Throughout the assignment, replace `...` with your answers. We use `...` as a placeholder and theses should be deleted and replaced with your answers.\n",
    "\n",
    "Any part listed as a \"<font color='red'>**Question**</font>\" should be answered to receive credit.\n",
    "\n",
    "**Please save your work after every question!**\n",
    "\n",
    "To read the documentation on a Python function, you can type `help()` and add the function name between parentheses.\n",
    "\n",
    "**Run the cell below**, to import the required modules."
   ]
  },
  {
   "cell_type": "code",
   "execution_count": null,
   "id": "f3463c41",
   "metadata": {},
   "outputs": [],
   "source": [
    "# Please run this cell, and do not modify the contents\n",
    "import math\n",
    "import numpy as np\n",
    "import scipy\n",
    "import pandas as pd\n",
    "import statistics as stats\n",
    "import cmath\n",
    "import re\n",
    "import matplotlib.pyplot as plt\n",
    "import matplotlib.image as mpimg\n",
    "import hashlib\n",
    "import ipywidgets as widgets\n",
    "from ipywidgets import FileUpload\n",
    "from IPython.display import display\n",
    "from PIL import Image\n",
    "import os\n",
    "import resources\n",
    "from scipy.stats import * \n",
    "\n",
    "def get_hash(num):\n",
    "    \"\"\"Helper function for assessing correctness\"\"\"\n",
    "    return hashlib.md5(str(num).encode()).hexdigest()"
   ]
  },
  {
   "cell_type": "markdown",
   "id": "97eac86e",
   "metadata": {},
   "source": [
    "### Linear Combinations\n",
    "\n",
    "In the lecture, we defined a linear function of a random variable as: $Y= aX+b$, where $a$ and $b$ and constants. \n",
    "\n",
    "In this case, we can write:\n",
    "\n",
    "* $E(Y)=aE(X)+b$\n",
    "> Expected Value is affected by adding/subtracting a constant and multiplying/dividing by a constant\n",
    "* $Var(Y)=a^2Var(X)$\n",
    "> Variance is only affected by multiplying/dividing by a constant\n",
    "\n",
    "When a random variable is a linear function of **more than one** random variable, it is known as a **linear combination**. For example, if $Z = c_1 X_1 + c_2 X_2$, where $X_1$ and $X_2$ are random variables and $c_1$ and $c_2$ are constants, then $Z$ is a linear combination. A linear combination of random variables is also a random variable.\n",
    "\n",
    "In this case, we can write:\n",
    "\n",
    "* For any $X_1$ and $X_2$ (independent or dependent): $E(Z)=c_1E(X_1)+c_2E(X_2)$\n",
    "* Only if $X_1$ and $X_2$ are **independent**: $Var(Z)=c_1^2Var(X_1)+c_2^2Var(X_2)$\n",
    "\n",
    "The concept of linear combinations can be extended to more than two random variables.\n",
    "\n",
    "### About this Lab\n",
    "\n",
    "BART (Bay Area Rapid Transit) is a main form of public transportation for many Bay Area citizens to get around and commute. In this lab we are going to analyze the travel time for a single BART train.\n",
    "\n",
    "<img src=\"https://i.ytimg.com/vi/RJy_AL-zzTQ/maxresdefault.jpg\" width=\"400\">\n",
    "\n",
    "*Source: https://www.google.com/url?sa=i&url=https%3A%2F%2Fm.youtube.com%2Fwatch%3Fv%3DRJy_AL-zzTQ&psig=AOvVaw0ndrxCy-ud9INQ1KNa-SQ1&ust=1706826030021000&source=images&cd=vfe&opi=89978449&ved=0CBMQjRxqFwoTCLDRqs7UiIQDFQAAAAAdAAAAABAD*\n",
    "\n",
    "\n",
    "### Simple BART Trip\n",
    "\n",
    "Assume that your BART trip includes traveling 2 segments (i.e., you exit on the second stop), such that:\n",
    "1. The travel time for the first segment is a random variable $X_1 \\sim N(\\mu=245 \\text{ sec}, \\sigma=15 \\text{ sec})$\n",
    "2. The travel time for the second segment is another random variable $X_2 \\sim N(\\mu=200 \\text{ sec}, \\sigma=20 \\text{ sec})$\n",
    "3. The stopping time at the first stop is a constant $C = 30$ sec\n",
    "\n",
    "Then, the total travel time of your trip $T_1$ can be written as:\n",
    "\n",
    "$T_1=X_1+X_2+C$"
   ]
  },
  {
   "cell_type": "markdown",
   "id": "80927f0a-c80f-411a-9b55-4ee2eb0d806a",
   "metadata": {
    "deletable": false,
    "editable": false
   },
   "source": [
    "<font color='red'>**Question 1.0.**</font> If $X_1$ and $X_2$ are independent, what are the expected value (in sec), variance (in sec$^2$), and standard deviation (in sec) of the total travel time, $T_1$? Assign your answers to `mu_T1`, `var_T1`, and `sigma_T1`, respectively. Do not just manually type the numeric answers. Use Python expressions that return the desired answer and assign them to the variables. (1 pt)"
   ]
  },
  {
   "cell_type": "code",
   "execution_count": null,
   "id": "067d5b56-3944-4127-a29a-5b44ef47afdd",
   "metadata": {
    "tags": []
   },
   "outputs": [],
   "source": [
    "# ANSWER CELL\n",
    "\n",
    "# calculate E(T1) using X1 ~ N(245, 15) and X2 ~ N(200, 20) and C=30\n",
    "mu_T1 = ...\n",
    "print(f'The expected value of the total travel time is {int(mu_T1)} sec' if not isinstance(mu_T1, type(Ellipsis)) else None)\n",
    "\n",
    "# calculate var(T1) using X1 ~ N(245, 15) and X2 ~ N(200, 20) and C=30\n",
    "var_T1 = ...\n",
    "print(f'The variance of the total travel time is {int(var_T1)} sec^2' if not isinstance(var_T1, type(Ellipsis)) else None)\n",
    "\n",
    "# calculate stdev(T1) using X1 ~ N(245, 15) and X2 ~ N(200, 20) and C=30\n",
    "sigma_T1 = ...\n",
    "print(f'The standard deviation of the total travel time is {int(sigma_T1)} sec' if not isinstance(sigma_T1, type(Ellipsis)) else None)"
   ]
  },
  {
   "cell_type": "code",
   "execution_count": null,
   "id": "6c169a69",
   "metadata": {
    "deletable": false,
    "editable": false
   },
   "outputs": [],
   "source": [
    "grader.check(\"q1.0\")"
   ]
  },
  {
   "cell_type": "markdown",
   "id": "28f73def",
   "metadata": {
    "deletable": false,
    "editable": false
   },
   "source": [
    "<font color='red'>**Question 1.1.**</font> If $X_1$ and $X_2$ are independent, what can you say about the distribution of $T_1$? Assign your answer to the variable `q1_1` as a string. (0.25 pts)\n",
    "\n",
    "\n",
    "**A.** $T_1$ has a lognormal distribution.\\\n",
    "**B.** $T_1$ has a uniform distribution.\\\n",
    "**C.** $T_1$ has a gamma distribution.\\\n",
    "**D.** We can't know the distribution of $T_1$ but we can only calculate its mean and standard deviation.\\\n",
    "**E.** $T_1$ has a normal distribution."
   ]
  },
  {
   "cell_type": "code",
   "execution_count": null,
   "id": "0dbeea68",
   "metadata": {
    "tags": []
   },
   "outputs": [],
   "source": [
    "# ANSWER CELL\n",
    "q1_1 = ...\n",
    "q1_1"
   ]
  },
  {
   "cell_type": "code",
   "execution_count": null,
   "id": "6e6f3a65",
   "metadata": {
    "deletable": false,
    "editable": false
   },
   "outputs": [],
   "source": [
    "grader.check(\"q1.1\")"
   ]
  },
  {
   "cell_type": "markdown",
   "id": "5520e836",
   "metadata": {
    "deletable": false,
    "editable": false
   },
   "source": [
    "In Lab 06, we used different methods to work with the normal distribution in Python, such as:\n",
    "\n",
    "| Distribution  | Python function | Relation to Parameters from Lecture |\n",
    "|:--------------|:----------------|:------------------------------------|\n",
    "| Normal        | [`norm(loc, scale)`](https://docs.scipy.org/doc/scipy/reference/generated/scipy.stats.norm.html) | `loc=` $\\mu$, `scale=` $\\sigma$ |\n",
    "\n",
    "* `norm.pdf(x, loc, scale)`: Get the probability density function (PDF) at $x: f(x)$\n",
    "* `norm.cdf(x, loc, scale)`: Get the cumulative distribution function (CDF) at $x: F(x)$\n",
    "* `norm.mean(loc, scale)`: Get the expected value of the random variable\n",
    "* `norm.median(loc, scale)`: Get the median of the random variable\n",
    "* `norm.var(loc, scale)`: Get the variance of the random variable\n",
    "* `norm.std(loc, scale)`: Get the standard deviation of the random variable"
   ]
  },
  {
   "cell_type": "markdown",
   "id": "8d6b9d14-7b4a-4a36-b86a-454c06c38c17",
   "metadata": {
    "deletable": false,
    "editable": false
   },
   "source": [
    "<font color='red'>**Question 1.2.**</font> Plot the PDF of the total travel time of your trip $T_1$. Follow these steps: (0.5 pts)\n",
    "\n",
    "1. Create an array named `t1` for the possible values of $T_1$ starting at 375 and ending at 575 sec (inclusive) with a time step of 1 sec: {375, 376, 377, ..., 574, 575}\n",
    "2. Calculate the PDF for all the values of `t1` and save them as `PDF_t1`. Use `norm.pdf(x=..., loc=..., scale=...)` along with the theoretical values for the parameters $\\mu$ (variable `mu_T1`) and $\\sigma$ (variable `sigma_T1`) which you computed in Question 1.0.\n",
    "3. Plot the theoretical PDF using [`plt.plot()`](https://matplotlib.org/stable/api/_as_gen/matplotlib.pyplot.plot.html). Click on the function to read its documentation.\n",
    "4. Change the line color of the PDF to red: `color='r'`. Do not change line style, this is a continuous distribution.\n",
    "5. Set the x-axis label to 'Time (sec)' and the y-axis label to 'Density'"
   ]
  },
  {
   "cell_type": "code",
   "execution_count": null,
   "id": "1878b90d-ba49-473e-87d7-649b7ded98a9",
   "metadata": {
    "tags": []
   },
   "outputs": [],
   "source": [
    "# ANSWER CELL\n",
    "\n",
    "# Do not modify this line for grading purposes\n",
    "import matplotlib.pyplot as plt\n",
    "from matplotlib.lines import Line2D\n",
    "import matplotlib.colors as mcolors\n",
    "\n",
    "# create figure and axes\n",
    "fig_1, ax_1 = plt.subplots(nrows=1, ncols=1, figsize=(6,3))\n",
    "\n",
    "# Edit the code below to plot the theoretical distribution of T1 (only edit where you have ...)\n",
    "\n",
    "# define possible values for T1 to calculate the theoretical PDF\n",
    "t1 = ...\n",
    "\n",
    "# Calculate probability density function for all values in t1 using norm.pdf().\n",
    "PDF_t1 = ...\n",
    "\n",
    "# Plot the PDF using plt.plot(). You give it first the x-axis values, then the y-axis values.\n",
    "# specify color = 'r'\n",
    "...\n",
    "\n",
    "# Label the axes\n",
    "...\n",
    "\n",
    "# Display the plot\n",
    "plt.tight_layout()\n",
    "plt.show()"
   ]
  },
  {
   "cell_type": "code",
   "execution_count": null,
   "id": "c72a73af",
   "metadata": {
    "deletable": false,
    "editable": false
   },
   "outputs": [],
   "source": [
    "grader.check(\"q1.2\")"
   ]
  },
  {
   "cell_type": "markdown",
   "id": "c9f6661d-c574-48dd-bdb1-382d96f4b5b6",
   "metadata": {},
   "source": [
    "### Simulation\n",
    "\n",
    "Let's prove that a linear combination of independent normal random variables also has a normal distribution through simulation.\n",
    "\n",
    "In this lab we will use a new method that allows us to simulate **random samples** from a distribution. For all the common distributions in `scipy.stats`, we can generate a random sample using the `.rvs()` method. \n",
    "\n",
    "For example `norm.rvs(loc=5, scale=1, size=100)` will return a random sample of size 100 (i.e., 100 samples) from $X \\sim N(\\mu=5, \\sigma=1)$. \n",
    "\n",
    "The code below generates 100 random values from $X \\sim N(\\mu=5, \\sigma=1$). Then, the mean and standard deviation of the random sample are calculated. \n",
    "\n",
    "These values should be **close** to the mean and standard deviation of the theoretical distribution $X \\sim N(\\mu=5, \\sigma=1)$. The sample statistics will likely not be exactly equal to those of the population due to **sampling variation** (values differ somewhat from the full population).\n",
    "\n",
    "Rerun the cell below multiple times. Each time, a new random sample of size 100 will be generated, and the sample mean and standard deviation will slightly change due, again, to sampling variation (values differ somewhat between samples)."
   ]
  },
  {
   "cell_type": "code",
   "execution_count": null,
   "id": "367e32b3-985b-41e1-b714-31cc83011bfb",
   "metadata": {
    "scrolled": true
   },
   "outputs": [],
   "source": [
    "# Run this code cell to generate 100 random samples from N(5,1) and calculate the sample mean and standard deviation\n",
    "\n",
    "# Generate 100 random values from N(5,1)\n",
    "random_sample = norm.rvs(loc=5, scale=1, size=100)\n",
    "\n",
    "# calculate sample mean\n",
    "print(f'The sample mean is: {round(np.mean(random_sample),3)}')\n",
    "\n",
    "# calculate sample standard deviation\n",
    "print(f'The sample standard deviation is: {round(np.std(random_sample, ddof=1),3)}')"
   ]
  },
  {
   "cell_type": "markdown",
   "id": "b2a7da39-60f6-4ca7-b7ab-6c7279beb976",
   "metadata": {},
   "source": [
    "Sometimes, we wish to \"control\" this randomness. For example, in our case, to make sure that everyone gets the same answer so that we can automatically grade this lab, we need everyone to get the \"same random\" answer. A more formal name for this would be a \"pseudo random\" sample.\n",
    "\n",
    "We can achieve this using the `seed()` method. For example, at the beginning of the next code cell, we have added the following line: `np.random.seed(123)`. \n",
    "\n",
    "A random seed specifies the starting point where a computer generates random numbers. So, by specifying a seed number at the beginning of our cell, every time, the computer starts from the same point, and gives the same \"random numbers\". If we do not specify the seed number, every time the computer will likely start from different points, and give different \"random numbers\".\n",
    "\n",
    "Re-run the code cell below multiple times. The answers should be the same every time!\n",
    "\n",
    "If you delete `np.random.seed(123)`, the answers will likely change every time you rerun the code cell."
   ]
  },
  {
   "cell_type": "code",
   "execution_count": null,
   "id": "d79f271b-9e2d-4574-9334-cd68ee8e6cd9",
   "metadata": {
    "scrolled": true
   },
   "outputs": [],
   "source": [
    "# Run this code cell to see what happens if we specify np.random.seed()\n",
    "\n",
    "# set the random seed equal to 123\n",
    "np.random.seed(123)\n",
    "\n",
    "# Generate 100 random values from N(5,1)\n",
    "random_sample = norm.rvs(loc=5, scale=1, size=100)\n",
    "\n",
    "# calculate sample mean\n",
    "print(f'The sample mean is: {round(np.mean(random_sample),3)}')\n",
    "\n",
    "# calculate sample standard deviation\n",
    "print(f'The sample standard deviation is: {round(np.std(random_sample, ddof=1),3)}')"
   ]
  },
  {
   "cell_type": "markdown",
   "id": "eafe0c8f-0716-4b11-b191-d6ec3918e0e6",
   "metadata": {},
   "source": [
    "### Distribution of Simple BART Trip Using Simulation\n",
    "\n",
    "Now let's go back to our simple BART trip...\n",
    "\n",
    "We previously defined the total travel time as $T_1=X_1+X_2+C$, where:\n",
    "1. The travel time for the first segment is a random variable $X_1 \\sim N(\\mu=245 \\text{ sec}, \\sigma=15 \\text{ sec})$\n",
    "2. The travel time for the second segment is another random variable $X_2 \\sim N(\\mu=200 \\text{ sec}, \\sigma=20 \\text{ sec})$\n",
    "3. The stopping time at the first stop is a constant $C = 30$ sec\n",
    "\n",
    "We can simulate values for $T_1$ as follows:\n",
    "1. Simulate random values for $X_1$\n",
    "2. Simulate random values for $X_2$\n",
    "3. Add the simulated values as well as the constant $C$"
   ]
  },
  {
   "cell_type": "markdown",
   "id": "ed5d6506",
   "metadata": {
    "deletable": false,
    "editable": false
   },
   "source": [
    "<font color='red'>**Question 2.0.**</font> Simulate 5000 values for $T_1$ (in sec) using these steps: (0.5 pts)\n",
    "\n",
    "1. Simulate 5000 values from $X_1 \\sim N(\\mu=245 \\text{ sec}, \\sigma=15 \\text{ sec})$ and assign them to `X1`\n",
    "2. Simulate 5000 values from $X_2 \\sim N(\\mu=200 \\text{ sec}, \\sigma=20 \\text{ sec})$ and assign them to `X2`\n",
    "3. Get the simulated values for $T_1$ using $X_1 + X_2 + C$ and assign them to `T1`"
   ]
  },
  {
   "cell_type": "code",
   "execution_count": null,
   "id": "4e20bcb4",
   "metadata": {
    "tags": []
   },
   "outputs": [],
   "source": [
    "# ANSWER CELL\n",
    "\n",
    "# Do not modify this line. set the seed number\n",
    "np.random.seed(123)\n",
    "\n",
    "# simulate 5000 values from X1 ~ N(245, 15)\n",
    "X1 = ...\n",
    "\n",
    "# simulate 5000 values from X2 ~ N(200, 20)\n",
    "X2 = ...\n",
    "\n",
    "# Add X1 + X2 + C to get a sample of size 5000 for T1\n",
    "T1 = ...\n",
    "print(f'Simulated values for T1: [{int(T1[0])}, {int(T1[1])}, {int(T1[2])}, ..., {int(T1[-2])}, {int(T1[-1])}] sec \\n' if not isinstance(T1, type(Ellipsis)) else None)"
   ]
  },
  {
   "cell_type": "code",
   "execution_count": null,
   "id": "61d27166",
   "metadata": {
    "deletable": false,
    "editable": false
   },
   "outputs": [],
   "source": [
    "grader.check(\"q2.0\")"
   ]
  },
  {
   "cell_type": "markdown",
   "id": "4c9b703c",
   "metadata": {},
   "source": [
    "Now that we have a simulated sample for $T_1$, we can plot a histogram to investigate its distribution, compute summary statistics (mean, standard deviation, etc.), probabilities, and much more."
   ]
  },
  {
   "cell_type": "markdown",
   "id": "c77e3de4",
   "metadata": {
    "deletable": false,
    "editable": false
   },
   "source": [
    "<font color='red'>**Question 2.1.**</font> Compute the sample mean and sample standard deviation of the simulated values and assign them to `mu_T1_sim` and `sigma_T1_sim`, respectively. (0.5 pts)\n",
    "\n",
    "*Note:* You can use `np.mean()` and `np.std()` to get the mean and standard deviation of a sample. We saw in Lab 02 that `np.std()` takes an optional parameter `ddof`: \"Delta Degrees of Freedom\". By default, this is 0, which returns the population standard deviation. To get the sample standard deviation, you need to specify `ddof=1`."
   ]
  },
  {
   "cell_type": "code",
   "execution_count": null,
   "id": "6956bbc6",
   "metadata": {
    "tags": []
   },
   "outputs": [],
   "source": [
    "# ANSWER CELL\n",
    "# Calculate statistics for T1\n",
    "\n",
    "# calculate sample mean for T1\n",
    "mu_T1_sim = ...\n",
    "print(f'The simulated mean is {round(mu_T1_sim,3)} sec' if not isinstance(mu_T1_sim, type(Ellipsis)) else None)\n",
    "print(f'The theoretical mean (Question 1.0) is {round(mu_T1, 3)} sec \\n' if not isinstance(mu_T1, type(Ellipsis)) else None)\n",
    "\n",
    "# calculate sample standard deviation for T1\n",
    "sigma_T1_sim = ...\n",
    "print(f'The simulated standard deviation is {round(sigma_T1_sim, 3)} sec' if not isinstance(sigma_T1_sim, type(Ellipsis)) else None)\n",
    "print(f'The theoretical standard deviation (Question 1.0) is {round(sigma_T1, 3)} sec' if not isinstance(sigma_T1, type(Ellipsis)) else None)"
   ]
  },
  {
   "cell_type": "code",
   "execution_count": null,
   "id": "5cdf599c",
   "metadata": {
    "deletable": false,
    "editable": false
   },
   "outputs": [],
   "source": [
    "grader.check(\"q2.1\")"
   ]
  },
  {
   "cell_type": "markdown",
   "id": "ebac11a1-aaec-4065-8fd2-dfcfb47914d3",
   "metadata": {},
   "source": [
    "In Question 1.0, you calculated the parameters for $T_1$ using equations from the lecture. In the code cell above, you computed estimates for these parameters using a random sample without really using any theory or equations related to linear combinations.\n",
    "\n",
    "You can compare the values and see that they are almost equal to one another.\n",
    "\n",
    "Note that the values might not **perfectly match**, but they should be very close. Remember, a sample gives us an estimate of the parameters and there is sampling variation.\n",
    "\n",
    "We can do much more with simulation. We can use simulation to approximate the probability density function, to calculate probabilities, and much more.\n",
    "\n",
    "So, let's plot the simulated histogram for $T_1$ and check the simulated distribution."
   ]
  },
  {
   "cell_type": "markdown",
   "id": "53231842",
   "metadata": {
    "deletable": false,
    "editable": false
   },
   "source": [
    "<font color='red'>**Question 2.2.**</font> Plot a histogram of the simulated distributions of $T_1$. Follow these steps: (0.5 pts)\n",
    "\n",
    "1. Plot a **density** histogram of the simulated values of $T_1$, which are saved as variable `T1`, using `plt.hist()` with `bins=20` and set it equal to the variable `histogram`. Recall that to plot density, you have to specify `density=True` (refer to Lab 02).\n",
    "2. Set the x-axis label to 'Time (sec)' and the y-axis label to 'Density'"
   ]
  },
  {
   "cell_type": "code",
   "execution_count": null,
   "id": "7172130f",
   "metadata": {
    "tags": []
   },
   "outputs": [],
   "source": [
    "# ANSWER CELL\n",
    "\n",
    "# Do not modify this line for grading purposes\n",
    "import matplotlib.pyplot as plt\n",
    "from matplotlib.lines import Line2D\n",
    "\n",
    "# create figure and axes\n",
    "fig_2, ax_2 = plt.subplots(nrows=1, ncols=1, figsize=(6,3))\n",
    "\n",
    "# Edit the code below to plot the simulated distribution of T1 (only edit where you have ...)\n",
    "\n",
    "# Plot density histogram of T1 using plt.hist(). Assign the plot to the variable histogram.\n",
    "histogram = ...\n",
    "\n",
    "# Label the axes\n",
    "...\n",
    "\n",
    "# Display the plot\n",
    "plt.tight_layout()\n",
    "plt.show()"
   ]
  },
  {
   "cell_type": "code",
   "execution_count": null,
   "id": "fae27037",
   "metadata": {
    "deletable": false,
    "editable": false
   },
   "outputs": [],
   "source": [
    "grader.check(\"q2.2\")"
   ]
  },
  {
   "cell_type": "markdown",
   "id": "7f53924b",
   "metadata": {},
   "source": [
    "Finally, let's plot the simulated histogram for $T_1$ and compare it with the probability density function of a theoretical normal distribution to see if we can prove through simulation that a linear combination of independent normal random variables also has a normal distribution."
   ]
  },
  {
   "cell_type": "markdown",
   "id": "2fc821dc",
   "metadata": {
    "deletable": false,
    "editable": false
   },
   "source": [
    "<font color='red'>**Question 2.3.**</font> Plot the simulated and theoretical distributions of $T_1$ in the same plot. Follow these steps: (1 pt)\n",
    "\n",
    "1. Plot a **density** histogram of the simulated values of $T_1$, which are saved as variable `T1`, using `plt.hist()` with `bins=20` and set it equal to the variable `histogram`. Recall that to plot density, you have to specify `density=True` (refer to Lab 02).\n",
    "2. Plot the theoretical PDF using [`plt.plot()`](https://matplotlib.org/stable/api/_as_gen/matplotlib.pyplot.plot.html). You already calculated possible values (`t1`) and their corresponding densities (`PDF_t1`)\n",
    "3. Change the line color of the simulated PDF to red: `color='r'`. Do not change line style, this is a continuous distribution.\n",
    "4. We want to add a legend for the theoretical PDF. To do so, we have to give it a label. Inside `plt.plot()`, specify `label=f'N ($\\mu$={mu_T1}, $\\sigma$={sigma_T1})'`. This uses string formatting to show that the theoretical PDF corresponds to a normal distribution with parameters `mu_T1` and `sigma_T1`. These parameters will be replaced with their actual values from Question 1.0. The `$$` signs are used to display mathematical characters. So, `$\\mu$` will be displayed as $\\mu$. To actually display the legend, you will have to then add `plt.legend()`, which has already been added below. \n",
    "5. Set the x-axis label to 'Time (sec)' and the y-axis label to 'Density'"
   ]
  },
  {
   "cell_type": "code",
   "execution_count": null,
   "id": "800f3954",
   "metadata": {
    "tags": []
   },
   "outputs": [],
   "source": [
    "# ANSWER CELL\n",
    "\n",
    "# Do not modify this line for grading purposes\n",
    "import matplotlib.pyplot as plt\n",
    "from matplotlib.lines import Line2D\n",
    "import matplotlib.colors as mcolors\n",
    "\n",
    "# create figure and axes\n",
    "fig_3, ax_3 = plt.subplots(nrows=1, ncols=1, figsize=(6,3))\n",
    "\n",
    "# Edit the code below to plot the simulated and theoretical distribution of T1 (only edit where you have ...)\n",
    "\n",
    "# Plot density histogram of T1 using plt.hist(). Assign the plot to the variable histogram.\n",
    "histogram = ...\n",
    "\n",
    "# Plot the PDF using plt.plot(). You give it first the x-axis values, then the y-axis values.\n",
    "# specify color = 'r'\n",
    "...\n",
    "\n",
    "# add legend\n",
    "plt.legend()\n",
    "\n",
    "# Label the axes\n",
    "...\n",
    "\n",
    "# Display the plot\n",
    "plt.tight_layout()\n",
    "plt.show()"
   ]
  },
  {
   "cell_type": "code",
   "execution_count": null,
   "id": "d3bb6a53",
   "metadata": {
    "deletable": false,
    "editable": false
   },
   "outputs": [],
   "source": [
    "grader.check(\"q2.3\")"
   ]
  },
  {
   "cell_type": "markdown",
   "id": "cf66d84b-0e6e-4fd9-8395-733e2342f057",
   "metadata": {},
   "source": [
    "The red line in the plot above (which corresponds to the theoretical distribution) should be in good agreement with the density histogram of the simulated data if you have correctly specified the parameters and correctly created the density plot.\n",
    "\n",
    "Keep in mind that we were able to get the density histogram using simulation only, without making any assumptions! And we were still able to approximate, very well, the theoretical distribution of $T_1$, and see that a linear combination of independent normal distributions also has a normal distribution."
   ]
  },
  {
   "cell_type": "markdown",
   "id": "f392c8cc-ced2-41d5-8b2b-e22aee92284d",
   "metadata": {},
   "source": [
    "### Probability Using Theoretical Distribution"
   ]
  },
  {
   "cell_type": "markdown",
   "id": "62435a3d-3efd-4ba9-86b9-9917720f294f",
   "metadata": {
    "deletable": false,
    "editable": false
   },
   "source": [
    "<font color='red'>**Question 3.0.**</font> Using the **theoretical** distribution of $T_1$ (i.e., your answer to Question 1.0 and 1.1), what is the probability that the total travel time is **more than 520 seconds**? Assign your answer to `q3_0`. Do not just manually type the numeric answer. Use Python expressions that return the desired answer and assign them to the variable. (0.5 pts)\n",
    "\n",
    "*Hint: Use `norm.cdf(x, loc, scale)` where `x` is the value you want to compute the CDF for, and `loc` and `scale` are the distribution parameters, which you calculated in Question 1.0. (variables `mu_T1` and `sigma_T1`). Keep in mind that the CDF represents the probability **less** than x.* "
   ]
  },
  {
   "cell_type": "code",
   "execution_count": null,
   "id": "7d9fddf3-ce31-4928-b1fe-02cd42b2be92",
   "metadata": {
    "tags": []
   },
   "outputs": [],
   "source": [
    "# ANSWER CELL\n",
    "q3_0 = ...\n",
    "f'Theoretical P(T1 > 520) = {q3_0:.3f}' if not isinstance(q3_0, type(Ellipsis)) else None"
   ]
  },
  {
   "cell_type": "code",
   "execution_count": null,
   "id": "9332d4c3",
   "metadata": {
    "deletable": false,
    "editable": false
   },
   "outputs": [],
   "source": [
    "grader.check(\"q3.0\")"
   ]
  },
  {
   "cell_type": "markdown",
   "id": "83448e37-9958-45dc-9a5e-3f8c24a5aeb7",
   "metadata": {},
   "source": [
    "### Probability Using Simulation\n",
    "\n",
    "Recall that we simulated 5000 random values for $T_1$, which are saved as `T1`."
   ]
  },
  {
   "cell_type": "markdown",
   "id": "04c712fd-6b8c-41e2-a4b9-032ea81c569d",
   "metadata": {
    "deletable": false,
    "editable": false
   },
   "source": [
    "<font color='red'>**Question 3.1.**</font> Using the **simulated values** of $T_1$ what is the probability that the total travel time is more than 520 seconds? Assign your answer to `q3_1`. Do not just manually type the numeric answer. Use Python expressions that return the desired answer and assign them to the variable. (0.5 pts)\n",
    "\n",
    "*Hint: you simply have to count the frequency of the event (using `sum()`) and divide by the sample size (using `len()`). Refer to Lab 03.* "
   ]
  },
  {
   "cell_type": "code",
   "execution_count": null,
   "id": "3f5e12cc-cce1-4517-b17f-8e658e19494d",
   "metadata": {
    "tags": []
   },
   "outputs": [],
   "source": [
    "# ANSWER CELL\n",
    "q3_1 = ...\n",
    "print(f'Simulated P(T1 > 520)   = {q3_1:.3f}' if not isinstance(q3_1, type(Ellipsis)) else None)\n",
    "print(f'Theoretical P(T1 > 520) = {q3_0:.3f}' if not isinstance(q3_0, type(Ellipsis)) else None)"
   ]
  },
  {
   "cell_type": "code",
   "execution_count": null,
   "id": "d86d238a",
   "metadata": {
    "deletable": false,
    "editable": false
   },
   "outputs": [],
   "source": [
    "grader.check(\"q3.1\")"
   ]
  },
  {
   "cell_type": "markdown",
   "id": "ced7ff12",
   "metadata": {},
   "source": [
    "You should observe that the simulated probability closely aligns with the theoretical one. Simulations prove to be really beneficial, as they provide practical insights without relying solely on theory.\n",
    "\n",
    "Simulation is more beneficial when the problem is complex, such that it is not simple to obtain a theoretical solution, or when a theoretical solution does not actually exist.\n",
    "\n",
    "So far we have assumed that the BART trip travel time is the sum of two independent normal distributions. What if these distributions were not normal? In this case, instead of using theory, we will use simulations for probabilistic and statistical modeling."
   ]
  },
  {
   "cell_type": "markdown",
   "id": "907489a8-5939-4b5b-8b5c-404599540ea9",
   "metadata": {},
   "source": [
    "### Compound BART Trip\n",
    "\n",
    "Now let's look at a more complex, but similar, problem. We will be looking at the time it takes for a BART car to get from North Berkeley to San Leandro on the <font color='orange'>**Orange Line**</font>.\n",
    "\n",
    "<img src=\"resources/BARTmap.png\" width=\"1000\">\n",
    "\n",
    "*Source: https://www.bart.gov/schedules*\n",
    "\n",
    "Our trip time begins once the BART car departs from North Berkeley, and ends once it arrives at San Leandro. \n",
    "\n",
    "During this trip:\n",
    "- The train travels 9 segments\n",
    "- The train hence makes 8 intermediate stops\n",
    "- The train picks up a total of 105 passengers\n",
    "- The train encounters 3 transfer stations. \n",
    "- If another train is already parked at one of these 3 transfer stations when our BART train arrives, our total travel time will be longer.\n",
    "\n",
    "The total travel time of our train is composed of the following elements:\n",
    "- The time the train is in motion in each segment ($i$): $T_{Mi}$, where $i=1,2,...,9$.\n",
    "- Constant stopping time at each of the 8 intermediate stops: $C_1=30 sec$. \n",
    "- Random part of stopping time at each of the 8 intermediate stops ($j$): $X_j$, where $j=1,2,...,8$.\n",
    "- Boarding time of passenger $m$: $U_m$, where $m=1,2,...,105$. \n",
    "- $B_n$ denotes whether a transfer station $n$ is occupied by another train when our train arrives or not, where $n=1,2,3$.\n",
    "- Constant waiting time at each of the 3 transfer stations if the transfer station is occupied by another train: $C_2=60 sec$. \n",
    "\n",
    "All the random variables defined above are **independent** of each other. The distributions of these variables are shown below:\n",
    "\n",
    "| Variable | Distribution|\n",
    "| :------- | :-|\n",
    "| $T_{Mi}$ | Normal $(\\mu=240 sec, \\sigma = 15 sec)$|\n",
    "| $C_1$    | $30 $ sec/stop|\n",
    "| $X_j$    | Lognormal $(\\mu=2, \\sigma = 1)$|\n",
    "| $U_m$    | Uniform $(a=1 sec, b= 20 sec)$|\n",
    "| $B_n$    | Bernoulli $(p = 0.5)$|\n",
    "| $C_2$    | $60 $ sec/station if the transfer station is occupied|\n",
    "\n",
    "So, the full travel time can be written as follows:\n",
    "\n",
    "$T=(T_{M1}+...+T_{M9}) + 8 \\times C_1 + (X_1+...+X_8)+(U_1+...+U_{105})+C_2 \\times (B_1+B_2+B_3)$\n",
    "\n",
    "In this case, $T$ is no longer the sum of independent normal distributions, so getting its expected value, standard deviation, and distribution is not straight-forward. So, we will use simulation!"
   ]
  },
  {
   "cell_type": "markdown",
   "id": "9e6dba8b-0ad1-4b88-9cea-ec37098e0810",
   "metadata": {},
   "source": [
    "### Simulating $T$\n",
    "\n",
    "To get the distribution of $T$, we have to simulate many values from each distribution. To do so, we will use a for-loop. A for-loop is a set of instructions that is repeated, or iterated, for every value in a sequence. You can read more about it [here](https://pythonnumericalmethods.berkeley.edu/notebooks/chapter05.01-For-Loops.html?highlight=loop).\n",
    "\n",
    "Read, **understand**, and run the code cell below that generates 5000 values for $T$."
   ]
  },
  {
   "cell_type": "code",
   "execution_count": null,
   "id": "6faab57c-bbca-4c5b-8bcb-57fef8a054d1",
   "metadata": {},
   "outputs": [],
   "source": [
    "# simulate 5000 values for T\n",
    "\n",
    "# set the seed number\n",
    "np.random.seed(123)\n",
    "\n",
    "# create an empty array T to save the simulated values\n",
    "T = np.array([])\n",
    "\n",
    "# simulate a value for T 5000 times, and each time, append the new value to array T\n",
    "for i in range(5000):\n",
    "    TM = norm.rvs(loc = 240, scale = 15, size = 9) # We have 9 segments, each normally distributed\n",
    "    X = lognorm.rvs(s=1, scale=np.exp(2), size=8) # We have 8 stops, each lognormally distributed\n",
    "    U = uniform.rvs(loc = 1, scale = 20-1, size=105) # We have 105 passengers to board, each uniformly distributed\n",
    "    B = bernoulli.rvs(p=0.5, size=3) # We have 3 transfer stations, and whether each is occupied or not is Bernoulli\n",
    "    T = np.append(T, sum(TM) + 8*30 + sum(X) + sum(U) + 60*sum(B)) # Get T using the given equation\n",
    "    \n",
    "# print the first 10 simulated values for T\n",
    "print(f'A sample of 10 simulated values for T: {np.round(T[:10])} seconds')"
   ]
  },
  {
   "cell_type": "markdown",
   "id": "a2315e90-f8e2-4329-a2ea-ca83bbeffbaa",
   "metadata": {
    "deletable": false,
    "editable": false
   },
   "source": [
    "<font color='red'>**Question 4.0.**</font> What is the sample mean of the simulated $T$ values, which are saved as variable `T`? Assign your answer to `mu_T_sim`. Do not just manually type the numeric answer. Use Python expressions that return the desired answer and assign them to the variable. (0.5 pts)"
   ]
  },
  {
   "cell_type": "code",
   "execution_count": null,
   "id": "0d0b51e8-4dae-43f9-89c8-74e79a1942fe",
   "metadata": {
    "tags": []
   },
   "outputs": [],
   "source": [
    "# ANSWER CELL\n",
    "mu_T_sim = ...\n",
    "print(f'The simulated mean is {round(mu_T_sim)} sec' if not isinstance(mu_T_sim, type(Ellipsis)) else None)"
   ]
  },
  {
   "cell_type": "code",
   "execution_count": null,
   "id": "35460e73",
   "metadata": {
    "deletable": false,
    "editable": false
   },
   "outputs": [],
   "source": [
    "grader.check(\"q4.0\")"
   ]
  },
  {
   "cell_type": "markdown",
   "id": "c1ccaf3c-faee-4239-aa8d-604beaf7de18",
   "metadata": {
    "deletable": false,
    "editable": false
   },
   "source": [
    "<font color='red'>**Question 4.1.**</font> What is the sample standard deviation of the simulated $T$ values, which are saved as variable `T`? Assign your answer to `sigma_T_sim`. Do not just manually type the numeric answer. Use Python expressions that return the desired answer and assign them to the variable. (0.5 pts)"
   ]
  },
  {
   "cell_type": "code",
   "execution_count": null,
   "id": "82f6fbc2-b0b2-47de-ac30-3feb662bbf92",
   "metadata": {
    "tags": []
   },
   "outputs": [],
   "source": [
    "# ANSWER CELL\n",
    "sigma_T_sim = ...\n",
    "print(f'The simulated standard deviation is {round(sigma_T_sim)} sec' if not isinstance(sigma_T_sim, type(Ellipsis)) else None)"
   ]
  },
  {
   "cell_type": "code",
   "execution_count": null,
   "id": "0bfc918b",
   "metadata": {
    "deletable": false,
    "editable": false
   },
   "outputs": [],
   "source": [
    "grader.check(\"q4.1\")"
   ]
  },
  {
   "cell_type": "markdown",
   "id": "05cb002f",
   "metadata": {},
   "source": [
    "So we were able to get the expected value of $T$ and its standard deviation using simulation, without relying on any equations or theoretical frameworks!"
   ]
  },
  {
   "cell_type": "markdown",
   "id": "9f4d06b8-783a-41ba-9bef-a79b1d9a8297",
   "metadata": {},
   "source": [
    "### Sample Probabilities of $T$\n",
    "\n",
    "Again, we can do much more with simulation. Theoretically, to calculate probabilities, we need to know the distribution of $T$ (e.g., normal, lognormal, etc.) and its probability density function.\n",
    "\n",
    "However, without knowing the distribution of $T$ (or making ANY assumptions about it), we can estimate probabilities, pretty accurately, using the simulated values. "
   ]
  },
  {
   "cell_type": "markdown",
   "id": "c1609147-c11d-4a63-bb1c-8a0933e166b2",
   "metadata": {
    "deletable": false,
    "editable": false
   },
   "source": [
    "<font color='red'>**Question 5.0.**</font> Based on the simulated $T$ values, which are saved as variable `T`, what is the probability that the full travel time is less than 65 min? Note that the values of `T` are in seconds. Assign your answer to `q5_0`. Do not just manually type the numeric answer. Use Python expressions that return the desired answer and assign them to the variable. (0.5 pts)\n",
    "\n",
    "*Hint: you simply have to count the frequency of the event (using `sum()`) and divide by the sample size (using `len()`).* "
   ]
  },
  {
   "cell_type": "code",
   "execution_count": null,
   "id": "1ed0247f-62a6-4b9d-9032-303d2d46ec22",
   "metadata": {
    "tags": []
   },
   "outputs": [],
   "source": [
    "# ANSWER CELL\n",
    "q5_0 = ...\n",
    "print(f'Simulated P(T < 65 min) = {q5_0:.3f}' if not isinstance(q5_0, type(Ellipsis)) else None)"
   ]
  },
  {
   "cell_type": "code",
   "execution_count": null,
   "id": "e07ade9f",
   "metadata": {
    "deletable": false,
    "editable": false
   },
   "outputs": [],
   "source": [
    "grader.check(\"q5.0\")"
   ]
  },
  {
   "cell_type": "markdown",
   "id": "e10ba3f8",
   "metadata": {
    "deletable": false,
    "editable": false
   },
   "source": [
    "<font color='red'>**Question 5.1.**</font> Based on the simulated $T$ values, what is the probability that the full travel time is between 60 min and 65 min? Assign your answer to `q5_1`. Do not just manually type the numeric answer. Use Python expressions that return the desired answer and assign them to the variable. (0.5 pts)\n",
    "\n",
    "*Hint: you simply have to count the frequency of the event (using `sum()`) and divide by the sample size (using `len()`).*\n",
    "\n",
    "*This is equivalent to the probability that the time is greater than 60 min AND less than 65 min.* \n",
    "\n",
    "*To count the frequency of the event, you will have to use logical operators, `&`, `|`, etc.* "
   ]
  },
  {
   "cell_type": "code",
   "execution_count": null,
   "id": "41018797",
   "metadata": {
    "tags": []
   },
   "outputs": [],
   "source": [
    "# ANSWER CELL\n",
    "q5_1 = ...\n",
    "print(f'Simulated P(60 min < T < 65 min) = {q5_1:.3f}' if not isinstance(q5_1, type(Ellipsis)) else None)"
   ]
  },
  {
   "cell_type": "code",
   "execution_count": null,
   "id": "682e5bab",
   "metadata": {
    "deletable": false,
    "editable": false
   },
   "outputs": [],
   "source": [
    "grader.check(\"q5.1\")"
   ]
  },
  {
   "cell_type": "markdown",
   "id": "0afbb1ac-ec8c-4018-a037-9f30ff9a5eae",
   "metadata": {},
   "source": [
    "### Distribution of $T$\n",
    "\n",
    "In the lecture, we discussed five common continuous distributions:\n",
    "\n",
    "1. Exponential: time/distance between successive occurrences of a Poisson process\n",
    "2. Gamma: time/distance until the r $^{th}$ occurrence of a Poisson process\n",
    "3. Uniform: distribution when all outcomes are equally likely\n",
    "4. Normal: distribution of the sum of many random variables\n",
    "5. Lognormal: distribution of the product of many random variables"
   ]
  },
  {
   "cell_type": "markdown",
   "id": "66e37db1-7fbe-4355-9782-2b17b250b04d",
   "metadata": {
    "deletable": false,
    "editable": false
   },
   "source": [
    "<font color='red'>**Question 6.0.**</font> Based on the above, what can you say about the distribution of $T$? Assign your answer to the variable `q6_0` as a string. (0.25 pts)\n",
    "\n",
    "**A.** Lognormal \\\n",
    "**B.** Uniform \\\n",
    "**C.** Normal \\\n",
    "**D.** Exponential \\\n",
    "**E.** Gamma \\\n",
    "**F.** Binomial \\\n",
    "**G.** None of the options \n",
    "\n",
    "Your answer should be a string, e.g., `\"A\"`, `\"B\"`, etc.\\\n",
    "Remember to put quotes around your answer choice."
   ]
  },
  {
   "cell_type": "code",
   "execution_count": null,
   "id": "7b2f8f9c-18f9-4a5d-8ca2-97d0f926a83d",
   "metadata": {
    "tags": []
   },
   "outputs": [],
   "source": [
    "# ANSWER CELL\n",
    "q6_0 = ...\n",
    "q6_0"
   ]
  },
  {
   "cell_type": "code",
   "execution_count": null,
   "id": "698a0998",
   "metadata": {
    "deletable": false,
    "editable": false
   },
   "outputs": [],
   "source": [
    "grader.check(\"q6.0\")"
   ]
  },
  {
   "cell_type": "markdown",
   "id": "cb6541c3-bd4b-416c-bf68-b5ba5b07ff7d",
   "metadata": {},
   "source": [
    "### Density Plot of $T$\n",
    "\n",
    "If you're not convinced that $T$ approximately follows a normal distribution (how can the sum of many different distributions be approximately normal?!), run the code cell below to see a comparison between the density histogram of the simulated $T$ values and a probability density function of a normal distribution. You don't have to answer any questions for this part.\n",
    "\n",
    "Despite being the sum of various normal, lognormal, uniform, and Bernoulli distributions, it's intriguing to observe how, from this complexity, we still obtain an almost perfect normal distribution for $T$."
   ]
  },
  {
   "cell_type": "code",
   "execution_count": null,
   "id": "c0c39766",
   "metadata": {},
   "outputs": [],
   "source": [
    "# Run this cell to see the simulated and theoretical distributions of T\n",
    "\n",
    "# create figure and axes\n",
    "fig_4, ax_4 = plt.subplots(nrows=1, ncols=1, figsize=(6,3))\n",
    "\n",
    "# Plot density histogram of T using plt.hist()\n",
    "plt.hist(T, bins=25, density=True)\n",
    "\n",
    "# define possible values for T to calculate their PDF\n",
    "t = np.arange(3200, 4200+1, 1)\n",
    "\n",
    "# Calculate probability density function for all values in t using norm.pdf()\n",
    "PDF_t = norm.pdf(t, loc=3689.96, scale=99.62) # These parameters are based on a theoretical calculation of E(T) and Var(T)\n",
    "\n",
    "# Plot the PDF using plt.plot(). You give it first the x-axis values, then the y-axis values.\n",
    "# specify color = 'r'\n",
    "plt.plot(t, PDF_t, color = 'r', linewidth=3, label=f'N ($\\mu$={round(3689.96)}, $\\sigma$={round(99.62)})')\n",
    "\n",
    "# add legend\n",
    "plt.legend()\n",
    "\n",
    "# Label the axes\n",
    "ax_4.set(xlabel='Time (sec)',\n",
    "         ylabel='Density',\n",
    "         title='Theoretical and Simulated Distributions for $T$',\n",
    "         xlim=(3200,4200))\n",
    "\n",
    "# Display the plot\n",
    "plt.tight_layout()\n",
    "plt.show()"
   ]
  },
  {
   "cell_type": "markdown",
   "id": "f1897e61",
   "metadata": {},
   "source": [
    "We will be using simulation more in future labs, especially when simplified assumptions such as normal distributions, are not necessarily true."
   ]
  },
  {
   "cell_type": "markdown",
   "id": "60f7331a",
   "metadata": {},
   "source": [
    "### Covariance and Correlation\n",
    "\n",
    "In the last section of this lab, we will investigate if there is any relationship between the time it takes to load passengers on a BART trip and the total travel time of the trip. So, we have two jointly distributed random variables:\n",
    "1. Passengers boarding time\n",
    "2. Total travel time\n",
    "\n",
    "In the lecture, we discussed two parameters to quantify how dependent two random variables are:\n",
    "1. Covariance\n",
    "2. Correlation\n",
    "\n",
    "### Load the data\n",
    "\n",
    "Let's load the provided dataset `BART.csv`. These are all the features:\n",
    "\n",
    "|Feature|Units|Description|\n",
    "|:-|:-|:-|\n",
    "|Trip|N/A|Number of the trip|\n",
    "|boarding|sec|Time for boarding passengers|\n",
    "|total|sec|Time for the total trip|\n",
    "\n",
    "* Load the data using the Pandas `pd.read_csv()` function\n",
    "\n",
    "Run the cell below, which reads the data and saves it as a variable named `df`."
   ]
  },
  {
   "cell_type": "code",
   "execution_count": null,
   "id": "ee724392",
   "metadata": {},
   "outputs": [],
   "source": [
    "# read a .csv file as a DataFrame\n",
    "df = pd.read_csv('resources/BART.csv')\n",
    "\n",
    "# returns the first 5 rows of the data set by default\n",
    "df.head()"
   ]
  },
  {
   "cell_type": "markdown",
   "id": "d44225f5",
   "metadata": {},
   "source": [
    "### Create Variables from the DataFrame\n",
    "\n",
    "We want to generate data vectors, one for each of the two datasets (one for boarding time and one for total trip time). "
   ]
  },
  {
   "cell_type": "markdown",
   "id": "0d7a35e3",
   "metadata": {
    "deletable": false,
    "editable": false
   },
   "source": [
    "<font color='red'>**Question 7.0.**</font> Create different variables for each column in the Dataframe. You can refer to previous labs for guidance on how to answer this question. (0.5 pts)\n",
    "- Create a variable `boarding`  for the boarding time\n",
    "- Create a variable `total`  for the total trip time"
   ]
  },
  {
   "cell_type": "code",
   "execution_count": null,
   "id": "8795c827",
   "metadata": {
    "tags": []
   },
   "outputs": [],
   "source": [
    "# ANSWER CELL\n",
    "# create variables for boarding, total\n",
    "\n",
    "boarding = ...\n",
    "total = ..."
   ]
  },
  {
   "cell_type": "code",
   "execution_count": null,
   "id": "b31f5341",
   "metadata": {
    "deletable": false,
    "editable": false
   },
   "outputs": [],
   "source": [
    "grader.check(\"q7.0\")"
   ]
  },
  {
   "cell_type": "markdown",
   "id": "6d984d99",
   "metadata": {},
   "source": [
    "### Scatter Plot\n",
    "\n",
    "Let's create a scatter plot of the total travel time (Y) as a function of the boarding time (X) to visually assess if there appears to be any dependence between the two variables."
   ]
  },
  {
   "cell_type": "markdown",
   "id": "ba4f1780",
   "metadata": {
    "deletable": false,
    "editable": false
   },
   "source": [
    "<font color='red'>**Question 7.1.**</font> Create a scatter plot of `total` (y-axis) versus `boarding` (x-axis). Add appropriate x-axis and y-axis labels. (0.5 pts)\n",
    "\n",
    "You can refer to previous labs for an example."
   ]
  },
  {
   "cell_type": "code",
   "execution_count": null,
   "id": "a3736e4f",
   "metadata": {
    "tags": []
   },
   "outputs": [],
   "source": [
    "# ANSWER CELL\n",
    "\n",
    "# Do not modify this line for grading purposes\n",
    "import matplotlib.pyplot as plt\n",
    "from matplotlib.collections import PathCollection\n",
    "\n",
    "# create figure and axes\n",
    "fig_5, ax_5 = plt.subplots(nrows=1, ncols=1, figsize=(4,4))\n",
    "\n",
    "# Create a scatterplot using plt.scatter(). You give it first the x-axis values, then the y-axis values.\n",
    "# assign the plot to variable q7_1\n",
    "q7_1 = ...\n",
    "...\n",
    "\n",
    "# automatically adjust the size and positions of the subplots to prevent overlaps\n",
    "plt.tight_layout()\n",
    "\n",
    "# display the figure \n",
    "plt.show()"
   ]
  },
  {
   "cell_type": "code",
   "execution_count": null,
   "id": "8f0fcb92",
   "metadata": {
    "deletable": false,
    "editable": false
   },
   "outputs": [],
   "source": [
    "grader.check(\"q7.1\")"
   ]
  },
  {
   "cell_type": "markdown",
   "id": "428e63ac",
   "metadata": {},
   "source": [
    "The scatter plot should give you a rough idea about the relationship, if any, between total travel time and boarding time. Next, let's numerically quantify the strength of this relationship."
   ]
  },
  {
   "cell_type": "markdown",
   "id": "884d64f3",
   "metadata": {},
   "source": [
    "### Covariance\n",
    "\n",
    "The covariance of two random variables $X$ and $Y$ is defined as:\n",
    "\n",
    "$$Cov(X,Y) = E(XY)-E(X)E(Y)$$\n",
    "\n",
    "In the lecture, we only discussed the covariance between two random variables: $Cov(X,Y)$. We can also compute something known as the covariance **matrix**. `Python` provides a direct way to compute the covariance **matrix** using `np.cov(X,Y)`, which returns:\n",
    "\n",
    "\\begin{bmatrix}\n",
    "Var(X) & Cov(X,Y)\\\\\n",
    "Cov(Y,X) & Var(Y)\n",
    "\\end{bmatrix}\n",
    "\n",
    "The diagonal elements of the matrix contain the variances of the variables, and the off-diagonal elements contain the covariances between all possible pairs of variables. We mentioned in the lecture that $Cov(X,Y)=Cov(Y,X)$. So, the off-diagonal values will be equal."
   ]
  },
  {
   "cell_type": "markdown",
   "id": "a83d99bb",
   "metadata": {
    "deletable": false,
    "editable": false
   },
   "source": [
    "<font color='red'>**Question 8.0.**</font> Compute the covariance matrix between boarding time (`boarding`) and total trip time (`total`) and assign it to `cov_matrix`. Then, use indexing to extract the actual value of the covariance (one of the off-diagonal values) from the covariance matrix and assign it to `cov`. Do not just manually type the numeric answers. Use Python expressions that return the desired answer and assign them to the variables. (0.25 pts)\n",
    "\n",
    "*Note that `np.cov()` returns an `ndarray`. To index a 2-D array, we need to indicate the index of the row and the column, separated by a comma, using: `array_name[row_index, column_index]`. Think of 2-D arrays like a table with rows and columns, as shown in the illustration below.*\n",
    "\n",
    "<br>\n",
    "\n",
    "<figure>\n",
    "  <img src=\"https://docs.google.com/drawings/d/e/2PACX-1vSJpIGPqprNzpn7yNRyUR0rKEgBWtzVLcnp6Xs9T-9wRup9RNO7-D-uOQe7NRrWTYKxZSZqLTjEEnq5/pub?w=928&h=323\n",
    "\" style=\"width:50%\">\n",
    "    <figcaption style=\"text-align:center\"><strong>Indexing elements in a 2-D NumPy array</strong></figcaption>   \n",
    "</figure>"
   ]
  },
  {
   "cell_type": "code",
   "execution_count": null,
   "id": "fbe1da9a",
   "metadata": {
    "tags": []
   },
   "outputs": [],
   "source": [
    "# ANSWER CELL\n",
    "# calculate covariance\n",
    "\n",
    "cov_matrix = ...\n",
    "print(f'Covariance matrix: \\n {np.round(cov_matrix,0)} \\n' if not isinstance(cov_matrix, type(Ellipsis)) else None)\n",
    "\n",
    "cov = ...\n",
    "print(f'Covariance between boarding time and total trip time = {cov:.0f}' if not isinstance(cov, type(Ellipsis)) else None)"
   ]
  },
  {
   "cell_type": "code",
   "execution_count": null,
   "id": "797496d5",
   "metadata": {
    "deletable": false,
    "editable": false
   },
   "outputs": [],
   "source": [
    "grader.check(\"q8.0\")"
   ]
  },
  {
   "cell_type": "markdown",
   "id": "566855d6-8b09-49ce-bd0c-e83f807d52ae",
   "metadata": {
    "deletable": false,
    "editable": false
   },
   "source": [
    "<font color='red'>**Question 8.1.**</font> What can you say about the boarding time and the total trip time based on their covariance? Assign ALL that apply to the variable `q8_1`. (0.5 pts)\n",
    "\n",
    "**A.** The covariance computed above is unitless \\\n",
    "**B.** The covariance computed above has units of sec$^2$ \\\n",
    "**C.** If we change the units of time from sec to min, the covariance will not change \\\n",
    "**D.** If we change the units of time from sec to min, the covariance will also change \\\n",
    "**E.** The value of the covariance alone implies that there is a strong negative association between boarding time and total trip time \\\n",
    "**F.** The value of the covariance alone implies that there is a strong positive association between boarding time and total trip time \n",
    "\n",
    "Answer in the next cell. Add each selected choice as a string and separate each two answer choices by a comma. For example, if you want to select `\"A\"` and `\"B\"`, your answer should be `\"A\", \"B\"`.\\\n",
    "Assign your answer to the given variable.\n",
    "Remember to put quotes around each answer choice."
   ]
  },
  {
   "cell_type": "code",
   "execution_count": null,
   "id": "b68ee17d-95fc-4093-be4d-053046d954eb",
   "metadata": {
    "tags": []
   },
   "outputs": [],
   "source": [
    "# ANSWER CELL\n",
    "q8_1 = ...\n",
    "q8_1"
   ]
  },
  {
   "cell_type": "code",
   "execution_count": null,
   "id": "8facc667",
   "metadata": {
    "deletable": false,
    "editable": false
   },
   "outputs": [],
   "source": [
    "grader.check(\"q8.1\")"
   ]
  },
  {
   "cell_type": "markdown",
   "id": "a76354f0",
   "metadata": {},
   "source": [
    "### Correlation\n",
    "\n",
    "The correlation between two random variables $X$ and $Y$ is defined as:\n",
    "\n",
    "$$\\rho_{XY} = \\frac{Cov(X,Y)}{\\sigma_X \\sigma_Y}$$\n",
    "\n",
    "`Python` also provides a direct way to compute the correlation **matrix** using `np.corrcoef(X,Y)`, which returns:\n",
    "\n",
    "\\begin{bmatrix}\n",
    "1 & \\rho_{XY}\\\\\n",
    "\\rho_{YX} & 1\n",
    "\\end{bmatrix}\n",
    "\n",
    "The diagonal elements of the matrix contain the correlation of the variables with themselves (which is 1), and the off-diagonal elements contain the correlation coefficients between all possible pairs of variables."
   ]
  },
  {
   "cell_type": "markdown",
   "id": "3c3bc0dc",
   "metadata": {
    "deletable": false,
    "editable": false
   },
   "source": [
    "<font color='red'>**Question 9.0.**</font> Compute the correlation matrix between boarding time (`boarding`) and total trip time (`total`) and assign it to `cor_matrix`. Then, use indexing to extract the actual value of the correlation (one of the off-diagonal values) from the correlation matrix and assign it to `cor`. Do not just manually type the numeric answers. Use Python expressions that return the desired answer and assign them to the variables. (0.25 pts)"
   ]
  },
  {
   "cell_type": "code",
   "execution_count": null,
   "id": "0223b121",
   "metadata": {
    "tags": []
   },
   "outputs": [],
   "source": [
    "# ANSWER CELL\n",
    "# calculate correlation\n",
    "\n",
    "cor_matrix = ...\n",
    "print(f'Correlation matrix: \\n {np.round(cor_matrix,3)} \\n' if not isinstance(cor_matrix, type(Ellipsis)) else None)\n",
    "\n",
    "cor = ...\n",
    "print(f'Correlation between boarding time and total trip time = {cor:.3f}' if not isinstance(cor, type(Ellipsis)) else None)"
   ]
  },
  {
   "cell_type": "code",
   "execution_count": null,
   "id": "ae5085d8",
   "metadata": {
    "deletable": false,
    "editable": false
   },
   "outputs": [],
   "source": [
    "grader.check(\"q9.0\")"
   ]
  },
  {
   "cell_type": "markdown",
   "id": "c4c9936b",
   "metadata": {
    "deletable": false,
    "editable": false
   },
   "source": [
    "<font color='red'>**Question 9.1.**</font> What can you say about the boarding time and the total trip time based on their correlation? Assign ALL that apply to the variable `q9_1`. (0.5 pts)\n",
    "\n",
    "**A.** The correlation computed above is unitless \\\n",
    "**B.** The correlation computed above has units of sec$^2$ \\\n",
    "**C.** If we change the units of time from sec to min, the correlation will not change \\\n",
    "**D.** If we change the units of time from sec to min, the correlation will also change \\\n",
    "**E.** The value of the correlation alone implies that there is a mild negative association between boarding time and total trip time \\\n",
    "**F.** The value of the correlation alone implies that there is a mild positive association between boarding time and total trip time \\\n",
    "**G.** The boarding time and total trip time are uncorrelated\n",
    "\n",
    "Answer in the next cell. Add each selected choice as a string and separate each two answer choices by a comma. For example, if you want to select `\"A\"` and `\"B\"`, your answer should be `\"A\", \"B\"`.\\\n",
    "Assign your answer to the given variable.\n",
    "Remember to put quotes around each answer choice."
   ]
  },
  {
   "cell_type": "code",
   "execution_count": null,
   "id": "453a5e04",
   "metadata": {
    "tags": []
   },
   "outputs": [],
   "source": [
    "# ANSWER CELL\n",
    "q9_1 = ...\n",
    "q9_1"
   ]
  },
  {
   "cell_type": "code",
   "execution_count": null,
   "id": "166fbb8a",
   "metadata": {
    "deletable": false,
    "editable": false
   },
   "outputs": [],
   "source": [
    "grader.check(\"q9.1\")"
   ]
  },
  {
   "cell_type": "markdown",
   "id": "f20bba6f",
   "metadata": {},
   "source": [
    "### You're done with this Lab!\n",
    "\n",
    "**Important submission information:** After completing the assignment, click on the Save icon from the Tool Bar &nbsp;<i class=\"fa fa-save\" style=\"font-size:16px;\"></i>&nbsp;. After saving your notebook, **run the cell with** `grader.check_all()` and confirm that you pass the same tests as in the notebook. Then, **run the final cell** `grader.export()` and click the link to download the zip file. Finally, go to Gradescope and submit the zip file to the corresponding assignment. \n",
    "\n",
    "**Once you have submitted, stay on the Gradescope page to confirm that you pass the same tests as in the notebook.**"
   ]
  },
  {
   "cell_type": "code",
   "execution_count": null,
   "id": "4d1647c8",
   "metadata": {
    "tags": []
   },
   "outputs": [],
   "source": [
    "%matplotlib inline\n",
    "img = mpimg.imread('resources/baby fox.webp')\n",
    "imgplot = plt.imshow(img)\n",
    "imgplot.axes.get_xaxis().set_visible(False)\n",
    "imgplot.axes.get_yaxis().set_visible(False)\n",
    "print(\"Congratulations on finishing this lab!\")\n",
    "plt.show()"
   ]
  },
  {
   "cell_type": "markdown",
   "id": "f31f019c",
   "metadata": {
    "deletable": false,
    "editable": false
   },
   "source": [
    "---\n",
    "\n",
    "To double-check your work, the cell below will rerun all of the autograder tests."
   ]
  },
  {
   "cell_type": "code",
   "execution_count": null,
   "id": "66892f09",
   "metadata": {
    "deletable": false,
    "editable": false
   },
   "outputs": [],
   "source": [
    "grader.check_all()"
   ]
  },
  {
   "cell_type": "markdown",
   "id": "7bc87e84",
   "metadata": {
    "deletable": false,
    "editable": false
   },
   "source": [
    "## Submission\n",
    "\n",
    "Make sure you have run all cells in your notebook in order before running the cell below, so that all images/graphs appear in the output. The cell below will generate a zip file for you to submit. **Please save before exporting!**\n",
    "\n",
    "Make sure you submit the .zip file to Gradescope."
   ]
  },
  {
   "cell_type": "code",
   "execution_count": null,
   "id": "43a862eb",
   "metadata": {
    "deletable": false,
    "editable": false
   },
   "outputs": [],
   "source": [
    "# Save your notebook first, then run this cell to export your submission.\n",
    "grader.export(pdf=False)"
   ]
  },
  {
   "cell_type": "markdown",
   "id": "034f8418",
   "metadata": {},
   "source": [
    " "
   ]
  }
 ],
 "metadata": {
  "kernelspec": {
   "display_name": "Python 3 (ipykernel)",
   "language": "python",
   "name": "python3"
  },
  "language_info": {
   "codemirror_mode": {
    "name": "ipython",
    "version": 3
   },
   "file_extension": ".py",
   "mimetype": "text/x-python",
   "name": "python",
   "nbconvert_exporter": "python",
   "pygments_lexer": "ipython3",
   "version": "3.9.15"
  },
  "otter": {
   "OK_FORMAT": true,
   "assignment_name": "lab07",
   "tests": {
    "q1.0": {
     "name": "q1.0",
     "points": 1,
     "suites": [
      {
       "cases": [
        {
         "code": ">>> assert get_hash(round(mu_T1, 3)) == '5ef0b4eba35ab2d6180b0bca7e46b6f9'\n",
         "failure_message": "Incorrect mu_T1. Don't forget to add the constant C!",
         "hidden": false,
         "locked": false,
         "points": 0.5
        },
        {
         "code": ">>> assert get_hash(round(var_T1, 3)) == '233509073ed3432027d48b1a83f5fbd2'\n",
         "failure_message": "Incorrect var_T1. You are given standard deviations. You'll need to square them to get variance. Also, variance is NOT affected by C!",
         "hidden": false,
         "locked": false,
         "points": 0.25
        },
        {
         "code": ">>> assert get_hash(round(sigma_T1, 3)) == '483caca5435deb51f412fc8d3932f4a3'\n",
         "failure_message": "Incorrect sigma_T1. Once you have var_T1 correct, you'll simply need to take its square root.",
         "hidden": false,
         "locked": false,
         "points": 0.25
        }
       ],
       "scored": true,
       "setup": "",
       "teardown": "",
       "type": "doctest"
      }
     ]
    },
    "q1.1": {
     "name": "q1.1",
     "points": 0.25,
     "suites": [
      {
       "cases": [
        {
         "code": ">>> assert len(q1_1) == 1\n>>> assert isinstance(q1_1, str)\n",
         "failure_message": "Incorrect answer format. Make sure you only have the letter of your answer choice in quotes.",
         "hidden": false,
         "locked": false,
         "points": 0,
         "success_message": "Correct answer format."
        },
        {
         "code": ">>> assert get_hash(q1_1.upper()) == '3a3ea00cfc35332cedf6e5e9a32e94da'\n",
         "failure_message": "Incorrect answer.",
         "hidden": false,
         "locked": false,
         "points": 0.25
        }
       ],
       "scored": true,
       "setup": "",
       "teardown": "",
       "type": "doctest"
      }
     ]
    },
    "q1.2": {
     "name": "q1.2",
     "points": null,
     "suites": [
      {
       "cases": [
        {
         "code": ">>> assert type(fig_1).__name__ == 'Figure'\n>>> assert type(ax_1).__name__ == 'Axes'\n",
         "failure_message": "Make sure to create a figure with 1 axes and assign them to \"fig_1\" and \"ax_1\".",
         "hidden": false,
         "locked": false,
         "points": 0
        },
        {
         "code": ">>> assert isinstance(ax_1.lines[0], Line2D)\n",
         "failure_message": "Make sure you are plotting the theoretical PDF to ax_1 using plot().",
         "hidden": false,
         "locked": false,
         "points": 0
        },
        {
         "code": ">>> assert get_hash(len(t1)) == '757b505cfd34c64c85ca5b5690ee5293'\n>>> assert get_hash(sum(t1)) == '529d0715ddebdaec3052c1dda546dd51'\n",
         "failure_message": "Check t1 values. Your array should start at 375 and end at 575 (inclusive) with step of 1.",
         "hidden": false,
         "locked": false,
         "points": 0.05
        },
        {
         "code": ">>> assert get_hash(len(PDF_t1)) == '757b505cfd34c64c85ca5b5690ee5293'\n>>> assert get_hash(sum(PDF_t1)) == 'af3e00e9e61cf433b3828b1896d30ad4'\n",
         "failure_message": "Check the value of PDF_T1. Use mu_T1 and sigma_T1 as the parameters.",
         "hidden": false,
         "locked": false,
         "points": 0.05
        },
        {
         "code": ">>> assert get_hash(sum(ax_1.lines[0].get_xdata())) == '529d0715ddebdaec3052c1dda546dd51'\n>>> assert get_hash(len(ax_1.lines[0].get_xdata())) == '757b505cfd34c64c85ca5b5690ee5293'\n>>> assert get_hash(sum(ax_1.lines[0].get_ydata())) == 'af3e00e9e61cf433b3828b1896d30ad4'\n>>> assert get_hash(len(ax_1.lines[0].get_ydata())) == '757b505cfd34c64c85ca5b5690ee5293'\n",
         "failure_message": "Check the arguments of plt.plot(), mainly the x-axis and y-axis values.",
         "hidden": false,
         "locked": false,
         "points": 0.25
        },
        {
         "code": ">>> assert mcolors.same_color(ax_1.lines[0].get_color(), 'r')\n>>> assert ax_1.lines[0].get_linestyle() == '-'\n",
         "failure_message": "Change the line color inside plot() to red. Do not change line style.",
         "hidden": false,
         "locked": false,
         "points": 0.05
        },
        {
         "code": ">>> keywords = ['TIME', 'SEC']\n>>> assert all((word in ax_1.get_xlabel().upper() for word in keywords))\n",
         "failure_message": "Check x-axis label.",
         "hidden": false,
         "locked": false,
         "points": 0.05
        },
        {
         "code": ">>> keywords = ['DENSITY']\n>>> assert all((word in ax_1.get_ylabel().upper() for word in keywords))\n",
         "failure_message": "Check y-axis label.",
         "hidden": false,
         "locked": false,
         "points": 0.05
        }
       ],
       "scored": true,
       "setup": "",
       "teardown": "",
       "type": "doctest"
      }
     ]
    },
    "q2.0": {
     "name": "q2.0",
     "points": 0.5,
     "suites": [
      {
       "cases": [
        {
         "code": ">>> assert get_hash(len(X1)) == 'a35fe7f7fe8217b4369a0af4244d1fca'\n>>> assert get_hash(sum(X1)) == '418384aaea8f59f0e21f543da3312f41'\n",
         "failure_message": "Incorrect X1. You need to simulate 5000 values from  N(245, 15). Do not modify the seed number.",
         "hidden": false,
         "locked": false,
         "points": 0.15
        },
        {
         "code": ">>> assert get_hash(len(X2)) == 'a35fe7f7fe8217b4369a0af4244d1fca'\n>>> assert get_hash(sum(X2)) == '547cc08b91ff4eb239ba715ac38b78f7'\n",
         "failure_message": "Incorrect X2. You need to simulate 5000 values from  N(200, 20). Do not modify the seed number.",
         "hidden": false,
         "locked": false,
         "points": 0.15
        },
        {
         "code": ">>> assert get_hash(len(T1)) == 'a35fe7f7fe8217b4369a0af4244d1fca'\n>>> assert get_hash(sum(T1)) == '9d2ddb2e5bb021d4e2c830d29d24339d'\n",
         "failure_message": "Incorrect T1. You need to add X1, X2, and C, where C = 30 secs.",
         "hidden": false,
         "locked": false,
         "points": 0.2
        }
       ],
       "scored": true,
       "setup": "",
       "teardown": "",
       "type": "doctest"
      }
     ]
    },
    "q2.1": {
     "name": "q2.1",
     "points": 0.5,
     "suites": [
      {
       "cases": [
        {
         "code": ">>> assert get_hash(round(mu_T1_sim, 10)) == '9af6d1ca17d81686c96b4da8fd4dd8ae'\n",
         "failure_message": "Incorrect mu_T1_sim. You need simply need to get the mean of T1.",
         "hidden": false,
         "locked": false,
         "points": 0.25
        },
        {
         "code": ">>> assert get_hash(round(sigma_T1_sim, 10)) == 'b7d0993b0c1fdb035237ca82a4501ef9'\n",
         "failure_message": "Incorrect sigma_T1_sim. If using np.std(), you need to specify ddof=1",
         "hidden": false,
         "locked": false,
         "points": 0.25
        }
       ],
       "scored": true,
       "setup": "",
       "teardown": "",
       "type": "doctest"
      }
     ]
    },
    "q2.2": {
     "name": "q2.2",
     "points": null,
     "suites": [
      {
       "cases": [
        {
         "code": ">>> assert type(fig_2).__name__ == 'Figure'\n>>> assert type(ax_2).__name__ == 'Axes'\n",
         "failure_message": "Make sure to create a figure with 1 axes and assign them to \"fig_2\" and \"ax_2\".",
         "hidden": false,
         "locked": false,
         "points": 0
        },
        {
         "code": ">>> assert isinstance(histogram, tuple)\n>>> assert len(histogram) == 3\n",
         "failure_message": "Make sure to save the histogram as object \"histogram\".",
         "hidden": false,
         "locked": false,
         "points": 0
        },
        {
         "code": ">>> assert get_hash(len(histogram[0])) == '98f13708210194c475687be6106a3b84'\n>>> assert get_hash(len(histogram[1])) == '3c59dc048e8850243be8079a5c74d079'\n>>> assert get_hash(sum(histogram[0])) == 'd7518c1bf87a4fdc9e30476b64b2297f'\n>>> assert get_hash(sum(histogram[1])) == 'd7a93e18fc7a5a3c0d6c3f603b126863'\n",
         "failure_message": "Check histogram for bins = 20. You should specify density=True.",
         "hidden": false,
         "locked": false,
         "points": 0.3
        },
        {
         "code": ">>> keywords = ['TIME', 'SEC']\n>>> assert all((word in ax_2.get_xlabel().upper() for word in keywords))\n",
         "failure_message": "Check x-axis label.",
         "hidden": false,
         "locked": false,
         "points": 0.1
        },
        {
         "code": ">>> keywords = ['DENSITY']\n>>> assert all((word in ax_2.get_ylabel().upper() for word in keywords))\n",
         "failure_message": "Check y-axis label.",
         "hidden": false,
         "locked": false,
         "points": 0.1
        }
       ],
       "scored": true,
       "setup": "",
       "teardown": "",
       "type": "doctest"
      }
     ]
    },
    "q2.3": {
     "name": "q2.3",
     "points": null,
     "suites": [
      {
       "cases": [
        {
         "code": ">>> assert type(fig_3).__name__ == 'Figure'\n>>> assert type(ax_3).__name__ == 'Axes'\n",
         "failure_message": "Make sure to create a figure with 1 axes and assign them to \"fig_3\" and \"ax_3\".",
         "hidden": false,
         "locked": false,
         "points": 0
        },
        {
         "code": ">>> assert isinstance(histogram, tuple)\n>>> assert len(histogram) == 3\n",
         "failure_message": "Make sure to save the histogram as object \"histogram\".",
         "hidden": false,
         "locked": false,
         "points": 0
        },
        {
         "code": ">>> assert isinstance(ax_3.lines[0], Line2D)\n",
         "failure_message": "Make sure you are plotting the theoretical PDF to ax_3 using plot().",
         "hidden": false,
         "locked": false,
         "points": 0
        },
        {
         "code": ">>> assert get_hash(len(histogram[0])) == '98f13708210194c475687be6106a3b84'\n>>> assert get_hash(len(histogram[1])) == '3c59dc048e8850243be8079a5c74d079'\n>>> assert get_hash(sum(histogram[0])) == 'd7518c1bf87a4fdc9e30476b64b2297f'\n>>> assert get_hash(sum(histogram[1])) == 'd7a93e18fc7a5a3c0d6c3f603b126863'\n",
         "failure_message": "Check histogram for bins = 20. You should specify density=True.",
         "hidden": false,
         "locked": false,
         "points": 0.25
        },
        {
         "code": ">>> assert get_hash(sum(ax_3.lines[0].get_xdata())) == '529d0715ddebdaec3052c1dda546dd51'\n>>> assert get_hash(len(ax_3.lines[0].get_xdata())) == '757b505cfd34c64c85ca5b5690ee5293'\n>>> assert get_hash(sum(ax_3.lines[0].get_ydata())) == 'af3e00e9e61cf433b3828b1896d30ad4'\n>>> assert get_hash(len(ax_3.lines[0].get_ydata())) == '757b505cfd34c64c85ca5b5690ee5293'\n",
         "failure_message": "Check the arguments of plt.plot(), mainly the x-axis and y-axis values.",
         "hidden": false,
         "locked": false,
         "points": 0.25
        },
        {
         "code": ">>> assert mcolors.same_color(ax_3.lines[0].get_color(), 'r')\n>>> assert ax_3.lines[0].get_linestyle() == '-'\n",
         "failure_message": "Change the line color inside plot() to red. Do not change line style.",
         "hidden": false,
         "locked": false,
         "points": 0.1
        },
        {
         "code": ">>> keywords = ['TIME', 'SEC']\n>>> assert all((word in ax_3.get_xlabel().upper() for word in keywords))\n",
         "failure_message": "Check x-axis label.",
         "hidden": false,
         "locked": false,
         "points": 0.1
        },
        {
         "code": ">>> keywords = ['DENSITY']\n>>> assert all((word in ax_3.get_ylabel().upper() for word in keywords))\n",
         "failure_message": "Check y-axis label.",
         "hidden": false,
         "locked": false,
         "points": 0.1
        },
        {
         "code": ">>> assert type(fig_3.axes[0].get_legend()) != type(None), 'Make sure to add a legend.'\n>>> legend_string = ['N', 'MU', 'SIGMA', '475', '25']\n>>> assert all((word in ax_3.lines[0].get_label().upper() for word in legend_string)), 'Check the label.'\n",
         "failure_message": "Check legend for the theoretical PDF. You need to specify label inside plt.plot().",
         "hidden": false,
         "locked": false,
         "points": 0.2
        }
       ],
       "scored": true,
       "setup": "",
       "teardown": "",
       "type": "doctest"
      }
     ]
    },
    "q3.0": {
     "name": "q3.0",
     "points": 0.5,
     "suites": [
      {
       "cases": [
        {
         "code": ">>> assert get_hash(round(q3_0, 10)) == '607d725a9612a5d8822033a30f5bad10'\n",
         "failure_message": "Incorrect answer.",
         "hidden": false,
         "locked": false,
         "points": 0.5
        }
       ],
       "scored": true,
       "setup": "",
       "teardown": "",
       "type": "doctest"
      }
     ]
    },
    "q3.1": {
     "name": "q3.1",
     "points": 0.5,
     "suites": [
      {
       "cases": [
        {
         "code": ">>> assert get_hash(round(q3_1, 10)) == 'a0fa36e80d88605bcbf8f334a10574be'\n",
         "failure_message": "You need to use logical expressions (>, < etc.) and take the sum to get frequency of the event, then divide by the number of samples.",
         "hidden": false,
         "locked": false,
         "points": 0.5
        }
       ],
       "scored": true,
       "setup": "",
       "teardown": "",
       "type": "doctest"
      }
     ]
    },
    "q4.0": {
     "name": "q4.0",
     "points": 0.5,
     "suites": [
      {
       "cases": [
        {
         "code": ">>> assert get_hash(round(mu_T_sim, 10)) == '9d677d0fcaa9c2cefa0f13b6c142e91b'\n",
         "failure_message": "Incorrect answer. You simply need to take the mean of T.",
         "hidden": false,
         "locked": false,
         "points": 0.5
        }
       ],
       "scored": true,
       "setup": "",
       "teardown": "",
       "type": "doctest"
      }
     ]
    },
    "q4.1": {
     "name": "q4.1",
     "points": 0.5,
     "suites": [
      {
       "cases": [
        {
         "code": ">>> assert get_hash(round(sigma_T_sim, 10)) == 'b4da1e74829f204a6e387f1a098e33fb'\n",
         "failure_message": "Incorrect answer. If using np.std(), you need to specify ddof=1",
         "hidden": false,
         "locked": false,
         "points": 0.5
        }
       ],
       "scored": true,
       "setup": "",
       "teardown": "",
       "type": "doctest"
      }
     ]
    },
    "q5.0": {
     "name": "q5.0",
     "points": 0.5,
     "suites": [
      {
       "cases": [
        {
         "code": ">>> assert get_hash(round(q5_0, 10)) == '1995d46c4cc2f1963fdfb92cc0a185ec'\n",
         "failure_message": "Incorrect answer.",
         "hidden": false,
         "locked": false,
         "points": 0.5
        }
       ],
       "scored": true,
       "setup": "",
       "teardown": "",
       "type": "doctest"
      }
     ]
    },
    "q5.1": {
     "name": "q5.1",
     "points": 0.5,
     "suites": [
      {
       "cases": [
        {
         "code": ">>> assert get_hash(round(q5_1, 10)) == 'b8f6d195f7dd24cda027c4a760bd5221'\n",
         "failure_message": "Incorrect answer.",
         "hidden": false,
         "locked": false,
         "points": 0.5
        }
       ],
       "scored": true,
       "setup": "",
       "teardown": "",
       "type": "doctest"
      }
     ]
    },
    "q6.0": {
     "name": "q6.0",
     "points": 0.25,
     "suites": [
      {
       "cases": [
        {
         "code": ">>> assert len(q6_0) == 1\n>>> assert isinstance(q6_0, str)\n",
         "failure_message": "Incorrect answer format. Make sure you only have the letter of your answer choice in quotes.",
         "hidden": false,
         "locked": false,
         "points": 0,
         "success_message": "Correct answer format."
        },
        {
         "code": ">>> assert get_hash(q6_0.upper()) == '0d61f8370cad1d412f80b84d143e1257'\n",
         "failure_message": "Incorrect answer.",
         "hidden": false,
         "locked": false,
         "points": 0.25
        }
       ],
       "scored": true,
       "setup": "",
       "teardown": "",
       "type": "doctest"
      }
     ]
    },
    "q7.0": {
     "name": "q7.0",
     "points": 0.5,
     "suites": [
      {
       "cases": [
        {
         "code": ">>> assert get_hash(round(sum(boarding), 3)) == '41643e7b711eff985b0a0bb514cc8e07'\n>>> assert get_hash(len(boarding)) == 'f899139df5e1059396431415e770c6dd'\n",
         "failure_message": "Incorrect boarding.",
         "hidden": false,
         "locked": false,
         "points": 0.25
        },
        {
         "code": ">>> assert get_hash(round(sum(total), 3)) == '3a8caef4af29165eb934b222b38f5b7c'\n>>> assert get_hash(len(total)) == 'f899139df5e1059396431415e770c6dd'\n",
         "failure_message": "Incorrect total.",
         "hidden": false,
         "locked": false,
         "points": 0.25
        }
       ],
       "scored": true,
       "setup": "",
       "teardown": "",
       "type": "doctest"
      }
     ]
    },
    "q7.1": {
     "name": "q7.1",
     "points": 0.5,
     "suites": [
      {
       "cases": [
        {
         "code": ">>> assert isinstance(q7_1, PathCollection)\n",
         "failure_message": "Make sure to save the scatterplot as object \"q7_1\".",
         "hidden": false,
         "locked": false,
         "points": 0
        },
        {
         "code": ">>> assert get_hash(sum(q7_1.get_offsets()[:, 0])) == '4156dd1f0071a8132717a41fc3aefe46'\n",
         "failure_message": "Make sure to plot boarding time on x-axis.",
         "hidden": false,
         "locked": false,
         "points": 0.25
        },
        {
         "code": ">>> assert get_hash(sum(q7_1.get_offsets()[:, 1])) == '3a8caef4af29165eb934b222b38f5b7c'\n",
         "failure_message": "Make sure to plot total time on y-axis.",
         "hidden": false,
         "locked": false,
         "points": 0.25
        }
       ],
       "scored": true,
       "setup": "",
       "teardown": "",
       "type": "doctest"
      }
     ]
    },
    "q8.0": {
     "name": "q8.0",
     "points": 0.25,
     "suites": [
      {
       "cases": [
        {
         "code": ">>> assert get_hash(round(np.sum(cov_matrix), 3)) == '5011439f28ca5389cd6209577bd1db1e'\n>>> assert get_hash(cov_matrix.shape) == 'd2e4fdc3af210eddb2b758a08ecd487d'\n",
         "failure_message": "Incorrect cov_matrix.",
         "hidden": false,
         "locked": false,
         "points": 0.125
        },
        {
         "code": ">>> assert get_hash(round(cov, 10)) == 'b49c08fa0de0767a67b6acd5f0a7fb11'\n",
         "failure_message": "Incorrect cov. Use indexing to extract the covariance from cov_matrix.",
         "hidden": false,
         "locked": false,
         "points": 0.125
        }
       ],
       "scored": true,
       "setup": "",
       "teardown": "",
       "type": "doctest"
      }
     ]
    },
    "q8.1": {
     "name": "q8.1",
     "points": null,
     "suites": [
      {
       "cases": [
        {
         "code": ">>> assert isinstance(q8_1, (tuple, str))\n>>> assert all((isinstance(option, str) for option in q8_1))\n>>> assert all((len(option) == 1 for option in q8_1))\n",
         "failure_message": "Incorrect answer format. Make sure you only have the letter of your answer choice in quotes and answers are separated by commas.",
         "hidden": false,
         "locked": false,
         "points": 0,
         "success_message": "Correct answer format."
        },
        {
         "code": ">>> assert not any(('800618943025315f869e4e1f09471012' == get_hash(option.upper()) for option in q8_1))\n>>> assert get_hash(round(cov, 10)) == 'b49c08fa0de0767a67b6acd5f0a7fb11'\n",
         "failure_message": "Incorrect answer.",
         "hidden": false,
         "locked": false,
         "points": 0.05
        },
        {
         "code": ">>> assert not any(('0d61f8370cad1d412f80b84d143e1257' == get_hash(option.upper()) for option in q8_1))\n>>> assert get_hash(round(cov, 10)) == 'b49c08fa0de0767a67b6acd5f0a7fb11'\n",
         "failure_message": "Incorrect answer.",
         "hidden": false,
         "locked": false,
         "points": 0.05
        },
        {
         "code": ">>> assert any(('9d5ed678fe57bcca610140957afab571' == get_hash(option.upper()) for option in q8_1))\n>>> assert get_hash(round(cov, 10)) == 'b49c08fa0de0767a67b6acd5f0a7fb11'\n",
         "failure_message": "Incorrect answer.",
         "hidden": false,
         "locked": false,
         "points": 0.15
        },
        {
         "code": ">>> assert not any(('7fc56270e7a70fa81a5935b72eacbe29' == get_hash(option.upper()) for option in q8_1))\n>>> assert get_hash(round(cov, 10)) == 'b49c08fa0de0767a67b6acd5f0a7fb11'\n",
         "failure_message": "Incorrect answer.",
         "hidden": false,
         "locked": false,
         "points": 0.05
        },
        {
         "code": ">>> assert not any(('3a3ea00cfc35332cedf6e5e9a32e94da' == get_hash(option.upper()) for option in q8_1))\n>>> assert get_hash(round(cov, 10)) == 'b49c08fa0de0767a67b6acd5f0a7fb11'\n",
         "failure_message": "Incorrect answer.",
         "hidden": false,
         "locked": false,
         "points": 0.05
        },
        {
         "code": ">>> assert any(('f623e75af30e62bbd73d6df5b50bb7b5' == get_hash(option.upper()) for option in q8_1))\n>>> assert get_hash(round(cov, 10)) == 'b49c08fa0de0767a67b6acd5f0a7fb11'\n",
         "failure_message": "Incorrect answer.",
         "hidden": false,
         "locked": false,
         "points": 0.15
        }
       ],
       "scored": true,
       "setup": "",
       "teardown": "",
       "type": "doctest"
      }
     ]
    },
    "q9.0": {
     "name": "q9.0",
     "points": 0.25,
     "suites": [
      {
       "cases": [
        {
         "code": ">>> assert get_hash(round(np.sum(cor_matrix), 3)) == '6e790c316d2fc4e561e851a03cf6bac8'\n>>> assert get_hash(cor_matrix.shape) == 'd2e4fdc3af210eddb2b758a08ecd487d'\n",
         "failure_message": "Incorrect cor_matrix.",
         "hidden": false,
         "locked": false,
         "points": 0.125
        },
        {
         "code": ">>> assert get_hash(round(cor, 10)) == 'a10752f0c76aa5a9b7bd5fe52abc5aa0'\n",
         "failure_message": "Incorrect cor. Use indexing to extract the correlation from cor_matrix.",
         "hidden": false,
         "locked": false,
         "points": 0.125
        }
       ],
       "scored": true,
       "setup": "",
       "teardown": "",
       "type": "doctest"
      }
     ]
    },
    "q9.1": {
     "name": "q9.1",
     "points": null,
     "suites": [
      {
       "cases": [
        {
         "code": ">>> assert isinstance(q9_1, (tuple, str))\n>>> assert all((isinstance(option, str) for option in q9_1))\n>>> assert all((len(option) == 1 for option in q9_1))\n",
         "failure_message": "Incorrect answer format. Make sure you only have the letter of your answer choice in quotes and answers are separated by commas.",
         "hidden": false,
         "locked": false,
         "points": 0,
         "success_message": "Correct answer format."
        },
        {
         "code": ">>> assert not any(('9d5ed678fe57bcca610140957afab571' == get_hash(option.upper()) for option in q9_1))\n>>> assert get_hash(round(cor, 10)) == 'a10752f0c76aa5a9b7bd5fe52abc5aa0'\n",
         "failure_message": "Incorrect answer.",
         "hidden": false,
         "locked": false,
         "points": 0.05
        },
        {
         "code": ">>> assert not any(('f623e75af30e62bbd73d6df5b50bb7b5' == get_hash(option.upper()) for option in q9_1))\n>>> assert get_hash(round(cor, 10)) == 'a10752f0c76aa5a9b7bd5fe52abc5aa0'\n",
         "failure_message": "Incorrect answer.",
         "hidden": false,
         "locked": false,
         "points": 0.05
        },
        {
         "code": ">>> assert not any(('3a3ea00cfc35332cedf6e5e9a32e94da' == get_hash(option.upper()) for option in q9_1))\n>>> assert get_hash(round(cor, 10)) == 'a10752f0c76aa5a9b7bd5fe52abc5aa0'\n",
         "failure_message": "Incorrect answer.",
         "hidden": false,
         "locked": false,
         "points": 0.05
        },
        {
         "code": ">>> assert not any(('dfcf28d0734569a6a693bc8194de62bf' == get_hash(option.upper()) for option in q9_1))\n>>> assert get_hash(round(cor, 10)) == 'a10752f0c76aa5a9b7bd5fe52abc5aa0'\n",
         "failure_message": "Incorrect answer.",
         "hidden": false,
         "locked": false,
         "points": 0.05
        },
        {
         "code": ">>> assert any(('7fc56270e7a70fa81a5935b72eacbe29' == get_hash(option.upper()) for option in q9_1))\n>>> assert get_hash(round(cor, 10)) == 'a10752f0c76aa5a9b7bd5fe52abc5aa0'\n",
         "failure_message": "Incorrect answer.",
         "hidden": false,
         "locked": false,
         "points": 0.1
        },
        {
         "code": ">>> assert any(('800618943025315f869e4e1f09471012' == get_hash(option.upper()) for option in q9_1))\n>>> assert get_hash(round(cor, 10)) == 'a10752f0c76aa5a9b7bd5fe52abc5aa0'\n",
         "failure_message": "Incorrect answer.",
         "hidden": false,
         "locked": false,
         "points": 0.1
        },
        {
         "code": ">>> assert any(('0d61f8370cad1d412f80b84d143e1257' == get_hash(option.upper()) for option in q9_1))\n>>> assert get_hash(round(cor, 10)) == 'a10752f0c76aa5a9b7bd5fe52abc5aa0'\n",
         "failure_message": "Incorrect answer.",
         "hidden": false,
         "locked": false,
         "points": 0.1
        }
       ],
       "scored": true,
       "setup": "",
       "teardown": "",
       "type": "doctest"
      }
     ]
    }
   }
  }
 },
 "nbformat": 4,
 "nbformat_minor": 5
}
