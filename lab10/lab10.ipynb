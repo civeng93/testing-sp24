{
 "cells": [
  {
   "cell_type": "code",
   "execution_count": null,
   "id": "2b9880da",
   "metadata": {
    "deletable": false,
    "editable": false
   },
   "outputs": [],
   "source": [
    "# Initialize Otter\n",
    "import otter\n",
    "grader = otter.Notebook(\"lab10.ipynb\")"
   ]
  },
  {
   "cell_type": "markdown",
   "id": "5af9dc94",
   "metadata": {},
   "source": [
    "# <a id='section_header'></a>CE 93: Lab Assignment 10\n",
    "\n",
    "You must submit the lab to Gradescope by the due date. You will submit the zip file produced by running the final cell of the assignment.\n",
    "\n",
    "## About this Lab\n",
    "The objective of this assignment is to perform linear regression.\n",
    "\n",
    "## Instructions \n",
    "**Run the first cell, Initialize Otter**, to import the autograder and submission exporter.\n",
    "\n",
    "Throughout the assignment, replace `...` with your answers. We use `...` as a placeholder and these should be deleted and replaced with your answers.\n",
    "\n",
    "Any part listed as a \"<font color='red'>**Question**</font>\" should be answered to receive credit.\n",
    "\n",
    "**Please save your work after every question!**\n",
    "\n",
    "To read the documentation on a Python function, you can type `help()` and add the function name between parentheses.\n",
    "\n",
    "**Run the cell below**, to import the required modules."
   ]
  },
  {
   "cell_type": "code",
   "execution_count": null,
   "id": "f3463c41",
   "metadata": {},
   "outputs": [],
   "source": [
    "# Please run this cell, and do not modify the contents\n",
    "import math\n",
    "import numpy as np\n",
    "import scipy\n",
    "import pandas as pd\n",
    "import statistics as stats\n",
    "import cmath\n",
    "import re\n",
    "import matplotlib.pyplot as plt\n",
    "import matplotlib.image as mpimg\n",
    "import hashlib\n",
    "import ipywidgets as widgets\n",
    "from ipywidgets import FileUpload\n",
    "from IPython.display import display\n",
    "from PIL import Image\n",
    "import os\n",
    "import resources\n",
    "from sklearn.linear_model import LinearRegression\n",
    "import statsmodels.api as sm\n",
    "!pip install -q IPythonDisplayFireworks\n",
    "\n",
    "def get_hash(num):\n",
    "    \"\"\"Helper function for assessing correctness\"\"\"\n",
    "    return hashlib.md5(str(num).encode()).hexdigest()"
   ]
  },
  {
   "cell_type": "markdown",
   "id": "97eac86e",
   "metadata": {},
   "source": [
    "### Introduction\n",
    "\n",
    "In this lab, we will learn how to use `Python` to perform linear regression. We will work with on-time performance of domestic flights in the U.S. You will be asked to build, fit, and evaluate the model(s) that help us better understand the data, more specifically, draw inferences about the relationships of the variables.\n",
    "\n",
    "On-time performance (OTP) is a measure of the ability of transport services to be on time. Airlines’ on-time performance is closely monitored. In the U.S., a flight is considered delayed if it arrives at the destination gate 15 minutes or more after its scheduled arrival time. The major U.S. airlines (United, Delta, American, and Southwest) had OTPs between 75.51$-$83.21% in 2023. (Who had the lowest OTP among these airlines? You guessed it; starts with S). \n",
    "\n",
    "Flight delay can be caused by several reasons, such as bad weather, airport congestion, airspace congestion, and lower cruising speed due to high fuel costs. In return, delay can increase operation cost, passenger delay cost and fuel cost. It would be helpful if we could predict our flight time to help set the schedule and reduce delays as much as possible.\n",
    "\n",
    "In this lab, you will analyze how the different factors affect the airborne time (i.e. time between an aircraft taking off from departure airport and landing on arrival airport). You will be asked to build a model to estimate the actual airborne time for a given flight based on historical data."
   ]
  },
  {
   "cell_type": "markdown",
   "id": "b334f350",
   "metadata": {},
   "source": [
    "### Flight Performance Data\n",
    "\n",
    "The dataset you will be using to analyze on-time performance is named \"**flight_performance.csv**\".\n",
    "\n",
    "Let's load the provided data set `flight_performance.csv`. These are all the features:\n",
    "\n",
    "\n",
    "|Variable|Units|Explanation|\n",
    "|:-|:-|:-|\n",
    "|A_air|min|time between taking off and landing for a flight|\n",
    "|DELAY|min|time spent before taking off (gate delay, taxi time, etc.)|\n",
    "|GCD|mile|great circle distance between departure airport and arrival airport|\n",
    "|HeadingDegree|degree|longitude of arrival airport $-$ longitude of departure airport|\n",
    "|Dep_Hub|binary|=1 if departure airport is the hub airport for the flight airline; =0 otherwise|\n",
    "|Arr_Hub|binary|=1 if arrival airport is the hub airport for the flight airline; =0 otherwise|\n",
    "|Weekday|binary|=1 if flight is on a weekday; =0 otherwise|\n",
    "|Spring|binary|=1 if flight is during Spring; =0 otherwise|\n",
    "|Summer|binary|=1 if flight is during Summer; =0 otherwise|\n",
    "|Fall|binary|=1 if flight is during Fall; =0 otherwise|\n",
    "|Winter|binary|=1 if flight is during Winter; =0 otherwise|\n",
    "|Dep_congestion|unitless|=(actual operations)/(capacity operations at departure airport)|\n",
    "|Arr_congestion|unitless|=(actual operations)/(capacity operations at arrival airport)|\n",
    "\n",
    "This dataset has been truncated and edited based on Airline Service Quality Performance (ASQP) and Aviation System Performance Metrics (ASPM) from the Federal Aviation Administration. It includes a sample of domestic flights across top 30 airports in the US in 2016. The variable names and their definitions are provided in the table above.\n",
    "\n",
    "\n",
    "You will only work with a few variables in this lab.\n",
    "\n",
    "\n",
    "* Load the data using the Pandas `pd.read_csv()` function\n",
    "\n",
    "Run the cell below, which reads the data and saves it as a variable named `df`."
   ]
  },
  {
   "cell_type": "code",
   "execution_count": null,
   "id": "b0844215",
   "metadata": {},
   "outputs": [],
   "source": [
    "# read a .csv file as a DataFrame\n",
    "df = pd.read_csv('resources/flight_performance.csv')\n",
    "\n",
    "# returns the first 5 rows of the data set by default\n",
    "df.head()"
   ]
  },
  {
   "cell_type": "markdown",
   "id": "d484973b-52c6-4e64-ba20-e481aefad1a1",
   "metadata": {},
   "source": [
    "### Relationship between `A_air` and `GCD`\n",
    "\n",
    "In this part, you will fit a model that draws inference about the relationship between the actual airborne time (`A_air`) and the distance between the departure airport and the arrival airport (`GCD`).\n",
    "\n",
    "Before we do that, we will first explore our data.\n",
    "\n",
    "First, let's generate data vectors for `A_air` and `GCD`."
   ]
  },
  {
   "cell_type": "markdown",
   "id": "a41918ae-0ced-45bc-a64c-da7903273700",
   "metadata": {
    "deletable": false,
    "editable": false
   },
   "source": [
    "<font color='red'>**Question 1.0.**</font> Create a data vector for `A_air` and `GCD`. Add your code below to take the relevant columns from the DataFrame you loaded above and save them as `travel_time` and `travel_distance`, respectively. You can refer to previous labs to answer this question. (0.25 pts)"
   ]
  },
  {
   "cell_type": "code",
   "execution_count": null,
   "id": "e1ed1776-7a7a-4872-8e6b-7db75dcedea8",
   "metadata": {
    "tags": []
   },
   "outputs": [],
   "source": [
    "# ANSWER CELL\n",
    "\n",
    "# create variable for airborne time\n",
    "travel_time = ...\n",
    "\n",
    "# create variable for distance\n",
    "travel_distance = ..."
   ]
  },
  {
   "cell_type": "code",
   "execution_count": null,
   "id": "f83b9484",
   "metadata": {
    "deletable": false,
    "editable": false
   },
   "outputs": [],
   "source": [
    "grader.check(\"q1.0\")"
   ]
  },
  {
   "cell_type": "markdown",
   "id": "4fc45117-5fa5-4d68-ba50-7e6c9c869f08",
   "metadata": {
    "deletable": false,
    "editable": false
   },
   "source": [
    "<font color='red'>**Question 1.1.**</font> Create a scatter plot of `travel_time` against `travel_distance` (y against x). (0.5 pts)\n",
    "\n",
    "1. You can read about the parameters of `plt.scatter()` [here](https://matplotlib.org/stable/api/_as_gen/matplotlib.pyplot.scatter.html)\n",
    "2. To control the size of the markers, you can specify `plt.scatter(x,y,s=...)`\n",
    "3. Set the x-axis label to `'Travel Distance (miles)'` and the y-axis label to `'Travel Time (min)'`"
   ]
  },
  {
   "cell_type": "code",
   "execution_count": null,
   "id": "4d7c323c-faca-44a9-a92f-3079e518771b",
   "metadata": {
    "tags": []
   },
   "outputs": [],
   "source": [
    "# ANSWER CELL\n",
    "\n",
    "# Do not modify these lines for grading purposes\n",
    "import matplotlib.pyplot as plt\n",
    "from matplotlib.collections import PathCollection\n",
    "\n",
    "# create figure and axes\n",
    "fig_1, ax_1 = plt.subplots(nrows=1, ncols=1, figsize=(4,3))\n",
    "\n",
    "# create scatter plot\n",
    "...\n",
    "\n",
    "# Label the axes\n",
    "...\n",
    "\n",
    "# Display the plot\n",
    "plt.tight_layout()\n",
    "plt.show()"
   ]
  },
  {
   "cell_type": "code",
   "execution_count": null,
   "id": "4f84bfb4",
   "metadata": {
    "deletable": false,
    "editable": false
   },
   "outputs": [],
   "source": [
    "grader.check(\"q1.1\")"
   ]
  },
  {
   "cell_type": "markdown",
   "id": "ea5a76ad-436d-4a36-9b9f-c43d00ace809",
   "metadata": {
    "deletable": false,
    "editable": false
   },
   "source": [
    "<font color='red'>**Question 1.2.**</font> Based on the scatter plot above, what observations can you make? Assign ALL that apply to the variable `q1_2`. (0.5 pts)\n",
    "\n",
    "**A.** There appears to be a positive linear association between `travel_time` and `travel_distance` \\\n",
    "**B.** There appears to be a negative linear association between `travel_time` and `travel_distance` \\\n",
    "**C.** There appears to be no  association between `travel_time` and `travel_distance` \\\n",
    "**D.** There appears to be higher variability in travel time at higher travel distances \\\n",
    "**E.** There appears to be less variability in travel time at higher travel distances \\\n",
    "**F.** There appears to be constant variability in travel time regardless of travel distance\\\n",
    "**G.** There appears to be a non linear association between `travel_time` and `travel_distance`\n",
    "\n",
    "Answer in the next cell. Add each selected choice as a string and separate each two answer choices by a comma. For example, if you want to select `\"A\"` and `\"B\"`, your answer should be `\"A\", \"B\"`.\\\n",
    "Assign your answer to the given variable.\n",
    "Remember to put quotes around each answer choice.\n",
    "\n",
    "**Note that the test for this question will be a hidden test. Meaning, you will NOT be able to know whether your answer is correct or not by running the `grader.check()` cell.**"
   ]
  },
  {
   "cell_type": "code",
   "execution_count": null,
   "id": "5b4e9078-a9bd-4ab3-9301-c65a5e6518cd",
   "metadata": {
    "tags": []
   },
   "outputs": [],
   "source": [
    "# ANSWER CELL\n",
    "\n",
    "q1_2 = ...\n",
    "q1_2"
   ]
  },
  {
   "cell_type": "code",
   "execution_count": null,
   "id": "39af18a4",
   "metadata": {
    "deletable": false,
    "editable": false
   },
   "outputs": [],
   "source": [
    "grader.check(\"q1.2\")"
   ]
  },
  {
   "cell_type": "markdown",
   "id": "08e3f6a9-fb7c-40a8-8ce3-f9e3d315ea01",
   "metadata": {},
   "source": [
    "### Linear Regression Using `scikit-learn`\n",
    "\n",
    "We will use the `scikit-learn` package to perform linear regression. There are other packages as well, but this is one of the most commonly used packages and is also a widely used Python library for machine learning, built on top of NumPy and some other packages. You will specifically use the class `sklearn.linear_model.LinearRegression` to perform linear regression. You already loaded this class in the second code cell.\n",
    "\n",
    "Before we apply linear regression, we must have our data sets in the correct format. Specifically, you must:\n",
    "1. Convert the data sets from Pandas to NumPy array\n",
    "2. Format the `x` variable such that it is two-dimensional, or more precisely, it must have one column and many rows\n",
    "\n",
    "Run the code cell below to properly format the data sets for regression."
   ]
  },
  {
   "cell_type": "code",
   "execution_count": null,
   "id": "688379ef-c27d-4458-9ab1-bac9dcdbe1cc",
   "metadata": {},
   "outputs": [],
   "source": [
    "# Format the data sets\n",
    "travel_time = np.array(travel_time) # convert from pandas to numpy array\n",
    "travel_distance = np.array(travel_distance) # convert from pandas to numpy array\n",
    "\n",
    "travel_distance = travel_distance.reshape(-1, 1) # format the x variable such that it is two-dimensional with 1 column\n",
    "\n",
    "# Output the arrays\n",
    "print('Travel Distance: shape '+ str(travel_distance.shape))\n",
    "print(travel_distance)\n",
    "\n",
    "print('\\n\\n Travel Time: shape '+ str(travel_time.shape))\n",
    "print(travel_time)"
   ]
  },
  {
   "cell_type": "markdown",
   "id": "bd4eddf3-15a7-45ef-abea-65177ad4883c",
   "metadata": {},
   "source": [
    "As evident, `travel_distance` has two dimensions: shape (18936, 1), while `travel_distance` has a single dimension: shape (18936, ). This format is required to be able to use `sklearn.linear_model.LinearRegression`.\n",
    "\n",
    "The next step is to create a linear regression model and fit it using the existing data. The statement below creates the variable `model` as an instance of `LinearRegression`, which will represent the regression model.\n",
    "\n",
    "Run the code cell below to create the variable `model`."
   ]
  },
  {
   "cell_type": "code",
   "execution_count": null,
   "id": "1af7c6ea-0352-465b-95d1-2547fefee31b",
   "metadata": {},
   "outputs": [],
   "source": [
    "# Create the variable model\n",
    "\n",
    "model = LinearRegression()"
   ]
  },
  {
   "cell_type": "markdown",
   "id": "d7a4a220-93ae-42e6-bb31-322ead2eb224",
   "metadata": {},
   "source": [
    "It's time to fit a linear regression model to the data. We would like to create the following model:\n",
    "\n",
    "`travel_time` = $\\beta_0 + \\beta_1 \\times$`travel_distance`\n",
    "\n",
    "This can be done using the variable `model` that you defined in the code cell above. Specifically, `model.fit(x, y)` will calculate the optimal estimates $\\hat{\\beta_0}$ and $\\hat{\\beta_1}$ that result in a regression line that is closer to the input data `(x, y)` than any other line.\n",
    "\n",
    "Since we will create several models, let's save this one as `model1`.\n",
    "\n",
    "Run the code below to perform a linear regression between `travel_distance` and `travel_time`. Note that the order of the variables in `model.fit()` is important. The first variable should be the independent variable `x` and the second one should be the dependent variable `y`.\n",
    "\n",
    "The code cell below will not print any output. We will see how to get the outputs next."
   ]
  },
  {
   "cell_type": "code",
   "execution_count": null,
   "id": "993ea71c-6206-42e4-873d-9ecf85290f00",
   "metadata": {},
   "outputs": [],
   "source": [
    "# fit your linear regresseion model here\n",
    "\n",
    "model1 = model.fit(travel_distance, travel_time)"
   ]
  },
  {
   "cell_type": "markdown",
   "id": "730b06aa",
   "metadata": {},
   "source": [
    "Once you have your fitted model, you can get the results to check whether the model is satisfactory.\n",
    "\n",
    "The estimated intercept $\\hat{\\beta_0}$ is obtained using `model1.intercept_`\n",
    "\n",
    "The estimated slope $\\hat{\\beta_1}$ is obtained using `model1.coef_[0]`\n",
    "\n",
    "Note that we are using `model1.<>` because we saved our model in this case as variable `model1`. If we used a different variable name, we would access the intercept and coefficients using that variable name. Always ensure consistency in variable names to avoid confusion and errors in your code."
   ]
  },
  {
   "cell_type": "markdown",
   "id": "0559a714-d1a7-4624-bdef-9af5ce036cb9",
   "metadata": {
    "deletable": false,
    "editable": false
   },
   "source": [
    "<font color='red'>**Question 2.0.**</font> What is the estimated intercept $\\hat{\\beta_0}$ and estimated slope $\\hat{\\beta_1}$? Assign your answers to variables `beta_0` and `beta_1`, respectively. Do not just manually type the numeric answers. Use Python expressions that return the desired answer and assign the expression to the variable. (0.5 pts)"
   ]
  },
  {
   "cell_type": "code",
   "execution_count": null,
   "id": "b06ce14c-7969-40d4-af74-912b05ed3bc7",
   "metadata": {
    "tags": []
   },
   "outputs": [],
   "source": [
    "# ANSWER CELL\n",
    "\n",
    "beta_0 = ...\n",
    "beta_1 = ...\n",
    "\n",
    "print(f'Intercept: {beta_0:.3f} min' if not isinstance(beta_0, type(Ellipsis)) else None)\n",
    "print(f'Slope: {beta_1:.3f} min/miles' if not isinstance(beta_1, type(Ellipsis)) else None)"
   ]
  },
  {
   "cell_type": "code",
   "execution_count": null,
   "id": "e4e0e6b1",
   "metadata": {
    "deletable": false,
    "editable": false
   },
   "outputs": [],
   "source": [
    "grader.check(\"q2.0\")"
   ]
  },
  {
   "cell_type": "markdown",
   "id": "7f953741-c0b0-4743-b4df-6b31f6edd30d",
   "metadata": {
    "deletable": false,
    "editable": false
   },
   "source": [
    "<font color='red'>**Question 2.1.**</font> What is the equation of the regression line between `travel_time` and `travel_distance`? Assign your answer to the variable `q2_1` as a string. (0.25 pts)\n",
    "\n",
    "**A.** `travel_distance` = $0.115+18.59 \\times$ `travel_time` \\\n",
    "**B.** `travel_time` = $0.115+18.59 \\times$ `travel_distance` \\\n",
    "**C.** `travel_time` = $18.59+0.115 \\times$ `travel_distance` \\\n",
    "**D.** `travel_distance` = $18.59+0.115 \\times$ `travel_time`\n",
    "\n",
    "Your answer should be a string, e.g., `\"A\"`, `\"B\"`, etc.\\\n",
    "Remember to put quotes around your answer choice.\n",
    "\n",
    "**Note that the test for this question will be a hidden test. Meaning, you will NOT be able to know whether your answer is correct or not by running the `grader.check()` cell.**"
   ]
  },
  {
   "cell_type": "code",
   "execution_count": null,
   "id": "81c7537d-9a1e-4ce2-b5f9-06460333f9eb",
   "metadata": {
    "tags": []
   },
   "outputs": [],
   "source": [
    "# ANSWER CELL\n",
    "\n",
    "q2_1 = ...\n",
    "q2_1"
   ]
  },
  {
   "cell_type": "code",
   "execution_count": null,
   "id": "65a92bee",
   "metadata": {
    "deletable": false,
    "editable": false
   },
   "outputs": [],
   "source": [
    "grader.check(\"q2.1\")"
   ]
  },
  {
   "cell_type": "markdown",
   "id": "5a65240b-3778-4e8e-b846-6d5fe0245a17",
   "metadata": {
    "deletable": false,
    "editable": false
   },
   "source": [
    "<font color='red'>**Question 2.2.**</font> What does the estimated slope $\\hat{\\beta_1}$ represent in this case? Assign ALL that apply to the variable `q2_2`. (0.5 pts)\n",
    "\n",
    "**A.** The average change in travel time for every unit increase in travel distance \\\n",
    "**B.** The average change in travel distance for every unit increase in travel time \\\n",
    "**C.** The average change in travel time for any increase in travel distance \\\n",
    "**D.** The average change in travel distance for any increase in travel time \\\n",
    "**E.** Its reciprocal is the average speed of domestic flights in the U.S.\n",
    "\n",
    "Answer in the next cell. Add each selected choice as a string and separate each two answer choices by a comma. For example, if you want to select `\"A\"` and `\"B\"`, your answer should be `\"A\", \"B\"`.\\\n",
    "Assign your answer to the given variable.\n",
    "Remember to put quotes around each answer choice."
   ]
  },
  {
   "cell_type": "code",
   "execution_count": null,
   "id": "86239f87-ff8a-42e3-98dc-106e65a33c8d",
   "metadata": {
    "tags": []
   },
   "outputs": [],
   "source": [
    "# ANSWER CELL\n",
    "\n",
    "q2_2 = ...\n",
    "q2_2"
   ]
  },
  {
   "cell_type": "code",
   "execution_count": null,
   "id": "ecb2a8d6",
   "metadata": {
    "deletable": false,
    "editable": false
   },
   "outputs": [],
   "source": [
    "grader.check(\"q2.2\")"
   ]
  },
  {
   "cell_type": "markdown",
   "id": "3d5121e7",
   "metadata": {},
   "source": [
    "Once you have fitted your model using the training data, you can use it to make predictions on existing or new data. This can be achieved using the `predict()` method of the model object. The basic syntax is:\n",
    "\n",
    "`predicted_y = model1.predict(new_x)`\n",
    "\n",
    "Note that we are using `model1.predict()` because we saved our model in this case as variable `model1`. If we used a different variable name, we would use that variable name. Always ensure consistency in variable names to avoid confusion and errors in your code."
   ]
  },
  {
   "cell_type": "markdown",
   "id": "1636e120-2863-42cc-8597-a0f095ae92bc",
   "metadata": {
    "deletable": false,
    "editable": false
   },
   "source": [
    "<font color='red'>**Question 3.0.**</font> In the same plot, show the data and the regression line. Follow these steps (0.75 pts)\n",
    "\n",
    "1. Estimate travel time for the existing `travel_distance` values using the regression model. Save this as `travel_time_pred`.\n",
    "2. Create a scatter plot of the original data sets\n",
    "3. In the same scatter plot, plot the regression line using the estimated travel time. Show the regression line using <font color='red'>**red**</font> color by specifying `c='r'`.\n",
    "4. Set the x-axis label to `'Travel Distance (miles)'` and the y-axis label to `'Travel Time (min)'`."
   ]
  },
  {
   "cell_type": "code",
   "execution_count": null,
   "id": "a1a47e28-ff01-4baf-8835-9b6d2f60510f",
   "metadata": {
    "tags": []
   },
   "outputs": [],
   "source": [
    "# ANSWER CELL\n",
    "\n",
    "# Do not modify these lines for grading purposes\n",
    "import matplotlib.pyplot as plt\n",
    "from matplotlib.collections import PathCollection\n",
    "from matplotlib.lines import Line2D\n",
    "import matplotlib.colors as mcolors\n",
    "\n",
    "# get the predicted travel time at the values of travel_distance\n",
    "travel_time_pred = ...\n",
    "\n",
    "# create figure and axes\n",
    "fig_2, ax_2 = plt.subplots(nrows=1, ncols=1, figsize=(4,3))\n",
    "\n",
    "# create scatterplot of the observed data\n",
    "...\n",
    "\n",
    "# plot the regression line in red\n",
    "...\n",
    "\n",
    "# Label the axes\n",
    "...\n",
    "\n",
    "# Display the plot\n",
    "plt.tight_layout()\n",
    "plt.show()"
   ]
  },
  {
   "cell_type": "code",
   "execution_count": null,
   "id": "d7f641dd",
   "metadata": {
    "deletable": false,
    "editable": false
   },
   "outputs": [],
   "source": [
    "grader.check(\"q3.0\")"
   ]
  },
  {
   "cell_type": "markdown",
   "id": "bc3d5dd7-679b-4d5e-9d16-db29e7822371",
   "metadata": {},
   "source": [
    "### Goodness of Fit using `model.score()`\n",
    "\n",
    "Python has direct functions to compute the coefficient of determination, $r^2$, among other summaries. For example, you can directly compute $r^2$ using the `score()` method of the model object. The basic syntax is:\n",
    "\n",
    "`r2 = model.score(x, y)`\n",
    "\n",
    "where `x` and `y` represent the observed (input) values of the independent and dependent variables, respectively."
   ]
  },
  {
   "cell_type": "markdown",
   "id": "25c31664-0e68-424b-b733-8c87df2fe1cc",
   "metadata": {
    "deletable": false,
    "editable": false
   },
   "source": [
    "<font color='red'>**Question 4.0.**</font> Calculate the coefficient of determination, $r^2$, using the `score()` method for the regression model between `travel_distance` and `travel_time`. Assign your answer to `q4_0`. Do not just manually type the numeric answer. Use Python expressions that return the desired answer and assign the expression to the variable. (0.25 pts)"
   ]
  },
  {
   "cell_type": "code",
   "execution_count": null,
   "id": "64f5bcbf-8a12-40c2-8ed2-c5e48e3f2408",
   "metadata": {
    "tags": []
   },
   "outputs": [],
   "source": [
    "# ANSWER CELL\n",
    "\n",
    "# calculate r^2 using score() method\n",
    "q4_0 = ...\n",
    "\n",
    "print(f'r^2: {q4_0:.3f}' if not isinstance(q4_0, type(Ellipsis)) else None)"
   ]
  },
  {
   "cell_type": "code",
   "execution_count": null,
   "id": "b553af3c",
   "metadata": {
    "deletable": false,
    "editable": false
   },
   "outputs": [],
   "source": [
    "grader.check(\"q4.0\")"
   ]
  },
  {
   "cell_type": "markdown",
   "id": "d55cef9d-5515-40f4-ab56-2abc225ada95",
   "metadata": {
    "deletable": false,
    "editable": false
   },
   "source": [
    "<font color='red'>**Question 4.1.**</font> What can you say about the model based on the value of $r^2$? Assign ALL that apply to the variable `q4_1`. (0.75 pts)\n",
    "\n",
    "**A.** 96.7% of the variability in travel time can be explained by the variability in travel distance \\\n",
    "**B.** 0.967% of the variability in travel time can be explained by the variability in travel distance \\\n",
    "**C.** 98.3% of the variability in travel time can be explained by the variability in travel distance \\\n",
    "**D.** 0.983% of the variability in travel time can be explained by the variability in travel distance \\\n",
    "**E.** The model has a good fit to the data \\\n",
    "**F.** The model has a poor fit to the data \\\n",
    "**G.** None of the variability in travel time can be explained by the variability in travel distance \\\n",
    "**H.** The sample correlation coefficient is approximately 0.983 \\\n",
    "**I.** We cannot determine the sample correlation coefficient based on $r^2$\n",
    "\n",
    "Answer in the next cell. Add each selected choice as a string and separate each two answer choices by a comma. For example, if you want to select `\"A\"` and `\"B\"`, your answer should be `\"A\", \"B\"`.\\\n",
    "Assign your answer to the given variable.\n",
    "Remember to put quotes around each answer choice."
   ]
  },
  {
   "cell_type": "code",
   "execution_count": null,
   "id": "dc62b7ed-e611-4127-a786-3cd27129c97e",
   "metadata": {
    "tags": []
   },
   "outputs": [],
   "source": [
    "# ANSWER CELL\n",
    "\n",
    "q4_1 = ...\n",
    "q4_1"
   ]
  },
  {
   "cell_type": "code",
   "execution_count": null,
   "id": "41f018e3",
   "metadata": {
    "deletable": false,
    "editable": false
   },
   "outputs": [],
   "source": [
    "grader.check(\"q4.1\")"
   ]
  },
  {
   "cell_type": "markdown",
   "id": "0fdbf716-b636-4330-b46e-7df5c7f0902e",
   "metadata": {},
   "source": [
    "### Diagnostics\n",
    "\n",
    "The last step is to check the assumptions of our model. Recall that linear regression is based on the following assumptions:\n",
    "\n",
    "1. Linear relationship between X and Y\n",
    "2. Independent error terms (and therefore, independent observations)\n",
    "3. Normally distributed error terms\n",
    "4. Equal variance of the error terms along regression line\n",
    "\n",
    "If the model is appropriate for the data, the observed residuals should reflect these properties. Recall that the residuals are the actual values minus the estimated values:\n",
    "\n",
    "$$e_i = y_i - \\hat{y_i}$$\n",
    "\n",
    "* You should have already computed the estimated values and saved them as `travel_time_pred`"
   ]
  },
  {
   "cell_type": "markdown",
   "id": "96cca6c9-f3a4-4f9e-8585-e1547c2f5850",
   "metadata": {
    "deletable": false,
    "editable": false
   },
   "source": [
    "<font color='red'>**Question 5.0.**</font> In the cell below, compute the residuals for our model. Assign your answer to `residuals`. Do not just manually type the numeric answer. Use Python expressions that return the desired answer and assign the expression to the variable. (0.25 pts)"
   ]
  },
  {
   "cell_type": "code",
   "execution_count": null,
   "id": "75163d17-f2ce-42d9-827c-e72ae19a808f",
   "metadata": {
    "tags": []
   },
   "outputs": [],
   "source": [
    "# ANSWER CELL\n",
    "\n",
    "residuals = ...\n",
    "\n",
    "print(f'Residuals: {residuals.round(3)} min' if not isinstance(residuals, type(Ellipsis)) else None)"
   ]
  },
  {
   "cell_type": "code",
   "execution_count": null,
   "id": "cbc2e92d",
   "metadata": {
    "deletable": false,
    "editable": false
   },
   "outputs": [],
   "source": [
    "grader.check(\"q5.0\")"
   ]
  },
  {
   "cell_type": "markdown",
   "id": "d11b1f8f",
   "metadata": {},
   "source": [
    "### Residual Plot\n",
    "\n",
    "Assumptions 1, 2, and 4 can be checked by plotting the residuals against the x values or the estimated values."
   ]
  },
  {
   "cell_type": "markdown",
   "id": "57e4b452-6746-4c6a-91b8-9e56f6abff91",
   "metadata": {
    "deletable": false,
    "editable": false
   },
   "source": [
    "<font color='red'>**Question 5.1.**</font> Create a scatterplot of the residuals against the estimated values (saved as `travel_time_pred`). Follow these steps: (0.5 pts)\n",
    "1. Plot the residuals against the estimated values `travel_time_pred`. To control the size of the markers, you can specify `plt.scatter(x,y,s=...)`\n",
    "2. Plot a horizontal line corresponding to residual of 0 using `plt.axhline(y=0, color='gray')`\n",
    "3. Set the x-axis label to `'Predicted Values (min)'` and the y-axis label to `'Residuals (min)'`"
   ]
  },
  {
   "cell_type": "code",
   "execution_count": null,
   "id": "ebe91c3f-32eb-4877-9972-d12959904c2e",
   "metadata": {
    "tags": []
   },
   "outputs": [],
   "source": [
    "# ANSWER CELL\n",
    "\n",
    "# Do not modify these lines for grading purposes\n",
    "import matplotlib.pyplot as plt\n",
    "from matplotlib.collections import PathCollection\n",
    "from matplotlib.lines import Line2D\n",
    "\n",
    "# create figure and axes\n",
    "fig_3, ax_3 = plt.subplots(nrows=1, ncols=1, figsize=(4,3))\n",
    "\n",
    "# create scatterplot of the residuals\n",
    "...\n",
    "\n",
    "# plot a horizontal line at y=0\n",
    "...\n",
    "\n",
    "# Label the axes\n",
    "...\n",
    "\n",
    "# Display the plot\n",
    "plt.tight_layout()\n",
    "plt.show()"
   ]
  },
  {
   "cell_type": "code",
   "execution_count": null,
   "id": "f4e9e866",
   "metadata": {
    "deletable": false,
    "editable": false
   },
   "outputs": [],
   "source": [
    "grader.check(\"q5.1\")"
   ]
  },
  {
   "cell_type": "markdown",
   "id": "84afb3b8",
   "metadata": {
    "deletable": false,
    "editable": false
   },
   "source": [
    "### Residual Histogram\n",
    "\n",
    "Assumption 3 (normality) can be checked by plotting a histogram of the residuals. You can plot a theoretical normal pdf along with the histogram, or simply visually assess whether the distribution of the residuals appears to have a bell-curve shape. You can also plot a Q-Q plot of the residuals. However, we will only focus on plotting a histogram in this case. "
   ]
  },
  {
   "cell_type": "markdown",
   "id": "cf541ca4-6d33-48fe-a72c-4f34d2ee3869",
   "metadata": {
    "deletable": false,
    "editable": false
   },
   "source": [
    "<font color='red'>**Question 5.2.**</font> In the code cell below, plot a frequency histogram of `residuals` with `bins=12` and assign it to the variable `histogram`. Set the x-axis label to `'Residuals (min)'` and the y-axis label to `'Frequency'`. (0.5 pts)"
   ]
  },
  {
   "cell_type": "code",
   "execution_count": null,
   "id": "885e1ea7-ea49-4b81-8d39-7de4cde72377",
   "metadata": {
    "tags": []
   },
   "outputs": [],
   "source": [
    "# ANSWER CELL\n",
    "\n",
    "# Do not modify this line for grading purposes\n",
    "import matplotlib.pyplot as plt\n",
    "\n",
    "# create figure and axes\n",
    "fig_4, ax_4 = plt.subplots(nrows=1, ncols=1, figsize=(4,3))\n",
    "\n",
    "# Plot frequency histogram. Assign the plot to the variable histogram.\n",
    "histogram = ...\n",
    "\n",
    "# Label the axes\n",
    "...\n",
    "\n",
    "# Display the plot\n",
    "plt.tight_layout()\n",
    "plt.show()"
   ]
  },
  {
   "cell_type": "code",
   "execution_count": null,
   "id": "1093c96a",
   "metadata": {
    "deletable": false,
    "editable": false
   },
   "outputs": [],
   "source": [
    "grader.check(\"q5.2\")"
   ]
  },
  {
   "cell_type": "markdown",
   "id": "ade41c85-06eb-491b-907c-2c6829a84f09",
   "metadata": {
    "deletable": false,
    "editable": false
   },
   "source": [
    "<font color='red'>**Question 5.3.**</font> Which assumption(s) appear(s) to be violated, if any, based on your plots? Assign ALL that apply to the variable `q5_3`. (0.75 pts)\n",
    "\n",
    "**A.** Assumption of linear relationship \\\n",
    "**B.** Assumption of equal variance \\\n",
    "**C.** Assumption of independent errors/observations \\\n",
    "**D.** Assumption of normally distirbuted errors \\\n",
    "**E.** None\n",
    "\n",
    "Answer in the next cell. Add each selected choice as a string and separate each two answer choices by a comma. For example, if you want to select `\"A\"` and `\"B\"`, your answer should be `\"A\", \"B\"`.\\\n",
    "Assign your answer to the given variable.\n",
    "Remember to put quotes around each answer choice."
   ]
  },
  {
   "cell_type": "code",
   "execution_count": null,
   "id": "ae1dd2b0-e183-4e5f-aee2-3bb1dcafa475",
   "metadata": {
    "tags": []
   },
   "outputs": [],
   "source": [
    "# ANSWER CELL\n",
    "\n",
    "q5_3 = ...\n",
    "q5_3"
   ]
  },
  {
   "cell_type": "code",
   "execution_count": null,
   "id": "163a40b4",
   "metadata": {
    "deletable": false,
    "editable": false
   },
   "outputs": [],
   "source": [
    "grader.check(\"q5.3\")"
   ]
  },
  {
   "cell_type": "markdown",
   "id": "cf9878d7-0a27-4cdf-8e6b-fabc295f5241",
   "metadata": {},
   "source": [
    "### Linear Regression Using `statsmodels`\n",
    "\n",
    "Everything you did above was based on the `scikit-learn` package. As previously mentioned, there are other packages as well. Next we will perform linear regression using `statsmodels`. You will specifically use the class `statsmodels.api.sm` to perform linear regression. \n",
    "\n",
    "When using `statsmodels.api.sm`, an intercept is not included by default $($i.e., $\\beta_0=0)$. If you want to include an intercept in the model, you should modify the input `x`. For example, if you are trying to perform a linear regression between `x` and `y`, you should follow these steps:\n",
    "\n",
    "```python\n",
    "x2 = sm.add_constant(x)       # to include intercept in regression\n",
    "model2 = sm.OLS(y, x2).fit()  # to fit regression model\n",
    "model2.summary()              # to display summary of results\n",
    "```\n",
    "\n",
    "**Note that when using `sm.OLS()`, the first variable should be the dependent variable `y` and the second variable should be the independent variable `x`. Previously, when using `scikit-learn`, the order of the variables was reversed.**\n",
    "\n",
    "`model2.summary()` returns a full summary of the regression. To get specific summaries, you can use:\n",
    "* `model2.params`: this returns the estimated coefficients\n",
    "* `model2.rsquared`: this returns the coefficient of determination \n",
    "* `model2.mse_resid`: this returns the MSE\n",
    "* `model2.bse`: this returns the standard errors of the estimated coefficients (i.e., standard deviations of the estimates $\\hat{\\beta_0}$ and $\\hat{\\beta_1}$)\n",
    "* `model2.pvalues`: this returns the $p$-values for testing whether the parameters are equal to 0 or different from 0\n",
    "\n",
    "Note that we are using `model2.<>` because we saved our model in this case as variable `model2`. If we used a different variable name, we would use that variable name. Always ensure consistency in variable names to avoid confusion and errors in your code.\n",
    "\n",
    "Run the code cell below to perform linear regression between `travel_distance` and `travel_time` using the class `statsmodels.api.sm`. Read the summary output and compare it to your previous answers. You can also use the attributes above (`model2.params`, `model2.rsquared`, etc.) to check specific output.\n",
    "\n",
    "You don't have to answer any questions. However, read and understand the code below. You will use `statsmodels.api.sm` to perform regression in the remaining part of the lab."
   ]
  },
  {
   "cell_type": "code",
   "execution_count": null,
   "id": "8f46fc95-2222-4dcd-b7f9-858d42ff5e6d",
   "metadata": {},
   "outputs": [],
   "source": [
    "# Linear regression using `statsmodels.api.sm`\n",
    "\n",
    "# include intercept in regression\n",
    "travel_distance2 = sm.add_constant(travel_distance)\n",
    "\n",
    "# run regression\n",
    "model2 = sm.OLS(travel_time, travel_distance2).fit()\n",
    "\n",
    "# output an overall summary\n",
    "model2.summary()"
   ]
  },
  {
   "cell_type": "markdown",
   "id": "b91fe548",
   "metadata": {},
   "source": [
    "The estimated intercept is shown as variable `const` and the estimated slope is shown as variable `x1` in the above table.\n",
    "\n",
    "The coefficient of determination, $r^2$, is in the first row in the above table (`R-squared`). \n",
    "\n",
    "The outputs should match what you obtained in previous questions."
   ]
  },
  {
   "cell_type": "markdown",
   "id": "3948df47-402c-4498-8630-df0166b0e65d",
   "metadata": {},
   "source": [
    "### Relationship between `A_air` and `HeadingDegree`\n",
    "\n",
    "In this part, you will fit a model that draws inference about the relationship between the actual airborne time (`A_air`) and the heading degree, which is the longitude of arrival airport minus longitude of departure airport (saved as `HeadingDegree` in the DataFrame).\n",
    "\n",
    "Before we do that, we will first explore our data."
   ]
  },
  {
   "cell_type": "markdown",
   "id": "1e26de01",
   "metadata": {
    "deletable": false,
    "editable": false
   },
   "source": [
    "<font color='red'>**Question 6.0.**</font> Create a data vector for `HeadingDegree`. Add your code below to take the relevant column from the DataFrame you loaded above and save it as `degree`. You can refer to previous labs to answer this question. (0.25 pts)"
   ]
  },
  {
   "cell_type": "code",
   "execution_count": null,
   "id": "0f796128",
   "metadata": {
    "tags": []
   },
   "outputs": [],
   "source": [
    "# ANSWER CELL\n",
    "\n",
    "# create variable for heading degree\n",
    "degree = ..."
   ]
  },
  {
   "cell_type": "code",
   "execution_count": null,
   "id": "11dbb866",
   "metadata": {
    "deletable": false,
    "editable": false
   },
   "outputs": [],
   "source": [
    "grader.check(\"q6.0\")"
   ]
  },
  {
   "cell_type": "markdown",
   "id": "bd70f0a7",
   "metadata": {
    "deletable": false,
    "editable": false
   },
   "source": [
    "<font color='red'>**Question 6.1.**</font> Create a scatter plot of `travel_time` against `degree` (y against x). (0.5 pts)\n",
    "\n",
    "1. You can read about the parameters of `plt.scatter()` [here](https://matplotlib.org/stable/api/_as_gen/matplotlib.pyplot.scatter.html)\n",
    "2. To control the size of the markers, you can specify `plt.scatter(x,y,s=...)`\n",
    "3. Set the x-axis label to `'Heading Degree (degree)'` and the y-axis label to `'Travel Time (min)'`"
   ]
  },
  {
   "cell_type": "code",
   "execution_count": null,
   "id": "81d9b44f",
   "metadata": {
    "tags": []
   },
   "outputs": [],
   "source": [
    "# ANSWER CELL\n",
    "\n",
    "# Do not modify these lines for grading purposes\n",
    "import matplotlib.pyplot as plt\n",
    "from matplotlib.collections import PathCollection\n",
    "\n",
    "# create figure and axes\n",
    "fig_5, ax_5 = plt.subplots(nrows=1, ncols=1, figsize=(4,3))\n",
    "\n",
    "# create scatter plot\n",
    "...\n",
    "\n",
    "# Label the axes\n",
    "...\n",
    "\n",
    "# Display the plot\n",
    "plt.tight_layout()\n",
    "plt.show()"
   ]
  },
  {
   "cell_type": "code",
   "execution_count": null,
   "id": "d4a0aa3e",
   "metadata": {
    "deletable": false,
    "editable": false
   },
   "outputs": [],
   "source": [
    "grader.check(\"q6.1\")"
   ]
  },
  {
   "cell_type": "markdown",
   "id": "33deacc9-4917-4dab-8bfc-4b38f8149425",
   "metadata": {
    "deletable": false,
    "editable": false
   },
   "source": [
    "<font color='red'>**Question 6.2.**</font> Based on the scatter plot above, what observation can you make? Assign your answer to the variable `q6_2` as a string. (0.25 pts)\n",
    "\n",
    "**A.** There appears to be a positive linear association between `travel_time` and `degree` \\\n",
    "**B.** There appears to be a negative linear association between `travel_time` and `degree` \\\n",
    "**C.** There appears to be no  association between `travel_time` and `degree` \\\n",
    "**D.** There appears to be a nonlinear association between `travel_time` and `degree`\n",
    "\n",
    "Your answer should be a string, e.g., `\"A\"`, `\"B\"`, etc.\\\n",
    "Remember to put quotes around your answer choice.\n",
    "\n",
    "**Note that the test for this question will be a hidden test. Meaning, you will NOT be able to know whether your answer is correct or not by running the `grader.check()` cell.**"
   ]
  },
  {
   "cell_type": "code",
   "execution_count": null,
   "id": "827462db-99f5-48e2-a3d4-79ce82c11bf4",
   "metadata": {
    "tags": []
   },
   "outputs": [],
   "source": [
    "# ANSWER CELL\n",
    "\n",
    "q6_2 = ...\n",
    "q6_2"
   ]
  },
  {
   "cell_type": "code",
   "execution_count": null,
   "id": "7b54eb46",
   "metadata": {
    "deletable": false,
    "editable": false
   },
   "outputs": [],
   "source": [
    "grader.check(\"q6.2\")"
   ]
  },
  {
   "cell_type": "markdown",
   "id": "e2cd425b",
   "metadata": {},
   "source": [
    "It should be evident that there is a nonlinear relationship between travel time and heading degree. In the lecture, we discussed that we can still apply linear regression on **transformed data**. So, next, we will apply linear regression on a transformed set of variables.\n",
    "\n",
    "Specifically, we will investigate two data transformations:\n",
    "* Taking the square of the x values: $Y = \\beta_0 + \\beta_1 X^2$\n",
    "* Taking the absolute value of the x values: $Y = \\beta_0 + \\beta_1 |X|$ "
   ]
  },
  {
   "cell_type": "markdown",
   "id": "9e4c5ac3-fa4a-4289-a38c-9337c7a32519",
   "metadata": {},
   "source": [
    "### Data Transformation 1\n",
    "\n",
    "In the code cell below, we will create a new variable which is simply the square of `degree` and save it as `degree_squared`.\n",
    "\n",
    "Then, we will create a scatter plot of `travel_time` against `degree_squared` (y against x). What observations can you make based on the scatter plot? Just think of the answer. Does this look more like a linear relationship? You don't have to answer any questions. However, read and understand the code below."
   ]
  },
  {
   "cell_type": "code",
   "execution_count": null,
   "id": "fc47cb81-8b41-41e1-ae56-7a2f4c46a556",
   "metadata": {},
   "outputs": [],
   "source": [
    "# transform x by squaring the values\n",
    "degree_squared = degree**2\n",
    "\n",
    "# create figure and axes\n",
    "fig_6, ax_6 = plt.subplots(nrows=1, ncols=1, figsize=(4,3))\n",
    "\n",
    "# create scatter plot\n",
    "plt.scatter(degree_squared, travel_time, s=2)\n",
    "\n",
    "# Label the axes\n",
    "ax_6.set(xlabel = r'Heading Degree Squared (degree$^2$)',\n",
    "         ylabel = 'Travel Time (min)')\n",
    "\n",
    "# Display the plot\n",
    "plt.tight_layout()\n",
    "plt.show()"
   ]
  },
  {
   "cell_type": "markdown",
   "id": "7baaba69-8b19-4a94-85b7-ddc8522a1308",
   "metadata": {},
   "source": [
    "Next, we will run a linear regression model using `sm.OLS()` for the following model:\n",
    "\n",
    "**Model 3:** $Y = \\beta_0 + \\beta_1 X^2$\n",
    "\n",
    "where $Y$ is the travel time and $X$ is the heading degree.\n",
    "\n",
    "Recall that when using `statsmodels.api.sm`, an intercept is not included by default $($i.e., $\\beta_0=0)$. To include an intercept in the model, you should modify the input `x`. For example, if you are trying to perform a linear regression between `x` and `y`, you should follow these steps:\n",
    "```python\n",
    "x2 = sm.add_constant(x)       # to include intercept in regression\n",
    "model2 = sm.OLS(y, x2).fit()  # to fit regression model\n",
    "```"
   ]
  },
  {
   "cell_type": "markdown",
   "id": "7cca3b88-0ed3-4974-a9d8-a0ced8ef89d5",
   "metadata": {
    "deletable": false,
    "editable": false
   },
   "source": [
    "<font color='red'>**Question 7.0.**</font> Run a linear regression to predict `travel_time` (y) as a function of `degree_squared` (x) using `sm.OLS()`. Name this model as `model3`. Don't forget to include an intercept in your model. Then, extract the coefficient of determination, $r^2$ for this regression and assign it to `q7_0`. (0.25 pts)\n",
    "\n",
    "*Hint: You can use the attributes  (`model3.params`, `model3.rsquared`, etc.) to extract specific outputs of the regression.*"
   ]
  },
  {
   "cell_type": "code",
   "execution_count": null,
   "id": "c5c397f9-cf3e-4938-a72a-e1c4be066730",
   "metadata": {
    "tags": []
   },
   "outputs": [],
   "source": [
    "# ANSWER CELL\n",
    "\n",
    "# Modify the input x to include a constant\n",
    "degree_squared2 = ...\n",
    "\n",
    "# run regression\n",
    "model3 = ...\n",
    "\n",
    "# get r^2\n",
    "q7_0 = ...\n",
    "\n",
    "print(f'r^2: {q7_0:.3f}' if not isinstance(q7_0, type(Ellipsis)) else None)"
   ]
  },
  {
   "cell_type": "code",
   "execution_count": null,
   "id": "d6027946",
   "metadata": {
    "deletable": false,
    "editable": false
   },
   "outputs": [],
   "source": [
    "grader.check(\"q7.0\")"
   ]
  },
  {
   "cell_type": "markdown",
   "id": "03045999",
   "metadata": {},
   "source": [
    "We will next apply a second data transformation to see which data transformation gives us a better regression model.\n",
    "\n",
    "### Data Transformation 2\n",
    "\n",
    "In the code cell below, we will create a new variable which is simply the absolute value of `degree` and save it as `degree_abs`.\n",
    "\n",
    "Then, we will create a scatter plot of `travel_time` against `degree_abs` (y against x). What observations can you make based on the scatter plot? *Do you expect this model to have a better fit than the previous one?* Just think of the answer. You don't have to answer any questions. However, read and understand the code below."
   ]
  },
  {
   "cell_type": "code",
   "execution_count": null,
   "id": "4c04e785",
   "metadata": {},
   "outputs": [],
   "source": [
    "# transform x by taking absolute value\n",
    "degree_abs = np.abs(degree)\n",
    "\n",
    "# create figure and axes\n",
    "fig_7, ax_7 = plt.subplots(nrows=1, ncols=1, figsize=(4,3))\n",
    "\n",
    "# create scatter plot\n",
    "plt.scatter(degree_abs, travel_time, s=2)\n",
    "\n",
    "# Label the axes\n",
    "ax_7.set(xlabel = 'Heading Degree Absolute (degree)',\n",
    "         ylabel = 'Travel Time (min)')\n",
    "\n",
    "plt.show()"
   ]
  },
  {
   "cell_type": "markdown",
   "id": "ec494227",
   "metadata": {},
   "source": [
    "Next, we will run a linear regression model using `sm.OLS()` for the following model:\n",
    "\n",
    "**Model 4:** $Y = \\beta_0 + \\beta_1 |X|$\n",
    "\n",
    "where $Y$ is the travel time and $X$ is the heading degree.\n",
    "\n",
    "Recall that when using `statsmodels.api.sm`, an intercept is not included by default $($i.e., $\\beta_0=0)$. To include an intercept in the model, you should modify the input `x`. For example, if you are trying to perform a linear regression between `x` and `y`, you should follow these steps:\n",
    "```python\n",
    "x2 = sm.add_constant(x)       # to include intercept in regression\n",
    "model2 = sm.OLS(y, x2).fit()  # to fit regression model\n",
    "```"
   ]
  },
  {
   "cell_type": "markdown",
   "id": "29c8eb41",
   "metadata": {
    "deletable": false,
    "editable": false
   },
   "source": [
    "<font color='red'>**Question 7.1.**</font> Run a linear regression to predict `travel_time` (y) as a function of `degree_abs` (x) using `sm.OLS()`. Name this model as `model4`. Don't forget to include an intercept in your model. Then, extract the coefficient of determination, $r^2$ for this regression and assign it to `q7_1`. (0.25 pts)"
   ]
  },
  {
   "cell_type": "code",
   "execution_count": null,
   "id": "4fb93e05",
   "metadata": {
    "tags": []
   },
   "outputs": [],
   "source": [
    "# ANSWER CELL\n",
    "\n",
    "# Modify the input x to include a constant\n",
    "degree_abs2 = ...\n",
    "\n",
    "# run regression\n",
    "model4 = ...\n",
    "\n",
    "# get r^2\n",
    "q7_1 = ...\n",
    "\n",
    "print(f'r^2: {q7_1:.3f}' if not isinstance(q7_1, type(Ellipsis)) else None)"
   ]
  },
  {
   "cell_type": "code",
   "execution_count": null,
   "id": "72f161d6",
   "metadata": {
    "deletable": false,
    "editable": false
   },
   "outputs": [],
   "source": [
    "grader.check(\"q7.1\")"
   ]
  },
  {
   "cell_type": "markdown",
   "id": "8e269a7c-ab63-4041-bb07-a8e52fcb012c",
   "metadata": {
    "deletable": false,
    "editable": false
   },
   "source": [
    "<font color='red'>**Question 7.2.**</font> Now we want to compare the performance of the two models (regression using $X^2$ versus using $|X|$). Which of the two models is better at describing the relationship between travel time and heading degree? Assign ALL that apply to the variable `q7_2`. (0.5 pts)\n",
    "\n",
    "**A.** Model 3 (using `degree_squared`) because it has higher $r^2$ \\\n",
    "**B.** Model 3 (using `degree_squared`) because it has lower $r^2$\\\n",
    "**C.** Model 4 (using `degree_abs`) because it has higher $r^2$ \\\n",
    "**D.** Model 4 (using `degree_abs`) because it has lower $r^2$ \\\n",
    "**E.** Model 4 (using `degree_abs`) because it explains more variability in travel time \\\n",
    "**F.** Model 3 (using `degree_squared`) because it explains more variability in travel time \\\n",
    "**G.** Model 4 (using `degree_abs`) because it explains less variability in travel time \\\n",
    "**H.** Model 3 (using `degree_squared`) because it explains less variability in travel time\n",
    "\n",
    "Answer in the next cell. Add each selected choice as a string and separate each two answer choices by a comma. For example, if you want to select `\"A\"` and `\"B\"`, your answer should be `\"A\", \"B\"`.\\\n",
    "Assign your answer to the given variable.\n",
    "Remember to put quotes around each answer choice."
   ]
  },
  {
   "cell_type": "code",
   "execution_count": null,
   "id": "473a0158-158f-438a-a0a0-cc0ca9bb5b89",
   "metadata": {
    "tags": []
   },
   "outputs": [],
   "source": [
    "# ANSWER CELL\n",
    "q7_2 = ...\n",
    "q7_2"
   ]
  },
  {
   "cell_type": "code",
   "execution_count": null,
   "id": "2b34d939",
   "metadata": {
    "deletable": false,
    "editable": false
   },
   "outputs": [],
   "source": [
    "grader.check(\"q7.2\")"
   ]
  },
  {
   "cell_type": "markdown",
   "id": "8b00b94c-1074-48c5-a747-db9e1480bb91",
   "metadata": {},
   "source": [
    "### Relationship between `DELAY` and `Dep_congestion`\n",
    "\n",
    "In this last part, you will investigate whether there is an association between time spent before taking off (gate delay, taxi time, etc.), `DELAY`, and the congestion ratio at the departure airport, `Dep_congestion`. It is reasonable to expect that if the departure airport is congested and operating close or at its capacity, this will cause delays in the departure. So we will investigate if this association actually exists.\n",
    "\n",
    "If there is no association between `DELAY` and `Dep_congestion`, then $\\beta_1$ in the equation below should be 0:\n",
    "\n",
    "$\\text{DELAY} = \\beta_0+\\beta_1\\times \\text{Dep\\_congestion}$\n",
    "\n",
    "So, our hypotheses are:\n",
    "\n",
    "**$H_0: \\beta_1 = 0$** (no relationship)\n",
    "\n",
    "**$H_1: \\beta_1 \\neq 0$**\n",
    "\n",
    "Using `sm.OLS()`, we can obtain the test statistic, $p$-value, as well as the confidence interval for $\\beta_1$ based on our sample. So, let's run a regression between `DELAY` and `Dep_congestion`."
   ]
  },
  {
   "cell_type": "markdown",
   "id": "a77a87b0-f0a1-44d0-bd14-e7083bd1ed16",
   "metadata": {
    "deletable": false,
    "editable": false
   },
   "source": [
    "<font color='red'>**Question 8.0.**</font> Let's first take the relevant columns for `DELAY` and `Dep_congestion` from the DataFrame you loaded above and save them as `delay` and `cong`, respectively. We will need to use these vectors for the linear regression. (0.25 pts)"
   ]
  },
  {
   "cell_type": "code",
   "execution_count": null,
   "id": "f23f671d-8bbc-4b46-b3f1-cbbae3b1a92e",
   "metadata": {
    "tags": []
   },
   "outputs": [],
   "source": [
    "# ANSWER CELL\n",
    "\n",
    "# create variables for delay and congestion\n",
    "delay = ...\n",
    "cong = ..."
   ]
  },
  {
   "cell_type": "code",
   "execution_count": null,
   "id": "e9c93c28",
   "metadata": {
    "deletable": false,
    "editable": false
   },
   "outputs": [],
   "source": [
    "grader.check(\"q8.0\")"
   ]
  },
  {
   "cell_type": "markdown",
   "id": "50df8f91-dd2d-4ee1-8ede-dcf948bb3ac7",
   "metadata": {},
   "source": [
    "Next, we will run a linear regression to predict `delay` as a function of  `cong` using `sm.OLS()`."
   ]
  },
  {
   "cell_type": "markdown",
   "id": "76a36eb7-7230-4a99-8b61-0ffd83a8323a",
   "metadata": {
    "deletable": false,
    "editable": false
   },
   "source": [
    "<font color='red'>**Question 8.1.**</font> Run a linear regression to predict `delay` (y) as a function of `cong` (x) using `sm.OLS()`. Name this model as `model5`. Don't forget to include an intercept in your model. Then, extract the coefficient of determination, $r^2$, for this regression and assign it to `q8_1`. (0.5 pts)"
   ]
  },
  {
   "cell_type": "code",
   "execution_count": null,
   "id": "84dd2f4d",
   "metadata": {
    "tags": []
   },
   "outputs": [],
   "source": [
    "# ANSWER CELL\n",
    "\n",
    "# Modify the input x to include a constant\n",
    "cong2 = ...\n",
    "\n",
    "# run regression\n",
    "model5 = ...\n",
    "\n",
    "# get r^2\n",
    "q8_1 = ...\n",
    "\n",
    "print(f'r^2: {q8_1:.3f}' if not isinstance(q8_1, type(Ellipsis)) else None)"
   ]
  },
  {
   "cell_type": "code",
   "execution_count": null,
   "id": "2cbd4fd2",
   "metadata": {
    "deletable": false,
    "editable": false
   },
   "outputs": [],
   "source": [
    "grader.check(\"q8.1\")"
   ]
  },
  {
   "cell_type": "markdown",
   "id": "8f279543-1868-4180-959e-61b19acbb1b5",
   "metadata": {},
   "source": [
    "As previously mentioned, `sm.OLS()` computes the test statistic, $p$-value, as well as the confidence interval for $\\beta_1$ based on our sample.\n",
    "\n",
    "To view these outputs, run `model5.summary()` in the code cell below, which returns a full summary of the regression. \n",
    "\n",
    "In the output table, search for the row corresponding to `Dep_congestion` (should be 12th row in the summary table). \n",
    "* The first value in that row under `coef` is the estimated slope $\\hat{\\beta_1}$ (look at the row corresponding to `Dep_congestion` and NOT `const`).\n",
    "* The second value in that row under `std error` is the standard deviation in $\\hat{\\beta_1}$. \n",
    "* The third value in that row under `t` is the observed $t$-statistic corresponding to the hypothesis test.\n",
    "* The fourth value in that row under `P>|t|` is the $p$-value corresponding to the hypothesis test.\n",
    "* The fifth and sixth values in that row under `[0.025  0.975]` are the lower and upper values of the 95% confidence interval on $\\beta_1$.\n"
   ]
  },
  {
   "cell_type": "code",
   "execution_count": null,
   "id": "1b9e8cca",
   "metadata": {},
   "outputs": [],
   "source": [
    "# output an overall summary\n",
    "model5.summary()"
   ]
  },
  {
   "cell_type": "markdown",
   "id": "0a9051f1-c60e-4b6d-ace9-96b3e75a5f54",
   "metadata": {
    "deletable": false,
    "editable": false
   },
   "source": [
    "<font color='red'>**Question 8.2.**</font> Based on the regression output, does there appear to be an association between departure delay and congestion ratio at the airport? Use a 0.05 significance level. Assign ALL that apply to the variable `q8_2`. (1.0 pt)\n",
    "\n",
    "**A.** There $\\underline{\\text{isn't an association}}$ because the $\\underline{\\text{p-value is greater than 0.05}}$ \\\n",
    "**B.** There $\\underline{\\text{isn't an association}}$ because the null hypothesis value (0) is $\\underline{\\text{within the confidence interval}}$ \\\n",
    "**C.** There $\\underline{\\text{is an association}}$ because the null hypothesis value (0) is $\\underline{\\text{not within the confidence interval}}$ \\\n",
    "**D.** There $\\underline{\\text{is an association}}$ because the $\\underline{\\text{p-value is less than 0.05}}$ \\\n",
    "**E.** There $\\underline{\\text{isn't an association}}$ because the $\\underline{\\text{p-value is less than 0.05}}$ \\\n",
    "**F.** There $\\underline{\\text{isn't association}}$ because the null hypothesis value (0) is $\\underline{\\text{not within the confidence interval}}$\n",
    "\n",
    "\n",
    "Answer in the next cell. Add each selected choice as a string and separate each two answer choices by a comma. For example, if you want to select `\"A\"` and `\"B\"`, your answer should be `\"A\", \"B\"`.\\\n",
    "Assign your answer to the given variable.\n",
    "Remember to put quotes around each answer choice.\n",
    "\n",
    "**Note that the test for this question will be a hidden test. Meaning, you will NOT be able to know whether your answer is correct or not by running the `grader.check()` cell. You should know how to confidently answer this question by now.**"
   ]
  },
  {
   "cell_type": "code",
   "execution_count": null,
   "id": "79a98706-4e79-439d-8bb6-4e4ea898bc3c",
   "metadata": {
    "tags": []
   },
   "outputs": [],
   "source": [
    "# ANSWER CELL\n",
    "\n",
    "q8_2 = ...\n",
    "q8_2"
   ]
  },
  {
   "cell_type": "code",
   "execution_count": null,
   "id": "108dc9d5",
   "metadata": {
    "deletable": false,
    "editable": false
   },
   "outputs": [],
   "source": [
    "grader.check(\"q8.2\")"
   ]
  },
  {
   "cell_type": "markdown",
   "id": "f20bba6f",
   "metadata": {},
   "source": [
    "### You're done with this Lab!\n",
    "\n",
    "**Important submission information:** After completing the assignment, click on the Save icon from the Tool Bar &nbsp;<i class=\"fa fa-save\" style=\"font-size:16px;\"></i>&nbsp;. After saving your notebook, **run the cell with** `grader.check_all()` and confirm that you pass the same tests as in the notebook. Then, **run the final cell** `grader.export()` and click the link to download the zip file. Finally, go to Gradescope and submit the zip file to the corresponding assignment. \n",
    "\n",
    "**Once you have submitted, stay on the Gradescope page to confirm that you pass the same tests as in the notebook.**"
   ]
  },
  {
   "cell_type": "code",
   "execution_count": null,
   "id": "4d1647c8",
   "metadata": {
    "tags": []
   },
   "outputs": [],
   "source": [
    "%matplotlib inline\n",
    "from IPythonDisplayFireworks import Fireworks\n",
    "from IPython.display import clear_output\n",
    "img = mpimg.imread('resources/animal.jpg')\n",
    "imgplot = plt.imshow(img)\n",
    "imgplot.axes.get_xaxis().set_visible(False)\n",
    "imgplot.axes.get_yaxis().set_visible(False)\n",
    "print(\"Congratulations on finishing CE93 labs!\")\n",
    "plt.show()\n",
    "Fireworks(30)\n",
    "\n",
    "from IPython.display import display, Javascript\n",
    "\n",
    "# Define the JavaScript code to scroll to the section header\n",
    "scroll_to_section_header_js = \"\"\"\n",
    "var section_header = document.getElementById('section_header');\n",
    "if (section_header) {\n",
    "    section_header.scrollIntoView({ behavior: 'smooth', block: 'start' });\n",
    "} else {\n",
    "    console.error('Section header not found.');\n",
    "}\n",
    "\"\"\"\n",
    "\n",
    "# Execute the JavaScript code\n",
    "display(Javascript(scroll_to_section_header_js))"
   ]
  },
  {
   "cell_type": "markdown",
   "id": "51893ec4",
   "metadata": {
    "deletable": false,
    "editable": false
   },
   "source": [
    "---\n",
    "\n",
    "To double-check your work, the cell below will rerun all of the autograder tests."
   ]
  },
  {
   "cell_type": "code",
   "execution_count": null,
   "id": "27f0f3ea",
   "metadata": {
    "deletable": false,
    "editable": false
   },
   "outputs": [],
   "source": [
    "grader.check_all()"
   ]
  },
  {
   "cell_type": "markdown",
   "id": "e94fd2e3",
   "metadata": {
    "deletable": false,
    "editable": false
   },
   "source": [
    "## Submission\n",
    "\n",
    "Make sure you have run all cells in your notebook in order before running the cell below, so that all images/graphs appear in the output. The cell below will generate a zip file for you to submit. **Please save before exporting!**\n",
    "\n",
    "Make sure you submit the .zip file to Gradescope."
   ]
  },
  {
   "cell_type": "code",
   "execution_count": null,
   "id": "cd25de5f",
   "metadata": {
    "deletable": false,
    "editable": false
   },
   "outputs": [],
   "source": [
    "# Save your notebook first, then run this cell to export your submission.\n",
    "grader.export(pdf=False)"
   ]
  },
  {
   "cell_type": "markdown",
   "id": "755c8f3e",
   "metadata": {},
   "source": [
    " "
   ]
  }
 ],
 "metadata": {
  "kernelspec": {
   "display_name": "Python 3 (ipykernel)",
   "language": "python",
   "name": "python3"
  },
  "language_info": {
   "codemirror_mode": {
    "name": "ipython",
    "version": 3
   },
   "file_extension": ".py",
   "mimetype": "text/x-python",
   "name": "python",
   "nbconvert_exporter": "python",
   "pygments_lexer": "ipython3",
   "version": "3.9.15"
  },
  "otter": {
   "OK_FORMAT": true,
   "assignment_name": "lab10",
   "tests": {
    "q1.0": {
     "name": "q1.0",
     "points": null,
     "suites": [
      {
       "cases": [
        {
         "code": ">>> assert get_hash(int(sum(travel_time))) == '4d6aae3100d82b4ea191cf83b86917d4'\n",
         "failure_message": "Incorrect travel_time.",
         "hidden": false,
         "locked": false,
         "points": 0.125
        },
        {
         "code": ">>> assert get_hash(int(sum(travel_distance))) == '0faeb3377d7cea0a04d351fa1ff2ed46'\n",
         "failure_message": "Incorrect travel_distance.",
         "hidden": false,
         "locked": false,
         "points": 0.125
        }
       ],
       "scored": true,
       "setup": "",
       "teardown": "",
       "type": "doctest"
      }
     ]
    },
    "q1.1": {
     "name": "q1.1",
     "points": null,
     "suites": [
      {
       "cases": [
        {
         "code": ">>> assert type(fig_1).__name__ == 'Figure'\n>>> assert type(ax_1).__name__ == 'Axes'\n",
         "failure_message": "Make sure to create a figure with 1 axes and assign them to \"fig_1\" and \"ax_1\".",
         "hidden": false,
         "locked": false,
         "points": 0
        },
        {
         "code": ">>> assert isinstance(ax_1.collections[0], PathCollection)\n",
         "failure_message": "Make sure you are plotting using plt.scatter().",
         "hidden": false,
         "locked": false,
         "points": 0
        },
        {
         "code": ">>> assert get_hash(len(ax_1.collections[0].get_offsets()[:, 1])) == '73c7f51cc11fcfe48b44cf5e412fe1e4'\n>>> assert get_hash(sum(ax_1.collections[0].get_offsets()[:, 1])) == 'fecc32238853cf4eb3ccb3843311bf74'\n>>> assert get_hash(len(ax_1.collections[0].get_offsets()[:, 0])) == '73c7f51cc11fcfe48b44cf5e412fe1e4'\n>>> assert get_hash(sum(ax_1.collections[0].get_offsets()[:, 0])) == '40cae5f136b9314c8af84129435a7695'\n",
         "failure_message": "Make sure to plot travel time on y-axis and travel distance on x-axis.",
         "hidden": false,
         "locked": false,
         "points": 0.4
        },
        {
         "code": ">>> keywords = ['TRAVEL', 'TIME', 'MIN']\n>>> assert all((word in ax_1.get_ylabel().upper() for word in keywords))\n",
         "failure_message": "Check y-axis label.",
         "hidden": false,
         "locked": false,
         "points": 0.05
        },
        {
         "code": ">>> keywords = ['TRAVEL', 'DISTANCE', 'MILES']\n>>> assert all((word in ax_1.get_xlabel().upper() for word in keywords))\n",
         "failure_message": "Check x-axis label.",
         "hidden": false,
         "locked": false,
         "points": 0.05
        }
       ],
       "scored": true,
       "setup": "",
       "teardown": "",
       "type": "doctest"
      }
     ]
    },
    "q1.2": {
     "name": "q1.2",
     "points": null,
     "suites": [
      {
       "cases": [
        {
         "code": ">>> assert isinstance(q1_2, (tuple, str))\n>>> assert all((isinstance(option, str) for option in q1_2))\n>>> assert all((len(option) == 1 for option in q1_2))\n",
         "failure_message": "Incorrect answer format. Make sure you only have the letter of your answer choice in quotes and answers are separated by commas.",
         "hidden": false,
         "locked": false,
         "points": 0,
         "success_message": "Correct answer format. Note that the actual test is hidden."
        }
       ],
       "scored": true,
       "setup": "",
       "teardown": "",
       "type": "doctest"
      }
     ]
    },
    "q2.0": {
     "name": "q2.0",
     "points": null,
     "suites": [
      {
       "cases": [
        {
         "code": ">>> assert get_hash(round(beta_0, 10)) == 'd85344397d8448bec50b0b931d1a5479'\n",
         "failure_message": "Incorrect beta_0.",
         "hidden": false,
         "locked": false,
         "points": 0.25
        },
        {
         "code": ">>> assert get_hash(round(beta_1, 10)) == 'e06c1bad529a5863180a8e4f631d803a'\n",
         "failure_message": "Incorrect beta_1.",
         "hidden": false,
         "locked": false,
         "points": 0.25
        }
       ],
       "scored": true,
       "setup": "",
       "teardown": "",
       "type": "doctest"
      }
     ]
    },
    "q2.1": {
     "name": "q2.1",
     "points": null,
     "suites": [
      {
       "cases": [
        {
         "code": ">>> assert len(q2_1) == 1\n>>> assert isinstance(q2_1, str)\n",
         "failure_message": "Incorrect answer format. Make sure you only have the letter of your answer choice in quotes.",
         "hidden": false,
         "locked": false,
         "points": 0,
         "success_message": "Correct answer format. Note that the actual test is hidden."
        }
       ],
       "scored": true,
       "setup": "",
       "teardown": "",
       "type": "doctest"
      }
     ]
    },
    "q2.2": {
     "name": "q2.2",
     "points": null,
     "suites": [
      {
       "cases": [
        {
         "code": ">>> assert isinstance(q2_2, (tuple, str))\n>>> assert all((isinstance(option, str) for option in q2_2))\n>>> assert all((len(option) == 1 for option in q2_2))\n",
         "failure_message": "Incorrect answer format. Make sure you only have the letter of your answer choice in quotes and answers are separated by commas.",
         "hidden": false,
         "locked": false,
         "points": 0,
         "success_message": "Correct answer format."
        },
        {
         "code": ">>> assert not any(('9d5ed678fe57bcca610140957afab571' == get_hash(option.upper()) for option in q2_2))\n>>> assert get_hash(round(beta_1, 10)) == 'e06c1bad529a5863180a8e4f631d803a'\n",
         "failure_message": "Incorrect answer. Slope is the change in y for every unit increase in x.",
         "hidden": false,
         "locked": false,
         "points": 0.05
        },
        {
         "code": ">>> assert not any(('0d61f8370cad1d412f80b84d143e1257' == get_hash(option.upper()) for option in q2_2))\n>>> assert get_hash(round(beta_1, 10)) == 'e06c1bad529a5863180a8e4f631d803a'\n",
         "failure_message": "Incorrect answer. Slope is the change in y for every unit increase in x.",
         "hidden": false,
         "locked": false,
         "points": 0.05
        },
        {
         "code": ">>> assert not any(('f623e75af30e62bbd73d6df5b50bb7b5' == get_hash(option.upper()) for option in q2_2))\n>>> assert get_hash(round(beta_1, 10)) == 'e06c1bad529a5863180a8e4f631d803a'\n",
         "failure_message": "Incorrect answer. Slope is the change in y for every unit increase in x.",
         "hidden": false,
         "locked": false,
         "points": 0.05
        },
        {
         "code": ">>> assert any(('7fc56270e7a70fa81a5935b72eacbe29' == get_hash(option.upper()) for option in q2_2))\n>>> assert get_hash(round(beta_1, 10)) == 'e06c1bad529a5863180a8e4f631d803a'\n",
         "failure_message": "Incorrect answer. Slope is the change in y for every unit increase in x.",
         "hidden": false,
         "locked": false,
         "points": 0.175
        },
        {
         "code": ">>> assert any(('3a3ea00cfc35332cedf6e5e9a32e94da' == get_hash(option.upper()) for option in q2_2))\n>>> assert get_hash(round(beta_1, 10)) == 'e06c1bad529a5863180a8e4f631d803a'\n",
         "failure_message": "Incorrect answer. Look at the units of the slope. What would be the units of its reciprocal?",
         "hidden": false,
         "locked": false,
         "points": 0.175
        }
       ],
       "scored": true,
       "setup": "",
       "teardown": "",
       "type": "doctest"
      }
     ]
    },
    "q3.0": {
     "name": "q3.0",
     "points": null,
     "suites": [
      {
       "cases": [
        {
         "code": ">>> assert type(fig_2).__name__ == 'Figure'\n>>> assert type(ax_2).__name__ == 'Axes'\n",
         "failure_message": "Make sure to create a figure with 1 axes and assign them to \"fig_2\" and \"ax_2\".",
         "hidden": false,
         "locked": false,
         "points": 0
        },
        {
         "code": ">>> assert isinstance(ax_2.collections[0], PathCollection)\n",
         "failure_message": "Make sure you are plotting the data using plt.scatter().",
         "hidden": false,
         "locked": false,
         "points": 0
        },
        {
         "code": ">>> assert isinstance(ax_2.lines[0], Line2D)\n",
         "failure_message": "Make sure you are plotting the regression line using plt.plot().",
         "hidden": false,
         "locked": false,
         "points": 0
        },
        {
         "code": ">>> assert get_hash(len(travel_time_pred)) == '73c7f51cc11fcfe48b44cf5e412fe1e4'\n>>> assert get_hash(int(sum(travel_time_pred))) == '4d6aae3100d82b4ea191cf83b86917d4'\n",
         "failure_message": "Incorrect travel_time_pred.",
         "hidden": false,
         "locked": false,
         "points": 0.2
        },
        {
         "code": ">>> assert get_hash(len(ax_2.collections[0].get_offsets()[:, 1])) == '73c7f51cc11fcfe48b44cf5e412fe1e4'\n>>> assert get_hash(sum(ax_2.collections[0].get_offsets()[:, 1])) == 'fecc32238853cf4eb3ccb3843311bf74'\n>>> assert get_hash(len(ax_2.collections[0].get_offsets()[:, 0])) == '73c7f51cc11fcfe48b44cf5e412fe1e4'\n>>> assert get_hash(sum(ax_2.collections[0].get_offsets()[:, 0])) == '40cae5f136b9314c8af84129435a7695'\n",
         "failure_message": "Make sure to plot travel time on x-axis and travel distance on y-axis.",
         "hidden": false,
         "locked": false,
         "points": 0.1
        },
        {
         "code": ">>> keywords = ['TRAVEL', 'TIME', 'MIN']\n>>> assert all((word in ax_2.get_ylabel().upper() for word in keywords))\n",
         "failure_message": "Check y-axis label.",
         "hidden": false,
         "locked": false,
         "points": 0.1
        },
        {
         "code": ">>> keywords = ['TRAVEL', 'DISTANCE', 'MILES']\n>>> assert all((word in ax_2.get_xlabel().upper() for word in keywords))\n",
         "failure_message": "Check x-axis label.",
         "hidden": false,
         "locked": false,
         "points": 0.1
        },
        {
         "code": ">>> assert get_hash(sum(ax_2.lines[0].get_xdata())) == '40cae5f136b9314c8af84129435a7695'\n>>> assert get_hash(len(ax_2.lines[0].get_xdata())) == '73c7f51cc11fcfe48b44cf5e412fe1e4'\n>>> assert get_hash(int(sum(ax_2.lines[0].get_ydata()))) == '4d6aae3100d82b4ea191cf83b86917d4'\n>>> assert get_hash(len(ax_2.lines[0].get_ydata())) == '73c7f51cc11fcfe48b44cf5e412fe1e4'\n",
         "failure_message": "Check the arguments of plt.plot()",
         "hidden": false,
         "locked": false,
         "points": 0.2
        },
        {
         "code": ">>> assert mcolors.same_color(ax_2.lines[0].get_color(), 'r')\n",
         "failure_message": "Show the regression line in red.",
         "hidden": false,
         "locked": false,
         "points": 0.05
        }
       ],
       "scored": true,
       "setup": "",
       "teardown": "",
       "type": "doctest"
      }
     ]
    },
    "q4.0": {
     "name": "q4.0",
     "points": null,
     "suites": [
      {
       "cases": [
        {
         "code": ">>> assert get_hash(round(q4_0, 10)) == 'eb9ab0df20c4e00594fe0dbd93a44cb8'\n",
         "failure_message": "Incorrect answer. You need to use the variable names of the input data.",
         "hidden": false,
         "locked": false,
         "points": 0.25
        }
       ],
       "scored": true,
       "setup": "",
       "teardown": "",
       "type": "doctest"
      }
     ]
    },
    "q4.1": {
     "name": "q4.1",
     "points": null,
     "suites": [
      {
       "cases": [
        {
         "code": ">>> assert isinstance(q4_1, (tuple, str))\n>>> assert all((isinstance(option, str) for option in q4_1))\n>>> assert all((len(option) == 1 for option in q4_1))\n",
         "failure_message": "Incorrect answer format. Make sure you only have the letter of your answer choice in quotes and answers are separated by commas.",
         "hidden": false,
         "locked": false,
         "points": 0,
         "success_message": "Correct answer format."
        },
        {
         "code": ">>> assert not any(('9d5ed678fe57bcca610140957afab571' == get_hash(option.upper()) for option in q4_1))\n>>> assert get_hash(round(q4_0, 10)) == 'eb9ab0df20c4e00594fe0dbd93a44cb8'\n",
         "failure_message": "Incorrect answer. r2 represents the fraction of the total variability in y that can be explained by the variability in x.",
         "hidden": false,
         "locked": false,
         "points": 0.05
        },
        {
         "code": ">>> assert not any(('0d61f8370cad1d412f80b84d143e1257' == get_hash(option.upper()) for option in q4_1))\n>>> assert get_hash(round(q4_0, 10)) == 'eb9ab0df20c4e00594fe0dbd93a44cb8'\n",
         "failure_message": "Incorrect answer. r2 represents the fraction of the total variability in y that can be explained by the variability in x.",
         "hidden": false,
         "locked": false,
         "points": 0.05
        },
        {
         "code": ">>> assert not any(('f623e75af30e62bbd73d6df5b50bb7b5' == get_hash(option.upper()) for option in q4_1))\n>>> assert get_hash(round(q4_0, 10)) == 'eb9ab0df20c4e00594fe0dbd93a44cb8'\n",
         "failure_message": "Incorrect answer. r2 represents the fraction of the total variability in y that can be explained by the variability in x.",
         "hidden": false,
         "locked": false,
         "points": 0.05
        },
        {
         "code": ">>> assert not any(('800618943025315f869e4e1f09471012' == get_hash(option.upper()) for option in q4_1))\n>>> assert get_hash(round(q4_0, 10)) == 'eb9ab0df20c4e00594fe0dbd93a44cb8'\n",
         "failure_message": "Incorrect answer. Is r2 close to 1?",
         "hidden": false,
         "locked": false,
         "points": 0.05
        },
        {
         "code": ">>> assert not any(('dfcf28d0734569a6a693bc8194de62bf' == get_hash(option.upper()) for option in q4_1))\n>>> assert get_hash(round(q4_0, 10)) == 'eb9ab0df20c4e00594fe0dbd93a44cb8'\n",
         "failure_message": "Incorrect answer. r2 represents the fraction of the total variability in y that can be explained by the variability in x.",
         "hidden": false,
         "locked": false,
         "points": 0.05
        },
        {
         "code": ">>> assert not any(('dd7536794b63bf90eccfd37f9b147d7f' == get_hash(option.upper()) for option in q4_1))\n>>> assert get_hash(round(q4_0, 10)) == 'eb9ab0df20c4e00594fe0dbd93a44cb8'\n",
         "failure_message": "Incorrect answer. How can you obtain correlation, r, from r2?",
         "hidden": false,
         "locked": false,
         "points": 0.05
        },
        {
         "code": ">>> assert any(('7fc56270e7a70fa81a5935b72eacbe29' == get_hash(option.upper()) for option in q4_1))\n>>> assert get_hash(round(q4_0, 10)) == 'eb9ab0df20c4e00594fe0dbd93a44cb8'\n",
         "failure_message": "Incorrect answer. r2 represents the fraction of the total variability in y that can be explained by the variability in x.",
         "hidden": false,
         "locked": false,
         "points": 0.15
        },
        {
         "code": ">>> assert any(('3a3ea00cfc35332cedf6e5e9a32e94da' == get_hash(option.upper()) for option in q4_1))\n>>> assert get_hash(round(q4_0, 10)) == 'eb9ab0df20c4e00594fe0dbd93a44cb8'\n",
         "failure_message": "Incorrect answer. Is r2 close to 1?",
         "hidden": false,
         "locked": false,
         "points": 0.15
        },
        {
         "code": ">>> assert any(('c1d9f50f86825a1a2302ec2449c17196' == get_hash(option.upper()) for option in q4_1))\n>>> assert get_hash(round(q4_0, 10)) == 'eb9ab0df20c4e00594fe0dbd93a44cb8'\n",
         "failure_message": "Incorrect answer. How can you obtain correlation, r, from r2?",
         "hidden": false,
         "locked": false,
         "points": 0.15
        }
       ],
       "scored": true,
       "setup": "",
       "teardown": "",
       "type": "doctest"
      }
     ]
    },
    "q5.0": {
     "name": "q5.0",
     "points": 0.25,
     "suites": [
      {
       "cases": [
        {
         "code": ">>> assert get_hash(len(residuals)) == '73c7f51cc11fcfe48b44cf5e412fe1e4'\n>>> assert get_hash(round(sum(residuals), 10)) == '426de3c03cd11215f086a47662e9fedd'\n",
         "failure_message": "Incorrect answer.",
         "hidden": false,
         "locked": false,
         "points": 0.25
        }
       ],
       "scored": true,
       "setup": "",
       "teardown": "",
       "type": "doctest"
      }
     ]
    },
    "q5.1": {
     "name": "q5.1",
     "points": null,
     "suites": [
      {
       "cases": [
        {
         "code": ">>> assert type(fig_3).__name__ == 'Figure'\n>>> assert type(ax_3).__name__ == 'Axes'\n",
         "failure_message": "Make sure to create a figure with 1 axes and assign them to \"fig_3\" and \"ax_3\".",
         "hidden": false,
         "locked": false,
         "points": 0
        },
        {
         "code": ">>> assert isinstance(ax_3.collections[0], PathCollection)\n",
         "failure_message": "Make sure you are plotting the data using plt.scatter().",
         "hidden": false,
         "locked": false,
         "points": 0
        },
        {
         "code": ">>> assert isinstance(ax_3.lines[0], Line2D)\n",
         "failure_message": "Make sure you are plotting the regression line using plt.axhline().",
         "hidden": false,
         "locked": false,
         "points": 0
        },
        {
         "code": ">>> assert get_hash(len(ax_3.collections[0].get_offsets()[:, 1])) == '73c7f51cc11fcfe48b44cf5e412fe1e4'\n>>> assert get_hash(round(sum(ax_3.collections[0].get_offsets()[:, 1]), 10)) == '426de3c03cd11215f086a47662e9fedd'\n>>> assert get_hash(len(ax_3.collections[0].get_offsets()[:, 0])) == '73c7f51cc11fcfe48b44cf5e412fe1e4'\n>>> assert get_hash(int(sum(ax_3.collections[0].get_offsets()[:, 0]))) == '4d6aae3100d82b4ea191cf83b86917d4'\n",
         "failure_message": "Make sure to plot predicted values on x-axis and residual on y-axis.",
         "hidden": false,
         "locked": false,
         "points": 0.3
        },
        {
         "code": ">>> assert get_hash(sum(ax_3.lines[0].get_xdata())) == 'c4ca4238a0b923820dcc509a6f75849b'\n>>> assert get_hash(len(ax_3.lines[0].get_xdata())) == 'c81e728d9d4c2f636f067f89cc14862c'\n>>> assert get_hash(sum(ax_3.lines[0].get_ydata())) == 'cfcd208495d565ef66e7dff9f98764da'\n>>> assert get_hash(len(ax_3.lines[0].get_ydata())) == 'c81e728d9d4c2f636f067f89cc14862c'\n",
         "failure_message": "Check the arguments of plt.plot()",
         "hidden": false,
         "locked": false,
         "points": 0.1
        },
        {
         "code": ">>> keywords = ['PREDICTED', 'VALUES', 'MIN']\n>>> assert all((word in ax_3.get_xlabel().upper() for word in keywords))\n",
         "failure_message": "Check x-axis label.",
         "hidden": false,
         "locked": false,
         "points": 0.05
        },
        {
         "code": ">>> keywords = ['RESIDUALS', 'MIN']\n>>> assert all((word in ax_3.get_ylabel().upper() for word in keywords))\n",
         "failure_message": "Check y-axis label.",
         "hidden": false,
         "locked": false,
         "points": 0.05
        }
       ],
       "scored": true,
       "setup": "",
       "teardown": "",
       "type": "doctest"
      }
     ]
    },
    "q5.2": {
     "name": "q5.2",
     "points": null,
     "suites": [
      {
       "cases": [
        {
         "code": ">>> assert type(fig_4).__name__ == 'Figure'\n>>> assert type(ax_4).__name__ == 'Axes'\n",
         "failure_message": "Make sure to create a figure with 1 axes and assign them to \"fig_4\" and \"ax_4\".",
         "hidden": false,
         "locked": false,
         "points": 0
        },
        {
         "code": ">>> assert isinstance(histogram, tuple)\n>>> assert len(histogram) == 3\n",
         "failure_message": "Make sure to save the histogram as object \"histogram\".",
         "hidden": false,
         "locked": false,
         "points": 0
        },
        {
         "code": ">>> assert get_hash(len(histogram[0])) == 'c20ad4d76fe97759aa27a0c99bff6710'\n>>> assert get_hash(len(histogram[1])) == 'c51ce410c124a10e0db5e4b97fc2af39'\n>>> assert get_hash(sum(histogram[0])) == 'a4d6c0d686afe2415b6833a6e995dc3b'\n>>> assert get_hash(round(sum(histogram[1]), 10)) == '04d5e91d2277ef7a921bda7df119b2fa'\n",
         "failure_message": "Check histogram data. Make sure you are specifying the correct bins.",
         "hidden": false,
         "locked": false,
         "points": 0.3
        },
        {
         "code": ">>> keywords = ['RESIDUAL']\n>>> assert all((word in ax_4.get_xlabel().upper() for word in keywords))\n",
         "failure_message": "Check x-axis label.",
         "hidden": false,
         "locked": false,
         "points": 0.1
        },
        {
         "code": ">>> keywords = ['FREQUENCY']\n>>> assert all((word in ax_4.get_ylabel().upper() for word in keywords))\n",
         "failure_message": "Check y-axis label.",
         "hidden": false,
         "locked": false,
         "points": 0.1
        }
       ],
       "scored": true,
       "setup": "",
       "teardown": "",
       "type": "doctest"
      }
     ]
    },
    "q5.3": {
     "name": "q5.3",
     "points": null,
     "suites": [
      {
       "cases": [
        {
         "code": ">>> assert isinstance(q5_3, (tuple, str))\n>>> assert all((isinstance(option, str) for option in q5_3))\n>>> assert all((len(option) == 1 for option in q5_3))\n",
         "failure_message": "Incorrect answer format. Make sure you only have the letter of your answer choice in quotes and answers are separated by commas.",
         "hidden": false,
         "locked": false,
         "points": 0,
         "success_message": "Correct answer format."
        },
        {
         "code": ">>> assert any(('9d5ed678fe57bcca610140957afab571' == get_hash(option.upper()) for option in q5_3))\n>>> assert get_hash(len(histogram[0])) == 'c20ad4d76fe97759aa27a0c99bff6710'\n>>> assert get_hash(len(ax_3.collections[0].get_offsets()[:, 1])) == '73c7f51cc11fcfe48b44cf5e412fe1e4'\n",
         "failure_message": "Incorrect answer. Do you see a funnel shape in the residuals scatterplot?",
         "hidden": false,
         "locked": false,
         "points": 0.15
        },
        {
         "code": ">>> assert not any(('7fc56270e7a70fa81a5935b72eacbe29' == get_hash(option.upper()) for option in q5_3))\n>>> assert get_hash(len(histogram[0])) == 'c20ad4d76fe97759aa27a0c99bff6710'\n>>> assert get_hash(len(ax_3.collections[0].get_offsets()[:, 1])) == '73c7f51cc11fcfe48b44cf5e412fe1e4'\n",
         "failure_message": "Incorrect answer. Do you see a curved shape in the residuals scatterplot?",
         "hidden": false,
         "locked": false,
         "points": 0.15
        },
        {
         "code": ">>> assert not any(('0d61f8370cad1d412f80b84d143e1257' == get_hash(option.upper()) for option in q5_3))\n>>> assert get_hash(len(histogram[0])) == 'c20ad4d76fe97759aa27a0c99bff6710'\n>>> assert get_hash(len(ax_3.collections[0].get_offsets()[:, 1])) == '73c7f51cc11fcfe48b44cf5e412fe1e4'\n",
         "failure_message": "Incorrect answer. Do neighboring residuals have similar values?",
         "hidden": false,
         "locked": false,
         "points": 0.15
        },
        {
         "code": ">>> assert not any(('f623e75af30e62bbd73d6df5b50bb7b5' == get_hash(option.upper()) for option in q5_3))\n>>> assert get_hash(len(histogram[0])) == 'c20ad4d76fe97759aa27a0c99bff6710'\n>>> assert get_hash(len(ax_3.collections[0].get_offsets()[:, 1])) == '73c7f51cc11fcfe48b44cf5e412fe1e4'\n",
         "failure_message": "Incorrect answer. Does the histogram follow a bell-curved shape?",
         "hidden": false,
         "locked": false,
         "points": 0.15
        },
        {
         "code": ">>> assert not any(('3a3ea00cfc35332cedf6e5e9a32e94da' == get_hash(option.upper()) for option in q5_3))\n>>> assert get_hash(len(histogram[0])) == 'c20ad4d76fe97759aa27a0c99bff6710'\n>>> assert get_hash(len(ax_3.collections[0].get_offsets()[:, 1])) == '73c7f51cc11fcfe48b44cf5e412fe1e4'\n",
         "failure_message": "Incorrect answer.",
         "hidden": false,
         "locked": false,
         "points": 0.15
        }
       ],
       "scored": true,
       "setup": "",
       "teardown": "",
       "type": "doctest"
      }
     ]
    },
    "q6.0": {
     "name": "q6.0",
     "points": null,
     "suites": [
      {
       "cases": [
        {
         "code": ">>> assert get_hash(int(sum(degree))) == '50adecfc746426ca10973a067421d0bf'\n",
         "failure_message": "Incorrect degree.",
         "hidden": false,
         "locked": false,
         "points": 0.25
        }
       ],
       "scored": true,
       "setup": "",
       "teardown": "",
       "type": "doctest"
      }
     ]
    },
    "q6.1": {
     "name": "q6.1",
     "points": null,
     "suites": [
      {
       "cases": [
        {
         "code": ">>> assert type(fig_5).__name__ == 'Figure'\n>>> assert type(ax_5).__name__ == 'Axes'\n",
         "failure_message": "Make sure to create a figure with 1 axes and assign them to \"fig_5\" and \"ax_5\".",
         "hidden": false,
         "locked": false,
         "points": 0
        },
        {
         "code": ">>> assert isinstance(ax_5.collections[0], PathCollection)\n",
         "failure_message": "Make sure you are plotting using plt.scatter().",
         "hidden": false,
         "locked": false,
         "points": 0
        },
        {
         "code": ">>> assert get_hash(len(ax_5.collections[0].get_offsets()[:, 1])) == '73c7f51cc11fcfe48b44cf5e412fe1e4'\n>>> assert get_hash(sum(ax_5.collections[0].get_offsets()[:, 1])) == 'fecc32238853cf4eb3ccb3843311bf74'\n>>> assert get_hash(len(ax_5.collections[0].get_offsets()[:, 0])) == '73c7f51cc11fcfe48b44cf5e412fe1e4'\n>>> assert get_hash(sum(ax_5.collections[0].get_offsets()[:, 0])) == '6474d7786064ae05c70a7535c4c1d3a0'\n",
         "failure_message": "Make sure to plot travel time on x-axis and travel distance on y-axis.",
         "hidden": false,
         "locked": false,
         "points": 0.25
        },
        {
         "code": ">>> keywords = ['HEADING', 'DEGREE']\n>>> assert all((word in ax_5.get_xlabel().upper() for word in keywords))\n",
         "failure_message": "Check x-axis label.",
         "hidden": false,
         "locked": false,
         "points": 0.125
        },
        {
         "code": ">>> keywords = ['TRAVEL', 'TIME', 'MIN']\n>>> assert all((word in ax_5.get_ylabel().upper() for word in keywords))\n",
         "failure_message": "Check y-axis label.",
         "hidden": false,
         "locked": false,
         "points": 0.125
        }
       ],
       "scored": true,
       "setup": "",
       "teardown": "",
       "type": "doctest"
      }
     ]
    },
    "q6.2": {
     "name": "q6.2",
     "points": null,
     "suites": [
      {
       "cases": [
        {
         "code": ">>> assert len(q6_2) == 1\n>>> assert isinstance(q6_2, str)\n",
         "failure_message": "Incorrect answer format. Make sure you only have the letter of your answer choice in quotes.",
         "hidden": false,
         "locked": false,
         "points": 0,
         "success_message": "Correct answer format. Note that the actual test is hidden."
        }
       ],
       "scored": true,
       "setup": "",
       "teardown": "",
       "type": "doctest"
      }
     ]
    },
    "q7.0": {
     "name": "q7.0",
     "points": null,
     "suites": [
      {
       "cases": [
        {
         "code": ">>> assert get_hash(type(model3)) == '3dd9afc91ae4f41fa2b9703113cf4bea'\n",
         "failure_message": "Make sure you generate your model with `sm.OLS`.",
         "hidden": false,
         "locked": false,
         "points": 0.1
        },
        {
         "code": ">>> assert get_hash(round(q7_0, 10)) == '339b84a91e46b571112da3b868868aa1'\n",
         "failure_message": "Incorrect r^2 value.",
         "hidden": false,
         "locked": false,
         "points": 0.15
        }
       ],
       "scored": true,
       "setup": "",
       "teardown": "",
       "type": "doctest"
      }
     ]
    },
    "q7.1": {
     "name": "q7.1",
     "points": null,
     "suites": [
      {
       "cases": [
        {
         "code": ">>> assert get_hash(type(model4)) == '3dd9afc91ae4f41fa2b9703113cf4bea'\n",
         "failure_message": "Make sure you generate your model with `sm.OLS`.",
         "hidden": false,
         "locked": false,
         "points": 0.1
        },
        {
         "code": ">>> assert get_hash(round(q7_1, 10)) == '40445e80b20ccbe4e89a41bc34fd378a'\n",
         "failure_message": "Incorrect r^2 value.",
         "hidden": false,
         "locked": false,
         "points": 0.15
        }
       ],
       "scored": true,
       "setup": "",
       "teardown": "",
       "type": "doctest"
      }
     ]
    },
    "q7.2": {
     "name": "q7.2",
     "points": null,
     "suites": [
      {
       "cases": [
        {
         "code": ">>> assert isinstance(q7_2, (tuple, str))\n>>> assert all((isinstance(option, str) for option in q7_2))\n>>> assert all((len(option) == 1 for option in q7_2))\n",
         "failure_message": "Incorrect answer format. Make sure you only have the letter of your answer choice in quotes and answers are separated by commas.",
         "hidden": false,
         "locked": false,
         "points": 0,
         "success_message": "Correct answer format."
        },
        {
         "code": ">>> assert any(('0d61f8370cad1d412f80b84d143e1257' == get_hash(option.upper()) for option in q7_2))\n",
         "failure_message": "Incorrect answer. Does higher or lower r2 correspond to a better fit? Which model has a higher r2?",
         "hidden": false,
         "locked": false,
         "points": 0.1
        },
        {
         "code": ">>> assert any(('3a3ea00cfc35332cedf6e5e9a32e94da' == get_hash(option.upper()) for option in q7_2))\n",
         "failure_message": "Incorrect answer.",
         "hidden": false,
         "locked": false,
         "points": 0.1
        },
        {
         "code": ">>> assert not any(('7fc56270e7a70fa81a5935b72eacbe29' == get_hash(option.upper()) for option in q7_2))\n",
         "failure_message": "Incorrect answer. Does higher or lower r2 correspond to a better fit? Which model has a higher r2?",
         "hidden": false,
         "locked": false,
         "points": 0.05
        },
        {
         "code": ">>> assert not any(('9d5ed678fe57bcca610140957afab571' == get_hash(option.upper()) for option in q7_2))\n",
         "failure_message": "Incorrect answer. Does higher or lower r2 correspond to a better fit? Which model has a higher r2?",
         "hidden": false,
         "locked": false,
         "points": 0.05
        },
        {
         "code": ">>> assert not any(('f623e75af30e62bbd73d6df5b50bb7b5' == get_hash(option.upper()) for option in q7_2))\n",
         "failure_message": "Incorrect answer. Does higher or lower r2 correspond to a better fit? Which model has a higher r2?",
         "hidden": false,
         "locked": false,
         "points": 0.05
        },
        {
         "code": ">>> assert not any(('800618943025315f869e4e1f09471012' == get_hash(option.upper()) for option in q7_2))\n",
         "failure_message": "Incorrect answer. r2 represents the fraction of the total variability in y that can be explained by the variability in x.",
         "hidden": false,
         "locked": false,
         "points": 0.05
        },
        {
         "code": ">>> assert not any(('dfcf28d0734569a6a693bc8194de62bf' == get_hash(option.upper()) for option in q7_2))\n",
         "failure_message": "Incorrect answer. r2 represents the fraction of the total variability in y that can be explained by the variability in x.",
         "hidden": false,
         "locked": false,
         "points": 0.05
        },
        {
         "code": ">>> assert not any(('c1d9f50f86825a1a2302ec2449c17196' == get_hash(option.upper()) for option in q7_2))\n",
         "failure_message": "Incorrect answer. r2 represents the fraction of the total variability in y that can be explained by the variability in x.",
         "hidden": false,
         "locked": false,
         "points": 0.05
        }
       ],
       "scored": true,
       "setup": "",
       "teardown": "",
       "type": "doctest"
      }
     ]
    },
    "q8.0": {
     "name": "q8.0",
     "points": null,
     "suites": [
      {
       "cases": [
        {
         "code": ">>> assert get_hash(len(delay)) == '73c7f51cc11fcfe48b44cf5e412fe1e4'\n>>> assert get_hash(sum(delay)) == 'b69f378b8b00e843f4b677aa57fe4ec5'\n",
         "failure_message": "Incorrect delay vector.",
         "hidden": false,
         "locked": false,
         "points": 0.125
        },
        {
         "code": ">>> assert get_hash(len(cong)) == '73c7f51cc11fcfe48b44cf5e412fe1e4'\n>>> assert get_hash(sum(cong)) == 'a6fb34695ae6f88408123077293899e6'\n",
         "failure_message": "Incorrect cong vector.",
         "hidden": false,
         "locked": false,
         "points": 0.125
        }
       ],
       "scored": true,
       "setup": "",
       "teardown": "",
       "type": "doctest"
      }
     ]
    },
    "q8.1": {
     "name": "q8.1",
     "points": null,
     "suites": [
      {
       "cases": [
        {
         "code": ">>> assert get_hash(type(model5)) == '3dd9afc91ae4f41fa2b9703113cf4bea'\n",
         "failure_message": "Make sure you generate your model with `sm.OLS`.",
         "hidden": false,
         "locked": false,
         "points": 0.1
        },
        {
         "code": ">>> assert get_hash(round(q8_1, 10)) == '06082ca98be60f9d0a3154ec84b3940c'\n",
         "failure_message": "Incorrect r^2 value.",
         "hidden": false,
         "locked": false,
         "points": 0.4
        }
       ],
       "scored": true,
       "setup": "",
       "teardown": "",
       "type": "doctest"
      }
     ]
    },
    "q8.2": {
     "name": "q8.2",
     "points": null,
     "suites": [
      {
       "cases": [
        {
         "code": ">>> assert isinstance(q8_2, (tuple, str))\n>>> assert all((isinstance(option, str) for option in q8_2))\n>>> assert all((len(option) == 1 for option in q8_2))\n",
         "failure_message": "Incorrect answer format. Make sure you only have the letter of your answer choice in quotes and answers are separated by commas.",
         "hidden": false,
         "locked": false,
         "points": 0,
         "success_message": "Correct answer format. Note that the actual test is hidden."
        }
       ],
       "scored": true,
       "setup": "",
       "teardown": "",
       "type": "doctest"
      }
     ]
    }
   }
  }
 },
 "nbformat": 4,
 "nbformat_minor": 5
}
