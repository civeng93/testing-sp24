{
 "cells": [
  {
   "cell_type": "code",
   "execution_count": null,
   "id": "7357c2e6",
   "metadata": {
    "deletable": false,
    "editable": false
   },
   "outputs": [],
   "source": [
    "# Initialize Otter\n",
    "import otter\n",
    "grader = otter.Notebook(\"lab08.ipynb\")"
   ]
  },
  {
   "cell_type": "markdown",
   "id": "5af9dc94",
   "metadata": {},
   "source": [
    "### CE 93: Lab Assignment 08\n",
    "\n",
    "You must submit the lab to Gradescope by the due date. You will submit the zip file produced by running the final cell of the assignment.\n",
    "\n",
    "## About this Lab\n",
    "The objective of this assignment is to work with confidence intervals both using methods we learned in lecture and simulations.\n",
    "\n",
    "## Instructions \n",
    "**Run the first cell, Initialize Otter**, to import the autograder and submission exporter.\n",
    "\n",
    "Throughout the assignment, replace `...` with your answers. We use `...` as a placeholder and theses should be deleted and replaced with your answers.\n",
    "\n",
    "Any part listed as a \"<font color='red'>**Question**</font>\" should be answered to receive credit.\n",
    "\n",
    "**Please save your work after every question!**\n",
    "\n",
    "To read the documentation on a Python function, you can type `help()` and add the function name between parentheses.\n",
    "\n",
    "**Run the cell below**, to import the required modules."
   ]
  },
  {
   "cell_type": "code",
   "execution_count": null,
   "id": "f3463c41",
   "metadata": {},
   "outputs": [],
   "source": [
    "# Please run this cell, and do not modify the contents\n",
    "import math\n",
    "import numpy as np\n",
    "import scipy\n",
    "import pandas as pd\n",
    "import statistics as stats\n",
    "import cmath\n",
    "import re\n",
    "import matplotlib.pyplot as plt\n",
    "import matplotlib.image as mpimg\n",
    "import hashlib\n",
    "import ipywidgets as widgets\n",
    "from ipywidgets import FileUpload\n",
    "from IPython.display import display\n",
    "from PIL import Image\n",
    "import os\n",
    "import resources\n",
    "from scipy.stats import *                    \n",
    "import random\n",
    "import statsmodels.graphics.gofplots as sm\n",
    "\n",
    "def get_hash(num):\n",
    "    \"\"\"Helper function for assessing correctness\"\"\"\n",
    "    return hashlib.md5(str(num).encode()).hexdigest()"
   ]
  },
  {
   "cell_type": "markdown",
   "id": "97eac86e",
   "metadata": {},
   "source": [
    "## About Lab 08\n",
    "\n",
    "In this lab, we will learn how to use `Python` to make interval estimates of distribution parameters based on observed data. For an unknown parameter $\\theta$, a point estimate $\\hat{\\theta}$ is a single-value estimate of the parameter. \n",
    "\n",
    "An interval estimate of the parameter $\\theta$, which is usually denoted $(\\hat{\\theta}_{lower},\\hat{\\theta}_{upper})$, represents an interval within which the true value of the parameter lies with $100(1-\\alpha)$% confidence, where $\\alpha$ is the significance level (how willing are you to be wrong). The most common value of $\\alpha$ is $0.05$, i.e., the interval is obtained for 95% confidence level. This means that if you were to take many samples and compute a confidence interval for each sample, you expect about 95% of the intervals to contain the true population parameter, and about 5% will not include the parameter.\n",
    "\n",
    "In the lecture, we saw that a two-sided confidence interval for the population mean can be given by the expression:\n",
    "\n",
    "$$\\overline{x} \\pm z_{\\alpha/2} \\dfrac{\\sigma}{\\sqrt{n}}$$\n",
    "\n",
    "where $ \\overline{x}$ is the sample mean, $\\sigma$ is the population standard deviation, $n$ is the sample size, and $z_{\\alpha /2}$ is the multiplier corresponding to the critical values of the standard normal $z$-distribution. \n",
    "\n",
    "The above equation is only applicable when:\n",
    "* The underlying population is normal and the population standard deviation $\\sigma$ is known\n",
    "\n",
    "or\n",
    "* The sample size $n$ is large enough, even if the population standard deviation is unknown and the samples come from an unknown distribution. In this case, the sample standard deviation $s$ is used instead of $\\sigma$.\n",
    "\n",
    "When the sample size $n$ is not large enough and the population standard deviation is unknown, student's $t$-distribution should be used. The $t$-distribution can be used only if the population follows a normal distribution. In this case, a two-sided confidence interval for the population mean can be given by the expression:\n",
    "\n",
    "$$\\overline{x} \\pm t_{\\alpha/2} \\dfrac{s}{\\sqrt{n}}$$\n",
    "\n",
    "The critical values ($z_{\\alpha/2}$ or $t_{\\alpha/2}$) can be easily found in `Python` using the `.ppf()` method of common distributions. For example, `norm.ppf(0.95)` returns $z_{0.05}$. In general, `norm.ppf(1-p)` returns $z_{p}$, where $p$ is the area/probability to the right of $z_{p}$. If you are interested in a one-sided confidence interval, $p = \\alpha$. Otherwise, for a two-sided confidence interval, $p = \\alpha/2$.\n",
    "\n",
    "For the $t$-distribution, `t.ppf(1-p, df=n-1)` returns $t_{p}$. Note that you have to specify the degrees of freedom `df` in this case, which is equal to the sample size minus one: $n-1$. If you are interested in a one-sided confidence interval, $p = \\alpha$. Otherwise, for a two-sided confidence interval, $p = \\alpha/2$.\n",
    "\n",
    "Let's practice obtaining these confidence multipliers using Python."
   ]
  },
  {
   "cell_type": "markdown",
   "id": "bd9a9f3c-d8af-4d8a-bddb-19ddcebf956c",
   "metadata": {
    "deletable": false,
    "editable": false
   },
   "source": [
    "<font color='red'>**Question 1.0.**</font> Using `Python`, find the critical value (i.e. confidence multiplier) for each of the following cases. In all of these cases, assume the population standard deviation is unknown and that the samples come from a normal random variable. Use the appropriate distribution in each case ($z$- or $t$-distribution). Do not just manually type the numeric answer. Use Python expressions that return the desired answer and assign the expression to the corresponding variable. (0.7 pts)\n",
    "\n",
    "1. A sample size of 50 and a two-sided 95% confidence interval. Assign your answer to `q1_0`.\n",
    "2. A sample size of 10 and a two-sided 95% confidence interval. Assign your answer to `q1_1`.\n",
    "3. A sample size of 50 and a one-sided 95% confidence interval. Assign your answer to `q1_2`.\n",
    "4. A sample size of 15 and a one-sided 95% confidence interval. Assign your answer to `q1_3`."
   ]
  },
  {
   "cell_type": "code",
   "execution_count": null,
   "id": "fae052c4-157a-4ea9-b9ba-fcc9c7180653",
   "metadata": {
    "tags": []
   },
   "outputs": [],
   "source": [
    "# ANSWER CELL\n",
    "\n",
    "# n = 50 and two-sided 95%\n",
    "q1_0 = ...\n",
    "print(f'n = 50 and two-sided 95% critical value: {q1_0:.3f}' if not isinstance(q1_0, type(Ellipsis)) else None)\n",
    "\n",
    "# n = 10 and two-sided 95%\n",
    "q1_1 = ...\n",
    "print(f'n = 10 and two-sided 95% critical value: {q1_1:.3f}' if not isinstance(q1_1, type(Ellipsis)) else None)\n",
    "\n",
    "# n = 50 and one-sided 95%\n",
    "q1_2 = ...\n",
    "print(f'n = 50 and one-sided 95% critical value: {q1_2:.3f}' if not isinstance(q1_2, type(Ellipsis)) else None)\n",
    "\n",
    "# n = 15 and one-sided 95%\n",
    "q1_3 = ...\n",
    "print(f'n = 15 and one-sided 95% critical value: {q1_3:.3f}' if not isinstance(q1_3, type(Ellipsis)) else None)"
   ]
  },
  {
   "cell_type": "code",
   "execution_count": null,
   "id": "866de236",
   "metadata": {
    "deletable": false,
    "editable": false
   },
   "outputs": [],
   "source": [
    "grader.check(\"q1_0\")"
   ]
  },
  {
   "cell_type": "markdown",
   "id": "b334f350",
   "metadata": {},
   "source": [
    "## Monthly Average UV Irradiance\n",
    "\n",
    "We will work with monthly average UV irradiance $(\\text{in } mW/m^2)$ data set in California. The data were collected every month in California for the years 2005-2015 (source: https://ephtracking.cdc.gov/DataExplorer/#/).\n",
    "\n",
    "**UV irradiance** is the radiant power arriving at a surface per unit area. This is an important environmental factor that reflects exposure to sunlight and UV. This data set is measured at noon, when the dose of UV irradiance is usually highest. The data set represents environmental exposures per unit area and do not directly account for personal exposures at an individual level.\n",
    "\n",
    "<center><figure>\n",
    "  <img src=\"https://www.sciencefacts.net/wp-content/uploads/2024/01/Irradiance.jpg\" style=\"width:50%\">\n",
    "    <figcaption style=\"text-align:center\"><strong> <br> UV Irradiance: </strong> <a href=\"https://www.sciencefacts.net/wp-content/uploads/2024/01/Irradiance.jpg\">(https://www.sciencefacts.net/)</a></figcaption>   \n",
    "</figure></center>\n",
    "\n",
    "### Load the data\n",
    "\n",
    "Let's load the provided data set `UV_irradiance.csv`. It has three features:\n",
    "\n",
    "|Feature|Units|Description|\n",
    "|:-|:-|:-|\n",
    "|Year | N/A| The year in which the measurement was made|\n",
    "|Month | N/A| Numerical numbers corresponding to the month of the measurement|\n",
    "|Monthly average UV irradiance at noon| $$mW/m^2$$ | Average UV irradiance values for each month of a year in California|\n",
    "\n",
    "* load using the Pandas `read_csv()` function\n",
    "\n",
    "Run the cell below, which reads the data and saves it as a variable named `df`."
   ]
  },
  {
   "cell_type": "code",
   "execution_count": null,
   "id": "b0844215",
   "metadata": {
    "scrolled": true
   },
   "outputs": [],
   "source": [
    "# read a .csv file as a DataFrame\n",
    "df = pd.read_csv('resources/UV_irradiance.csv')\n",
    "\n",
    "# returns the first 5 rows of the data set by default\n",
    "df.head()"
   ]
  },
  {
   "cell_type": "markdown",
   "id": "6eb1699e-a16f-4078-9778-e54259903e42",
   "metadata": {},
   "source": [
    "### Create Variables from the DataFrame\n",
    "\n",
    "We want to generate a data vector for year, month, and monthly average UV irradiance at noon."
   ]
  },
  {
   "cell_type": "markdown",
   "id": "49ee99f5-45b5-422d-acfa-1717c7488d12",
   "metadata": {
    "deletable": false,
    "editable": false
   },
   "source": [
    "<font color='red'>**Question 2.0.**</font> Create different variables for each column in the Dataframe. You can refer to previous labs to answer this question. (0.3 pts)\n",
    "- Create a variable `year` for the year the measurement was taken\n",
    "- Create a variable `month` for the month the measurement was taken\n",
    "- Create a variable `UV` for the irradiance measurements"
   ]
  },
  {
   "cell_type": "code",
   "execution_count": null,
   "id": "4256f5aa-3dd1-4e63-9696-c0bac3e78310",
   "metadata": {
    "tags": []
   },
   "outputs": [],
   "source": [
    "# ANSWER CELL\n",
    "# create variables for year, month, UV\n",
    "\n",
    "year = ...\n",
    "month = ...\n",
    "UV = ..."
   ]
  },
  {
   "cell_type": "code",
   "execution_count": null,
   "id": "d5b6d5b4",
   "metadata": {
    "deletable": false,
    "editable": false
   },
   "outputs": [],
   "source": [
    "grader.check(\"q2_0\")"
   ]
  },
  {
   "cell_type": "markdown",
   "id": "993f906d-3204-448f-ae37-9413b5aab97f",
   "metadata": {},
   "source": [
    "The data set has a total of 132 UV measurements, which correspond to monthly measurements for 11 years: \n",
    "* $11 \\text{ years} \\times 12 \\text{ months/year} = 132 \\text{ measurements}$ "
   ]
  },
  {
   "cell_type": "markdown",
   "id": "06c59488-d1c6-4c66-9a44-0557235fe716",
   "metadata": {
    "deletable": false,
    "editable": false
   },
   "source": [
    "<font color='red'>**Question 2.1.**</font> If we want to plot the change in average UV irradiance with time over the 132 months, what graphical method should we use? Assign your answer to the variable `q2_1` as a string. (0.25 pts)\n",
    "\n",
    "**A.** Scatterplot \\\n",
    "**B.** Histogram \\\n",
    "**C.** Boxplot \\\n",
    "**D.** Line Graph \\\n",
    "**E.** Bar chart \\\n",
    "**F.** None of the above\n",
    "\n",
    "Your answer should be a string, e.g., `\"A\"`, `\"B\"`, etc.\\\n",
    "Remember to put quotes around your answer choice."
   ]
  },
  {
   "cell_type": "code",
   "execution_count": null,
   "id": "ff68ae22-82a2-45b1-8575-8cf87e5c2e68",
   "metadata": {
    "tags": []
   },
   "outputs": [],
   "source": [
    "# ANSWER CELL\n",
    "q2_1 = ...\n",
    "q2_1"
   ]
  },
  {
   "cell_type": "code",
   "execution_count": null,
   "id": "38ba4294",
   "metadata": {
    "deletable": false,
    "editable": false
   },
   "outputs": [],
   "source": [
    "grader.check(\"q2_1\")"
   ]
  },
  {
   "cell_type": "markdown",
   "id": "33113c34-ccd1-48b0-9f1e-edef8bb034d5",
   "metadata": {},
   "source": [
    "### Winter UV Irradiance\n",
    "\n",
    "We will first examine the average UV irradiance for the winter months (months = 12, 1, and 2). Run the code cell below to create a data vector with average UV irradiance during winter."
   ]
  },
  {
   "cell_type": "code",
   "execution_count": null,
   "id": "dbc32825-8aa8-407b-bc91-f6836a7a1d6e",
   "metadata": {},
   "outputs": [],
   "source": [
    "# Run the code cell below to create a data vector with average UV irradiance during winter\n",
    "\n",
    "# return UV values only for months = 12, 1, and 2\n",
    "winter_UV = UV[(month==12)|(month==1)|(month==2)]\n",
    "print(f'There are {len(winter_UV)} measurements during winter months.')"
   ]
  },
  {
   "cell_type": "markdown",
   "id": "867a4916-22bd-4c48-abf9-e8b0518e0acf",
   "metadata": {},
   "source": [
    "In real life applications, we might not always have a large enough sample. So, to make our analysis more interesting, we will select a sample of size 10 from the winter measurements.\n",
    "\n",
    "### Random Sampling\n",
    "\n",
    "Next, we will select a random subsample of size $n=10$ from the full sample of the average UV irradiance during the winter months (which has a size of $33$).\n",
    "\n",
    "We can select a random sample using `random.choices(sequence, k)`, where `sequence` is the data set we want to sample from and `k` is the sample size. The `random.choices()` function does not directly work with DataFrame inputs. So we will convert our DataFrame to a `list` and then take a random sample from it.\n",
    "\n",
    "We will specify the random seed at the beginning of the code so that everyone gets the same sample.\n",
    "\n",
    "Run the code cell below to take a random sample of size $10$ from the full sample of the average UV irradiance during the winter months."
   ]
  },
  {
   "cell_type": "code",
   "execution_count": null,
   "id": "8b2c94cc-52d7-44aa-95b0-0f7262d001f3",
   "metadata": {},
   "outputs": [],
   "source": [
    "#set the random seed equal to 99\n",
    "random.seed(99)\n",
    "\n",
    "# select a random sample\n",
    "winter_UV_sample = random.choices(list(winter_UV), k=10)\n",
    "\n",
    "print(f'The selected sample is: {winter_UV_sample} mW/m^2')"
   ]
  },
  {
   "cell_type": "markdown",
   "id": "81d73a03-7579-445b-b461-11c3029e7d3d",
   "metadata": {},
   "source": [
    "### Confidence Intervals for Mean\n",
    "\n",
    "Next, we want to create confidence intervals for the average UV irradiance during the **winter** months using the sample of size 10 (saved as `winter_UV_sample`). In this section, we will create these intervals using the same methods we discussed in the lecture.\n",
    "\n",
    "If we only have the sample standard deviation $s$, a two-sided confidence interval for the population mean can be obtained by the expression:\n",
    "\n",
    "$$\\overline{x} \\pm c \\dfrac{s}{\\sqrt{n}}$$\n",
    "\n",
    "where $c$ is the critical value:\n",
    "* $z_{\\alpha/2}$ if the sample is large enough\n",
    "* $t_{\\alpha/2}$ if the sample is small and the population follows a normal distribution\n",
    "\n",
    "So first, we need to obtain our point estimates:\n",
    "* sample mean, $\\overline{x}$\n",
    "* sample standard deviation, $s$"
   ]
  },
  {
   "cell_type": "markdown",
   "id": "1700f8dc-a760-40e6-b274-af17c5fd9e3c",
   "metadata": {
    "deletable": false,
    "editable": false
   },
   "source": [
    "<font color='red'>**Question 3.0.**</font> Calculate the sample mean and **sample** standard deviation of the sample of the average UV irradiance during the winter months (data saved as `winter_UV_sample`). Assign your answers to `mean_winter_UV` and `stdev_winter_UV`. Do not just manually type the numeric answer. Use Python expressions that return the desired answer and assign the expression to the corresponding variable. (0.5 pts)\n",
    "\n",
    "*Note:* We saw in Lab 02 that `np.std()` takes an optional parameter `ddof`: \"Delta Degrees of Freedom\". By default, this is 0, which returns the population standard deviation. To get the sample standard deviation, you need to specify `ddof=1`. *Just a heads up, remember this for later questions and labs; we won't nag you about it again.*"
   ]
  },
  {
   "cell_type": "code",
   "execution_count": null,
   "id": "9f3cb8e6-51f7-4d79-9d98-3f53187d048a",
   "metadata": {
    "tags": []
   },
   "outputs": [],
   "source": [
    "# ANSWER CELL\n",
    "\n",
    "# Get sample mean\n",
    "mean_winter_UV = ...\n",
    "print(f'Sample Mean of UV irradiance during winter: {mean_winter_UV:.3f} mW/m^2' if not isinstance(mean_winter_UV, type(Ellipsis)) else None)\n",
    "\n",
    "# Get sample stdev\n",
    "stdev_winter_UV = ...\n",
    "print(f'Sample Standard Deviation of UV irradiance during winter: {stdev_winter_UV:.3f} mW/m^2' if not isinstance(stdev_winter_UV, type(Ellipsis)) else None)"
   ]
  },
  {
   "cell_type": "code",
   "execution_count": null,
   "id": "eb947f80",
   "metadata": {
    "deletable": false,
    "editable": false
   },
   "outputs": [],
   "source": [
    "grader.check(\"q3_0\")"
   ]
  },
  {
   "cell_type": "markdown",
   "id": "81aadbed-49db-461a-a999-572de509ebe2",
   "metadata": {},
   "source": [
    "### $z$-Statistic Confidence Intervals"
   ]
  },
  {
   "cell_type": "markdown",
   "id": "0bef3e38-05e5-447a-9887-0c2c64b2edc8",
   "metadata": {
    "deletable": false,
    "editable": false
   },
   "source": [
    "<font color='red'>**Question 3.1.**</font> Using the $z$-statistic, what is a two-sided 95% confidence interval for the mean of the average UV irradiance during the winter? Assign the lower estimate of the confidence interval to `q3_1_lower` and the upper estimate to `q3_1_upper`. Do not just manually type the numeric answer. Use Python expressions that return the desired answer and assign the expression to the corresponding variable. (0.5 pts)"
   ]
  },
  {
   "cell_type": "code",
   "execution_count": null,
   "id": "4e978396-9ddc-415e-901a-05116d7e3354",
   "metadata": {
    "tags": []
   },
   "outputs": [],
   "source": [
    "# ANSWER CELL\n",
    "\n",
    "q3_1_lower = ...\n",
    "q3_1_upper = ...\n",
    "\n",
    "print(f'95% confidence interval using z: ({q3_1_lower:.3f}, {q3_1_upper:.3f}) mW/m^2' if not isinstance(q3_1_lower, type(Ellipsis)) and not isinstance(q3_1_upper, type(Ellipsis)) else None)"
   ]
  },
  {
   "cell_type": "code",
   "execution_count": null,
   "id": "dec602bd",
   "metadata": {
    "deletable": false,
    "editable": false
   },
   "outputs": [],
   "source": [
    "grader.check(\"q3_1\")"
   ]
  },
  {
   "cell_type": "markdown",
   "id": "c89c7efd-d930-4a32-868a-3e9249c6037e",
   "metadata": {},
   "source": [
    "### $t$-Statistic Confidence Intervals"
   ]
  },
  {
   "cell_type": "markdown",
   "id": "c217fb4b-a766-4f75-b738-3bd390ef002d",
   "metadata": {
    "deletable": false,
    "editable": false
   },
   "source": [
    "<font color='red'>**Question 3.2.**</font> Using the $t$-statistic, what is a two-sided 95% confidence interval for the mean of the average UV irradiance during the winter? Assign the lower estimate of the confidence interval to `q3_2_lower` and the upper estimate to `q3_2_upper`. Do not just manually type the numeric answer. Use Python expressions that return the desired answer and assign the expression to the corresponding variable. (0.5 pts)"
   ]
  },
  {
   "cell_type": "code",
   "execution_count": null,
   "id": "d286bb03-4416-429d-8123-1ddc1bfcc037",
   "metadata": {
    "tags": []
   },
   "outputs": [],
   "source": [
    "# ANSWER CELL\n",
    "\n",
    "q3_2_lower = ...\n",
    "q3_2_upper = ...\n",
    "\n",
    "print(f'95% confidence interval using t: ({q3_2_lower:.3f}, {q3_2_upper:.3f}) mW/m^2' if not isinstance(q3_2_lower, type(Ellipsis)) and not isinstance(q3_2_upper, type(Ellipsis)) else None)"
   ]
  },
  {
   "cell_type": "code",
   "execution_count": null,
   "id": "14a93479",
   "metadata": {
    "deletable": false,
    "editable": false
   },
   "outputs": [],
   "source": [
    "grader.check(\"q3.2\")"
   ]
  },
  {
   "cell_type": "markdown",
   "id": "8732cde8-9727-4e99-b044-e2a79362b903",
   "metadata": {},
   "source": [
    "### Interpretation of Results"
   ]
  },
  {
   "cell_type": "markdown",
   "id": "492d51f3-4823-4865-9251-2254d01d34d5",
   "metadata": {
    "deletable": false,
    "editable": false
   },
   "source": [
    "<font color='red'>**Question 3.3.**</font> Compare your confidence intervals from the $z$- and $t$-statistics. What can you say about the confidence intervals in this case? Assign ALL that apply to the variable `q3_3`. (0.75 pts)\n",
    "\n",
    "**A.** It is acceptable to use the $z$-statistic \\\n",
    "**B.** It is not acceptable to use the $z$-statistic \\\n",
    "**C.** It is acceptable to use the $t$-statistic \\\n",
    "**D.** It is acceptable to use the $t$-statistic only if the population is normal \\\n",
    "**E.** It is acceptable to use the $t$-statistic only if the sample mean is normal \\\n",
    "**F.** The confidence interval based on the $t$-statistic is wider than that based on the $z$-statistic \\\n",
    "**G.** The confidence interval based on the $t$-statistic is narrower than that based on the $z$-statistic \\\n",
    "**H.** The difference between the two confidence intervals ($z$ vs. $t$) is due to the confidence level \\\n",
    "**I.** The difference between the two confidence intervals ($z$ vs. $t$) is due to the confidence multiplier\n",
    "\n",
    "Answer in the next cell. Add each selected choice as a string and separate each two answer choices by a comma. For example, if you want to select `\"A\"` and `\"B\"`, your answer should be `\"A\", \"B\"`.\\\n",
    "Assign your answer to the given variable.\n",
    "Remember to put quotes around each answer choice."
   ]
  },
  {
   "cell_type": "code",
   "execution_count": null,
   "id": "0c2f35e7-a9ba-407b-897a-dc8b2910eacc",
   "metadata": {
    "tags": []
   },
   "outputs": [],
   "source": [
    "# ANSWER CELL\n",
    "q3_3 = ...\n",
    "q3_3"
   ]
  },
  {
   "cell_type": "code",
   "execution_count": null,
   "id": "29361dee",
   "metadata": {
    "deletable": false,
    "editable": false
   },
   "outputs": [],
   "source": [
    "grader.check(\"q3_3\")"
   ]
  },
  {
   "cell_type": "markdown",
   "id": "fa9874b3",
   "metadata": {
    "deletable": false,
    "editable": false
   },
   "source": [
    "<font color='red'>**Question 3.4.**</font> If we were using all the winter measurements in `UV_winter` (which would be a sample of size 33), and still computing a two-sided 95% confidence interval, which of the following would be True? Assign ALL that apply to the variable `q3_4`. (0.75 pts)\n",
    "\n",
    "**A.** It would be acceptable to use the $z$-statistic \\\n",
    "**B.** It would not be acceptable to use the $z$-statistic \\\n",
    "**C.** The confidence interval based on the $z$-statistic would be exact \\\n",
    "**D.** The confidence interval based on the $z$-statistic would be an approximation \\\n",
    "**E.** The confidence interval (based on $z$ or $t$) would likely be narrower compared to that based on the sample of size 10 \\\n",
    "**F.** The confidence interval (based on $z$ or $t$) would likely be wider compared to that based on the sample of size 10 \\\n",
    "**G.** If using $z$, the difference in interval width compared to a sample of size 10 would be due to the confidence multiplier \\\n",
    "**H.** If using $z$, the difference in interval width compared to a sample of size 10 would be due to $\\sqrt{n}$ in the equation \\\n",
    "**I.** If using $t$, the difference in interval width compared to a sample of size 10 would be due to the confidence multiplier \\\n",
    "**J.** If using $t$, the difference in interval width compared to a sample of size 10 would be due to $\\sqrt{n}$ in the equation\n",
    "\n",
    "Answer in the next cell. Add each selected choice as a string and separate each two answer choices by a comma. For example, if you want to select `\"A\"` and `\"B\"`, your answer should be `\"A\", \"B\"`.\\\n",
    "Assign your answer to the given variable.\n",
    "Remember to put quotes around each answer choice."
   ]
  },
  {
   "cell_type": "code",
   "execution_count": null,
   "id": "91d20fda",
   "metadata": {
    "tags": []
   },
   "outputs": [],
   "source": [
    "# ANSWER CELL\n",
    "q3_4 = ...\n",
    "q3_4"
   ]
  },
  {
   "cell_type": "code",
   "execution_count": null,
   "id": "7b68aff5",
   "metadata": {
    "deletable": false,
    "editable": false
   },
   "outputs": [],
   "source": [
    "grader.check(\"q3_4\")"
   ]
  },
  {
   "cell_type": "markdown",
   "id": "6db286d7-5937-4e07-84d4-f0130a54e72a",
   "metadata": {},
   "source": [
    "### Data Histogram\n",
    "\n",
    "In the lecture, we mentioned that when the population standard deviation is unknown and the sample size is small, the $t$-statistic is fully applicable **only if the population follows a normal distribution**. Estimating confidence intervals for populations that do not follow a normal distribution and small samples requires careful consideration.\n",
    "\n",
    "Let's assume that `winter_UV` represents the population. The confidence intervals you computed above using the sample of size 10 require that the population be normally distributed (in this case, `winter_UV` be normally distributed). Let's see if this is actually the case. If the assumption of normal distribution is not valid, we cannot use a $t$-distribution to get confidence intervals."
   ]
  },
  {
   "cell_type": "markdown",
   "id": "3f755f15-39e0-4bb5-b5cb-a2dfa2a246aa",
   "metadata": {
    "deletable": false,
    "editable": false
   },
   "source": [
    "<font color='red'>**Question 4.0.**</font> In the code cell below, plot a frequency histogram of `winter_UV` with `bins=7` and assign it to the variable `histogram`. (0.25 pts)"
   ]
  },
  {
   "cell_type": "code",
   "execution_count": null,
   "id": "cc18a735-a90e-4c64-8dc1-dacf4f6697bd",
   "metadata": {
    "scrolled": true,
    "tags": []
   },
   "outputs": [],
   "source": [
    "# ANSWER CELL\n",
    "\n",
    "# Do not modify this line for grading purposes\n",
    "import matplotlib.pyplot as plt\n",
    "\n",
    "# create figure and axes\n",
    "fig_1, ax_1 = plt.subplots(nrows=1, ncols=1, figsize=(4,3))\n",
    "\n",
    "# Edit the code below to plot a frequency histogram of winter_UV (only edit where you have ...)\n",
    "\n",
    "# Plot frequency histogram. Assign the plot to the variable histogram.\n",
    "histogram = ...\n",
    "\n",
    "# Label the axes\n",
    "...\n",
    "\n",
    "# Display the plot\n",
    "plt.tight_layout()\n",
    "plt.show()"
   ]
  },
  {
   "cell_type": "code",
   "execution_count": null,
   "id": "258513f8",
   "metadata": {
    "deletable": false,
    "editable": false
   },
   "outputs": [],
   "source": [
    "grader.check(\"q4.0\")"
   ]
  },
  {
   "cell_type": "markdown",
   "id": "485daed5",
   "metadata": {},
   "source": [
    "It should be obvious that the data in this case do not come from a normal distribution. So the confidence intervals we computed above are not accurate.\n",
    "\n",
    "### Q-Q Plot\n",
    "\n",
    "The histogram can be used to judge, in a rough way, if the data plausibly come from a normal distribution. A better graphical way to judge whether a theoretical distribution is a good fit is a Quantile-Quantile (Q-Q) plot. Recall that quantiles divide the observations in a sample into intervals with equal probabilities. We can choose any number of intervals. For example, we can divide the observations into four equal intervals, each with 25% of the data (we commonly refer to these as quartiles). Or we can divide the observations into hundred equal parts, each with 1% of the data (we commonly refer to these as percentiles).\n",
    "\n",
    "A Q-Q plot (Quantile-Quantile plot) is commonly used to assess whether sample data follow a specific theoretical distribution (in most cases normal distribution). A Q-Q plot compares the observed quantiles of the sample data and theoretical quantiles if the data followed a specific theoretical distribution. If the data fall on a straight line (45$^\\circ$ angle), this suggests that the observed quantiles of the sample data follow those of the selected theoretical distribution, and hence, the assumed distribution would be reasonable. Otherwise, if the data do not fall on a straight line, the assumed distribution would not be a good fit.\n",
    "\n",
    "The following figures compare Q-Q plots for data that follow a normal distribution versus data that do not follow a normal distribution.\n",
    "\n",
    "<br>\n",
    "\n",
    "<center><figure>\n",
    "  <img src=\"https://www.reneshbedre.com/assets/posts/qq/qq_compare.webp?ezimgfmt=rs:900x490/rscb2/ngcb2/notWebP\" style=\"width:70%\">\n",
    "    <figcaption style=\"text-align:center\"><strong> <br> Example Q-Q Plots: Good fit (left) versus poor fit (right) </strong> <a href=\"https://www.reneshbedre.com/assets/posts/qq/qq_compare.webp?ezimgfmt=rs:900x490/rscb2/ngcb2/notWebP\">(https://www.reneshbedre.com/)</a></figcaption>   \n",
    "</figure></center>\n",
    "\n",
    "To create a Q-Q plot, we can use the `qqplot()` function from the `statsmodels` library. You can read more about it in the documentation [here](https://www.statsmodels.org/dev/generated/statsmodels.graphics.gofplots.qqplot.html). The default theoretical distribution to compare the observations to is the standard normal distribution $Z \\sim N(0, 1)$. The most important input parameters are:\n",
    "\n",
    "`qqplot(data, loc=0, scale=1, line=None, ax=None)`\n",
    "\n",
    "where:\n",
    "* `x`: a sequence with the observations\n",
    "* `loc`: location parameter, which is the mean for a normal distribution. Default is 0.\n",
    "* `scale`: scale parameter, which is the standard deviation for a normal distribution. Default is 1.\n",
    "* `line`: the reference line to which the data is compared. Generally, you want to use `line='45'`\n",
    "* `ax`: Axes object. If given, the Q-Q plot is created and plotted on the Axes object.\n",
    "\n",
    "Below is a detailed example of how to create a Q-Q plot in Python using `qqplot()`. Instead of using actual observations, we created a random data set for illustration. The code first generates a random sample from a normal distribution and second from a lognormal distribution. Then, the code generates Q-Q plots for both data sets to check the fit relative to a theoretical normal distribution.\n",
    "\n",
    "Read then run the code below."
   ]
  },
  {
   "cell_type": "code",
   "execution_count": null,
   "id": "f71856b1",
   "metadata": {},
   "outputs": [],
   "source": [
    "# set the seed number\n",
    "np.random.seed(4)\n",
    "\n",
    "# create figure and axes\n",
    "fig_2, ax_2 = plt.subplots(nrows=2, ncols=2, figsize=(6,6))\n",
    "\n",
    "# genrate random data from normal distribution\n",
    "norm_data = norm.rvs(loc=250, scale=50, size=200)\n",
    "\n",
    "# genrate random data from lognormal distribution\n",
    "lognorm_data = lognorm.rvs(s=0.25, scale=np.exp(2), size=200)\n",
    "\n",
    "# Plot a histogram of the normal data\n",
    "ax_2[0, 0].hist(norm_data, bins=12, ec='k')\n",
    "\n",
    "# Create Q-Q plot of the normal data and show it on ax_2[0,1]\n",
    "# We will specify loc and scale to be the mean and standard deviation of the observed data\n",
    "sm.qqplot(norm_data, loc=np.mean(norm_data), scale=np.std(norm_data, ddof=1), line='45', ax=ax_2[0,1])\n",
    "\n",
    "# Plot a histogram of the lognormal data\n",
    "ax_2[1, 0].hist(lognorm_data , bins=12, ec='k')\n",
    "\n",
    "# Create Q-Q plot of the lognormal data and show it on ax_2[1,1]\n",
    "# We will specify loc and scale to be the mean and standard deviation of the observed data\n",
    "sm.qqplot(lognorm_data, loc=np.mean(lognorm_data), scale=np.std(lognorm_data, ddof=1), line='45', ax=ax_2[1,1])\n",
    "\n",
    "# Label the axes\n",
    "ax_2[0,0].set(title = 'Normal Data Histogram',\n",
    "         ylabel = 'Frequency',\n",
    "         xlabel = 'Data')\n",
    "\n",
    "ax_2[0,1].set(title = 'Normal Data Q-Q Plot')\n",
    "    \n",
    "ax_2[1,0].set(title = 'Lognormal Data Histogram',\n",
    "         ylabel = 'Frequency',\n",
    "         xlabel = 'Data')\n",
    "\n",
    "ax_2[1,1].set(title = 'Lognormal Data Q-Q Plot')\n",
    "\n",
    "# Display the plot\n",
    "plt.tight_layout()\n",
    "plt.show()"
   ]
  },
  {
   "cell_type": "markdown",
   "id": "323742a9",
   "metadata": {},
   "source": [
    "In a Q-Q plot, the x-axis displays the theoretical quantiles, which represent where your data would be if they were normally distributed. The y-axis displays your actual data. This means that if the data values fall along a roughly straight line at a 45-degree angle, then the data are normally distributed.\n",
    "\n",
    "We can see in the first Q-Q plot above (upper right) that the data values tend to closely follow the 45-degree line, which means the data are likely normally distributed. This shouldn't be surprising since we generated the first data values using the `norm.rvs()` function.\n",
    "\n",
    "In the second Q-Q plot above (lower right), the data values do not follow the 45-degree line, particularly at low and high values, which is an indication that the data do not follow a normal distribution. Again, this shouldn't be surprising since we generated the second  data values using the `lognorm.rvs()` function."
   ]
  },
  {
   "cell_type": "markdown",
   "id": "3383aa13",
   "metadata": {},
   "source": [
    "### Data Q-Q Plot\n",
    "\n",
    "Let's create a Q-Q plot using `winter_UV` to better assess if a normal distribution is a good fit. "
   ]
  },
  {
   "cell_type": "markdown",
   "id": "e825dcc0",
   "metadata": {
    "deletable": false,
    "editable": false
   },
   "source": [
    "<font color='red'>**Question 4.1.**</font> In the code cell below, create a Q-Q plot of `winter_UV` against a theoretical normal distribution. The parameters of the distribution (`loc` and `scale`) should be estimated from the available sample. (0.5 pts)"
   ]
  },
  {
   "cell_type": "code",
   "execution_count": null,
   "id": "53f81cf1",
   "metadata": {
    "scrolled": true,
    "tags": []
   },
   "outputs": [],
   "source": [
    "# ANSWER CELL\n",
    "\n",
    "# Do not modify these lines for grading purposes\n",
    "import matplotlib.pyplot as plt\n",
    "from matplotlib.lines import Line2D\n",
    "import statsmodels.graphics.gofplots as sm\n",
    "\n",
    "# create figure and axes\n",
    "fig_3, ax_3 = plt.subplots(nrows=1, ncols=1, figsize=(3,3))\n",
    "\n",
    "# Edit the code below to create a Q-Q plot of winter_UV (only edit where you have ...)\n",
    "\n",
    "# Create Q-Q plot\n",
    "...\n",
    "\n",
    "# Display the plot\n",
    "plt.tight_layout()\n",
    "plt.show()"
   ]
  },
  {
   "cell_type": "code",
   "execution_count": null,
   "id": "cc6c28c4",
   "metadata": {
    "deletable": false,
    "editable": false
   },
   "outputs": [],
   "source": [
    "grader.check(\"q4.1\")"
   ]
  },
  {
   "cell_type": "markdown",
   "id": "9ec1058a",
   "metadata": {},
   "source": [
    "So now we have further evidence that the radiance data likely do not come from a normal population. Hence, the equations we discussed in the lecture for confidence intervals are not applicable.\n",
    "\n",
    "This is the case because to derive the confidence interval equations, we had to determine the distribution of the estimator (in this case distribution of sample mean) and then use the corresponding table of that distribution to obtain the confidence multiplier.\n",
    "\n",
    "For example if we have a large enough sample, then by the Central Limit Theorem, $\\overline{X} \\sim N$, and we could use the $z$-distribution. If we have a small sample from a normal population and the population standard deviation is unknown, $\\dfrac{\\overline{X}-\\mu}{s/\\sqrt{n}} \\sim t$, and we could use the $t$-distribution.\n",
    "\n",
    "If we have a small sample and the population distribution is not normal, we cannot determine the distribution of $\\overline{X}$, and hence, we cannot use any of the equations we derived.\n",
    "\n",
    "Fortunately, we can use simulation to generate confidence intervals for any estimate without making assumptions on the distribution of the data (or any assumptions at all!)."
   ]
  },
  {
   "cell_type": "markdown",
   "id": "fb1ecee1-55bf-4eb2-b72c-96f63cdb66aa",
   "metadata": {},
   "source": [
    "### Bootstrapping \n",
    "\n",
    "Confidence intervals can be obtained through simulation by \"bootstrapping\" our data. We treat our data as the population and draw **many many** samples from our data to get a confidence interval. To compare the confidence intervals based on bootstrapping with what you computed previously, we will use the sample of size 10, which is saved as `winter_UV_sample`.\n",
    "\n",
    "There are different bootstrapping approaches, but here are the steps to the most common approach:\n",
    "\n",
    "1. Draw a sample of the same size as the data **with replacement**. *If our sample has 10 observations, we will draw a random sample of size 10 with replacement.*\n",
    "> Because we are sampling **with replacement**, the same data point may appear in the sample more than once. *Therefore, the samples will not be exactly the same as the data, even if both have the same size*.\n",
    "2. Compute the mean (i.e., statistic) of this new sample.\n",
    "3. Repeat the process many many times, each time obtaining a new sample and hence a new mean.\n",
    "4. Once the resampling is done, we would have 5000 samples for the sample mean.\n",
    "5. Finally, we end up with a simulated distribution for the sample mean (i.e., statistic).\n",
    "\n",
    "<br>\n",
    "\n",
    "<center><figure>\n",
    "  <img src=\"https://blogs.sas.com/content/iml/files/2018/12/bootstrapSummary.png\" style=\"width:100%\">\n",
    "    <figcaption style=\"text-align:center\"><strong> <br> Bootstrapping: </strong> <a href=\"https://blogs.sas.com/content/iml/files/2018/12/bootstrapSummary.png\">(https://blogs.sas.com/)</a></figcaption>   \n",
    "</figure></center>\n",
    "\n",
    "\n",
    "Let's first generate a single bootstrap sample from our data.\n",
    "\n",
    "Read then run the code cell below multiple times and check the output."
   ]
  },
  {
   "cell_type": "code",
   "execution_count": null,
   "id": "01ff26a6-a3d1-4c47-b664-6f766861c8a8",
   "metadata": {
    "scrolled": true
   },
   "outputs": [],
   "source": [
    "# Run the code cell below to select a single bootstrap sample\n",
    "\n",
    "# print original data\n",
    "print(f'Original sample: \\t {list(winter_UV_sample)} mW/m^2')\n",
    "\n",
    "# select a random sample of the same size as the data and with replacement\n",
    "winter_UV_bootstrap = random.choices(list(winter_UV_sample), k=len(winter_UV_sample))\n",
    "\n",
    "# print the bootstrap sample\n",
    "print(f'Single bootstrap sample: {list(winter_UV_bootstrap)} mW/m^2') \n",
    "\n",
    "# print mean of the bootstrap sample\n",
    "print(f'\\nMean of Single bootstrap sample: {np.mean(winter_UV_bootstrap):.3f} mW/m^2') "
   ]
  },
  {
   "cell_type": "markdown",
   "id": "82959703-37a6-4e19-acaf-29bd72bbe3d8",
   "metadata": {},
   "source": [
    "It should be evident that in the bootstrap sample, some of the same values appear multiple times, and some values from the original data do not appear at all. Because this is a random sample and we are not specifying the seed number at the beginning of the code cell, every time you rerun it, you will get a different bootstrap sample.\n",
    "\n",
    "By taking the mean of the bootstrap sample, we now have one sample for the sample mean. If we take more bootstrap samples and get the mean of each sample, we can obtain the distribution of the sample mean.\n",
    "\n",
    "Now, let's select a total of **5000** bootstrap samples and calculate the mean of each sample. \n",
    "\n",
    "Run the code cell below. Note that here we are specifying `random.seed(99)`."
   ]
  },
  {
   "cell_type": "code",
   "execution_count": null,
   "id": "f2704725-6506-4634-adfb-f4c5bef394c1",
   "metadata": {},
   "outputs": [],
   "source": [
    "#set the random seed equal to 99\n",
    "random.seed(99)\n",
    "\n",
    "# specify the total number of samples to create\n",
    "n_samples = 5000\n",
    "\n",
    "# create an empty array to save the means of each sample\n",
    "bootstrap_means = []\n",
    "\n",
    "# loop through a total of n_samples times\n",
    "for i in range(n_samples):\n",
    "    \n",
    "    # select a random sample of the same size as the data and with replacement\n",
    "    winter_UV_bootstrap = random.choices(list(winter_UV_sample), k=len(winter_UV_sample))\n",
    "    \n",
    "    # calculate the sample mean of the bootstrapped sample\n",
    "    winter_UV_bootstrap_mean = np.mean(winter_UV_bootstrap)\n",
    "    \n",
    "    # append the mean value to save all the means\n",
    "    bootstrap_means = np.append(bootstrap_means, winter_UV_bootstrap_mean)\n",
    "\n",
    "# print a few bootstrapped means\n",
    "print(f'Sample Bootstrapped Means: [{bootstrap_means[0]}, {bootstrap_means[1]}, ..., {bootstrap_means[-1]}] mW/m^2')"
   ]
  },
  {
   "cell_type": "markdown",
   "id": "83811da3-ae68-43cf-9534-d42de9aa13f9",
   "metadata": {
    "deletable": false,
    "editable": false
   },
   "source": [
    "<font color='red'>**Question 5.0.**</font> In the code cell below, plot a frequency histogram of `bootstrap_means`. Follow these steps: (0.5 pts)\n",
    "\n",
    "1. Plot a frequency histogram of `bootstrap_means` with `bins=15` and assign it to the variable `histogram_2`.\n",
    "2. Set the x-axis label to `'Bootstrap Means ($mW/m^2$)'` and the y-axis label to `'Frequency'`."
   ]
  },
  {
   "cell_type": "code",
   "execution_count": null,
   "id": "23cd834e-c2d5-4470-a33d-d2def9d8c896",
   "metadata": {
    "scrolled": true,
    "tags": []
   },
   "outputs": [],
   "source": [
    "# ANSWER CELL\n",
    "\n",
    "# Do not modify this line for grading purposes\n",
    "import matplotlib.pyplot as plt\n",
    "\n",
    "# create figure and axes\n",
    "fig_4, ax_4 = plt.subplots(nrows=1, ncols=1, figsize=(4,3))\n",
    "\n",
    "# Edit the code below to plot a frequency histogram of bootstrap_means (only edit where you have ...)\n",
    "\n",
    "# Plot frequency histogram. Assign the plot to the variable histogram_2.\n",
    "histogram_2 = ...\n",
    "\n",
    "# Label the axes\n",
    "...\n",
    "\n",
    "# Display the plot\n",
    "plt.tight_layout()\n",
    "plt.show()"
   ]
  },
  {
   "cell_type": "code",
   "execution_count": null,
   "id": "aa359c07",
   "metadata": {
    "deletable": false,
    "editable": false
   },
   "outputs": [],
   "source": [
    "grader.check(\"q5.0\")"
   ]
  },
  {
   "cell_type": "markdown",
   "id": "b466e132",
   "metadata": {},
   "source": [
    "Now that we have a simulated distribution of the sample mean, we can create a confidence interval without having to make any assumptions about its distribution. Keep in mind that the histogram you created above is for the bootstrapped sample means. So the above is the simulated distribution of $\\overline{X}$."
   ]
  },
  {
   "cell_type": "markdown",
   "id": "232683fc-07b8-4f42-a3d1-526b842ad6a7",
   "metadata": {},
   "source": [
    "### Confidence Intervals by Bootstrapping\n",
    "\n",
    "We can then create a confidence interval as follows:\n",
    "\n",
    "* If we want a two-sided 95% confidence interval, we need to find the middle range of values that includes 95% of the bootstrap means\n",
    "* To make our interval symmetric, we can find the 2.5 percentile and the 97.5 percentile of the bootstrap means\n",
    "* The interval between the 2.5 percentile and the 97.5 percentile would thus correspond to the middle 95% of the bootstrap means\n",
    "* This would be our 95% confidence interval!\n",
    "* If we want a different confidence level, simply find the lower and upper percentiles such that 100(1-$\\alpha$)% of the bootstrap means are in between these percentiles. For a 99% confidence level, these would be the 0.5 and 99.5 percentiles.\n",
    "\n",
    "Run the code cell below to see how we generate this interval."
   ]
  },
  {
   "cell_type": "code",
   "execution_count": null,
   "id": "18057e84-eef2-441f-9602-d8363a58e78b",
   "metadata": {},
   "outputs": [],
   "source": [
    "# create figure and axes\n",
    "fig_5, ax_5 = plt.subplots(nrows=1, ncols=1, figsize=(4,3))\n",
    "\n",
    "# get the 2.5 and 97.5 percentiles of the bootstrapped means\n",
    "low, upper = np.percentile(bootstrap_means, [2.5, 97.5])\n",
    "\n",
    "# plot a histogram of the bootstrapped means\n",
    "ax_5.hist(bootstrap_means, bins=15, ec='k')\n",
    "\n",
    "# plot red vertical lines at the 2.5 and 97.5 percentiles\n",
    "ax_5.vlines(low, 0, 1000, 'r')\n",
    "ax_5.vlines(upper, 0, 1000, 'r')\n",
    "\n",
    "# Label the axes\n",
    "ax_5.set(title = 'Bootstrap means of winter UV Histogram',\n",
    "         ylabel = 'Frequency',\n",
    "         xlabel = 'Bootstrap Means ($mW/m^2$)',\n",
    "         ylim=(0, 1000)) \n",
    "\n",
    "# Display the plot\n",
    "plt.tight_layout()\n",
    "plt.show()\n",
    "\n",
    "# Print the intervals\n",
    "print(f'95% confidence interval using Bootstrapping: \\t ({low:.3f}, {upper:.3f}) mW/m^2')\n",
    "print(f'95% confidence interval using z: \\t \\t ({q3_1_lower:.3f}, {q3_1_upper:.3f}) mW/m^2' if not isinstance(q3_1_lower, type(Ellipsis)) and not isinstance(q3_1_upper, type(Ellipsis)) else None)\n",
    "print(f'95% confidence interval using t: \\t \\t ({q3_2_lower:.3f}, {q3_2_upper:.3f}) mW/m^2' if not isinstance(q3_2_lower, type(Ellipsis)) and not isinstance(q3_2_upper, type(Ellipsis)) else None)"
   ]
  },
  {
   "cell_type": "markdown",
   "id": "52734b88-c7db-4f04-9bde-dbef7898a474",
   "metadata": {
    "jp-MarkdownHeadingCollapsed": true
   },
   "source": [
    "In the plot above, the data lower than the red line to the left correspond to the lower 2.5% of the bootstrapped means, and the data higher than the red line to the right correspond to the upper 2.5% of the bootstrapped means.\n",
    "\n",
    "Thus, the values in between the two red lines correspond to the middle 95% of the bootstrapped means. This would be our 95% confidence interval based on simulation. We didn't have to use mathematical equations to construct this confidence interval. Instead, we used the simulated sample means from bootstrapping, which does not require making any assumptions about the population."
   ]
  },
  {
   "cell_type": "markdown",
   "id": "45bcfc6d-bf01-46da-8022-209ca793aebd",
   "metadata": {},
   "source": [
    "### 90% Bootstrapped Confidence Interval"
   ]
  },
  {
   "cell_type": "markdown",
   "id": "41ae2964-16b7-4519-bb20-321252db1742",
   "metadata": {
    "deletable": false,
    "editable": false
   },
   "source": [
    "<font color='red'>**Question 6.0.**</font> Using the bootstrapped sample means created above (saved as `bootstrap_means`), what is a two-sided 90% confidence interval for the mean of the average UV irradiance during the winter? Assign the lower estimate of the confidence interval to `q6_0_lower` and the upper estimate to `q6_0_upper`. Do not just manually type the numeric answer. Use Python expressions that return the desired answer and assign the expression to the corresponding variable. (1.0 pt)\n",
    "\n",
    "*Hint: All you need to do is calculate the correct percentiles based on the desired confidence level.* "
   ]
  },
  {
   "cell_type": "code",
   "execution_count": null,
   "id": "32c6e6ac-01d7-4e51-913c-7654e209e9e7",
   "metadata": {
    "tags": []
   },
   "outputs": [],
   "source": [
    "# ANSWER CELL\n",
    "\n",
    "# get lower and upper estimates of the 90% confidence interval\n",
    "q6_0_lower, q6_0_upper = ...\n",
    "\n",
    "# Print the interval\n",
    "print(f'90% confidence interval using Bootstrapping: ({q6_0_lower:.3f}, {q6_0_upper:.3f}) mW/m^2' if not isinstance(q6_0_lower, type(Ellipsis)) and not isinstance(q6_0_upper, type(Ellipsis)) else None)"
   ]
  },
  {
   "cell_type": "code",
   "execution_count": null,
   "id": "3c4a736f",
   "metadata": {
    "deletable": false,
    "editable": false
   },
   "outputs": [],
   "source": [
    "grader.check(\"q6.0\")"
   ]
  },
  {
   "cell_type": "markdown",
   "id": "51495c62",
   "metadata": {},
   "source": [
    "Bootstrapping is powerful, but it's not magic — it can only work with the information available in the original sample. If the samples are not representative of the whole population, then bootstrapping will not be very accurate. Also, you might get a different confidence interval each time, since the procedure is based on random sampling."
   ]
  },
  {
   "cell_type": "markdown",
   "id": "145da4cb-25c0-4c6a-a111-c0352da06376",
   "metadata": {},
   "source": [
    "### Confidence Interval for Median\n",
    "\n",
    "The nice thing about bootstrapping is that we do not need to make any assumptions on the distributions. We can generate confidence intervals for **any** parameter, regardless of the distribution of the data, or the bootstrapped estimate.\n",
    "\n",
    "We discussed the Central Limit Theorem, which says that the sum or average of many distributions tends toward normal. That's why our confidence intervals for the mean were generally based on a normal distribution. What if we want a confidence interval for the **median**?! We have no idea what the distribution of the median is! That's when bootstrapping can be extremely helpful."
   ]
  },
  {
   "cell_type": "markdown",
   "id": "c885f8fe-2938-43e1-9eaf-702bc2335142",
   "metadata": {
    "deletable": false,
    "editable": false
   },
   "source": [
    "<font color='red'>**Question 7.0.**</font> Select a total of 5000 bootstrap samples and obtain the median of each sample. Use appropriate Python expressions that return the median of a data set. (0.5 pts)"
   ]
  },
  {
   "cell_type": "code",
   "execution_count": null,
   "id": "2d00e7a4",
   "metadata": {
    "tags": []
   },
   "outputs": [],
   "source": [
    "# ANSWER CELL\n",
    "\n",
    "#set the random seed equal to 99\n",
    "random.seed(99) # DO NOT CHANGE OR REMOVE THIS LINE\n",
    "\n",
    "# Edit the code below to obtain medians (only edit where you have ...)\n",
    "\n",
    "# specify the total number of samples to create\n",
    "n_samples = ...\n",
    "\n",
    "# create an empty array to save the median of each sample\n",
    "bootstrap_medians = []\n",
    "\n",
    "# loop through a total of n_samples times\n",
    "for i in range(n_samples):\n",
    "    \n",
    "    # select a random sample of the same size as the data and with replacement\n",
    "    winter_UV_bootstrap = random.choices(list(winter_UV_sample), k=len(winter_UV_sample))\n",
    "    \n",
    "    # calculate the sample median of the bootstrapped sample\n",
    "    winter_UV_bootstrap_median = ...\n",
    "    \n",
    "    # append the median value to save all the medians\n",
    "    bootstrap_medians = np.append(bootstrap_medians, winter_UV_bootstrap_median)\n",
    "    \n",
    "# print a few bootstrapped medians\n",
    "print(f'Sample Bootstrapped Medians: [{bootstrap_medians[0]}, {bootstrap_medians[1]}, ..., {bootstrap_medians[-1]}] mW/m^2')"
   ]
  },
  {
   "cell_type": "code",
   "execution_count": null,
   "id": "a0da0fd6",
   "metadata": {
    "deletable": false,
    "editable": false
   },
   "outputs": [],
   "source": [
    "grader.check(\"q7.0\")"
   ]
  },
  {
   "cell_type": "markdown",
   "id": "0c1bfbe2",
   "metadata": {
    "deletable": false,
    "editable": false
   },
   "source": [
    "<font color='red'>**Question 7.1.**</font> Calculate a 95% confidence interval for the median of the UV irradiance during the winter months and plot the results along with the histogram of `bootstrap_medians`. Follow these steps: (1.0 pt)\n",
    "\n",
    "1. Calculate a two-sided 95% confidence interval for the median. Assign the lower estimate of the confidence interval to `q7_1_lower` and the upper estimate to `q7_1_upper`. \n",
    "2. Plot a frequency histogram of `bootstrap_medians` with `bins=11` and assign it to the variable `histogram_3`.\n",
    "3. Plot vertical red lines at the confidence interval bounds extending from 0 to 1500.\n",
    "4. Set the x-axis label to `'Bootstrap Medians ($mW/m^2$)'` and the y-axis label to `'Frequency'`."
   ]
  },
  {
   "cell_type": "code",
   "execution_count": null,
   "id": "6580e010-469b-4929-b286-672a5810d19d",
   "metadata": {
    "scrolled": true,
    "tags": []
   },
   "outputs": [],
   "source": [
    "# ANSWER CELL\n",
    "\n",
    "# Do not modify these lines for grading purposes\n",
    "import matplotlib.pyplot as plt\n",
    "from matplotlib.collections import LineCollection\n",
    "\n",
    "# create figure and axes\n",
    "fig_6, ax_6 = plt.subplots(nrows=1, ncols=1, figsize=(4,2.5))\n",
    "\n",
    "# Edit the code below to plot a frequency histogram of bootstrap_medians (only edit where you have ...)\n",
    "\n",
    "# get lower and upper estimates of the 95% confidence interval for the median\n",
    "q7_1_lower, q7_1_upper = ...\n",
    "\n",
    "# Plot frequency histogram. Assign the plot to the variable histogram_3.\n",
    "histogram_3 = ...\n",
    "\n",
    "# plot red vertical lines at the confidence interval estimates\n",
    "...\n",
    "...\n",
    "\n",
    "# Label the axes\n",
    "...\n",
    "\n",
    "# Display the plot\n",
    "plt.tight_layout()\n",
    "plt.show()\n",
    "\n",
    "# Print the interval\n",
    "print(f'95% confidence interval for Median using Bootstrapping: ({q7_1_lower:.0f}, {q7_1_upper:.0f}) mW/m^2' if not isinstance(q7_1_lower, type(Ellipsis)) and not isinstance(q7_1_upper, type(Ellipsis)) else None)"
   ]
  },
  {
   "cell_type": "code",
   "execution_count": null,
   "id": "29504018",
   "metadata": {
    "deletable": false,
    "editable": false
   },
   "outputs": [],
   "source": [
    "grader.check(\"q7.1\")"
   ]
  },
  {
   "cell_type": "markdown",
   "id": "81b1bea0",
   "metadata": {},
   "source": [
    "### Summer versus Winter UV Irradiance\n",
    "\n",
    "So far, we have focused on the winter months only. Next, we will compare the winter and summer months (months = 6, 7, and 8). Run the code cell below to create a data vector with average UV irradiance for the summer months."
   ]
  },
  {
   "cell_type": "code",
   "execution_count": null,
   "id": "f69e89c2",
   "metadata": {},
   "outputs": [],
   "source": [
    "# Run the code cell below to create a data vector with average UV irradiance for the summer months\n",
    "\n",
    "# return UV values only for months = 6, 7, and 8\n",
    "summer_UV = UV[(month==6)|(month==7)|(month==8)]\n",
    "print(f'There are {len(summer_UV)} measurements during summer months.')"
   ]
  },
  {
   "cell_type": "markdown",
   "id": "1dd12ba3-221b-42cf-abef-1c8bc6189580",
   "metadata": {},
   "source": [
    "We are interested in comparing the average UV irradiance at noon for the winter months (December/January/February: 12, 1, 2) and the summer months (June/July/August: 6, 7, 8).\n",
    "\n",
    "Recall that we created two  data vectors, one with average UV irradiance of the winter months (`winter_UV`) and another for the average UV irradiance of the summer months (`summer_UV`)."
   ]
  },
  {
   "cell_type": "markdown",
   "id": "7cfcc8df-a854-4ddd-9442-7106567f951c",
   "metadata": {
    "deletable": false,
    "editable": false
   },
   "source": [
    "<font color='red'>**Question 8.0.**</font> Create two boxplots, one for the average UV irradiance during the winter and another for the average UV irradiance during the summer. Create both boxplots **in the same plot** (refer to Lab 02). Follow these steps: (0.5 pts)\n",
    "\n",
    "1. Create a boxplot of `winter_UV` and `summer_UV` (in this order) and assign it to variable `q8_0`\n",
    "2. Set the y-axis label equal to `'UV Irradiance ($mW/m^2$)'`\n",
    "3. Set the x-axis tick labels equal to `['Winter', 'Summer']`."
   ]
  },
  {
   "cell_type": "code",
   "execution_count": null,
   "id": "6f01fb23-9fe5-4e84-b9bc-d75ce5feb9b4",
   "metadata": {
    "tags": []
   },
   "outputs": [],
   "source": [
    "# ANSWER CELL\n",
    "\n",
    "# Do not modify this line for grading purposes\n",
    "import matplotlib.pyplot as plt\n",
    "\n",
    "# create figure and axes\n",
    "fig_7, ax_7 = plt.subplots(nrows=1, ncols=1, figsize=(4,3))\n",
    "\n",
    "# Edit the code below to boxplot of winter_UV and summer_UV (only edit where you have ...)\n",
    "\n",
    "# Create boxplot and assign it to variable q8_0\n",
    "q8_0 = ...\n",
    "\n",
    "# set xticklabels and ylabel\n",
    "...\n",
    "\n",
    "# Display the plot\n",
    "plt.tight_layout()\n",
    "plt.show()"
   ]
  },
  {
   "cell_type": "code",
   "execution_count": null,
   "id": "e61ed5d5",
   "metadata": {
    "deletable": false,
    "editable": false
   },
   "outputs": [],
   "source": [
    "grader.check(\"q8.0\")"
   ]
  },
  {
   "cell_type": "markdown",
   "id": "bd4c30dc-ebd2-488e-84d4-d2741e712047",
   "metadata": {
    "deletable": false,
    "editable": false
   },
   "source": [
    "<font color='red'>**Question 8.1.**</font> What can you tell about the average UV irradiance during the winter and the summer months based on your plot? Assign ALL that apply to the variable `q8_1`. (0.5 pts)\n",
    "\n",
    "**A.** The UV irradiance during the winter is skewed to the right \\\n",
    "**B.** The median of the UV irradiance is greater for the summer months than the winter months \\\n",
    "**C.** The UV irradiance during the winter has outliers \\\n",
    "**D.** The UV irradiance during the winter has a symmetric distribution \\\n",
    "**E.** The UV irradiance during the summer is skewed to the left \\\n",
    "**F.** The UV irradiance during the summer has outliers \\\n",
    "**G.** The interquartile range of the UV irradiance is greater for the winter months than the summer months\n",
    "\n",
    "Answer in the next cell. Add each selected choice as a string and separate each two answer choices by a comma. For example, if you want to select `\"A\"` and `\"B\"`, your answer should be `\"A\", \"B\"`.\\\n",
    "Assign your answer to the given variable.\n",
    "Remember to put quotes around each answer choice."
   ]
  },
  {
   "cell_type": "code",
   "execution_count": null,
   "id": "c5054e9a-5196-4d87-be26-8bbf253336f7",
   "metadata": {
    "tags": []
   },
   "outputs": [],
   "source": [
    "# ANSWER CELL\n",
    "q8_1 = ...\n",
    "q8_1"
   ]
  },
  {
   "cell_type": "code",
   "execution_count": null,
   "id": "14d49f20",
   "metadata": {
    "deletable": false,
    "editable": false
   },
   "outputs": [],
   "source": [
    "grader.check(\"q8_1\")"
   ]
  },
  {
   "cell_type": "markdown",
   "id": "f2460b0a-8a65-4d17-8bad-81f6ac9b1b6d",
   "metadata": {},
   "source": [
    "### Confidence Interval for Difference in Means\n",
    "\n",
    "If we have two large enough samples of sizes $n_X$ and $n_y$ with sample means $\\overline{x}$ and $\\overline{y}$ and sample standard deviations $s_X$ and $s_Y$, a two-sided $100(1-\\alpha)\\%$ confidence interval for the difference in population means $\\mu_X-\\mu_Y$ can be obtained using the following equation:\n",
    "\n",
    "$$\\overline{x}-\\overline{y}\\pm z_{\\alpha/2}\\sqrt{\\dfrac{s_X^2}{n_X} + \\dfrac{s_Y^2}{n_Y}}$$\n",
    "\n",
    "where:\n",
    "* $\\overline{x}-\\overline{y}$ is a point estimate for $\\mu_X-\\mu_Y$\n",
    "* $\\sqrt{s_X^2 / n_X + s_Y^2/n_Y}$ is the standard error of the estimator\n",
    "\n",
    "We have 33 samples for the winter UV irradiance and 33 samples for the summer UV irradiance. Assume that $Y$ represents the winter UV samples and $X$ represents the summer UV samples. We want to construct a confidence interval on the difference in the means: $\\mu_X-\\mu_Y$ (population mean of summer UV irradiance minus population mean of winter UV irradiance)."
   ]
  },
  {
   "cell_type": "markdown",
   "id": "1a1e5481-751a-441d-b2ab-fbef8d4fbddf",
   "metadata": {
    "deletable": false,
    "editable": false
   },
   "source": [
    "<font color='red'>**Question 8.2.**</font> Based on the winter UV irradiance (saved as `winter_UV`) and the summer UV irradiance (saved as `summer_UV`), calculate a point estimate for the difference in the means: $\\mu_X-\\mu_Y$ and assign it to the variable `mean_difference_UV`. Also, calculate the standard error of the estimator of $\\mu_X-\\mu_Y$ and assign it to the variable `se_difference_UV`. Do not just manually type the numeric answers. Use Python expressions that return the desired answer and assign the expression to the corresponding variable. Assume both `winter_UV` and `summer_UV` represent samples. (0.5 pts)"
   ]
  },
  {
   "cell_type": "code",
   "execution_count": null,
   "id": "7a15be47-de8d-4157-aa07-8897a191dac4",
   "metadata": {
    "scrolled": true,
    "tags": []
   },
   "outputs": [],
   "source": [
    "# ANSWER CELL\n",
    "\n",
    "# get point estimate for difference in means\n",
    "mean_difference_UV = ...\n",
    "print(f'Point estimate for difference in means: {mean_difference_UV:.3f} mW/m^2' if not isinstance(mean_difference_UV, type(Ellipsis)) else None)\n",
    "\n",
    "# get standard error of the estimator of the difference in means\n",
    "se_difference_UV = ...\n",
    "print(f'Estimator Standard Error: {se_difference_UV:.3f} mW/m^2' if not isinstance(se_difference_UV, type(Ellipsis)) else None)"
   ]
  },
  {
   "cell_type": "code",
   "execution_count": null,
   "id": "1dea2643",
   "metadata": {
    "deletable": false,
    "editable": false
   },
   "outputs": [],
   "source": [
    "grader.check(\"q8.2\")"
   ]
  },
  {
   "cell_type": "markdown",
   "id": "5d1eee15",
   "metadata": {
    "deletable": false,
    "editable": false
   },
   "source": [
    "<font color='red'>**Question 8.3.**</font> Calculate a two-sided 99% confidence interval for the difference in population means $\\mu_X-\\mu_Y$. Assign the lower estimate of the confidence interval to `q8_3_lower` and the upper estimate to `q8_3_upper`. Do not just manually type the numeric answer. Use Python expressions that return the desired answer and assign the expression to the corresponding variable. (0.5 pts)"
   ]
  },
  {
   "cell_type": "code",
   "execution_count": null,
   "id": "6c0752c4",
   "metadata": {
    "tags": []
   },
   "outputs": [],
   "source": [
    "# ANSWER CELL\n",
    "\n",
    "q8_3_lower = ...\n",
    "q8_3_upper = ...\n",
    "\n",
    "print(f'99% confidence interval for difference in population means: ({q8_3_lower:.1f}, {q8_3_upper:.1f}) mW/m^2' if not isinstance(q8_3_lower, type(Ellipsis)) and not isinstance(q8_3_upper, type(Ellipsis)) else None)"
   ]
  },
  {
   "cell_type": "code",
   "execution_count": null,
   "id": "c4f617af",
   "metadata": {
    "deletable": false,
    "editable": false
   },
   "outputs": [],
   "source": [
    "grader.check(\"q8_3\")"
   ]
  },
  {
   "cell_type": "markdown",
   "id": "f20bba6f",
   "metadata": {},
   "source": [
    "### You're done with this Lab!\n",
    "\n",
    "**Important submission information:** After completing the assignment, click on the Save icon from the Tool Bar &nbsp;<i class=\"fa fa-save\" style=\"font-size:16px;\"></i>&nbsp;. After saving your notebook, **run the cell with** `grader.check_all()` and confirm that you pass the same tests as in the notebook. Then, **run the final cell** `grader.export()` and click the link to download the zip file. Finally, go to Gradescope and submit the zip file to the corresponding assignment. \n",
    "\n",
    "**Once you have submitted, stay on the Gradescope page to confirm that you pass the same tests as in the notebook.**"
   ]
  },
  {
   "cell_type": "code",
   "execution_count": null,
   "id": "4d1647c8",
   "metadata": {
    "tags": []
   },
   "outputs": [],
   "source": [
    "%matplotlib inline\n",
    "img = mpimg.imread('resources/animal.jpg')\n",
    "imgplot = plt.imshow(img)\n",
    "imgplot.axes.get_xaxis().set_visible(False)\n",
    "imgplot.axes.get_yaxis().set_visible(False)\n",
    "print(\"Congratulations on finishing this lab!\")\n",
    "plt.show()"
   ]
  },
  {
   "cell_type": "markdown",
   "id": "b85a1b34",
   "metadata": {
    "deletable": false,
    "editable": false
   },
   "source": [
    "---\n",
    "\n",
    "To double-check your work, the cell below will rerun all of the autograder tests."
   ]
  },
  {
   "cell_type": "code",
   "execution_count": null,
   "id": "3bb0af1e",
   "metadata": {
    "deletable": false,
    "editable": false
   },
   "outputs": [],
   "source": [
    "grader.check_all()"
   ]
  },
  {
   "cell_type": "markdown",
   "id": "666ae729",
   "metadata": {
    "deletable": false,
    "editable": false
   },
   "source": [
    "## Submission\n",
    "\n",
    "Make sure you have run all cells in your notebook in order before running the cell below, so that all images/graphs appear in the output. The cell below will generate a zip file for you to submit. **Please save before exporting!**\n",
    "\n",
    "Make sure you submit the .zip file to Gradescope."
   ]
  },
  {
   "cell_type": "code",
   "execution_count": null,
   "id": "1dccc2b0",
   "metadata": {
    "deletable": false,
    "editable": false
   },
   "outputs": [],
   "source": [
    "# Save your notebook first, then run this cell to export your submission.\n",
    "grader.export(pdf=False)"
   ]
  },
  {
   "cell_type": "markdown",
   "id": "2c7bc4cc",
   "metadata": {},
   "source": [
    " "
   ]
  }
 ],
 "metadata": {
  "kernelspec": {
   "display_name": "Python 3 (ipykernel)",
   "language": "python",
   "name": "python3"
  },
  "language_info": {
   "codemirror_mode": {
    "name": "ipython",
    "version": 3
   },
   "file_extension": ".py",
   "mimetype": "text/x-python",
   "name": "python",
   "nbconvert_exporter": "python",
   "pygments_lexer": "ipython3",
   "version": "3.9.15"
  },
  "otter": {
   "OK_FORMAT": true,
   "assignment_name": "lab08",
   "tests": {
    "q1_0": {
     "name": "q1_0",
     "points": null,
     "suites": [
      {
       "cases": [
        {
         "code": ">>> assert get_hash(round(q1_0, 10)) == 'dec8560458838d098f1edc28b1d74dfa'\n",
         "failure_message": "Incorrect answer. Option 1 has a large enough sample size! Also, it is two-sided.",
         "hidden": false,
         "locked": false,
         "points": 0.175
        },
        {
         "code": ">>> assert get_hash(round(q1_1, 10)) == '1f28332d3f57b54e735a80f61e1c19f9'\n",
         "failure_message": "Incorrect answer. Option 2 has a sample sample size! Also, it is two-sided.",
         "hidden": false,
         "locked": false,
         "points": 0.175
        },
        {
         "code": ">>> assert get_hash(round(q1_2, 10)) == 'c75ca42e3784fd3813d5d2592320cd7c'\n",
         "failure_message": "Incorrect answer. Option 3 has a large enough sample size! Also, it is one-sided.",
         "hidden": false,
         "locked": false,
         "points": 0.175
        },
        {
         "code": ">>> assert get_hash(round(q1_3, 10)) == 'eacef0f27271a7a8a1c7223c072d1fff'\n",
         "failure_message": "Incorrect answer. Option 4 has a sample sample size! Also, it is one-sided.",
         "hidden": false,
         "locked": false,
         "points": 0.175
        }
       ],
       "scored": true,
       "setup": "",
       "teardown": "",
       "type": "doctest"
      }
     ]
    },
    "q2_0": {
     "name": "q2_0",
     "points": null,
     "suites": [
      {
       "cases": [
        {
         "code": ">>> assert get_hash(len(year)) == '65ded5353c5ee48d0b7d48c591b8f430'\n>>> assert get_hash(sum(year)) == '7fe88660eb8f8adc074078b95c93e6eb'\n",
         "failure_message": "Incorrect year.",
         "hidden": false,
         "locked": false,
         "points": 0.1
        },
        {
         "code": ">>> assert get_hash(len(month)) == '65ded5353c5ee48d0b7d48c591b8f430'\n>>> assert get_hash(sum(month)) == 'a67f096809415ca1c9f112d96d27689b'\n",
         "failure_message": "Incorrect month.",
         "hidden": false,
         "locked": false,
         "points": 0.1
        },
        {
         "code": ">>> assert get_hash(len(UV)) == '65ded5353c5ee48d0b7d48c591b8f430'\n>>> assert get_hash(sum(UV)) == '25b55400e4fef098a35e25ba199b47b5'\n",
         "failure_message": "Incorrect UV.",
         "hidden": false,
         "locked": false,
         "points": 0.1
        }
       ],
       "scored": true,
       "setup": "",
       "teardown": "",
       "type": "doctest"
      }
     ]
    },
    "q2_1": {
     "name": "q2_1",
     "points": null,
     "suites": [
      {
       "cases": [
        {
         "code": ">>> assert len(q2_1) == 1\n>>> assert isinstance(q2_1, str)\n",
         "failure_message": "Incorrect answer format. Make sure you only have the letter of your answer choice in quotes.",
         "hidden": false,
         "locked": false,
         "points": 0,
         "success_message": "Correct answer format."
        },
        {
         "code": ">>> assert get_hash(q2_1.upper()) == 'f623e75af30e62bbd73d6df5b50bb7b5'\n",
         "failure_message": "Incorrect answer.",
         "hidden": false,
         "locked": false,
         "points": 0.25
        }
       ],
       "scored": true,
       "setup": "",
       "teardown": "",
       "type": "doctest"
      }
     ]
    },
    "q3.2": {
     "name": "q3.2",
     "points": null,
     "suites": [
      {
       "cases": [
        {
         "code": ">>> assert get_hash(round(q3_2_lower, 10)) == 'cd8f7ad2a2c9619ab36a67926a74faee'\n",
         "failure_message": "Incorrect lower estimate. You need to specify df=n-1 to get the confidence multiplier using the t-distribution.",
         "hidden": false,
         "locked": false,
         "points": 0.25
        },
        {
         "code": ">>> assert get_hash(round(q3_2_upper, 10)) == 'a01228a21284d4db0dd07a6b0a55796b'\n",
         "failure_message": "Incorrect upper estimate. You need to specify df=n-1 to get the confidence multiplier using the t-distribution.",
         "hidden": false,
         "locked": false,
         "points": 0.25
        }
       ],
       "scored": true,
       "setup": "",
       "teardown": "",
       "type": "doctest"
      }
     ]
    },
    "q3_0": {
     "name": "q3_0",
     "points": null,
     "suites": [
      {
       "cases": [
        {
         "code": ">>> assert get_hash(round(mean_winter_UV, 10)) == '4d15a28969de7785b139fd15d602f8de'\n",
         "failure_message": "Incorrect mean. You simply need to get the mean of winter_UV_sample.",
         "hidden": false,
         "locked": false,
         "points": 0.25
        },
        {
         "code": ">>> assert get_hash(round(stdev_winter_UV, 10)) == 'f225504801616558cd34d1dc6715a903'\n",
         "failure_message": "Incorrect standard deviation. If using np.std(), you need to specify ddof=1",
         "hidden": false,
         "locked": false,
         "points": 0.25
        }
       ],
       "scored": true,
       "setup": "",
       "teardown": "",
       "type": "doctest"
      }
     ]
    },
    "q3_1": {
     "name": "q3_1",
     "points": null,
     "suites": [
      {
       "cases": [
        {
         "code": ">>> assert get_hash(round(q3_1_lower, 10)) == '5114cf4b94ee6845991cbe48e4bbdb1d'\n",
         "failure_message": "Incorrect lower estimate. The lower estimate uses a negative confidence multiplier. Don't forget to divide s by the square root of n.",
         "hidden": false,
         "locked": false,
         "points": 0.25
        },
        {
         "code": ">>> assert get_hash(round(q3_1_upper, 10)) == '5509090bf5cb1efb21c2833da75b21b5'\n",
         "failure_message": "Incorrect upper estimate. The upper estimate uses a positive confidence multiplier. Don't forget to divide s by the square root of n.",
         "hidden": false,
         "locked": false,
         "points": 0.25
        }
       ],
       "scored": true,
       "setup": "",
       "teardown": "",
       "type": "doctest"
      }
     ]
    },
    "q3_3": {
     "name": "q3_3",
     "points": null,
     "suites": [
      {
       "cases": [
        {
         "code": ">>> assert isinstance(q3_3, (tuple, str))\n>>> assert all((isinstance(option, str) for option in q3_3))\n>>> assert all((len(option) == 1 for option in q3_3))\n",
         "failure_message": "Incorrect answer format. Make sure you only have the letter of your answer choice in quotes and answers are separated by commas.",
         "hidden": false,
         "locked": false,
         "points": 0,
         "success_message": "Correct answer format."
        },
        {
         "code": ">>> assert any(('9d5ed678fe57bcca610140957afab571' == get_hash(option.upper()) for option in q3_3))\n",
         "failure_message": "Incorrect answer. Do we have a large enough sample?",
         "hidden": false,
         "locked": false,
         "points": 0.1375
        },
        {
         "code": ">>> assert any(('dd7536794b63bf90eccfd37f9b147d7f' == get_hash(option.upper()) for option in q3_3))\n>>> assert q3_2_lower < q3_1_lower and q3_2_upper > q3_1_upper\n",
         "failure_message": "Incorrect answer. Did the confidence multiplier change between z and t?",
         "hidden": false,
         "locked": false,
         "points": 0.1375
        },
        {
         "code": ">>> assert any(('f623e75af30e62bbd73d6df5b50bb7b5' == get_hash(option.upper()) for option in q3_3))\n",
         "failure_message": "Incorrect answer. Is the t-distribution applicable if the population is normal?",
         "hidden": false,
         "locked": false,
         "points": 0.1375
        },
        {
         "code": ">>> assert any(('800618943025315f869e4e1f09471012' == get_hash(option.upper()) for option in q3_3))\n>>> assert q3_2_lower < q3_1_lower and q3_2_upper > q3_1_upper\n",
         "failure_message": "Incorrect answer. Compare the widths of the confidence intervals.",
         "hidden": false,
         "locked": false,
         "points": 0.1375
        },
        {
         "code": ">>> assert not any(('7fc56270e7a70fa81a5935b72eacbe29' == get_hash(option.upper()) for option in q3_3))\n",
         "failure_message": "Incorrect answer. Do we have a large enough sample?",
         "hidden": false,
         "locked": false,
         "points": 0.05
        },
        {
         "code": ">>> assert not any(('0d61f8370cad1d412f80b84d143e1257' == get_hash(option.upper()) for option in q3_3))\n",
         "failure_message": "Incorrect answer. Is the t-distribution applicable for any population?",
         "hidden": false,
         "locked": false,
         "points": 0.025
        },
        {
         "code": ">>> assert not any(('3a3ea00cfc35332cedf6e5e9a32e94da' == get_hash(option.upper()) for option in q3_3))\n",
         "failure_message": "Incorrect answer. What should follow a normal distribution to use a t-statistic?",
         "hidden": false,
         "locked": false,
         "points": 0.025
        },
        {
         "code": ">>> assert not any(('dfcf28d0734569a6a693bc8194de62bf' == get_hash(option.upper()) for option in q3_3))\n>>> assert q3_2_lower < q3_1_lower and q3_2_upper > q3_1_upper\n",
         "failure_message": "Incorrect answer. Compare the widths of the confidence intervals.",
         "hidden": false,
         "locked": false,
         "points": 0.05
        },
        {
         "code": ">>> assert not any(('c1d9f50f86825a1a2302ec2449c17196' == get_hash(option.upper()) for option in q3_3))\n>>> assert q3_2_lower < q3_1_lower and q3_2_upper > q3_1_upper\n",
         "failure_message": "Incorrect answer. Did the confidence level change?",
         "hidden": false,
         "locked": false,
         "points": 0.05
        }
       ],
       "scored": true,
       "setup": "",
       "teardown": "",
       "type": "doctest"
      }
     ]
    },
    "q3_4": {
     "name": "q3_4",
     "points": null,
     "suites": [
      {
       "cases": [
        {
         "code": ">>> assert isinstance(q3_4, (tuple, str))\n>>> assert all((isinstance(option, str) for option in q3_4))\n>>> assert all((len(option) == 1 for option in q3_4))\n",
         "failure_message": "Incorrect answer format. Make sure you only have the letter of your answer choice in quotes and answers are separated by commas.",
         "hidden": false,
         "locked": false,
         "points": 0,
         "success_message": "Correct answer format."
        },
        {
         "code": ">>> assert any(('f623e75af30e62bbd73d6df5b50bb7b5' == get_hash(option.upper()) for option in q3_4))\n",
         "failure_message": "Incorrect answer. Do we know the population standard deviation?",
         "hidden": false,
         "locked": false,
         "points": 0.1
        },
        {
         "code": ">>> assert any(('7fc56270e7a70fa81a5935b72eacbe29' == get_hash(option.upper()) for option in q3_4))\n",
         "failure_message": "Incorrect answer. How many measurements are in UV_winter. Is this a small size?",
         "hidden": false,
         "locked": false,
         "points": 0.1
        },
        {
         "code": ">>> assert any(('3a3ea00cfc35332cedf6e5e9a32e94da' == get_hash(option.upper()) for option in q3_4))\n",
         "failure_message": "Incorrect answer. Look at the general equation for confidence intervals.",
         "hidden": false,
         "locked": false,
         "points": 0.1
        },
        {
         "code": ">>> assert any(('c1d9f50f86825a1a2302ec2449c17196' == get_hash(option.upper()) for option in q3_4))\n",
         "failure_message": "Incorrect answer. Look at the general equation for confidence intervals.",
         "hidden": false,
         "locked": false,
         "points": 0.1
        },
        {
         "code": ">>> assert any(('dd7536794b63bf90eccfd37f9b147d7f' == get_hash(option.upper()) for option in q3_4))\n",
         "failure_message": "Incorrect answer. Does t-value depend on sample size? (Hint df=n-1)",
         "hidden": false,
         "locked": false,
         "points": 0.075
        },
        {
         "code": ">>> assert any(('ff44570aca8241914870afbc310cdb85' == get_hash(option.upper()) for option in q3_4))\n",
         "failure_message": "Incorrect answer. Look at the general equation for confidence intervals.",
         "hidden": false,
         "locked": false,
         "points": 0.075
        },
        {
         "code": ">>> assert not any(('9d5ed678fe57bcca610140957afab571' == get_hash(option.upper()) for option in q3_4))\n",
         "failure_message": "Incorrect answer. How many measurements are in UV_winter. Is this a small size?",
         "hidden": false,
         "locked": false,
         "points": 0.05
        },
        {
         "code": ">>> assert not any(('0d61f8370cad1d412f80b84d143e1257' == get_hash(option.upper()) for option in q3_4))\n",
         "failure_message": "Incorrect answer. Do we know the population standard deviation?",
         "hidden": false,
         "locked": false,
         "points": 0.05
        },
        {
         "code": ">>> assert not any(('800618943025315f869e4e1f09471012' == get_hash(option.upper()) for option in q3_4))\n",
         "failure_message": "Incorrect answer. Look at the general equation for confidence intervals.",
         "hidden": false,
         "locked": false,
         "points": 0.05
        },
        {
         "code": ">>> assert not any(('dfcf28d0734569a6a693bc8194de62bf' == get_hash(option.upper()) for option in q3_4))\n",
         "failure_message": "Incorrect answer. Does z-value depend on sample size?",
         "hidden": false,
         "locked": false,
         "points": 0.05
        }
       ],
       "scored": true,
       "setup": "",
       "teardown": "",
       "type": "doctest"
      }
     ]
    },
    "q4.0": {
     "name": "q4.0",
     "points": null,
     "suites": [
      {
       "cases": [
        {
         "code": ">>> assert isinstance(histogram, tuple)\n>>> assert len(histogram) == 3\n",
         "failure_message": "Make sure to save the histogram as object \"histogram\".",
         "hidden": false,
         "locked": false,
         "points": 0
        },
        {
         "code": ">>> assert get_hash(len(histogram[0])) == '8f14e45fceea167a5a36dedd4bea2543'\n>>> assert get_hash(len(histogram[1])) == 'c9f0f895fb98ab9159f51fd0297e236d'\n>>> assert get_hash(sum(histogram[0])) == '12e9099d922d8928c4087e78fffc4975'\n>>> assert get_hash(sum(histogram[1])) == 'ca7ec814c511fc24a1b02723e58b9464'\n",
         "failure_message": "Incorrect values plotted. Use bins=7.",
         "hidden": false,
         "locked": false,
         "points": 0.25
        }
       ],
       "scored": true,
       "setup": "",
       "teardown": "",
       "type": "doctest"
      }
     ]
    },
    "q4.1": {
     "name": "q4.1",
     "points": null,
     "suites": [
      {
       "cases": [
        {
         "code": ">>> assert type(fig_3).__name__ == 'Figure'\n>>> assert type(ax_3).__name__ == 'Axes'\n",
         "failure_message": "Make sure to create a figure with 1 axes and assign them to \"fig_3\" and \"ax_3\".",
         "hidden": false,
         "locked": false,
         "points": 0
        },
        {
         "code": ">>> assert isinstance(ax_3.lines[0], Line2D)\n",
         "failure_message": "Make sure you are plotting to ax_3.",
         "hidden": false,
         "locked": false,
         "points": 0
        },
        {
         "code": ">>> assert get_hash(sum(ax_3.lines[0].get_xdata())) == 'eee19432204e3c56076c644744083c6a'\n>>> assert get_hash(len(ax_3.lines[0].get_xdata())) == '182be0c5cdcd5072bb1864cdee4d3d6e'\n>>> assert get_hash(round(sum(ax_3.lines[0].get_ydata()), 3)) == 'b139e104214a08ae3f2ebcce149cdf6e'\n>>> assert get_hash(len(ax_3.lines[0].get_ydata())) == '182be0c5cdcd5072bb1864cdee4d3d6e'\n",
         "failure_message": "Check the arguments of sm.qqplot, mainly loc and scale. Assume winter_UV is the population.",
         "hidden": false,
         "locked": false,
         "points": 0.5
        }
       ],
       "scored": true,
       "setup": "",
       "teardown": "",
       "type": "doctest"
      }
     ]
    },
    "q5.0": {
     "name": "q5.0",
     "points": null,
     "suites": [
      {
       "cases": [
        {
         "code": ">>> assert type(fig_4).__name__ == 'Figure'\n>>> assert type(ax_4).__name__ == 'Axes'\n",
         "failure_message": "Make sure to create a figure with 1 axes and assign them to \"fig_4\" and \"ax_4\".",
         "hidden": false,
         "locked": false,
         "points": 0
        },
        {
         "code": ">>> assert isinstance(histogram_2, tuple)\n>>> assert len(histogram_2) == 3\n",
         "failure_message": "Make sure to save the histogram as object \"histogram_2\".",
         "hidden": false,
         "locked": false,
         "points": 0
        },
        {
         "code": ">>> assert get_hash(len(histogram_2[0])) == '9bf31c7ff062936a96d3c8bd1f8f2ff3'\n>>> assert get_hash(len(histogram_2[1])) == 'c74d97b01eae257e44aa9d5bade97baf'\n>>> assert get_hash(round(sum(histogram_2[0]), 3)) == '9ca518dc0b3789adb8ad93efa4978101'\n>>> assert get_hash(round(sum(histogram_2[1]), 3)) == 'cffb92bb67edf3b92900656662038bf3'\n",
         "failure_message": "Incorrect values plotted.",
         "hidden": false,
         "locked": false,
         "points": 0.25
        },
        {
         "code": ">>> keywords = ['BOOTSTRAP', 'MEANS', 'MW/', '2']\n>>> assert all((word in ax_4.get_xlabel().upper() for word in keywords))\n",
         "failure_message": "Check x-axis label.",
         "hidden": false,
         "locked": false,
         "points": 0.15
        },
        {
         "code": ">>> keywords = ['FREQUENCY']\n>>> assert all((word in ax_4.get_ylabel().upper() for word in keywords))\n",
         "failure_message": "Check y-axis label.",
         "hidden": false,
         "locked": false,
         "points": 0.1
        }
       ],
       "scored": true,
       "setup": "",
       "teardown": "",
       "type": "doctest"
      }
     ]
    },
    "q6.0": {
     "name": "q6.0",
     "points": null,
     "suites": [
      {
       "cases": [
        {
         "code": ">>> assert get_hash(round(q6_0_lower, 10)) == 'df10cbe878cdbaf697704a7e04354267'\n",
         "failure_message": "Incorrect q6_0_lower. For 95% confidence, we obtained the 2.5th percentile. Which lower percentile do we need for 90% confidence?",
         "hidden": false,
         "locked": false,
         "points": 0.5
        },
        {
         "code": ">>> assert get_hash(round(q6_0_upper, 10)) == '07cb6c11918da2da3672ddbcb82e557b'\n",
         "failure_message": "Incorrect q6_0_upper. For 95% confidence, we obtained the 97.5th percentile. Which upper percentile do we need for 90% confidence?",
         "hidden": false,
         "locked": false,
         "points": 0.5
        }
       ],
       "scored": true,
       "setup": "",
       "teardown": "",
       "type": "doctest"
      }
     ]
    },
    "q7.0": {
     "name": "q7.0",
     "points": null,
     "suites": [
      {
       "cases": [
        {
         "code": ">>> assert get_hash(len(bootstrap_medians)) == 'a35fe7f7fe8217b4369a0af4244d1fca'\n>>> assert get_hash(round(sum(bootstrap_medians), 3)) == '7bd078a7145877b1d9650dabc3bce3e3'\n",
         "failure_message": "Incorrect bootstrap_medians. You need to obtain 5000 medians, one for each bootstrapped sample.",
         "hidden": false,
         "locked": false,
         "points": 0.5
        }
       ],
       "scored": true,
       "setup": "",
       "teardown": "",
       "type": "doctest"
      }
     ]
    },
    "q7.1": {
     "name": "q7.1",
     "points": null,
     "suites": [
      {
       "cases": [
        {
         "code": ">>> assert type(fig_6).__name__ == 'Figure'\n>>> assert type(ax_6).__name__ == 'Axes'\n",
         "failure_message": "Make sure to create a figure with 1 axes and assign them to \"fig_6\" and \"ax_6\".",
         "hidden": false,
         "locked": false,
         "points": 0
        },
        {
         "code": ">>> assert get_hash(round(q7_1_lower, 10)) == 'de7416014419f7219f1e33b2c2860f3d'\n",
         "failure_message": "Incorrect answer for lower interval.",
         "hidden": false,
         "locked": false,
         "points": 0.2
        },
        {
         "code": ">>> assert get_hash(round(q7_1_upper, 10)) == '36aa1c1c8c691c345544a76f5f8beacd'\n",
         "failure_message": "Incorrect answer for higher interval.",
         "hidden": false,
         "locked": false,
         "points": 0.2
        },
        {
         "code": ">>> assert isinstance(histogram_3, tuple)\n>>> assert len(histogram_3) == 3\n",
         "failure_message": "Make sure to save the histogram as object \"histogram_3\".",
         "hidden": false,
         "locked": false,
         "points": 0
        },
        {
         "code": ">>> assert get_hash(len(histogram_3[0])) == '6512bd43d9caa6e02c990b0a82652dca'\n>>> assert get_hash(len(histogram_3[1])) == 'c20ad4d76fe97759aa27a0c99bff6710'\n>>> assert get_hash(sum(histogram_3[0])) == '9ca518dc0b3789adb8ad93efa4978101'\n>>> assert get_hash(sum(histogram_3[1])) == '404ab9841df05e43dad1ef175f32f090'\n",
         "failure_message": "Incorrect values plotted. Use bins=11 and plot frequency histogram for bootstrap_medians.",
         "hidden": false,
         "locked": false,
         "points": 0.2
        },
        {
         "code": ">>> assert isinstance(ax_6.collections[0], LineCollection)\n>>> assert isinstance(ax_6.collections[1], LineCollection)\n",
         "failure_message": "Make sure you are plotting the lower and upper estimates to ax_6 using vlines().",
         "hidden": false,
         "locked": false,
         "points": 0
        },
        {
         "code": ">>> assert round(ax_6.collections[0].get_segments()[0][0, 0], 3) == round(q7_1_lower, 3)\n>>> assert round(ax_6.collections[1].get_segments()[0][0, 0], 3) == round(q7_1_upper, 3)\n>>> assert round(ax_6.collections[0].get_segments()[0][0, 1], 3) == round(0, 3)\n>>> assert round(ax_6.collections[0].get_segments()[0][1, 1], 3) >= round(1500, 3)\n>>> assert round(ax_6.collections[1].get_segments()[0][0, 1], 3) == round(0, 3)\n>>> assert round(ax_6.collections[1].get_segments()[0][1, 1], 3) >= round(1500, 3)\n",
         "failure_message": "Check the plotted vertical lines. They should extend between 0 and 1500.",
         "hidden": false,
         "locked": false,
         "points": 0.2
        },
        {
         "code": ">>> keywords = ['BOOTSTRAP', 'MEDIANS', 'MW/', '2']\n>>> assert all((word in ax_6.get_xlabel().upper() for word in keywords))\n",
         "failure_message": "Check x-axis label.",
         "hidden": false,
         "locked": false,
         "points": 0.15
        },
        {
         "code": ">>> keywords = ['FREQUENCY']\n>>> assert all((word in ax_6.get_ylabel().upper() for word in keywords))\n",
         "failure_message": "Check y-axis label.",
         "hidden": false,
         "locked": false,
         "points": 0.05
        }
       ],
       "scored": true,
       "setup": "",
       "teardown": "",
       "type": "doctest"
      }
     ]
    },
    "q8.0": {
     "name": "q8.0",
     "points": null,
     "suites": [
      {
       "cases": [
        {
         "code": ">>> assert type(fig_7).__name__ == 'Figure'\n>>> assert type(ax_7).__name__ == 'Axes'\n",
         "failure_message": "Make sure to create a figure with 1 axes and assign them to \"fig_7\" and \"ax_7\".",
         "hidden": false,
         "locked": false,
         "points": 0
        },
        {
         "code": ">>> assert isinstance(q8_0, dict)\n",
         "failure_message": "Make sure to save the boxplot as object \"q8_0\".",
         "hidden": false,
         "locked": false,
         "points": 0
        },
        {
         "code": ">>> assert get_hash(sum(q8_0['boxes'][0].get_ydata())) == '1e459cbe0278871d6a1fa02ee50a335b'\n>>> assert get_hash(len(q8_0['boxes'][0].get_ydata())) == 'e4da3b7fbbce2345d7772b0674a318d5'\n",
         "failure_message": "Check boxplot values for Winter UV.",
         "hidden": false,
         "locked": false,
         "points": 0.15
        },
        {
         "code": ">>> assert get_hash(sum(q8_0['boxes'][1].get_ydata())) == '4453650c69fa8f3dcdd44785f82cf834'\n>>> assert get_hash(len(q8_0['boxes'][1].get_ydata())) == 'e4da3b7fbbce2345d7772b0674a318d5'\n",
         "failure_message": "Check boxplot values for Summer UV.",
         "hidden": false,
         "locked": false,
         "points": 0.15
        },
        {
         "code": ">>> keywords = ['UV', 'IRRADIANCE', 'MW', '/', 'M', '2']\n>>> assert all((word in ax_7.get_ylabel().upper() for word in keywords))\n",
         "failure_message": "Check y-axis label.",
         "hidden": false,
         "locked": false,
         "points": 0.1
        },
        {
         "code": ">>> assert ax_7.xaxis.get_ticklabels()[0].get_text().upper() == 'WINTER'\n>>> assert ax_7.xaxis.get_ticklabels()[1].get_text().upper() == 'SUMMER'\n",
         "failure_message": "Check x-axis tick labels.",
         "hidden": false,
         "locked": false,
         "points": 0.1
        }
       ],
       "scored": true,
       "setup": "",
       "teardown": "",
       "type": "doctest"
      }
     ]
    },
    "q8.2": {
     "name": "q8.2",
     "points": null,
     "suites": [
      {
       "cases": [
        {
         "code": ">>> assert get_hash(round(mean_difference_UV, 10)) == '0620cc6bc2ff48c70362d5fdb31fc891'\n",
         "failure_message": "Incorrect mean_difference_UV. You simply need to get the differnce in means (summer - winter)",
         "hidden": false,
         "locked": false,
         "points": 0.25
        },
        {
         "code": ">>> assert get_hash(round(se_difference_UV, 10)) == '81cd4468394d69ec0f211de785785a77'\n",
         "failure_message": "Incorrect se_difference_UV. You need to get the SAMPLE variances and divide them by the sample sizes. See the above equation.",
         "hidden": false,
         "locked": false,
         "points": 0.25
        }
       ],
       "scored": true,
       "setup": "",
       "teardown": "",
       "type": "doctest"
      }
     ]
    },
    "q8_1": {
     "name": "q8_1",
     "points": null,
     "suites": [
      {
       "cases": [
        {
         "code": ">>> assert isinstance(q8_1, (tuple, str))\n>>> assert all((isinstance(option, str) for option in q8_1))\n>>> assert all((len(option) == 1 for option in q8_1))\n",
         "failure_message": "Incorrect answer format. Make sure you only have the letter of your answer choice in quotes and answers are separated by commas.",
         "hidden": false,
         "locked": false,
         "points": 0,
         "success_message": "Correct answer format."
        },
        {
         "code": ">>> assert any(('9d5ed678fe57bcca610140957afab571' == get_hash(option.upper()) for option in q8_1))\n>>> assert get_hash(sum(q8_0['boxes'][0].get_ydata())) == '1e459cbe0278871d6a1fa02ee50a335b'\n>>> assert get_hash(len(q8_0['boxes'][0].get_ydata())) == 'e4da3b7fbbce2345d7772b0674a318d5'\n>>> assert get_hash(sum(q8_0['boxes'][1].get_ydata())) == '4453650c69fa8f3dcdd44785f82cf834'\n>>> assert get_hash(len(q8_0['boxes'][1].get_ydata())) == 'e4da3b7fbbce2345d7772b0674a318d5'\n",
         "failure_message": "Incorrect answer. Is the median for summer greater than the median for winter?",
         "hidden": false,
         "locked": false,
         "points": 0.1
        },
        {
         "code": ">>> assert any(('7fc56270e7a70fa81a5935b72eacbe29' == get_hash(option.upper()) for option in q8_1))\n>>> assert get_hash(sum(q8_0['boxes'][0].get_ydata())) == '1e459cbe0278871d6a1fa02ee50a335b'\n>>> assert get_hash(len(q8_0['boxes'][0].get_ydata())) == 'e4da3b7fbbce2345d7772b0674a318d5'\n>>> assert get_hash(sum(q8_0['boxes'][1].get_ydata())) == '4453650c69fa8f3dcdd44785f82cf834'\n>>> assert get_hash(len(q8_0['boxes'][1].get_ydata())) == 'e4da3b7fbbce2345d7772b0674a318d5'\n",
         "failure_message": "Incorrect answer. Is the upper whisker longer than the lower whisker for winter?",
         "hidden": false,
         "locked": false,
         "points": 0.1
        },
        {
         "code": ">>> assert any(('dfcf28d0734569a6a693bc8194de62bf' == get_hash(option.upper()) for option in q8_1))\n>>> assert get_hash(sum(q8_0['boxes'][0].get_ydata())) == '1e459cbe0278871d6a1fa02ee50a335b'\n>>> assert get_hash(len(q8_0['boxes'][0].get_ydata())) == 'e4da3b7fbbce2345d7772b0674a318d5'\n>>> assert get_hash(sum(q8_0['boxes'][1].get_ydata())) == '4453650c69fa8f3dcdd44785f82cf834'\n>>> assert get_hash(len(q8_0['boxes'][1].get_ydata())) == 'e4da3b7fbbce2345d7772b0674a318d5'\n",
         "failure_message": "Incorrect answer. What represnets the IQR in a boxplot?",
         "hidden": false,
         "locked": false,
         "points": 0.1
        },
        {
         "code": ">>> assert not any(('0d61f8370cad1d412f80b84d143e1257' == get_hash(option.upper()) for option in q8_1))\n>>> assert get_hash(sum(q8_0['boxes'][0].get_ydata())) == '1e459cbe0278871d6a1fa02ee50a335b'\n>>> assert get_hash(len(q8_0['boxes'][0].get_ydata())) == 'e4da3b7fbbce2345d7772b0674a318d5'\n>>> assert get_hash(sum(q8_0['boxes'][1].get_ydata())) == '4453650c69fa8f3dcdd44785f82cf834'\n>>> assert get_hash(len(q8_0['boxes'][1].get_ydata())) == 'e4da3b7fbbce2345d7772b0674a318d5'\n",
         "failure_message": "Incorrect answer. Do you observe any outliers?",
         "hidden": false,
         "locked": false,
         "points": 0.05
        },
        {
         "code": ">>> assert not any(('f623e75af30e62bbd73d6df5b50bb7b5' == get_hash(option.upper()) for option in q8_1))\n>>> assert get_hash(sum(q8_0['boxes'][0].get_ydata())) == '1e459cbe0278871d6a1fa02ee50a335b'\n>>> assert get_hash(len(q8_0['boxes'][0].get_ydata())) == 'e4da3b7fbbce2345d7772b0674a318d5'\n>>> assert get_hash(sum(q8_0['boxes'][1].get_ydata())) == '4453650c69fa8f3dcdd44785f82cf834'\n>>> assert get_hash(len(q8_0['boxes'][1].get_ydata())) == 'e4da3b7fbbce2345d7772b0674a318d5'\n",
         "failure_message": "Incorrect answer. Is the upper whisker equal in length to the lower whisker for winter?",
         "hidden": false,
         "locked": false,
         "points": 0.05
        },
        {
         "code": ">>> assert not any(('3a3ea00cfc35332cedf6e5e9a32e94da' == get_hash(option.upper()) for option in q8_1))\n>>> assert get_hash(sum(q8_0['boxes'][0].get_ydata())) == '1e459cbe0278871d6a1fa02ee50a335b'\n>>> assert get_hash(len(q8_0['boxes'][0].get_ydata())) == 'e4da3b7fbbce2345d7772b0674a318d5'\n>>> assert get_hash(sum(q8_0['boxes'][1].get_ydata())) == '4453650c69fa8f3dcdd44785f82cf834'\n>>> assert get_hash(len(q8_0['boxes'][1].get_ydata())) == 'e4da3b7fbbce2345d7772b0674a318d5'\n",
         "failure_message": "Incorrect answer. Is the lower whisker longer than the upper whisker for summer?",
         "hidden": false,
         "locked": false,
         "points": 0.05
        },
        {
         "code": ">>> assert not any(('800618943025315f869e4e1f09471012' == get_hash(option.upper()) for option in q8_1))\n>>> assert get_hash(sum(q8_0['boxes'][0].get_ydata())) == '1e459cbe0278871d6a1fa02ee50a335b'\n>>> assert get_hash(len(q8_0['boxes'][0].get_ydata())) == 'e4da3b7fbbce2345d7772b0674a318d5'\n>>> assert get_hash(sum(q8_0['boxes'][1].get_ydata())) == '4453650c69fa8f3dcdd44785f82cf834'\n>>> assert get_hash(len(q8_0['boxes'][1].get_ydata())) == 'e4da3b7fbbce2345d7772b0674a318d5'\n",
         "failure_message": "Incorrect answer. Do you observe any outliers?",
         "hidden": false,
         "locked": false,
         "points": 0.05
        }
       ],
       "scored": true,
       "setup": "",
       "teardown": "",
       "type": "doctest"
      }
     ]
    },
    "q8_3": {
     "name": "q8_3",
     "points": null,
     "suites": [
      {
       "cases": [
        {
         "code": ">>> assert get_hash(round(q8_3_lower, 10)) == 'f7753a78a2c714c153c866c9e58d4156'\n",
         "failure_message": "Incorrect lower estimate. The lower estimate uses a negative confidence multiplier. Also, the confidence level is 99%.",
         "hidden": false,
         "locked": false,
         "points": 0.25
        },
        {
         "code": ">>> assert get_hash(round(q8_3_upper, 10)) == '3ce2865910b4a68b7409ab6a37b05ef2'\n",
         "failure_message": "Incorrect upper estimate. The upper estimate uses a positive confidence multiplier. Also, the confidence level is 99%.",
         "hidden": false,
         "locked": false,
         "points": 0.25
        }
       ],
       "scored": true,
       "setup": "",
       "teardown": "",
       "type": "doctest"
      }
     ]
    }
   }
  }
 },
 "nbformat": 4,
 "nbformat_minor": 5
}
