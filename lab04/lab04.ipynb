{
 "cells": [
  {
   "cell_type": "code",
   "execution_count": null,
   "id": "93419f7e",
   "metadata": {
    "deletable": false,
    "editable": false
   },
   "outputs": [],
   "source": [
    "# Initialize Otter\n",
    "import otter\n",
    "grader = otter.Notebook(\"lab04.ipynb\")"
   ]
  },
  {
   "cell_type": "markdown",
   "id": "5af9dc94",
   "metadata": {},
   "source": [
    "### CE 93: Lab Assignment 04\n",
    "\n",
    "You must submit the lab to Gradescope by the due date. You will submit the zip file produced by running the final cell of the assignment.\n",
    "\n",
    "## About this Lab\n",
    "The objective of this assignment is to learn about properties of discrete random variables and some of the common discete distributions. We will not load any data. Instead, we will create the random variables ourselves.\n",
    "\n",
    "## Instructions \n",
    "**Run the first cell, Initialize Otter**, to import the autograder and submission exporter.\n",
    "\n",
    "Throughout the assignment, replace `...` with your answers. We use `...` as a placeholder and theses should be deleted and replaced with your answers.\n",
    "\n",
    "Any part listed as a \"<font color='red'>**Question**</font>\" should be answered to receive credit.\n",
    "\n",
    "**Please save your work after every question!**\n",
    "\n",
    "To read the documentation on a Python function, you can type `help()` and add the function name between parentheses.\n",
    "\n",
    "**Run the cell below**, to import the required modules."
   ]
  },
  {
   "cell_type": "code",
   "execution_count": null,
   "id": "f3463c41",
   "metadata": {},
   "outputs": [],
   "source": [
    "# Please run this cell, and do not modify the contents\n",
    "import math\n",
    "import numpy as np\n",
    "import scipy\n",
    "from scipy import integrate\n",
    "import pandas as pd\n",
    "import statistics as stats\n",
    "import cmath\n",
    "import re\n",
    "import matplotlib.pyplot as plt\n",
    "import matplotlib.image as mpimg\n",
    "import hashlib\n",
    "import ipywidgets as widgets\n",
    "from ipywidgets import FileUpload\n",
    "from IPython.display import display\n",
    "from PIL import Image\n",
    "import os\n",
    "import resources\n",
    "\n",
    "def get_hash(num):\n",
    "    \"\"\"Helper function for assessing correctness\"\"\"\n",
    "    return hashlib.md5(str(num).encode()).hexdigest()"
   ]
  },
  {
   "cell_type": "markdown",
   "id": "97eac86e",
   "metadata": {},
   "source": [
    "### Properties of Probability Mass Function \n",
    "\n",
    "Let's first review some basic concepts."
   ]
  },
  {
   "cell_type": "markdown",
   "id": "0613b61a-48a0-43a7-9689-bec36e10d5ac",
   "metadata": {
    "deletable": false,
    "editable": false,
    "jp-MarkdownHeadingCollapsed": true
   },
   "source": [
    "<font color='red'>**Question 1.0.**</font> What is(are) the property(ies) of a probability mass function? \n",
    " Assign ALL that apply to the variable `q1_0`. (0.5 pts)\n",
    "\n",
    "**A**. The probability mass function is a function that assigns probabilities to each possible outcome of a discrete random variable \\\n",
    "**B**. The probability of any event can be greater than 1 as long as the probability mass function adds up to 1 \\\n",
    "**C**. The probability mass function of any discrete random variable should add up to 1 \\\n",
    "**D**. The probability of any event should be greater than or equal to 0 and less than or equal to 1 \\\n",
    "**E**. The probability of any event can be negative as long as the probability mass function adds up to 1 \\\n",
    "**F**. The probability of any event should be strictly greater than 0 and strictly less than 1\n",
    "\n",
    "Answer in the next cell. Add each selected choice as a string and separate each two answer choices by a comma. For example, if you want to select `\"A\"` and `\"B\"`, your answer should be `\"A\", \"B\"`.\\\n",
    "Assign your answer to the given variable.\n",
    "Remember to put quotes around each answer choice."
   ]
  },
  {
   "cell_type": "code",
   "execution_count": null,
   "id": "dd70db72-e18b-4e69-b560-284c49290da1",
   "metadata": {
    "tags": []
   },
   "outputs": [],
   "source": [
    "# ANSWER CELL\n",
    "q1_0 = ...\n",
    "q1_0"
   ]
  },
  {
   "cell_type": "code",
   "execution_count": null,
   "id": "574a23a3",
   "metadata": {
    "deletable": false,
    "editable": false
   },
   "outputs": [],
   "source": [
    "grader.check(\"q1.0\")"
   ]
  },
  {
   "cell_type": "markdown",
   "id": "105ac66f-f3f1-4313-9b96-5b59b4220489",
   "metadata": {},
   "source": [
    "### Random Variable\n",
    "\n",
    "You have been asked to investigate the daily temperature trends in Berkeley. Specifically, you want to study the number of days that will have an average temperature above normal for a specific week in February. Let $X$ be the **number of days** that have an average temperature above normal for a week in February."
   ]
  },
  {
   "cell_type": "markdown",
   "id": "7410ab17-2a08-44a5-b390-f82919810630",
   "metadata": {
    "deletable": false,
    "editable": false
   },
   "source": [
    "<font color='red'>**Question 1.1.**</font> Is $X$ a discrete or continuous random variable? Assign the boolean value `True` to `q1_1` if it is discrete and `False` if it is continuous. (0.25 pts)"
   ]
  },
  {
   "cell_type": "code",
   "execution_count": null,
   "id": "a44d63bf-7457-4e5a-a9b5-53e1fed80ef1",
   "metadata": {
    "tags": []
   },
   "outputs": [],
   "source": [
    "# ANSWER CELL\n",
    "q1_1 = ...\n",
    "q1_1"
   ]
  },
  {
   "cell_type": "code",
   "execution_count": null,
   "id": "461d99f0",
   "metadata": {
    "deletable": false,
    "editable": false
   },
   "outputs": [],
   "source": [
    "grader.check(\"q1.1\")"
   ]
  },
  {
   "cell_type": "markdown",
   "id": "37a1171a-e836-4705-bdde-29edf4e5845a",
   "metadata": {},
   "source": [
    "### Probability Mass Function\n",
    "\n",
    "Based on historical data for February, you were able to calculate the probability mass function (PMF) for $X$. The PMF is shown in the table below. After being done with your calculations, you realized that you forgot to calculate the probability for $X=3$.\n",
    "\n",
    "\n",
    "|$X$|0|1|2|3|4|5|6|7|\n",
    "|:-:|:-:|:-:|:-:|:-:|:-:|:-:|:-:|:-:|\n",
    "|PMF|0.05|0.19|0.15|??|0.15|0.20|0.008|0.005|"
   ]
  },
  {
   "cell_type": "markdown",
   "id": "94d33438-2442-4b3e-ac82-b30c9a4b0aa0",
   "metadata": {
    "deletable": false,
    "editable": false
   },
   "source": [
    "<font color='red'>**Question 2.0.**</font> Using properties of a PMF, calculate $p(X=3)$ in `Python`. Do **not** round your answer. Assign your answer to `q2_0`. Do not just manually type the numeric answer. Use Python expressions that return the desired answer and assign the expression to the variable. (0.5 pts)"
   ]
  },
  {
   "cell_type": "code",
   "execution_count": null,
   "id": "cdf9618a-18ab-477b-ab81-845fa9544b92",
   "metadata": {
    "tags": []
   },
   "outputs": [],
   "source": [
    "# ANSWER CELL\n",
    "q2_0 = ...\n",
    "print(f'P(X = 3) = {q2_0}')"
   ]
  },
  {
   "cell_type": "code",
   "execution_count": null,
   "id": "341a6398",
   "metadata": {
    "deletable": false,
    "editable": false
   },
   "outputs": [],
   "source": [
    "grader.check(\"q2.0\")"
   ]
  },
  {
   "cell_type": "markdown",
   "id": "cb01bff7-0651-4a5e-aab3-5a30d5dda361",
   "metadata": {
    "deletable": false,
    "editable": false
   },
   "source": [
    "<font color='red'>**Question 2.1.**</font> Calculate $p(X=3)$ by hand or by using a calculator. For this problem, please manually type your numeric answer and assign it to `q2_1`. (0.25 pts)"
   ]
  },
  {
   "cell_type": "code",
   "execution_count": null,
   "id": "db48ab71-5438-4d25-b149-ece23c762029",
   "metadata": {
    "tags": []
   },
   "outputs": [],
   "source": [
    "# ANSWER CELL\n",
    "q2_1 = ...\n",
    "print(f'P(X = 3) = {q2_1}')"
   ]
  },
  {
   "cell_type": "code",
   "execution_count": null,
   "id": "bda034a3",
   "metadata": {
    "deletable": false,
    "editable": false
   },
   "outputs": [],
   "source": [
    "grader.check(\"q2.1\")"
   ]
  },
  {
   "cell_type": "markdown",
   "id": "276b3652-7c3a-42d7-adc0-5b31565f7559",
   "metadata": {},
   "source": [
    "### Why Are My Values Slightly Different ?!\n",
    "\n",
    "You should see a very slight error in the `Python` result. This is know as a **round-off error** and is due to the fact that floating point numbers (i.e., a number with a decimal point) cannot always be stored with perfect precision in computers. \n",
    "\n",
    "Let's try a simpler example. We know that $1.0-0.95$ is equal to $0.05$. Let's test that in `Python`. To check if two expressions are equal in `Python`, we can use `==` (double equal sign). \n",
    "\n",
    "Copy and paste this line into the cell below and run it `1.0 - 0.95 == 0.05`. \n",
    "Running `1.0 - 0.95 == 0.05` is equivalent to asking , \"*Is $1.0-0.95$ equal to  $0.05$?*\" Since this statement is true, Python, ideally, should return the value `True`.\n",
    "\n",
    "So why does `Python` return `False` in this case? We know that the above statement should be `True`. Read [this short page](https://pythonnumericalmethods.berkeley.edu/notebooks/chapter09.03-Roundoff-Errors.html) to understand round-off error and to answer the next question."
   ]
  },
  {
   "cell_type": "code",
   "execution_count": null,
   "id": "a416cc6d-7ade-4a80-9136-c152b81bd241",
   "metadata": {},
   "outputs": [],
   "source": [
    "# Try the above example\n"
   ]
  },
  {
   "cell_type": "markdown",
   "id": "e6aaef27-63c2-49af-a7ec-ac79b246501a",
   "metadata": {
    "deletable": false,
    "editable": false
   },
   "source": [
    "<font color='red'>**Question 2.2.**</font> Which of the following commands give us the exact value of $p(X=3)$ (i.e., the value in Question 2.1.) using `Python`? Assign ALL that apply to the variable `q2_2`. (0.5 pts)\n",
    "\n",
    "Note that when you calculated $p(X=3)$ in `Python`, you assigned the answer to the variable `q2_0`. \n",
    "\n",
    "**A.** `round(q2_0)` \\\n",
    "**B.** `round(q2_0, 2)` \\\n",
    "**C.** `round(q2_0, 3)` \\\n",
    "**D.** `round(q2_0, 5)` \n",
    "\n",
    "Answer in the next cell. Add each selected choice as a string and separate each two answer choices by a comma. For example, if you want to select `\"A\"` and `\"B\"`, your answer should be `\"A\", \"B\"`.\\\n",
    "Assign your answer to the given variable.\n",
    "Remember to put quotes around each answer choice."
   ]
  },
  {
   "cell_type": "code",
   "execution_count": null,
   "id": "a0b71e83-db03-40a2-b8e4-ffe251db6e49",
   "metadata": {
    "tags": []
   },
   "outputs": [],
   "source": [
    "# Type any code below to help you with this question.\n"
   ]
  },
  {
   "cell_type": "code",
   "execution_count": null,
   "id": "bd5398bf-1522-4612-b5b8-979ef4c96623",
   "metadata": {
    "tags": []
   },
   "outputs": [],
   "source": [
    "# ANSWER CELL\n",
    "q2_2 = ...\n",
    "q2_2"
   ]
  },
  {
   "cell_type": "code",
   "execution_count": null,
   "id": "b670e8ee",
   "metadata": {
    "deletable": false,
    "editable": false
   },
   "outputs": [],
   "source": [
    "grader.check(\"q2.2\")"
   ]
  },
  {
   "cell_type": "markdown",
   "id": "d4c20de1-7bd2-49de-b0c2-006dbbb0aaaf",
   "metadata": {},
   "source": [
    "### Create Numpy Arrays\n",
    "\n",
    "Recall that the PMF of $X$ (with the missing probability) is:\n",
    "\n",
    "|$X$|0|1|2|3|4|5|6|7|\n",
    "|:-:|:-:|:-:|:-:|:-:|:-:|:-:|:-:|:-:|\n",
    "|PMF|0.05|0.19|0.15|??|0.15|0.20|0.008|0.005|\n",
    "\n",
    "In the code cell below, create a numpy array with the PMF values of $X$ using `np.array()`. For example, if we want to create a numpy array with the values 0.25, 0.50, 0.25, we would use: `np.array([0.25, 0.50, 0.25])`. So, we simply list the PMF values between square brackets and separate them with commas."
   ]
  },
  {
   "cell_type": "markdown",
   "id": "08307db6-9ccf-48bb-8cb4-cc99fac35f68",
   "metadata": {
    "deletable": false,
    "editable": false
   },
   "source": [
    "<font color='red'>**Question 3.0.**</font> Create a numpy array with the PMF values of $X$ using `np.array()`. Assign your answer to `PMF_X`. (0.5 pts)\n",
    "\n",
    "When creating the numpy array, make sure that the PMF values are **in order**. So the first value is for $X=0$, then $X=1$, etc. Don't forget to **include** the exact value for $p(X=3)$, which you calculated above."
   ]
  },
  {
   "cell_type": "code",
   "execution_count": null,
   "id": "97b1414c-5a03-4cc6-a9a6-d0dd0bba50a6",
   "metadata": {
    "tags": []
   },
   "outputs": [],
   "source": [
    "# ANSWER CELL\n",
    "PMF_X = ...\n",
    "print(f'PMF of X: {PMF_X}')"
   ]
  },
  {
   "cell_type": "code",
   "execution_count": null,
   "id": "ecace634",
   "metadata": {
    "deletable": false,
    "editable": false
   },
   "outputs": [],
   "source": [
    "grader.check(\"q3.0\")"
   ]
  },
  {
   "cell_type": "markdown",
   "id": "bb73f785-afc1-4803-a050-957360b0b658",
   "metadata": {},
   "source": [
    "### Example PMF Plot\n",
    "\n",
    "We can plot a PMF in Python using `plt.vlines()`. Run the code cell below to look at an example for a simplified PMF with probabilities equal to `[0.25, 0.50, 0.25]`. You can read more about `plt.vlines(x, ymin, ymax)` [here](https://matplotlib.org/stable/api/_as_gen/matplotlib.pyplot.vlines.html). As the name suggests, it plots vertical lines at each `x` starting from `ymin` to `ymax`."
   ]
  },
  {
   "cell_type": "code",
   "execution_count": null,
   "id": "c09ef7b8-f94e-4a89-b3d2-05a6ec6f4681",
   "metadata": {
    "scrolled": true
   },
   "outputs": [],
   "source": [
    "# Example PMF plot\n",
    "\n",
    "# create a numpy array of the PMF\n",
    "PMF_example = np.array([0.25, 0.50, 0.25])\n",
    "\n",
    "# Assume that the PMF above is for z = 0, z = 1, and z = 2. \n",
    "# We can create a new numpy array for the Y values, or simply use np.arange().\n",
    "# np.arange(end) will create a numpy array with values [0, 1, ..., end-1]\n",
    "Z = np.arange(3)\n",
    "\n",
    "# create figure and axes\n",
    "fig_1, ax_1 = plt.subplots(nrows=1, ncols=1, figsize=(3,2.5))\n",
    "\n",
    "# Plot PMF using plt.vlines(x, ymin, ymax)\n",
    "# Specify line color = blue, line style = solid line, and line width = 3\n",
    "plt.vlines(Z, 0, PMF_example, colors='b', linestyles='-', lw=3)\n",
    "\n",
    "# set title, xlabel, ylabel, y-axis limits, and locations of x-axis tick marks\n",
    "ax_1.set(title='PMF Example', \n",
    "         xlabel='$Z$', \n",
    "         ylabel='Probability',\n",
    "         ylim=[0, 0.6],\n",
    "         xticks=Z)\n",
    "\n",
    "# display plot\n",
    "plt.show()"
   ]
  },
  {
   "cell_type": "markdown",
   "id": "1ca5ec72-e9b2-4099-b435-71198389c19c",
   "metadata": {
    "deletable": false,
    "editable": false
   },
   "source": [
    "### PMF Plot of $X$\n",
    "\n",
    "<font color='red'>**Question 4.0.**</font> Modify the code below to plot the PMF of the random variable $X$ (number of days that have an average temperature above normal for next week). Recall that the PMF of $X$ is saved as `PMF_X`. (1 pt)\n",
    "\n",
    "1. Set the x-axis label to \"X\".\n",
    "2. Set the y-axis label to \"Probability\".\n",
    "3. The title should mention that this is the \"PMF\" of \"X\".\n",
    "\n",
    "Specify appropriate limits for both axes.\n",
    "\n",
    "You can refer to the code above for an example."
   ]
  },
  {
   "cell_type": "code",
   "execution_count": null,
   "id": "eea7baff-05bb-4bf1-a994-20f1056b67b1",
   "metadata": {
    "scrolled": true,
    "tags": []
   },
   "outputs": [],
   "source": [
    "# ANSWER CELL\n",
    "\n",
    "# Do not modify this line for grading purposes\n",
    "import matplotlib.pyplot as plt\n",
    "from matplotlib.collections import LineCollection\n",
    "\n",
    "# create figure and axes\n",
    "fig_2, ax_2 = plt.subplots(nrows=1, ncols=1, figsize=(5,2.5))\n",
    "\n",
    "# define values for X\n",
    "X = ...\n",
    "\n",
    "# insert your code to plot the PMF of X\n",
    "# set xlabel, ylabel, title, and any other properties\n",
    "...\n",
    "\n",
    "...\n",
    "\n",
    "# display the figure \n",
    "plt.show()"
   ]
  },
  {
   "cell_type": "code",
   "execution_count": null,
   "id": "1d6be9e1",
   "metadata": {
    "deletable": false,
    "editable": false
   },
   "outputs": [],
   "source": [
    "grader.check(\"q4.0\")"
   ]
  },
  {
   "cell_type": "markdown",
   "id": "d2f820c5-5330-497d-8ac4-e9e9c93b82e6",
   "metadata": {},
   "source": [
    "### Cumulative Distribution Function\n",
    "\n",
    "We want to compute the cumulative distribution function (CDF) of $X$. Let's first review the basic properties of a CDF."
   ]
  },
  {
   "cell_type": "markdown",
   "id": "e1423da5-cfb3-4292-a5ef-cbe3806b711a",
   "metadata": {
    "deletable": false,
    "editable": false,
    "jp-MarkdownHeadingCollapsed": true
   },
   "source": [
    "<font color='red'>**Question 5.0.**</font> What is(are) the property(ies) of a cumulative distribution function? \n",
    " Assign ALL that apply to the variable `q5_0`. (0.5 pts)\n",
    "\n",
    "**A**. The cumulative distribution function is a function that gives the probability that a discrete random variable is less than or equal to a specific value \\\n",
    "**B**. The cumulative distribution function of any discrete random variable should add up to 1 \\\n",
    "**C**. The values of the cumulative distribution function should always be greater than or equal to 0 and less than or equal to 1 \\\n",
    "**D**. For all discrete random variables, $F(-\\infty)=0$  and $F(+\\infty)=1$ \\\n",
    "**E**. The cumulative distribution function may be increasing, decreasing, or constant, as long as it reaches a final value of 1\\\n",
    "**F**. The cumulative distribution function is a non-decreasing function\n",
    "\n",
    "Answer in the next cell. Add each selected choice as a string and separate each two answer choices by a comma. For example, if you want to select `\"A\"` and `\"B\"`, your answer should be `\"A\", \"B\"`.\\\n",
    "Assign your answer to the given variable.\n",
    "Remember to put quotes around each answer choice.er choice."
   ]
  },
  {
   "cell_type": "code",
   "execution_count": null,
   "id": "78d4b759-41f2-4e96-8768-f18c6f4d84f6",
   "metadata": {
    "tags": []
   },
   "outputs": [],
   "source": [
    "# ANSWER CELL\n",
    "q5_0 = ...\n",
    "q5_0"
   ]
  },
  {
   "cell_type": "code",
   "execution_count": null,
   "id": "412b3d1d",
   "metadata": {
    "deletable": false,
    "editable": false
   },
   "outputs": [],
   "source": [
    "grader.check(\"q5.0\")"
   ]
  },
  {
   "cell_type": "markdown",
   "id": "2a104c3b-bac6-4db8-88e3-3ca9b277f0b1",
   "metadata": {},
   "source": [
    "If we have the PMF, then the CDF can be calculated as follows:\n",
    "\n",
    "$$ F(x)= P(X\\leq x)= \\sum \\limits _{x_i<x} ^{} p(x_i)$$\n",
    "\n",
    "`Python` provides several easy functions to do so."
   ]
  },
  {
   "cell_type": "markdown",
   "id": "9fe86da1-ea28-4aa1-bbe2-2b7bc69b2383",
   "metadata": {
    "deletable": false,
    "editable": false
   },
   "source": [
    "<font color='red'>**Question 5.1.**</font> Which of the following commands can be used to correctly calculate the CDF of $X$? Assign ALL that apply to the variable `q5_1`. Assume that we only want the CDF at the given values of $X$ (i.e., 0, 1, 2, ..., 7). (0.5 pts)\n",
    "\n",
    "**A.** `np.cumsum(PMF_X)` \\\n",
    "**B.** `sum(PMF_X)` \\\n",
    "**C.** `PMF_X.cumsum()`\n",
    "\n",
    "Answer in the next cell. Add each selected choice as a string and separate each two answer choices by a comma. For example, if you want to select `\"A\"` and `\"B\"`, your answer should be `\"A\", \"B\"`.\\\n",
    "Assign your answer to the given variable.\n",
    "Remember to put quotes around each answer choice.\n",
    "\n",
    "*You can try out the different functions and compare their output with a hand calculation.*"
   ]
  },
  {
   "cell_type": "code",
   "execution_count": null,
   "id": "6092be55-ab53-43a6-a6d6-b384c08cd937",
   "metadata": {
    "tags": []
   },
   "outputs": [],
   "source": [
    "# Try out different ways to compute CDF\n"
   ]
  },
  {
   "cell_type": "code",
   "execution_count": null,
   "id": "36402413-e31d-456d-87fc-3e40ded3109b",
   "metadata": {
    "tags": []
   },
   "outputs": [],
   "source": [
    "# ANSWER CELL\n",
    "q5_1 = ...\n",
    "q5_1"
   ]
  },
  {
   "cell_type": "code",
   "execution_count": null,
   "id": "517c7321",
   "metadata": {
    "deletable": false,
    "editable": false
   },
   "outputs": [],
   "source": [
    "grader.check(\"q5.1\")"
   ]
  },
  {
   "cell_type": "markdown",
   "id": "b98f1d94-0b40-4bd1-9694-5f50a0e96924",
   "metadata": {
    "deletable": false,
    "editable": false
   },
   "source": [
    "<font color='red'>**Question 5.2.**</font> Compute the CDF of $X$ using an appropriate function from the options above. Assign your answer to `CDF_X`. Do not just manually type the numeric answers. Use Python expressions that return the desired answer and assign the expression to the variable. (0.5 pts)"
   ]
  },
  {
   "cell_type": "code",
   "execution_count": null,
   "id": "d0c7dccb-1f3c-4dfa-9b71-b647a2f10715",
   "metadata": {
    "tags": []
   },
   "outputs": [],
   "source": [
    "# ANSWER CELL\n",
    "# Calculate the CDF of X\n",
    "CDF_X = ...\n",
    "print(f'CDF of X: {CDF_X}')"
   ]
  },
  {
   "cell_type": "code",
   "execution_count": null,
   "id": "bf3069fd",
   "metadata": {
    "deletable": false,
    "editable": false
   },
   "outputs": [],
   "source": [
    "grader.check(\"q5.2\")"
   ]
  },
  {
   "cell_type": "markdown",
   "id": "71473e1b-3162-4cca-a71e-985bd8330cb7",
   "metadata": {},
   "source": [
    "###  CDF Plot of $X$ \n",
    "\n",
    "Once we have computed the CDF values, we can plot it in `Python` using `plt.step()`."
   ]
  },
  {
   "cell_type": "markdown",
   "id": "b27f5ed0-9d16-4885-b65e-7dcdc2c0784e",
   "metadata": {
    "deletable": false,
    "editable": false
   },
   "source": [
    "<font color='red'>**Question 6.0.**</font> Modify the code below to plot the CDF of $X$ using the following command: `plt.step(X, CDF_X, c='r')`\n",
    "\n",
    "Is the plot correct? Assign the boolean value `True` to the variable `q6_0` if the plot is correct and `False` if it is incorrect. (0.5 pts)\n",
    "\n",
    "*Hint: Refer to the lecture notes to see the relation between CDF and PMF. The CDF should show \"jumps\" at each possible value of the random variable, and the value of the jump should be equal to the value of the PMF at the corresponding $x$ value. So, at $x_i$, the CDF should show a jump and the value of the jump should be equal to $p(x_i)$. In the same plot of the CDF, also plot the PMF using `plt.vlines(X, 0, PMF_X)`. Then, check to see where the jumps of the CDF occur and if their values are equal to the corresponding $p(x_i)$.*\n",
    "\n",
    "*Note that `X` in `plt.step(X, CDF_X, c='r')` is simply an array with all $X$ values in order (i.e., 0, 1, 2, etc.). You should have already created this array to plot the PMF.*"
   ]
  },
  {
   "cell_type": "code",
   "execution_count": null,
   "id": "d779ae2f-8364-4c2f-b289-fc05cf4118e4",
   "metadata": {
    "tags": []
   },
   "outputs": [],
   "source": [
    "# ANSWER CELL\n",
    "\n",
    "# Do not modify this line for grading purposes\n",
    "import matplotlib.pyplot as plt\n",
    "from matplotlib.lines import Line2D\n",
    "\n",
    "# create figure and axes\n",
    "fig_3, ax_3 = plt.subplots(nrows=1, ncols=1, figsize=(5,3))\n",
    "\n",
    "# insert your code to plot the CDF of X\n",
    "# also plot the PMF of X for easier comparison\n",
    "# set xlabel, ylabel, title, and any other properties\n",
    "...\n",
    "...\n",
    "\n",
    "...\n",
    "\n",
    "# display the figure \n",
    "plt.show()"
   ]
  },
  {
   "cell_type": "code",
   "execution_count": null,
   "id": "a2a7a182-196a-40a2-b397-a9da458a9626",
   "metadata": {
    "tags": []
   },
   "outputs": [],
   "source": [
    "# ANSWER CELL\n",
    "q6_0 = ...\n",
    "q6_0"
   ]
  },
  {
   "cell_type": "code",
   "execution_count": null,
   "id": "c752097b",
   "metadata": {
    "deletable": false,
    "editable": false
   },
   "outputs": [],
   "source": [
    "grader.check(\"q6.0\")"
   ]
  },
  {
   "cell_type": "markdown",
   "id": "c863ab50-4b7d-4ba2-b7cd-f8e726de6401",
   "metadata": {},
   "source": [
    "Well, would we ask you if the plot is correct if it were actually correct?! Now, let us (aka you) figure out how to plot it correctly. Read about the parameters for `plt.step()` [here](https://matplotlib.org/stable/api/_as_gen/matplotlib.pyplot.step.html). Specifically, read and understand what how the parameter `where` works."
   ]
  },
  {
   "cell_type": "markdown",
   "id": "0c3185f2-9c68-4f3b-9059-19fe015dc5d6",
   "metadata": {
    "deletable": false,
    "editable": false
   },
   "source": [
    "<font color='red'>**Question 6.1.**</font> Modify the code below to **correctly** plot the CDF of $X$. (0.5 pts)\n",
    "\n",
    "*To specify input parameters for a function, you simply add them between parentheses. For example, in `plt.step(X, CDF_X, c='r')`, we added `c='r'`, which is an input parameter that specifies the color of the line as red. Likewise, you can specify the input parameter `where` by adding it between parentheses after a comma.* \n",
    "\n",
    "*Try out the different options for `where` and then check to see which option shows the correct jumps of the CDF. You can also include in the same plot the PMF to make it easier to compare the values of the jumps.*"
   ]
  },
  {
   "cell_type": "code",
   "execution_count": null,
   "id": "1e24a5f9-ce6f-42b2-b776-af5c153bbd7a",
   "metadata": {
    "tags": []
   },
   "outputs": [],
   "source": [
    "# ANSWER CELL\n",
    "\n",
    "# Do not modify this line for grading purposes\n",
    "import matplotlib.pyplot as plt\n",
    "from matplotlib.lines import Line2D\n",
    "\n",
    "# create figure and axes\n",
    "fig_4, ax_4 = plt.subplots(nrows=1, ncols=1, figsize=(5,3))\n",
    "\n",
    "# insert your code to plot the CDF of X\n",
    "# also plot the PMF of X for easier comparison\n",
    "# set xlabel, ylabel, title, and any other properties\n",
    "...\n",
    "...\n",
    "\n",
    "...\n",
    "\n",
    "# display the figure \n",
    "plt.show()"
   ]
  },
  {
   "cell_type": "code",
   "execution_count": null,
   "id": "40ffc62c",
   "metadata": {
    "deletable": false,
    "editable": false
   },
   "outputs": [],
   "source": [
    "grader.check(\"q6.1\")"
   ]
  },
  {
   "cell_type": "markdown",
   "id": "62145535-0de1-4b99-94e3-eb45344deaa1",
   "metadata": {},
   "source": [
    "### Extra: Better Looking CDF\n",
    "\r",
    "We can present the CDF in a more polished manner. Run the code below to check the output. Feel free to explore the code on your own or ask us any questions you may have! You do not have to answer any questions for this plot."
   ]
  },
  {
   "cell_type": "code",
   "execution_count": null,
   "id": "512edecc-563d-4d3e-b371-2a5e8de64517",
   "metadata": {},
   "outputs": [],
   "source": [
    "# Run this cell to plot CDF of X\n",
    "\n",
    "# create figure and axes\n",
    "fig_5, ax_5 = plt.subplots(nrows=1, ncols=1, figsize=(5,3))\n",
    "\n",
    "# append values to X to plot lines extending below 0 and greater than the maximum\n",
    "X_appended = np.arange(-1,9,1)\n",
    "\n",
    "# insert a value 0 at the the first position (i.e., 0) of CDF_X\n",
    "CDF_X_appended = np.insert(CDF_X, 0, 0)\n",
    "\n",
    "# plot horizontal lines for CDF\n",
    "plt.hlines(y=CDF_X_appended, xmin=X_appended[:-1], xmax=X_appended[1:], color='r', zorder=1)\n",
    "\n",
    "# Plot white filled points\n",
    "plt.scatter(X_appended[1:-1], CDF_X_appended[:-1], color='white', s=20, zorder=2, edgecolor='r')\n",
    "\n",
    "# Plot solid filled points\n",
    "plt.scatter(X_appended[1:-1], CDF_X, color='r', s=20, zorder=2)\n",
    "\n",
    "# set title, axes lables, axes limits\n",
    "ax_5.set(title='Better Looking CDF',\n",
    "         xlabel='$X$', \n",
    "         ylabel='CDF',\n",
    "         ylim=[-0.05, 1.05],\n",
    "         xlim=[-.9, 7.9])\n",
    "\n",
    "# add grid lines on the y-axis\n",
    "plt.grid(axis=\"y\")\n",
    "\n",
    "# display the figure \n",
    "plt.show()"
   ]
  },
  {
   "cell_type": "markdown",
   "id": "16c53164-e4da-481d-b0b2-ec709258ad2a",
   "metadata": {},
   "source": [
    "### Probabilities\n",
    "\n",
    "Next, you will be asked to obtain the probabilities of different events based on the PMF and CDF of the number of days that have an average temperature above normal for a week in February, $X$."
   ]
  },
  {
   "cell_type": "markdown",
   "id": "72e9d98a-92fd-4a1b-ada0-d0144a9dd121",
   "metadata": {
    "deletable": false,
    "editable": false
   },
   "source": [
    "<font color='red'>**Question 7.0.**</font> What is the probability that at most two days will have an average temperature above normal for a week in February, $P(X\\leq 2)$? Assign your numeric answer to `q7_0`. You shouldn't be doing any new calculatios. Refer to the PMF and CDF of $X$ and then manually type the numeric answer. (0.25 pts)"
   ]
  },
  {
   "cell_type": "code",
   "execution_count": null,
   "id": "c230ac04-dc6e-452b-9b0d-7953b6246b3a",
   "metadata": {
    "tags": []
   },
   "outputs": [],
   "source": [
    "# ANSWER CELL\n",
    "q7_0 = ...\n",
    "f'The probability that at most two days will have an average temperature above normal is {q7_0:.3f}' if not isinstance(q7_0, type(Ellipsis)) else None"
   ]
  },
  {
   "cell_type": "code",
   "execution_count": null,
   "id": "4dc6f986",
   "metadata": {
    "deletable": false,
    "editable": false
   },
   "outputs": [],
   "source": [
    "grader.check(\"q7.0\")"
   ]
  },
  {
   "cell_type": "markdown",
   "id": "f344b985-7aa2-4935-aadd-c8fc773c622d",
   "metadata": {
    "deletable": false,
    "editable": false
   },
   "source": [
    "<font color='red'>**Question 7.1.**</font> What is the probability that less than two days will have an average temperature above normal for a week in February, $P(X < 2)$? Assign your numeric answer to `q7_1`. You shouldn't be doing any new calculatios. Refer to the PMF and CDF of $X$ and then manually type the numeric answer. (0.25 pts)"
   ]
  },
  {
   "cell_type": "code",
   "execution_count": null,
   "id": "fdcbf74c-e233-4d6c-b36e-8c6f44bde2dc",
   "metadata": {
    "tags": []
   },
   "outputs": [],
   "source": [
    "# ANSWER CELL\n",
    "q7_1 = ...\n",
    "f'The probability that less than two days will have an average temperature above normal is {q7_1:.3f}' if not isinstance(q7_1, type(Ellipsis)) else None"
   ]
  },
  {
   "cell_type": "code",
   "execution_count": null,
   "id": "466559b4",
   "metadata": {
    "deletable": false,
    "editable": false
   },
   "outputs": [],
   "source": [
    "grader.check(\"q7.1\")"
   ]
  },
  {
   "cell_type": "markdown",
   "id": "a056b6c6-f93c-415c-a2bc-5e9cd6ac3f07",
   "metadata": {
    "deletable": false,
    "editable": false
   },
   "source": [
    "<font color='red'>**Question 7.2.**</font> What is the probability that more than two days will have an average temperature above normal for a week in February, $P(X > 2)$? Assign your answer to `q7_2`. Use Python expressions that return the desired answer and assign the expression to the variable.(0.25 pts)"
   ]
  },
  {
   "cell_type": "code",
   "execution_count": null,
   "id": "9319922e-e5fc-4ffa-9829-f60f6a11fb32",
   "metadata": {
    "tags": []
   },
   "outputs": [],
   "source": [
    "# ANSWER CELL\n",
    "q7_2 = ...\n",
    "f'The probability that more than two days will have an average temperature above normal is {q7_2:.3f}' if not isinstance(q7_2, type(Ellipsis)) else None"
   ]
  },
  {
   "cell_type": "code",
   "execution_count": null,
   "id": "c8b4ebbe",
   "metadata": {
    "deletable": false,
    "editable": false
   },
   "outputs": [],
   "source": [
    "grader.check(\"q7.2\")"
   ]
  },
  {
   "cell_type": "markdown",
   "id": "db923ba5-4e72-4dba-9603-3e584d755e6f",
   "metadata": {
    "deletable": false,
    "editable": false
   },
   "source": [
    "<font color='red'>**Question 7.3.**</font> What is the probability that less than 3.5 days will have an average temperature above normal for a week in February, $P(X < 3.5)$? Assign your numeric answer to `q7_3`. You shouldn't be doing any new calculatios. Refer to the PMF and CDF of $X$ and then manually type the numeric answer. (0.5 pts)"
   ]
  },
  {
   "cell_type": "code",
   "execution_count": null,
   "id": "5602bdb6-dfb1-4a4b-b63d-0b65fc53a3cb",
   "metadata": {
    "tags": []
   },
   "outputs": [],
   "source": [
    "# ANSWER CELL\n",
    "q7_3 = ...\n",
    "f'The probability that less than 3.5 days will have an average temperature above normal is {q7_3:.3f}' if not isinstance(q7_3, type(Ellipsis)) else None"
   ]
  },
  {
   "cell_type": "code",
   "execution_count": null,
   "id": "7418e248",
   "metadata": {
    "deletable": false,
    "editable": false
   },
   "outputs": [],
   "source": [
    "grader.check(\"q7.3\")"
   ]
  },
  {
   "cell_type": "markdown",
   "id": "f6b81cab-f50c-4ec1-aa7e-0022662bfd6e",
   "metadata": {},
   "source": [
    "### Calculating Numerical Summaries \n",
    "\n",
    "In the lecture, we defined the mean of a discrete random variable as:\n",
    "\n",
    "$\\mu_X=E[X]= \\sum \\limits_{\\text{all } x_i}^{} x_i \\cdot p(x_i) = x_1 \\cdot p(x_1) + ... + x_n \\cdot p(x_n)$\n",
    "\n",
    "To calculate this, each $x_i$ value needs to be multiplied by its corresponding $p(x_i)$, and then the sum of all $x_i \\cdot p(x_i)$ is taken.\n",
    "\n",
    "If you have a numpy array containing all possible values of the random variable, let's call it array `X`, and another numpy array of the corresponding probabilities, let's call it array `PMF_X`, then the expression `X * PMF_X` will perform element-wise multiplication. It will return an array with values $[x_1 \\cdot p(x_1), \\ x_2 \\cdot p(x_2), \\ ..., \\ x_n \\cdot p(x_n)]$. Finally, the mean can be computed by summing the values of this new array, which can be done in Python using the `sum()` function.\n",
    "\n",
    "So, `sum(X * PMF_X)` is essentially equivalent to: $\\sum \\limits_{\\text{all } x_i}^{} x_i \\cdot p(x_i)$."
   ]
  },
  {
   "cell_type": "markdown",
   "id": "654a58ce-cfbd-4b53-af7c-ac7dd96ebe8e",
   "metadata": {
    "deletable": false,
    "editable": false
   },
   "source": [
    "<font color='red'>**Question 8.0.**</font> Calculate the mean value of the number of days that have an average temperature above normal for a week in February, $\\mu_X$. Assign your answer to `mean_X`. Do not just manually type the numeric answer. Use Python expressions that return the desired answer and assign the expression to the variable. (0.5 pts)"
   ]
  },
  {
   "cell_type": "code",
   "execution_count": null,
   "id": "0494e34b-2329-4544-b4fc-8238ecf4bf75",
   "metadata": {
    "tags": []
   },
   "outputs": [],
   "source": [
    "# ANSWER CELL\n",
    "mean_X = ...\n",
    "f'The mean of X is {mean_X:.3f} days' if not isinstance(mean_X, type(Ellipsis)) else None"
   ]
  },
  {
   "cell_type": "code",
   "execution_count": null,
   "id": "e1915e57",
   "metadata": {
    "deletable": false,
    "editable": false
   },
   "outputs": [],
   "source": [
    "grader.check(\"q8.0\")"
   ]
  },
  {
   "cell_type": "markdown",
   "id": "cc389a4b-3679-443f-8eb0-721043334d96",
   "metadata": {},
   "source": [
    "The variance of a discrete random variable can be determined using the following formula:\n",
    "\n",
    "$\\sigma_X^2=Var[X]= \\sum \\limits_{\\text{all } x_i}^{} (x_i-\\mu_X)^2 \\cdot p(x_i) = (x_1-\\mu_X)^2 p(x_1) + ... + (x_n-\\mu_X)^2 p(x_n)$\n",
    "\n",
    "To compute the variance in Python, we can utilize operators and functions similar to what we did for the mean.\n",
    "\n",
    "In this case, the expression `sum((X - mean_X)**2 * PMF_X)` is analogous to the mathematical expression $\\sum \\limits_{\\text{all } x_i}^{} (x_i-\\mu_X)^2 \\cdot p(x_i)$, where `X` is a numpy array of the values of the random variable, `mean_X` is a scalar that represents the mean of $X$, and `PMF_X` is a numpy array of the corresponding probabilities."
   ]
  },
  {
   "cell_type": "markdown",
   "id": "3bfef3bc-8b2d-4131-a0ab-e630b8c36e0c",
   "metadata": {
    "deletable": false,
    "editable": false
   },
   "source": [
    "<font color='red'>**Question 8.1.**</font> Calculate the **standard deviation** of the number of days that have an average temperature above normal for a week in February, $\\sigma_X$. Assign your answer to `stdev_X`. Do not just manually type the numeric answer. Use Python expressions that return the desired answer and assign the expression to the variable. (0.5 pts)"
   ]
  },
  {
   "cell_type": "code",
   "execution_count": null,
   "id": "722bae7b-777e-4d91-b802-2c2539ac9a15",
   "metadata": {
    "tags": []
   },
   "outputs": [],
   "source": [
    "# ANSWER CELL\n",
    "stdev_X = ...\n",
    "f'The standard deviation of X is {stdev_X:.3f} days' if not isinstance(stdev_X, type(Ellipsis)) else None"
   ]
  },
  {
   "cell_type": "code",
   "execution_count": null,
   "id": "aa4d3373",
   "metadata": {
    "deletable": false,
    "editable": false
   },
   "outputs": [],
   "source": [
    "grader.check(\"q8.1\")"
   ]
  },
  {
   "cell_type": "markdown",
   "id": "3ee19097-6338-4990-9ded-89702c48b4e7",
   "metadata": {},
   "source": [
    "Lastly, skewness can be determined using the following formula:\n",
    "\n",
    "$\\theta_X = {\\displaystyle\\sum \\limits_{all x_i}^{} \\left[\\left(\\frac{x_i-\\mu_X}{\\sigma_X}\\right)^3 \\cdot p(x_i)\\right]}$\n",
    "\n",
    "Recall that skewness is a numerical parameter that describes whether the distribution is left/negatively skewed, symmetric, or right/positively skewed."
   ]
  },
  {
   "cell_type": "markdown",
   "id": "c1aa2028-bc92-4f47-9cd3-e88ce75bf5ce",
   "metadata": {
    "deletable": false,
    "editable": false
   },
   "source": [
    "<font color='red'>**Question 8.2.**</font> Calculate the **skewness** of the number of days that have an average temperature above normal for a week in February, $\\theta_X$. Assign your answer to `skew_X`. Do not just manually type the numeric answer. Use Python expressions that return the desired answer and assign the expression to the variable. (0.5 pts)\n",
    "\n",
    "*Hint: Use the above equation and modify it to use `sum()`, multiplication, and exponentiation, just like the mean and variance equations.*"
   ]
  },
  {
   "cell_type": "code",
   "execution_count": null,
   "id": "da372858-8b64-4307-861f-a6347d465cca",
   "metadata": {
    "tags": []
   },
   "outputs": [],
   "source": [
    "# ANSWER CELL\n",
    "skew_X = ...\n",
    "f'The skewness of X is {skew_X:.3f}' if not isinstance(skew_X, type(Ellipsis)) else None"
   ]
  },
  {
   "cell_type": "code",
   "execution_count": null,
   "id": "26febe22",
   "metadata": {
    "deletable": false,
    "editable": false
   },
   "outputs": [],
   "source": [
    "grader.check(\"q8.2\")"
   ]
  },
  {
   "cell_type": "markdown",
   "id": "c638519f-ace2-4462-ae03-a97a056100eb",
   "metadata": {},
   "source": [
    "It is common to use the following guidelines to describe a distribution based on the skewness coefficient, $\\theta_X$:\n",
    "* $\\theta_X < -1$, then $X$ is highly negatively skewed\n",
    "* $-1 < \\theta_X < -0.5$, then $X$ is moderately negatively skewed\n",
    "* $-0.5 < \\theta_X < 0.5$, then $X$ is symmetric\n",
    "* $0.5< \\theta_X < 1$, then $X$ is moderately positively skewed\n",
    "* $\\theta_X > 1$, then $X$ is highly positively skewed"
   ]
  },
  {
   "cell_type": "markdown",
   "id": "1db4be85-5f1e-43cf-8ce6-5a5ac38dfcbb",
   "metadata": {
    "deletable": false,
    "editable": false
   },
   "source": [
    "<font color='red'>**Question 8.3.**</font> Based on the skewness value, $\\theta_X$, and the above definitions, what can you say about $X$? Assign your answer to the variable `q8_3` as a string. (0.25 pts)\n",
    "\n",
    "**A.** Symmetric \\\n",
    "**B.** Highly negatively skewed  \\\n",
    "**C.** Moderately negatively skewed  \\\n",
    "**D.** Moderately positively skewed  \\\n",
    "**E.** Highly positively skewed \n",
    "\n",
    "Your answer should be a string, e.g., `\"A\"`, `\"B\"`, etc.\\\n",
    "Remember to put quotes around your answer choice."
   ]
  },
  {
   "cell_type": "code",
   "execution_count": null,
   "id": "e00a02db-5944-40c1-b2d1-0cddd25f74ec",
   "metadata": {
    "tags": []
   },
   "outputs": [],
   "source": [
    "# ANSWER CELL\n",
    "q8_3 = ...\n",
    "q8_3"
   ]
  },
  {
   "cell_type": "code",
   "execution_count": null,
   "id": "0b35aea0",
   "metadata": {
    "deletable": false,
    "editable": false
   },
   "outputs": [],
   "source": [
    "grader.check(\"q8.3\")"
   ]
  },
  {
   "cell_type": "markdown",
   "id": "1002f9ba-5a2f-427c-8d34-d65c28659db7",
   "metadata": {},
   "source": [
    "Recall that $X$ represents the number of days that have an average temperature above normal for **a week** in February. We are interested in getting summary statistcs regarding the number of days that have an average temperature above normal for **the full month** of February. Assume that February has **exactly four weeks**."
   ]
  },
  {
   "cell_type": "markdown",
   "id": "c84609ab-3e5f-4c42-9ab6-1a3a7dbc7a4e",
   "metadata": {
    "deletable": false,
    "editable": false
   },
   "source": [
    "<font color='red'>**Question 8.4.**</font> Calculate the **mean** of the number of days that have an average temperature above normal for the full month of February. Assign your answer to `mean_month`. Do not just manually type the numeric answer. Use Python expressions that return the desired answer and assign the expression to the variable. Recall that the mean for one week is saved as variable `mean_X`. Do not approximate `mean_X`. Instead, use the actual value which is saved as variable `mean_X` in your calculation. (0.5 pts)"
   ]
  },
  {
   "cell_type": "code",
   "execution_count": null,
   "id": "80dc92a3-59d5-4935-8bca-6b06c2f727c1",
   "metadata": {
    "tags": []
   },
   "outputs": [],
   "source": [
    "# ANSWER CELL\n",
    "mean_month = ...\n",
    "f'The mean for the full month is {mean_month:.3f} days' if not isinstance(mean_month, type(Ellipsis)) else None"
   ]
  },
  {
   "cell_type": "code",
   "execution_count": null,
   "id": "61444e92",
   "metadata": {
    "deletable": false,
    "editable": false
   },
   "outputs": [],
   "source": [
    "grader.check(\"q8.4\")"
   ]
  },
  {
   "cell_type": "markdown",
   "id": "63f2b3d7-11c9-4eb9-8782-428efe7c78d3",
   "metadata": {
    "deletable": false,
    "editable": false
   },
   "source": [
    "<font color='red'>**Question 8.5.**</font> Calculate the **standard deviation** of the number of days that have an average temperature above normal for the full month of February. Assign your answer to `stdev_month`. Do not just manually type the numeric answer. Use Python expressions that return the desired answer and assign the expression to the variable. Recall that the standard deviation for one week is saved as variable `stdev_X`. Do not approximate `stdev_X`. Instead, use the actual value which is saved as variable `stdev_X` in your calculation. (0.5 pts)"
   ]
  },
  {
   "cell_type": "code",
   "execution_count": null,
   "id": "80d8173d-9869-4a18-bd74-21d27c28be19",
   "metadata": {
    "tags": []
   },
   "outputs": [],
   "source": [
    "# ANSWER CELL\n",
    "stdev_month = ...\n",
    "f'The standard deviation for the full month is {stdev_month:.3f} days' if not isinstance(stdev_month, type(Ellipsis)) else None"
   ]
  },
  {
   "cell_type": "code",
   "execution_count": null,
   "id": "46b8e6e0",
   "metadata": {
    "deletable": false,
    "editable": false
   },
   "outputs": [],
   "source": [
    "grader.check(\"q8.5\")"
   ]
  },
  {
   "cell_type": "markdown",
   "id": "f20bba6f",
   "metadata": {},
   "source": [
    "### You're done with this Lab!\n",
    "\n",
    "**Important submission information:** After completing the assignment, click on the Save icon from the Tool Bar &nbsp;<i class=\"fa fa-save\" style=\"font-size:16px;\"></i>&nbsp;. After saving your notebook, **run the cell with** `grader.check_all()` and confirm that you pass the same tests as in the notebook. Then, **run the final cell** `grader.export()` and click the link to download the zip file. Finally, go to Gradescope and submit the zip file to the corresponding assignment. \n",
    "\n",
    "**Once you have submitted, stay on the Gradescope page to confirm that you pass the same tests as in the notebook.**"
   ]
  },
  {
   "cell_type": "code",
   "execution_count": null,
   "id": "4d1647c8",
   "metadata": {
    "tags": []
   },
   "outputs": [],
   "source": [
    "%matplotlib inline\n",
    "img = mpimg.imread('resources/animal.jpg')\n",
    "imgplot = plt.imshow(img)\n",
    "imgplot.axes.get_xaxis().set_visible(False)\n",
    "imgplot.axes.get_yaxis().set_visible(False)\n",
    "print(\"Congratulations on finishing this lab!\")\n",
    "plt.show()"
   ]
  },
  {
   "cell_type": "markdown",
   "id": "9bdee603",
   "metadata": {
    "deletable": false,
    "editable": false
   },
   "source": [
    "---\n",
    "\n",
    "To double-check your work, the cell below will rerun all of the autograder tests."
   ]
  },
  {
   "cell_type": "code",
   "execution_count": null,
   "id": "c7bdf0e8",
   "metadata": {
    "deletable": false,
    "editable": false
   },
   "outputs": [],
   "source": [
    "grader.check_all()"
   ]
  },
  {
   "cell_type": "markdown",
   "id": "278f36df",
   "metadata": {
    "deletable": false,
    "editable": false
   },
   "source": [
    "## Submission\n",
    "\n",
    "Make sure you have run all cells in your notebook in order before running the cell below, so that all images/graphs appear in the output. The cell below will generate a zip file for you to submit. **Please save before exporting!**\n",
    "\n",
    "Make sure you submit the .zip file to Gradescope."
   ]
  },
  {
   "cell_type": "code",
   "execution_count": null,
   "id": "6f41f436",
   "metadata": {
    "deletable": false,
    "editable": false
   },
   "outputs": [],
   "source": [
    "# Save your notebook first, then run this cell to export your submission.\n",
    "grader.export(pdf=False)"
   ]
  },
  {
   "cell_type": "markdown",
   "id": "6246e7ed",
   "metadata": {},
   "source": [
    " "
   ]
  }
 ],
 "metadata": {
  "kernelspec": {
   "display_name": "Python 3 (ipykernel)",
   "language": "python",
   "name": "python3"
  },
  "language_info": {
   "codemirror_mode": {
    "name": "ipython",
    "version": 3
   },
   "file_extension": ".py",
   "mimetype": "text/x-python",
   "name": "python",
   "nbconvert_exporter": "python",
   "pygments_lexer": "ipython3",
   "version": "3.9.15"
  },
  "otter": {
   "OK_FORMAT": true,
   "assignment_name": "lab04",
   "tests": {
    "q1.0": {
     "name": "q1.0",
     "points": 0.5,
     "suites": [
      {
       "cases": [
        {
         "code": ">>> assert isinstance(q1_0, tuple)\n>>> assert all((isinstance(option, str) for option in q1_0))\n>>> assert all((len(option) == 1 for option in q1_0))\n",
         "failure_message": "Incorrect answer format. Make sure you only have the letter of your answer choice in quotes and answers are separated by commas.",
         "hidden": false,
         "locked": false,
         "points": 0,
         "success_message": "Correct answer format."
        },
        {
         "code": ">>> assert get_hash('A' in q1_0 or 'a' in q1_0) == 'f827cf462f62848df37c5e1e94a4da74'\n",
         "failure_message": "Incorrect answer.",
         "hidden": false,
         "locked": false,
         "points": 0.15
        },
        {
         "code": ">>> assert get_hash('B' in q1_0 or 'b' in q1_0) == 'f8320b26d30ab433c5a54546d21f414c'\n",
         "failure_message": "Incorrect answer.",
         "hidden": false,
         "locked": false,
         "points": 0.05
        },
        {
         "code": ">>> assert get_hash('C' in q1_0 or 'c' in q1_0) == 'f827cf462f62848df37c5e1e94a4da74'\n",
         "failure_message": "Incorrect answer.",
         "hidden": false,
         "locked": false,
         "points": 0.1
        },
        {
         "code": ">>> assert get_hash('D' in q1_0 or 'd' in q1_0) == 'f827cf462f62848df37c5e1e94a4da74'\n",
         "failure_message": "Incorrect answer.",
         "hidden": false,
         "locked": false,
         "points": 0.1
        },
        {
         "code": ">>> assert get_hash('E' in q1_0 or 'e' in q1_0) == 'f8320b26d30ab433c5a54546d21f414c'\n",
         "failure_message": "Incorrect answer.",
         "hidden": false,
         "locked": false,
         "points": 0.05
        },
        {
         "code": ">>> assert get_hash('F' in q1_0 or 'f' in q1_0) == 'f8320b26d30ab433c5a54546d21f414c'\n",
         "failure_message": "Incorrect answer.",
         "hidden": false,
         "locked": false,
         "points": 0.05
        }
       ],
       "scored": true,
       "setup": "",
       "teardown": "",
       "type": "doctest"
      }
     ]
    },
    "q1.1": {
     "name": "q1.1",
     "points": 0.25,
     "suites": [
      {
       "cases": [
        {
         "code": ">>> assert get_hash(q1_1) == 'f827cf462f62848df37c5e1e94a4da74'\n",
         "failure_message": "Incorrect answer.",
         "hidden": false,
         "locked": false,
         "points": 0.25
        }
       ],
       "scored": true,
       "setup": "",
       "teardown": "",
       "type": "doctest"
      }
     ]
    },
    "q2.0": {
     "name": "q2.0",
     "points": 0.5,
     "suites": [
      {
       "cases": [
        {
         "code": ">>> assert get_hash(round(q2_0, 16)) == '47323653b0e324130f69269940d8720d'\n",
         "failure_message": "Incorrect answer.",
         "hidden": false,
         "locked": false,
         "points": 0.5
        }
       ],
       "scored": true,
       "setup": "",
       "teardown": "",
       "type": "doctest"
      }
     ]
    },
    "q2.1": {
     "name": "q2.1",
     "points": 0.25,
     "suites": [
      {
       "cases": [
        {
         "code": ">>> assert get_hash(q2_1) == '159b75711ed4991efd775e327e6b048c'\n",
         "failure_message": "Incorrect answer.",
         "hidden": false,
         "locked": false,
         "points": 0.25
        }
       ],
       "scored": true,
       "setup": "",
       "teardown": "",
       "type": "doctest"
      }
     ]
    },
    "q2.2": {
     "name": "q2.2",
     "points": 0.5,
     "suites": [
      {
       "cases": [
        {
         "code": ">>> assert isinstance(q2_2, tuple)\n>>> assert all((isinstance(option, str) for option in q2_2))\n>>> assert all((len(option) == 1 for option in q2_2))\n",
         "failure_message": "Incorrect answer format. Make sure you only have the letter of your answer choice in quotes and answers are separated by commas.",
         "hidden": false,
         "locked": false,
         "points": 0,
         "success_message": "Correct answer format."
        },
        {
         "code": ">>> assert get_hash('A' in q2_2 or 'a' in q2_2) == 'f8320b26d30ab433c5a54546d21f414c'\n",
         "failure_message": "Incorrect answer.",
         "hidden": false,
         "locked": false,
         "points": 0.1
        },
        {
         "code": ">>> assert get_hash('B' in q2_2 or 'b' in q2_2) == 'f8320b26d30ab433c5a54546d21f414c'\n",
         "failure_message": "Incorrect answer.",
         "hidden": false,
         "locked": false,
         "points": 0.1
        },
        {
         "code": ">>> assert get_hash('C' in q2_2 or 'c' in q2_2) == 'f827cf462f62848df37c5e1e94a4da74'\n",
         "failure_message": "Incorrect answer.",
         "hidden": false,
         "locked": false,
         "points": 0.15
        },
        {
         "code": ">>> assert get_hash('D' in q2_2 or 'd' in q2_2) == 'f827cf462f62848df37c5e1e94a4da74'\n",
         "failure_message": "Incorrect answer.",
         "hidden": false,
         "locked": false,
         "points": 0.15
        }
       ],
       "scored": true,
       "setup": "",
       "teardown": "",
       "type": "doctest"
      }
     ]
    },
    "q3.0": {
     "name": "q3.0",
     "points": 0.5,
     "suites": [
      {
       "cases": [
        {
         "code": ">>> assert get_hash(len(PMF_X)) == 'c9f0f895fb98ab9159f51fd0297e236d'\n>>> assert get_hash(sum(PMF_X)) == 'e4c2e8edac362acab7123654b9e73432'\n>>> assert get_hash(round(PMF_X[0], 3)) == 'b14399cbaac6da4b5b733b483106383f'\n>>> assert get_hash(round(PMF_X[1], 3)) == '2f29acc3347fd6f6ff001c1337a94fd2'\n>>> assert get_hash(round(PMF_X[2], 3)) == '9ffc7a03c1959674fa8c0a7369460097'\n>>> assert get_hash(round(PMF_X[3], 3)) == '159b75711ed4991efd775e327e6b048c'\n>>> assert get_hash(round(PMF_X[4], 3)) == '9ffc7a03c1959674fa8c0a7369460097'\n>>> assert get_hash(round(PMF_X[5], 3)) == '3d522deaf85577451c01974654b36ad3'\n>>> assert get_hash(round(PMF_X[6], 3)) == 'e0d088d01b309e29e7e12e7b657d04c6'\n>>> assert get_hash(round(PMF_X[7], 3)) == 'f4881cfc4c6112c01b7cbb980bf0175c'\n",
         "failure_message": "Incorrect answer.",
         "hidden": false,
         "locked": false,
         "points": 0.5
        }
       ],
       "scored": true,
       "setup": "",
       "teardown": "",
       "type": "doctest"
      }
     ]
    },
    "q4.0": {
     "name": "q4.0",
     "points": 1.0,
     "suites": [
      {
       "cases": [
        {
         "code": ">>> assert type(fig_2).__name__ == 'Figure'\n>>> assert type(ax_2).__name__ == 'Axes'\n",
         "failure_message": "Make sure to create a figure with 1 axes and assign them to \"fig_2\" and \"ax_2\".",
         "hidden": false,
         "locked": false,
         "points": 0
        },
        {
         "code": ">>> assert isinstance(ax_2.collections[0], LineCollection)\n",
         "failure_message": "Make sure you are plotting to ax_2 using vlines().",
         "hidden": false,
         "locked": false,
         "points": 0
        },
        {
         "code": ">>> assert get_hash(len(X)) == 'c9f0f895fb98ab9159f51fd0297e236d'\n>>> assert get_hash(sum(X)) == '33e75ff09dd601bbe69f351039152189'\n",
         "failure_message": "Check X values. Refer to the table above.",
         "hidden": false,
         "locked": false,
         "points": 0.1
        },
        {
         "code": ">>> assert get_hash(len(ax_2.collections[0].get_segments())) == 'c9f0f895fb98ab9159f51fd0297e236d'\n>>> assert all((segment.size == 4 for segment in ax_2.collections[0].get_segments()))\n>>> assert all((np.unique(segment[:, 0])[0] == count for (segment, count) in zip(ax_2.collections[0].get_segments(), np.arange(8))))\n>>> assert all((np.isclose(np.sum(segment[:, 1]), value, atol=0.001) for (segment, value) in zip(ax_2.collections[0].get_segments(), PMF_X)))\n",
         "failure_message": "Check the plotted values.",
         "hidden": false,
         "locked": false,
         "points": 0.5
        },
        {
         "code": ">>> assert get_hash('X' in ax_2.get_xlabel().upper()) == 'f827cf462f62848df37c5e1e94a4da74'\n",
         "failure_message": "Check x-axis label.",
         "hidden": false,
         "locked": false,
         "points": 0.15
        },
        {
         "code": ">>> assert get_hash('PROBABILITY' in ax_2.get_ylabel().upper()) == 'f827cf462f62848df37c5e1e94a4da74'\n",
         "failure_message": "Check y-axis label.",
         "hidden": false,
         "locked": false,
         "points": 0.15
        },
        {
         "code": ">>> keywords = ['PMF', 'X']\n>>> assert all((word in ax_2.get_title().upper() for word in keywords))\n",
         "failure_message": "Check plot title.",
         "hidden": false,
         "locked": false,
         "points": 0.1
        }
       ],
       "scored": true,
       "setup": "",
       "teardown": "",
       "type": "doctest"
      }
     ]
    },
    "q5.0": {
     "name": "q5.0",
     "points": 0.5,
     "suites": [
      {
       "cases": [
        {
         "code": ">>> assert isinstance(q5_0, tuple)\n>>> assert all((isinstance(option, str) for option in q5_0))\n>>> assert all((len(option) == 1 for option in q5_0))\n",
         "failure_message": "Incorrect answer format. Make sure you only have the letter of your answer choice in quotes and answers are separated by commas.",
         "hidden": false,
         "locked": false,
         "points": 0,
         "success_message": "Correct answer format."
        },
        {
         "code": ">>> assert get_hash('A' in q5_0 or 'a' in q5_0) == 'f827cf462f62848df37c5e1e94a4da74'\n",
         "failure_message": "Incorrect answer.",
         "hidden": false,
         "locked": false,
         "points": 0.1
        },
        {
         "code": ">>> assert get_hash('B' in q5_0 or 'b' in q5_0) == 'f8320b26d30ab433c5a54546d21f414c'\n",
         "failure_message": "Incorrect answer.",
         "hidden": false,
         "locked": false,
         "points": 0.05
        },
        {
         "code": ">>> assert get_hash('C' in q5_0 or 'c' in q5_0) == 'f827cf462f62848df37c5e1e94a4da74'\n",
         "failure_message": "Incorrect answer.",
         "hidden": false,
         "locked": false,
         "points": 0.1
        },
        {
         "code": ">>> assert get_hash('D' in q5_0 or 'd' in q5_0) == 'f827cf462f62848df37c5e1e94a4da74'\n",
         "failure_message": "Incorrect answer.",
         "hidden": false,
         "locked": false,
         "points": 0.1
        },
        {
         "code": ">>> assert get_hash('E' in q5_0 or 'e' in q5_0) == 'f8320b26d30ab433c5a54546d21f414c'\n",
         "failure_message": "Incorrect answer.",
         "hidden": false,
         "locked": false,
         "points": 0.05
        },
        {
         "code": ">>> assert get_hash('F' in q5_0 or 'f' in q5_0) == 'f827cf462f62848df37c5e1e94a4da74'\n",
         "failure_message": "Incorrect answer.",
         "hidden": false,
         "locked": false,
         "points": 0.1
        }
       ],
       "scored": true,
       "setup": "",
       "teardown": "",
       "type": "doctest"
      }
     ]
    },
    "q5.1": {
     "name": "q5.1",
     "points": 0.5,
     "suites": [
      {
       "cases": [
        {
         "code": ">>> assert isinstance(q5_1, tuple)\n>>> assert all((isinstance(option, str) for option in q5_1))\n>>> assert all((len(option) == 1 for option in q5_1))\n",
         "failure_message": "Incorrect answer format. Make sure you only have the letter of your answer choice in quotes and answers are separated by commas.",
         "hidden": false,
         "locked": false,
         "points": 0,
         "success_message": "Correct answer format."
        },
        {
         "code": ">>> assert get_hash('A' in q5_1 or 'a' in q5_1) == 'f827cf462f62848df37c5e1e94a4da74'\n",
         "failure_message": "Incorrect answer.",
         "hidden": false,
         "locked": false,
         "points": 0.2
        },
        {
         "code": ">>> assert get_hash('B' in q5_1 or 'b' in q5_1) == 'f8320b26d30ab433c5a54546d21f414c'\n",
         "failure_message": "Incorrect answer.",
         "hidden": false,
         "locked": false,
         "points": 0.1
        },
        {
         "code": ">>> assert get_hash('C' in q5_1 or 'c' in q5_1) == 'f827cf462f62848df37c5e1e94a4da74'\n",
         "failure_message": "Incorrect answer.",
         "hidden": false,
         "locked": false,
         "points": 0.2
        }
       ],
       "scored": true,
       "setup": "",
       "teardown": "",
       "type": "doctest"
      }
     ]
    },
    "q5.2": {
     "name": "q5.2",
     "points": 0.5,
     "suites": [
      {
       "cases": [
        {
         "code": ">>> assert get_hash(len(CDF_X)) == 'c9f0f895fb98ab9159f51fd0297e236d'\n>>> assert get_hash(sum(CDF_X)) == 'aa756336a7580553c54be76c83fcdc25'\n",
         "failure_message": "Incorrect answer.",
         "hidden": false,
         "locked": false,
         "points": 0.5
        }
       ],
       "scored": true,
       "setup": "",
       "teardown": "",
       "type": "doctest"
      }
     ]
    },
    "q6.0": {
     "name": "q6.0",
     "points": 0.5,
     "suites": [
      {
       "cases": [
        {
         "code": ">>> assert type(fig_3).__name__ == 'Figure'\n>>> assert type(ax_3).__name__ == 'Axes'\n",
         "failure_message": "Make sure to create a figure with 1 axes and assign them to \"fig_3\" and \"ax_3\".",
         "hidden": false,
         "locked": false,
         "points": 0
        },
        {
         "code": ">>> assert isinstance(ax_3.lines[0], Line2D)\n",
         "failure_message": "Make sure you are plotting to ax_3 using step().",
         "hidden": false,
         "locked": false,
         "points": 0
        },
        {
         "code": ">>> assert get_hash(sum(ax_3.lines[0].get_xdata())) == '33e75ff09dd601bbe69f351039152189'\n>>> assert get_hash(len(ax_3.lines[0].get_xdata())) == 'c9f0f895fb98ab9159f51fd0297e236d'\n>>> assert get_hash(sum(ax_3.lines[0].get_ydata())) == 'aa756336a7580553c54be76c83fcdc25'\n>>> assert get_hash(len(ax_3.lines[0].get_ydata())) == 'c9f0f895fb98ab9159f51fd0297e236d'\n>>> assert get_hash(ax_3.lines[0].get_drawstyle()) == '476489a3f6634409f06ea1d7e6eef3fa'\n",
         "failure_message": "Check the arguments of plt.step()",
         "hidden": false,
         "locked": false,
         "points": 0.25
        },
        {
         "code": ">>> assert get_hash(q6_0) == 'f8320b26d30ab433c5a54546d21f414c'\n",
         "failure_message": "Incorrect answer. Are the jumps equal to the PMF values at each x value?",
         "hidden": false,
         "locked": false,
         "points": 0.25
        }
       ],
       "scored": true,
       "setup": "",
       "teardown": "",
       "type": "doctest"
      }
     ]
    },
    "q6.1": {
     "name": "q6.1",
     "points": 0.5,
     "suites": [
      {
       "cases": [
        {
         "code": ">>> assert type(fig_4).__name__ == 'Figure'\n>>> assert type(ax_4).__name__ == 'Axes'\n",
         "failure_message": "Make sure to create a figure with 1 axes and assign them to \"fig_4\" and \"ax_4\".",
         "hidden": false,
         "locked": false,
         "points": 0
        },
        {
         "code": ">>> assert isinstance(ax_4.lines[0], Line2D)\n",
         "failure_message": "Make sure you are plotting to ax_4 using step().",
         "hidden": false,
         "locked": false,
         "points": 0
        },
        {
         "code": ">>> assert get_hash(sum(ax_4.lines[0].get_xdata())) == '33e75ff09dd601bbe69f351039152189'\n>>> assert get_hash(len(ax_4.lines[0].get_xdata())) == 'c9f0f895fb98ab9159f51fd0297e236d'\n>>> assert get_hash(sum(ax_4.lines[0].get_ydata())) == 'aa756336a7580553c54be76c83fcdc25'\n>>> assert get_hash(len(ax_4.lines[0].get_ydata())) == 'c9f0f895fb98ab9159f51fd0297e236d'\n>>> assert get_hash(ax_4.lines[0].get_drawstyle()) == 'ae9b02c3ff4dccafc125288ab2f2cfd8'\n",
         "failure_message": "Check the arguments of plt.step()",
         "hidden": false,
         "locked": false,
         "points": 0.5
        }
       ],
       "scored": true,
       "setup": "",
       "teardown": "",
       "type": "doctest"
      }
     ]
    },
    "q7.0": {
     "name": "q7.0",
     "points": 0.25,
     "suites": [
      {
       "cases": [
        {
         "code": ">>> assert get_hash(round(q7_0, 10)) == '6780987c038ab92332702313b6c3f64a'\n",
         "failure_message": "Incorrect answer.",
         "hidden": false,
         "locked": false,
         "points": 0.25
        }
       ],
       "scored": true,
       "setup": "",
       "teardown": "",
       "type": "doctest"
      }
     ]
    },
    "q7.1": {
     "name": "q7.1",
     "points": 0.25,
     "suites": [
      {
       "cases": [
        {
         "code": ">>> assert get_hash(round(q7_1, 10)) == '5d6182b8169f820c3e247e91131138ea'\n",
         "failure_message": "Incorrect answer.",
         "hidden": false,
         "locked": false,
         "points": 0.25
        }
       ],
       "scored": true,
       "setup": "",
       "teardown": "",
       "type": "doctest"
      }
     ]
    },
    "q7.2": {
     "name": "q7.2",
     "points": 0.25,
     "suites": [
      {
       "cases": [
        {
         "code": ">>> assert get_hash(round(q7_2, 10)) == '1033ec73b013426ab1d5b8357e546714'\n",
         "failure_message": "Incorrect answer.",
         "hidden": false,
         "locked": false,
         "points": 0.25
        }
       ],
       "scored": true,
       "setup": "",
       "teardown": "",
       "type": "doctest"
      }
     ]
    },
    "q7.3": {
     "name": "q7.3",
     "points": 0.5,
     "suites": [
      {
       "cases": [
        {
         "code": ">>> assert get_hash(round(q7_3, 10)) == '7e4fb13bfeb75d9fa2b89864024247f2'\n",
         "failure_message": "Incorrect answer.",
         "hidden": false,
         "locked": false,
         "points": 0.5
        }
       ],
       "scored": true,
       "setup": "",
       "teardown": "",
       "type": "doctest"
      }
     ]
    },
    "q8.0": {
     "name": "q8.0",
     "points": 0.5,
     "suites": [
      {
       "cases": [
        {
         "code": ">>> assert get_hash(round(mean_X, 10)) == 'cd294afb08705a802b70df0a63743c16'\n",
         "failure_message": "Incorrect answer.",
         "hidden": false,
         "locked": false,
         "points": 0.5
        }
       ],
       "scored": true,
       "setup": "",
       "teardown": "",
       "type": "doctest"
      }
     ]
    },
    "q8.1": {
     "name": "q8.1",
     "points": 0.5,
     "suites": [
      {
       "cases": [
        {
         "code": ">>> assert get_hash(round(stdev_X, 10)) == 'de14d24886946cd9a7bd80becf861ec0'\n",
         "failure_message": "Incorrect answer.",
         "hidden": false,
         "locked": false,
         "points": 0.5
        }
       ],
       "scored": true,
       "setup": "",
       "teardown": "",
       "type": "doctest"
      }
     ]
    },
    "q8.2": {
     "name": "q8.2",
     "points": 0.5,
     "suites": [
      {
       "cases": [
        {
         "code": ">>> assert get_hash(round(skew_X, 10)) == '3dbfc293c1f8b5c0206e86eefef2e028'\n",
         "failure_message": "Incorrect answer.",
         "hidden": false,
         "locked": false,
         "points": 0.5
        }
       ],
       "scored": true,
       "setup": "",
       "teardown": "",
       "type": "doctest"
      }
     ]
    },
    "q8.3": {
     "name": "q8.3",
     "points": 0.25,
     "suites": [
      {
       "cases": [
        {
         "code": ">>> assert len(q8_3) == 1\n>>> assert isinstance(q8_3, str)\n",
         "failure_message": "Incorrect answer format. Make sure you only have the letter of your answer choice in quotes.",
         "hidden": false,
         "locked": false,
         "points": 0,
         "success_message": "Correct answer format."
        },
        {
         "code": ">>> assert get_hash(q8_3.upper()) == '7fc56270e7a70fa81a5935b72eacbe29'\n",
         "failure_message": "Incorrect answer.",
         "hidden": false,
         "locked": false,
         "points": 0.25
        }
       ],
       "scored": true,
       "setup": "",
       "teardown": "",
       "type": "doctest"
      }
     ]
    },
    "q8.4": {
     "name": "q8.4",
     "points": 0.5,
     "suites": [
      {
       "cases": [
        {
         "code": ">>> assert get_hash(round(mean_month, 10)) == '3af4a86e137732480173bbc9f21f2e7f'\n",
         "failure_message": "Incorrect answer.",
         "hidden": false,
         "locked": false,
         "points": 0.5
        }
       ],
       "scored": true,
       "setup": "",
       "teardown": "",
       "type": "doctest"
      }
     ]
    },
    "q8.5": {
     "name": "q8.5",
     "points": 0.5,
     "suites": [
      {
       "cases": [
        {
         "code": ">>> assert get_hash(round(stdev_month, 10)) == '9f55f7a65ca90890c9f0aea02f6657cb'\n",
         "failure_message": "Incorrect answer.",
         "hidden": false,
         "locked": false,
         "points": 0.5
        }
       ],
       "scored": true,
       "setup": "",
       "teardown": "",
       "type": "doctest"
      }
     ]
    }
   }
  }
 },
 "nbformat": 4,
 "nbformat_minor": 5
}
