{
 "cells": [
  {
   "cell_type": "code",
   "execution_count": null,
   "id": "c7953a9f",
   "metadata": {
    "deletable": false,
    "editable": false
   },
   "outputs": [],
   "source": [
    "# Initialize Otter\n",
    "import otter\n",
    "grader = otter.Notebook(\"lab06.ipynb\")"
   ]
  },
  {
   "cell_type": "markdown",
   "id": "5af9dc94",
   "metadata": {},
   "source": [
    "### CE 93: Lab Assignment 06\n",
    "\n",
    "You must submit the lab to Gradescope by the due date. You will submit the zip file produced by running the final cell of the assignment.\n",
    "\n",
    "## About this Lab\n",
    "The objective of this assignment is to work with different common discrete and continuous distributions.\n",
    "\n",
    "## Instructions \n",
    "**Run the first cell, Initialize Otter**, to import the autograder and submission exporter.\n",
    "\n",
    "Throughout the assignment, replace `...` with your answers. We use `...` as a placeholder and theses should be deleted and replaced with your answers.\n",
    "\n",
    "Any part listed as a \"<font color='red'>**Question**</font>\" should be answered to receive credit.\n",
    "\n",
    "**Please save your work after every question!**\n",
    "\n",
    "To read the documentation on a Python function, you can type `help()` and add the function name between parentheses.\n",
    "\n",
    "**Run the cell below**, to import the required modules."
   ]
  },
  {
   "cell_type": "code",
   "execution_count": null,
   "id": "f3463c41",
   "metadata": {},
   "outputs": [],
   "source": [
    "# Please run this cell, and do not modify the contents\n",
    "import math\n",
    "import numpy as np\n",
    "import scipy\n",
    "from scipy.stats import *                    # common distributions\n",
    "import pandas as pd\n",
    "import statistics as stats\n",
    "import cmath\n",
    "import re\n",
    "import matplotlib.pyplot as plt\n",
    "import matplotlib.image as mpimg\n",
    "import hashlib\n",
    "import ipywidgets as widgets\n",
    "from ipywidgets import FileUpload\n",
    "from IPython.display import display\n",
    "from PIL import Image\n",
    "import os\n",
    "import resources\n",
    "\n",
    "def get_hash(num):\n",
    "    \"\"\"Helper function for assessing correctness\"\"\"\n",
    "    return hashlib.md5(str(num).encode()).hexdigest()"
   ]
  },
  {
   "cell_type": "markdown",
   "id": "97eac86e",
   "metadata": {},
   "source": [
    "### Introduction\n",
    "\n",
    "Construction is a part of every day life for most driving Californians. It is pretty common to come across one or more instances of traffic being redirected during daily commute. CalTrans (California Department of Transportation) is interested in the amount of cars using Highway 17 every day because they will need to **redirect traffic in one lane** in order to fix a pothole. Because this is a busy highway, they plan to complete the construction at around 11pm on a weekday.\n",
    "\n",
    "They have asked you, as someone with experience in engineering data analysis, to help them understand the traffic patterns and the impact of the planned construction. So, in this lab, you will use properties of common distributions to perform these analyses."
   ]
  },
  {
   "cell_type": "markdown",
   "id": "099ef9a3-bf39-48f3-a8fc-aea0002ea4ce",
   "metadata": {},
   "source": [
    "### Modeling the Number of Cars"
   ]
  },
  {
   "cell_type": "markdown",
   "id": "566855d6-8b09-49ce-bd0c-e83f807d52ae",
   "metadata": {
    "deletable": false,
    "editable": false
   },
   "source": [
    "<font color='red'>**Question 1.0.**</font> Assume the number of cars that pass through the construction part of the Highway can be modeled as a **Poisson distribution**. Based on the lecture notes, what is(are) possible input parameter(s) for the Poisson distribution? Assign ALL that apply to the variable `q1_0`. (0.5 pts)\n",
    "\n",
    "**A.** Average rate of occurrence \\\n",
    "**B.** Standard deviation of occurrence \\\n",
    "**C.** Probability of success \\\n",
    "**D.** Average number of occurrence \\\n",
    "**E.** Number of trials \\\n",
    "**F.** None of the options\n",
    "\n",
    "Answer in the next cell. Add each selected choice as a string and separate each two answer choices by a comma. For example, if you want to select `\"A\"` and `\"B\"`, your answer should be `\"A\", \"B\"`.\\\n",
    "Assign your answer to the given variable.\n",
    "Remember to put quotes around each answer choice."
   ]
  },
  {
   "cell_type": "code",
   "execution_count": null,
   "id": "b68ee17d-95fc-4093-be4d-053046d954eb",
   "metadata": {
    "tags": []
   },
   "outputs": [],
   "source": [
    "# ANSWER CELL\n",
    "q1_0 = ...\n",
    "q1_0"
   ]
  },
  {
   "cell_type": "code",
   "execution_count": null,
   "id": "e9ca8942",
   "metadata": {
    "deletable": false,
    "editable": false
   },
   "outputs": [],
   "source": [
    "grader.check(\"q1.0\")"
   ]
  },
  {
   "cell_type": "markdown",
   "id": "68755de4-b347-4a2c-8881-0df76ba3c6d2",
   "metadata": {},
   "source": [
    "### Poisson Distribution using `scipy.stats`\n",
    "The `scipy.stats` module contains a large number of common probability distributions. After importing `scipy.stats` (which was done in the second Code cell above), we can use built-in methods to get the probability mass function, cumulative density function, mean, variance, and more of a Poisson distribution. However, it is **very important** to understand the inputs to these distributions in Python, as they might differ from what we discussed in class.\n",
    "\n",
    "Read the documentation for `scipy.stats.poisson` [here](https://docs.scipy.org/doc/scipy/reference/generated/scipy.stats.poisson.html). This function in Python takes one input parameters, which is called `mu` (we defined it as $\\lambda$ in the lecture).\n",
    "\n",
    "In the documentation of `scipy.stats.poisson`, the probability mass function (PMF) of the Poisson distribution is given as:\n",
    "\n",
    "$$f(k) = \\text{exp}(-\\mu)\\dfrac{\\mu^k}{k!}, \\ \\ \\ k = \\{0, 1, 2, ...\\}$$\n",
    "\n",
    "This is equivalent to what we defined in the lecture. If $\\lambda$ is the average **number** of occurrences in the time interval we are interested in, $t$, we defined the PMF as:\n",
    "\n",
    "$$f(x) = \\dfrac{e^{-\\lambda} \\lambda^x}{x!}, \\ \\ \\ x = \\{0, 1, 2, ...\\}$$\n",
    "\n",
    "If $\\lambda$ is the average **rate** of occurrences in the time interval we are interested in, $t$, we defined the PMF as:\n",
    "\n",
    "$$f(x) = \\dfrac{e^{-\\lambda t} (\\lambda t)^x}{x!}, \\ \\ \\ x = \\{0, 1, 2, ...\\}$$\n",
    "\n",
    "By comparing the given equation for the probability mass function in the documentation of `scipy.stats.poisson` with the lecture notes, it should be evident that $\\mu$ represents the average **number** of occurrences in the time interval we are interested in, $t$."
   ]
  },
  {
   "cell_type": "markdown",
   "id": "5c89c3a0-ba8f-4316-aa3a-cd740f0b44b5",
   "metadata": {},
   "source": [
    "### Probability Mass Function\n",
    "\n",
    "To get the probability mass function of a Poisson distribution in Python, we can use `poisson.pmf(k, mu)`.\n",
    "\n",
    "The input `mu` is the parameter of the distribution as discussed above. The input `k` represents possible values of the random variable (equivalent to $x$). \n",
    "\n",
    "`k` could be a single value:\n",
    "> For example, if the average number of occurrences is 1 and you want to compute $P(X=3)$ for a Poisson distribution, you can directly use `poisson.pmf(k=3, mu=1)`\n",
    "\n",
    "`k` could also be a data structure:\n",
    "> For example, if the average number of occurrences is 1 and you want to compute $P(X=0), P(X=1), P(X=2), P(X=3),$ for a Poisson distribution, you can directly use `poisson.pmf(k=np.arange(4), mu=1)`\n",
    "\n",
    "<div class=\"alert alert-block alert-warning\"> <b>NOTE!</b> <code>np.arange(start, stop, step)</code> is used to create arrays that are in order and evenly spaced. <code>start</code> is the number at which to start the array and is an optional argument, and thus, if not specified, it will take the default value 0. <code>stop</code> is the number at which to stop the array (excluded) and is a required argument. <code>step</code> is the increment in the values of the array and is an optional argument, and thus, if not specified, it will take the default value 1. So when using <code>np.arange(4)</code>, since there is only one argument, this has to be the required argument <code>stop</code>. So, <code>start</code> and <code>step</code> are assigned their default values. This means that <code>np.arange(4)</code> is equivalent to <code>np.arange(0, 4, 1)</code>. Keep in mind that the value <code>stop</code> is excluded from the array, so <code>np.arange(4)</code> creates an array with the values [0, 1, 2, 3]. </div>"
   ]
  },
  {
   "cell_type": "markdown",
   "id": "7e281421",
   "metadata": {},
   "source": [
    "Recall that CalTrans is interested in the amount of cars using Highway 17 because they will need to **redirect traffic in one lane** in order to fix a pothole. Because this is a busy highway, they plan to complete the construction at around 11pm on a weekday.\n",
    "\n",
    "Based on historical data, the average **rate** of cars passing on one lane at 11pm on a weekday is 1.2 cars **per minute**. CalTrans estimates that the construction will take between 1 to 2 **hours**.\n",
    "\n",
    "For simplicity, we will use **1.5 hours** as the duration we are interested in (middle value of the estimate provided by CalTrans of 1 to 2 hours)."
   ]
  },
  {
   "cell_type": "markdown",
   "id": "6c96ff84-89dc-40c3-a1a6-d0d002cb3bd1",
   "metadata": {
    "deletable": false,
    "editable": false
   },
   "source": [
    "<font color='red'>**Question 2.0.**</font> What is the probability that exactly 100 cars will need to be redirected if the construction project takes 1.5 hours? Recall that the average rate is 1.2 cars per minute. Assign your answer to `q2_0`. Do not just manually type the numeric answer. Use Python expressions that return the desired answer and assign them to the variable. (0.5 pts)\n",
    "\n",
    "*Hint: `poisson.pmf(k, mu)` returns the probability mass function of a Poisson distribution. So, you simply need to use the value of `k`, which represents the number of occurrences of interest, and the correct value of `mu`, which represents the average number of occurrences in the time interval we are interested in.*"
   ]
  },
  {
   "cell_type": "code",
   "execution_count": null,
   "id": "c0fe5a40-6358-40d5-ae80-b9abad8892a4",
   "metadata": {
    "tags": []
   },
   "outputs": [],
   "source": [
    "# ANSWER CELL\n",
    "q2_0 = ...\n",
    "print(f'Probability of exactly 100 cars passing is P(X=100) = {q2_0:.3f}')"
   ]
  },
  {
   "cell_type": "code",
   "execution_count": null,
   "id": "869e8790",
   "metadata": {
    "deletable": false,
    "editable": false
   },
   "outputs": [],
   "source": [
    "grader.check(\"q2.0\")"
   ]
  },
  {
   "cell_type": "markdown",
   "id": "34294fc4",
   "metadata": {},
   "source": [
    "Next, you want to plot the full probability mass function of the number of cars."
   ]
  },
  {
   "cell_type": "markdown",
   "id": "f024ed78-6181-46f3-9ef7-c01a3dff7454",
   "metadata": {
    "deletable": false,
    "editable": false
   },
   "source": [
    "<font color='red'>**Question 2.1.**</font> Plot the PMF of the number of cars during a duration of 1.5 hours. Follow these steps: (1.0 pt)\n",
    "\n",
    "1. Create an array named `k` for the possible number of cars starting at 0 and ending at 200 (inclusive): {0, 1, 2, ..., 199, 200}\n",
    "2. Calculate the input parameter `mu` correctly based on the documentation of `scipy.stats.poisson`. Recall that the average rate is 1.2 cars per minute and we want the probability mass function over a duration of 1.5 hours.\n",
    "3. Plot the PMF using [`plt.plot()`](https://matplotlib.org/stable/api/_as_gen/matplotlib.pyplot.plot.html). Click on the function to read its documentation. Set the line style of the plot to a dotted line  `linestyle = ':'` and the marker to a circle `marker = 'o'`.\n",
    "4. Set the x-axis label to 'Number of cars' and the y-axis label to 'Probability'\n",
    "\n",
    "*Hint: Remember that `poisson.pmf(k, mu)` returns the probability mass function of a Poisson distribution. So, we simply need to create an array for the possible values of the number of cars, `k`, calculate the probability mass function at all of the possible values of the number of cars using `poisson.pmf(k, mu)`, and then plot them.*"
   ]
  },
  {
   "cell_type": "code",
   "execution_count": null,
   "id": "50e9ce57-f2ac-4447-aa25-754cadce02f4",
   "metadata": {
    "scrolled": true,
    "tags": []
   },
   "outputs": [],
   "source": [
    "# ANSWER CELL\n",
    "\n",
    "# Do not modify this line for grading purposes\n",
    "import matplotlib.pyplot as plt\n",
    "from matplotlib.lines import Line2D\n",
    "\n",
    "# Edit the code below to plot the PMF of the number of cars (only edit where you have ...)\n",
    "\n",
    "# Create an array for the possible values of the random variable\n",
    "# Recall that np.arange(start, stop, step) returns values within the half-open interval [start, stop),\n",
    "# with spacing between the values given by step: [start, start+step, start+2*step, ..., stop-step].\n",
    "k = ...\n",
    "\n",
    "# Define the input parameter based on the documentation of scipy.stats.poisson and any given input\n",
    "mu = ...\n",
    "\n",
    "# create figure and axes\n",
    "fig_1, ax_1 = plt.subplots(nrows=1, ncols=1, figsize=(5,3))\n",
    "\n",
    "# Plot the PMF using plt.plot(). You give it first the x-axis values, then the y-axis values. \n",
    "# You can also control other properties of the plot (color, line style, etc.) \n",
    "# specify linestyle = ':'\n",
    "# specify marker = 'o'\n",
    "...\n",
    "\n",
    "# Label the axes and change any other properties\n",
    "...\n",
    "\n",
    "# Display the plot\n",
    "plt.tight_layout()\n",
    "plt.show()"
   ]
  },
  {
   "cell_type": "code",
   "execution_count": null,
   "id": "a3e3a2b9",
   "metadata": {
    "deletable": false,
    "editable": false
   },
   "outputs": [],
   "source": [
    "grader.check(\"q2.1\")"
   ]
  },
  {
   "cell_type": "markdown",
   "id": "af3f4bb7-6b13-4fc0-93d0-7a9ef9a23286",
   "metadata": {},
   "source": [
    "### Cumulative Distribution Function\n",
    "\n",
    "We can also use `poisson.cdf(k, mu)` to calculate and plot the cumulative distribution function of a Poisson distribution in Python. Similar to `poisson.pmf(k, mu)`, `k` can be a single value or an array of values.\n",
    "\n",
    "> For example, if the average number of occurrences is 1 and you want to compute $P(X\\leq 3)$ for a Poisson distribution, you can directly use `poisson.cdf(k=3, mu=1)`"
   ]
  },
  {
   "cell_type": "markdown",
   "id": "0d093d5b",
   "metadata": {
    "deletable": false,
    "editable": false
   },
   "source": [
    "<font color='red'>**Question 3.0.**</font> What is the probability that less than or equal to 100 cars will need to be redirected if the construction project takes 1.5 hours? Recall that the average rate is 1.2 cars per minute. Assign your answer to `q3_0`. Do not just manually type the numeric answer. Use Python expressions that return the desired answer and assign them to the variable. (0.5 pts)"
   ]
  },
  {
   "cell_type": "code",
   "execution_count": null,
   "id": "cdb2502e",
   "metadata": {
    "tags": []
   },
   "outputs": [],
   "source": [
    "# ANSWER CELL\n",
    "q3_0 = ...\n",
    "print(f'Probability of less than or equal to 100 cars passing is P(X <= 100) = {q3_0:.3f}')"
   ]
  },
  {
   "cell_type": "code",
   "execution_count": null,
   "id": "c94a323a",
   "metadata": {
    "deletable": false,
    "editable": false
   },
   "outputs": [],
   "source": [
    "grader.check(\"q3.0\")"
   ]
  },
  {
   "cell_type": "markdown",
   "id": "061475db",
   "metadata": {},
   "source": [
    "Next, you want to plot the full cumulative distribution function of the number of cars."
   ]
  },
  {
   "cell_type": "markdown",
   "id": "1b4a7606",
   "metadata": {
    "deletable": false,
    "editable": false
   },
   "source": [
    "<font color='red'>**Question 3.1.**</font> Plot the CDF of the number of cars during a duration of 1.5 hours. Follow these steps: (0.75 pts)\n",
    "\n",
    "1. Create an array named `k` for the possible number of cars starting at 0 and ending at 200 (inclusive): {0, 1, 2, ..., 199, 200}\n",
    "2. Calculate the input parameter `mu` correctly based on the documentation of `scipy.stats.poisson`. Recall that the average rate is 1.2 cars per minute and we want the probability mass function over a duration of 1.5 hours.\n",
    "3. Plot the CDF using [`plt.plot()`](https://matplotlib.org/stable/api/_as_gen/matplotlib.pyplot.plot.html). Click on the function to read its documentation. Set the line style of the plot to a dotted line  `linestyle = ':'`, the marker to a circle `marker = 'o'`, and the marker size to 3 `markersize=3`.\n",
    "4. Set the x-axis label to 'Number of cars' and the y-axis label to 'Cumulative Probability'"
   ]
  },
  {
   "cell_type": "code",
   "execution_count": null,
   "id": "2b3b24d6-453c-4ea8-af2f-f76de8fb3fc6",
   "metadata": {
    "scrolled": true,
    "tags": []
   },
   "outputs": [],
   "source": [
    "# ANSWER CELL\n",
    "\n",
    "# Do not modify this line for grading purposes\n",
    "import matplotlib.pyplot as plt\n",
    "from matplotlib.lines import Line2D\n",
    "\n",
    "# Edit the code below to plot the PMF of the number of cars (only edit where you have ...)\n",
    "\n",
    "# Create an array for the possible values of the random variable\n",
    "# Recall that np.arange(start, stop, step) returns values within the half-open interval [start, stop),\n",
    "# with spacing between the values given by step: [start, start+step, start+2*step, ..., stop-step].\n",
    "k = ...\n",
    "\n",
    "# Define the input parameter based on the documentation of scipy.stats.poisson and any given input\n",
    "mu = ...\n",
    "\n",
    "# create figure and axes\n",
    "fig_2, ax_2 = plt.subplots(nrows=1, ncols=1, figsize=(5,3))\n",
    "\n",
    "# Plot the CDF using plt.plot(). You give it first the x-axis values, then the y-axis values.\n",
    "# You can also control other properties of the plot (color, line style, etc.) \n",
    "# specify linestyle = ':'\n",
    "# specify marker = 'o'\n",
    "# specify markersize=3\n",
    "...\n",
    "\n",
    "# Label the axes and change any other properties\n",
    "...\n",
    "\n",
    "# Display the plot\n",
    "plt.tight_layout()\n",
    "plt.show()"
   ]
  },
  {
   "cell_type": "code",
   "execution_count": null,
   "id": "e9daf820",
   "metadata": {
    "deletable": false,
    "editable": false
   },
   "outputs": [],
   "source": [
    "grader.check(\"q3.1\")"
   ]
  },
  {
   "cell_type": "markdown",
   "id": "b0cd5ea0-c7d9-4a86-a166-7d2dc863c904",
   "metadata": {},
   "source": [
    "### Probability Calculations\n",
    "\n",
    "There are different ways to calculate probabilities of a Poisson distribution using `scipy.stats.poisson`."
   ]
  },
  {
   "cell_type": "markdown",
   "id": "8ee89665-fff1-47d5-8ccf-31cc7f0a3688",
   "metadata": {
    "deletable": false,
    "editable": false
   },
   "source": [
    "<font color='red'>**Question 4.0.**</font> If `mu=1` (not the cars problem), which of the following are appropriate methods to calculate $P(X>3)$ for a Poisson distribution? For this example, assume 999 represents $\\infty$. You can run the different functions below and check their output. Assign ALL that apply to the variable `q4_0`. (0.5 pts)\n",
    "\n",
    "**Recall that `np.arange(start, stop, step)` returns values within the half-open interval [start, stop), with spacing between the values given by step: [start, start+step, start+2*step, ..., stop-step].**\n",
    "\n",
    "**A.** `1 - poisson.cdf(3, mu=1)` \\\n",
    "**B.** `1 - poisson.cdf(4, mu=1)` \\\n",
    "**C.** `sum(poisson.pmf(np.arange(3, 1000, 1), mu=1))` \\\n",
    "**D.** `sum(poisson.pmf(np.arange(4, 1000, 1), mu=1))` \\\n",
    "**E.** `1 - sum(poisson.pmf(np.arange(0, 2, 1), mu=1))` \\\n",
    "**F.** `1 - sum(poisson.pmf(np.arange(0, 3, 1), mu=1))` \\\n",
    "**G.** `1 - sum(poisson.pmf(np.arange(0, 4, 1), mu=1))` \n",
    "\n",
    "\n",
    "Answer in the next cell. Add each selected choice as a string and separate each two answer choices by a comma. For example, if you want to select `\"A\"` and `\"B\"`, your answer should be `\"A\", \"B\"`.\\\n",
    "Assign your answer to the given variable.\n",
    "Remember to put quotes around each answer choice."
   ]
  },
  {
   "cell_type": "code",
   "execution_count": null,
   "id": "e78346ac-a78f-4ffa-a54d-41d44c78d6bc",
   "metadata": {
    "tags": []
   },
   "outputs": [],
   "source": [
    "# Try any code here\n",
    "..."
   ]
  },
  {
   "cell_type": "code",
   "execution_count": null,
   "id": "e1ab3d1e-91c8-40be-81bc-73981e7baa61",
   "metadata": {
    "tags": []
   },
   "outputs": [],
   "source": [
    "# ANSWER CELL\n",
    "q4_0 = ...\n",
    "q4_0"
   ]
  },
  {
   "cell_type": "code",
   "execution_count": null,
   "id": "e5e8cdac",
   "metadata": {
    "deletable": false,
    "editable": false
   },
   "outputs": [],
   "source": [
    "grader.check(\"q4.0\")"
   ]
  },
  {
   "cell_type": "markdown",
   "id": "6ee7bb50",
   "metadata": {
    "deletable": false,
    "editable": false
   },
   "source": [
    "Now back to the cars problem. The project manager is worried that if there are more than 130 cars to be redirected, a large back up will develop on the highway, which will cause delays and might cause traffic accidents. "
   ]
  },
  {
   "cell_type": "markdown",
   "id": "41747131",
   "metadata": {
    "deletable": false,
    "editable": false
   },
   "source": [
    "<font color='red'>**Question 4.1.**</font> What is the probability that more than 130 cars will need to be redirected if the construction project takes 1.5 hours? Recall that the average rate is 1.2 cars per minute. If needed, assume 999 represents $\\infty$. Assign your answer to `q4_1`. Do not just manually type the numeric answer. Use Python expressions that return the desired answer and assign them to the variable. (0.5 pts)"
   ]
  },
  {
   "cell_type": "code",
   "execution_count": null,
   "id": "e7985782",
   "metadata": {
    "tags": []
   },
   "outputs": [],
   "source": [
    "# ANSWER CELL\n",
    "q4_1 = ...\n",
    "print(f'Probability of having more than 130 cars is P(X > 130) = {q4_1:.3f}')"
   ]
  },
  {
   "cell_type": "code",
   "execution_count": null,
   "id": "ba6319c4",
   "metadata": {
    "deletable": false,
    "editable": false
   },
   "outputs": [],
   "source": [
    "grader.check(\"q4.1\")"
   ]
  },
  {
   "cell_type": "markdown",
   "id": "77e9d284-ae68-401f-8005-ec130a431d6a",
   "metadata": {},
   "source": [
    "### Time Between Car Arrivals\n",
    "\n",
    "Two CalTrans employees observing the construction being done are watching the cars passing and wonder when the next car will arrive. There are no cars in the lane when they begin their timer. Recall that we modeled the number of cars arriving as a Poisson distribution."
   ]
  },
  {
   "cell_type": "markdown",
   "id": "0c20c213-7dbb-401d-8c09-c8d5a4e0ba92",
   "metadata": {
    "deletable": false,
    "editable": false
   },
   "source": [
    "<font color='red'>**Question 5.0.**</font> Let random variable $Y$ represent the time between successive cars. What distribution is appropriate for modeling $Y$? Assign your answer to the variable `q5_0` as a string. (0.25 pts)\n",
    "\n",
    "**A.** Lognormal \\\n",
    "**B.** Binomial \\\n",
    "**C.** Hypergeometric \\\n",
    "**D.** Exponential \\\n",
    "**E.** Normal \\\n",
    "**F.** Negative Binomial \\\n",
    "**G.** Geometric \\\n",
    "**H.** None of the options\n",
    "\n",
    "Your answer should be a string, e.g., `\"A\"`, `\"B\"`, etc.\\\n",
    "Remember to put quotes around your answer choice."
   ]
  },
  {
   "cell_type": "code",
   "execution_count": null,
   "id": "c1145042-0bb9-4e3a-a0e9-18209e72ec19",
   "metadata": {
    "tags": []
   },
   "outputs": [],
   "source": [
    "# ANSWER CELL\n",
    "q5_0 = ...\n",
    "q5_0"
   ]
  },
  {
   "cell_type": "code",
   "execution_count": null,
   "id": "1d24bdb3",
   "metadata": {
    "deletable": false,
    "editable": false
   },
   "outputs": [],
   "source": [
    "grader.check(\"q5_0\")"
   ]
  },
  {
   "cell_type": "markdown",
   "id": "ffdcdf3f",
   "metadata": {},
   "source": [
    "We previously saw how to use `scipy.stats.poisson`. There are similar function for all the common distributions that we have discusses, both discrete and continuous. We saw a table of common discrete distributions in Python in Lab 05. \n",
    "\n",
    "The table below lists the common continuous distributions we have discussed in class and their corresponding Python functions and their input parameters. You can click on the different Python functions to read their documentation. **Note that the input parameters might use different symbols or be different from the ones we defined in the lecture.** So it's important you read the corresponding documentation carefully.\n",
    "\n",
    "\n",
    "| Distribution  | Python function | Relation to Parameters from Lecture |\n",
    "|:--------------|:----------------|:------------------------------------|\n",
    "| Exponential   | [`expon(scale)`](https://docs.scipy.org/doc/scipy/reference/generated/scipy.stats.expon.html) | `scale=` $1/ \\lambda$ |\n",
    "| Gamma         | [`gamma(a, scale)`](https://docs.scipy.org/doc/scipy/reference/generated/scipy.stats.gamma.html) | `a=` $r$, `scale=` $1/ \\lambda$ |\n",
    "| Uniform         | [`uniform(loc, scale)`](https://docs.scipy.org/doc/scipy/reference/generated/scipy.stats.uniform.html) | `loc=` $a$, `scale=` $b-a$ |\n",
    "| Normal        | [`norm(loc, scale)`](https://docs.scipy.org/doc/scipy/reference/generated/scipy.stats.norm.html) | `loc=` $\\mu$, `scale=` $\\sigma$ |\n",
    "| Lognormal     | [`lognorm(s, scale)`](https://docs.scipy.org/doc/scipy/reference/generated/scipy.stats.lognorm.html) |  `s=` $\\zeta$, `scale=` $e^\\lambda$ |\n",
    "\n",
    "All these distributions have different methods that can be used for different purposes. We provide examples of the most common methods based on the exponential distribution with `scale=1`, but these methods can be used with any of the distributions from the table above. You will just need to adjust the function names and input parameters accordingly for other distributions.\n",
    "* `expon.pdf(x, scale=1)`: Get the probability density function at $x: f(x)$\n",
    "* `expon.cdf(x, scale=1)`: Get the cumulative distribution function at $x: F(x)$\n",
    "* `expon.mean(scale=1)`: Get the expected value of the random variable\n",
    "* `expon.median(scale=1)`: Get the median of the random variable\n",
    "* `expon.var(scale=1)`: Get the variance of the random variable\n",
    "* `expon.std(scale=1)`: Get the standard deviation of the random variable"
   ]
  },
  {
   "cell_type": "markdown",
   "id": "fcc203a2",
   "metadata": {},
   "source": [
    "### Probability Density Function\n",
    "\n",
    "We defined the random variable $Y$ as the time between successive cars. Recall that the average rate of car arrivals is 1.2 cars per minute."
   ]
  },
  {
   "cell_type": "markdown",
   "id": "2dbd7e64",
   "metadata": {
    "deletable": false,
    "editable": false
   },
   "source": [
    "<font color='red'>**Question 6.0.**</font> Based on the distribution you selected for $Y$, what is the **density** for the time between successive arrivals of 2 minutes? Assign your answer to `q6_0`. Do not just manually type the numeric answer. Use Python expressions that return the desired answer and assign them to the variable. (0.5 pts)\n",
    "\n",
    "*Hint: `expon.pdf(x, scale)` returns the probability density function of an Exponential distribution at $x$. Use the name of the distribution you selected for the random variable and its corresponding parameters based on the table above.*"
   ]
  },
  {
   "cell_type": "code",
   "execution_count": null,
   "id": "a1369bd3",
   "metadata": {
    "tags": []
   },
   "outputs": [],
   "source": [
    "# ANSWER CELL\n",
    "q6_0 = ...\n",
    "print(f'Density of 2 mins is f(Y=2) = {q6_0:.3f}')"
   ]
  },
  {
   "cell_type": "code",
   "execution_count": null,
   "id": "090f7f22",
   "metadata": {
    "deletable": false,
    "editable": false
   },
   "outputs": [],
   "source": [
    "grader.check(\"q6.0\")"
   ]
  },
  {
   "cell_type": "markdown",
   "id": "5a9f0774",
   "metadata": {},
   "source": [
    "Next, you want to plot the full probability density function of the time between successive cars."
   ]
  },
  {
   "cell_type": "markdown",
   "id": "657d51f3",
   "metadata": {
    "deletable": false,
    "editable": false
   },
   "source": [
    "<font color='red'>**Question 6.1.**</font> Plot the PDF of the time between successive cars during construction. Follow these steps: (1.0 pt)\n",
    "\n",
    "1. Create an array named `x` for the possible values of the time between successive cars starting at 0 and ending at 10 mins (inclusive) with a time step of 0.01 min: {0, 0.01, 0.02, ..., 9.99, 10}\n",
    "2. Calculate the input parameter `param` correctly based on the documentation of the distribution you selected. This parameter could be `scale` or any other parameter needed for the distribution you selected. If you need any other parameters, feel free to define them. Recall that the average rate is 1.2 cars per minute.\n",
    "3. Plot the PDF using [`plt.plot()`](https://matplotlib.org/stable/api/_as_gen/matplotlib.pyplot.plot.html). Click on the function to read its documentation. Keep the line style as a solid line. This is a continuous distribution.\n",
    "4. Set the x-axis label to 'Time (min)' and the y-axis label to 'Density'"
   ]
  },
  {
   "cell_type": "code",
   "execution_count": null,
   "id": "d6ddd9f1",
   "metadata": {
    "scrolled": true,
    "tags": []
   },
   "outputs": [],
   "source": [
    "# ANSWER CELL\n",
    "\n",
    "# Do not modify this line for grading purposes\n",
    "import matplotlib.pyplot as plt\n",
    "from matplotlib.lines import Line2D\n",
    "\n",
    "# Edit the code below to plot the PMF of the number of cars (only edit where you have ...)\n",
    "\n",
    "# Create an array for the possible values of the random variable\n",
    "# Recall that np.arange(start, stop, step) returns values within the half-open interval [start, stop),\n",
    "# with spacing between the values given by step: [start, start+step, start+2*step, ..., stop-step].\n",
    "x = ...\n",
    "\n",
    "# Define the input parameter based on the documentation of the distribution you selected\n",
    "param = ...\n",
    "\n",
    "# create figure and axes\n",
    "fig_3, ax_3 = plt.subplots(nrows=1, ncols=1, figsize=(5,3))\n",
    "\n",
    "# Plot the PDF using plt.plot(). You give it first the x-axis values, then the y-axis values.\n",
    "...\n",
    "\n",
    "# Label the axes and change any other properties\n",
    "...\n",
    "\n",
    "# Display the plot\n",
    "plt.tight_layout()\n",
    "plt.show()"
   ]
  },
  {
   "cell_type": "code",
   "execution_count": null,
   "id": "c5b7027a",
   "metadata": {
    "deletable": false,
    "editable": false
   },
   "outputs": [],
   "source": [
    "grader.check(\"q6.1\")"
   ]
  },
  {
   "cell_type": "markdown",
   "id": "478b0b8f-625f-4f33-9cdb-94d1f9781aa3",
   "metadata": {},
   "source": [
    "### Probability Calculations\n",
    "\n",
    "We can calculate probabilities of common continuous distributions directly Python. However, not all the methods that could be used to calculate probabilities of discrete distributions (refer to Question 4.0) are appropriate in this case. Why? Unlike discrete distributions for which we can use `pmf` to get probabilities, continuous distributions are represented by density, `pdf`, which is not the same as probability. However, we can still use some of the same methods. Mainly, the CDF is similar for both discrete and continuous distributions and provides the probability that the random variable is less than or equal to a certain value.\n",
    "\n",
    "The two CalTrans employees observing the construction being done started a timer to record the time until the next car arrives. There are no cars in the lane when they started their timer. Recall that the average rate is 1.2 cars per minute."
   ]
  },
  {
   "cell_type": "markdown",
   "id": "81f7e6db-2fbf-4275-a0ca-02dc30fc6058",
   "metadata": {
    "deletable": false,
    "editable": false
   },
   "source": [
    "<font color='red'>**Question 7.0.**</font> What is the probability that the next car will arrive **exactly** 1 minute after starting the timer? Assign your answer to `q7_0`. (0.5 pts)"
   ]
  },
  {
   "cell_type": "code",
   "execution_count": null,
   "id": "97efc776-3c34-4310-89c0-df0ea5e01017",
   "metadata": {
    "tags": []
   },
   "outputs": [],
   "source": [
    "# ANSWER CELL\n",
    "q7_0 = ...\n",
    "print(f'Probability that the next car will arrive exactly after 1 min is P(Y=1) = {q7_0:.3f}')"
   ]
  },
  {
   "cell_type": "code",
   "execution_count": null,
   "id": "e19391e4",
   "metadata": {
    "deletable": false,
    "editable": false
   },
   "outputs": [],
   "source": [
    "grader.check(\"q7.0\")"
   ]
  },
  {
   "cell_type": "markdown",
   "id": "7f63b264-0dde-4228-8445-aeb9f6924fa1",
   "metadata": {
    "deletable": false,
    "editable": false
   },
   "source": [
    "<font color='red'>**Question 7.1.**</font> What is the probability that the next car will arrive **more than** 2 minutes after starting the timer? Assign your answer to `q7_1`. Do not just manually type the numeric answer. Use Python expressions that return the desired answer and assign them to the variable. (0.5 pts)"
   ]
  },
  {
   "cell_type": "code",
   "execution_count": null,
   "id": "e51e91c4-29c6-4e54-ac7d-f9c882c36bc3",
   "metadata": {
    "tags": []
   },
   "outputs": [],
   "source": [
    "# ANSWER CELL\n",
    "q7_1 = ...\n",
    "print(f'Probability that the next car will arrive in more than 2 mins is P(Y>2) = {q7_1:.3f}')"
   ]
  },
  {
   "cell_type": "code",
   "execution_count": null,
   "id": "a8048394",
   "metadata": {
    "deletable": false,
    "editable": false
   },
   "outputs": [],
   "source": [
    "grader.check(\"q7_1\")"
   ]
  },
  {
   "cell_type": "markdown",
   "id": "b1ec2fb4-52ea-489f-a566-cdec6032d5ce",
   "metadata": {},
   "source": [
    "### What if No Cars Arrive Within 5 Minutes?"
   ]
  },
  {
   "cell_type": "markdown",
   "id": "9cd19a92-9352-4459-83bf-9b589c41e27b",
   "metadata": {
    "deletable": false,
    "editable": false
   },
   "source": [
    "<font color='red'>**Question 8.0.**</font> After 5 minutes from starting the timer, no cars have passed by yet. One of the CalTrans employees (who went to Stanford FYI) tells the other that because they have not seen any cars for 5 minutes, there is a higher chance than usual of a car passing by in the next 30 seconds. Is the employee right? Assign your answer to the variable `q8_0` as a string. (0.5 pts)\n",
    "\n",
    "**A.** Yes because the distribution for the time between cars is memoryless \\\n",
    "**B.** Yes because a car hasn't passed by for some time \\\n",
    "**C.** No because the distribution for the time between cars is memoryless \\\n",
    "**D.** No because 5 minutes is not too long \\\n",
    "**E.** We can't tell based on the given information\n",
    "\n",
    "Your answer should be a string, e.g., `\"A\"`, `\"B\"`, etc.\\\n",
    "Remember to put quotes around your answer choice."
   ]
  },
  {
   "cell_type": "code",
   "execution_count": null,
   "id": "e8c47e68-7e82-429d-817e-02832c2ddbd1",
   "metadata": {
    "tags": []
   },
   "outputs": [],
   "source": [
    "# ANSWER CELL\n",
    "q8_0 = ...\n",
    "q8_0"
   ]
  },
  {
   "cell_type": "code",
   "execution_count": null,
   "id": "0dc93a69",
   "metadata": {
    "deletable": false,
    "editable": false
   },
   "outputs": [],
   "source": [
    "grader.check(\"q8.0\")"
   ]
  },
  {
   "cell_type": "markdown",
   "id": "e6712920-336c-40f0-9265-1fbe2bd4969c",
   "metadata": {},
   "source": [
    "### Time Until Fifth Car Arrival"
   ]
  },
  {
   "cell_type": "markdown",
   "id": "05c52ec2",
   "metadata": {
    "deletable": false,
    "editable": false
   },
   "source": [
    "<font color='red'>**Question 8.1.**</font> Several cars happened to arrive shortly after one another. What distribution is appropriate for modeling the time until the fifth car arrives? Assign your answer to the variable `q8_1` as a string. (0.5 pts)\n",
    "\n",
    "**A.** Gamma \\\n",
    "**B.** Binomial \\\n",
    "**C.** Hypergeometric \\\n",
    "**D.** Exponential \\\n",
    "**E.** Normal \\\n",
    "**F.** Negative Binomial \\\n",
    "**G.** Geometric \\\n",
    "**H.** None of the options\n",
    "\n",
    "\n",
    "Your answer should be a string, e.g., `\"A\"`, `\"B\"`, etc.\\\n",
    "Remember to put quotes around your answer choice."
   ]
  },
  {
   "cell_type": "code",
   "execution_count": null,
   "id": "33057c74",
   "metadata": {
    "tags": []
   },
   "outputs": [],
   "source": [
    "# ANSWER CELL\n",
    "q8_1 = ...\n",
    "q8_1"
   ]
  },
  {
   "cell_type": "code",
   "execution_count": null,
   "id": "8c93d4b1",
   "metadata": {
    "deletable": false,
    "editable": false
   },
   "outputs": [],
   "source": [
    "grader.check(\"q8_1\")"
   ]
  },
  {
   "cell_type": "markdown",
   "id": "98d33da6",
   "metadata": {
    "deletable": false,
    "editable": false
   },
   "source": [
    "<font color='red'>**Question 8.2.**</font> What is the **median** time until the fifth car arrives? Assign your answer to `q8_2`. Do not just manually type the numeric answer. Use Python expressions that return the desired answer and assign them to the variable. (0.5 pts)\n",
    "\n",
    "All common distributions have different methods that can be used for different purposes. Below are examples of the most common methods based on the exponential distribution with `scale=1`, but these methods can be used with any of the distributions from the table above. You will just need to adjust the function names and input parameters accordingly for other distributions.\n",
    "* `expon.pdf(x, scale=1)`: Get the probability density function at $x: f(x)$\n",
    "* `expon.cdf(x, scale=1)`: Get the cumulative distribution function at $x: F(x)$\n",
    "* `expon.mean(scale=1)`: Get the expected value of the random variable\n",
    "* `expon.median(scale=1)`: Get the median of the random variable\n",
    "* `expon.var(scale=1)`: Get the variance of the random variable\n",
    "* `expon.std(scale=1)`: Get the standard deviation of the random variable\n",
    "\n",
    "**Note that the input parameters might use different symbols or be different from the ones we defined in the lecture.** So it's important you read the documentation in the table above carefully."
   ]
  },
  {
   "cell_type": "code",
   "execution_count": null,
   "id": "d17d65da",
   "metadata": {
    "tags": []
   },
   "outputs": [],
   "source": [
    "# ANSWER CELL\n",
    "q8_2 = ...\n",
    "print(f'The median time until the fifth car arrives is {q8_2:.3f} mins')"
   ]
  },
  {
   "cell_type": "code",
   "execution_count": null,
   "id": "0339d560",
   "metadata": {
    "deletable": false,
    "editable": false
   },
   "outputs": [],
   "source": [
    "grader.check(\"q8.2\")"
   ]
  },
  {
   "cell_type": "markdown",
   "id": "4a50f37a",
   "metadata": {},
   "source": [
    "### Weather and Construction Disruptions\n",
    "\n",
    "Lastly, CalTrans is concerned about having significant rainfall during construction, which could significantly delay the construction work. Based on historical measurements over several years, the daily rainfall is assumed to have a normal distribution with a mean of 0.5 inch and a standard deviation of 0.2 inch."
   ]
  },
  {
   "cell_type": "markdown",
   "id": "0be5166e",
   "metadata": {
    "deletable": false,
    "editable": false
   },
   "source": [
    "<font color='red'>**Question 9.0.**</font> Plot the PDF of the daily rainfall. Follow these steps: (0.50 pts)\n",
    "\n",
    "1. Create an array named `r` for the possible values of the daily rainfall starting at 0 and ending at 1.5 inch (inclusive) with a time step of 0.01 inch: {0, 0.01, 0.02, ..., 1.49, 1.50}\n",
    "2. Plot the PDF using [`plt.plot()`](https://matplotlib.org/stable/api/_as_gen/matplotlib.pyplot.plot.html). Click on the function to read its documentation. Keep the line style as a solid line. This is a continuous distribution.\n",
    "3. Set the x-axis label to 'Rainfall (inch)' and the y-axis label to 'Density'"
   ]
  },
  {
   "cell_type": "code",
   "execution_count": null,
   "id": "747c9618",
   "metadata": {
    "scrolled": true,
    "tags": []
   },
   "outputs": [],
   "source": [
    "# ANSWER CELL\n",
    "\n",
    "# Do not modify this line for grading purposes\n",
    "import matplotlib.pyplot as plt\n",
    "from matplotlib.lines import Line2D\n",
    "\n",
    "# Edit the code below to plot the PMF of the number of cars (only edit where you have ...)\n",
    "\n",
    "# Create an array for the possible values of the random variable\n",
    "# Recall that np.arange(start, stop, step) returns values within the half-open interval [start, stop),\n",
    "# with spacing between the values given by step: [start, start+step, start+2*step, ..., stop-step].\n",
    "r = ...\n",
    "\n",
    "# create figure and axes\n",
    "fig_4, ax_4 = plt.subplots(nrows=1, ncols=1, figsize=(5,3))\n",
    "\n",
    "# Plot the PDF using plt.plot(). You give it first the x-axis values, then the y-axis values.\n",
    "...\n",
    "\n",
    "# Label the axes and change any other properties\n",
    "...\n",
    "\n",
    "# Display the plot\n",
    "plt.tight_layout()\n",
    "plt.show()"
   ]
  },
  {
   "cell_type": "code",
   "execution_count": null,
   "id": "6510a46f",
   "metadata": {
    "deletable": false,
    "editable": false
   },
   "outputs": [],
   "source": [
    "grader.check(\"q9.0\")"
   ]
  },
  {
   "cell_type": "markdown",
   "id": "3e04a0e2",
   "metadata": {
    "deletable": false,
    "editable": false
   },
   "source": [
    "<font color='red'>**Question 9.1.**</font> What is the probability that on the construction day, the daily rainfall will be less than 0.2 inch (which would be considered light intensity)? Assign your answer to `q9_1`. Do not just manually type the numeric answer. Use Python expressions that return the desired answer and assign them to the variable. (0.25 pts)"
   ]
  },
  {
   "cell_type": "code",
   "execution_count": null,
   "id": "50557659",
   "metadata": {
    "tags": []
   },
   "outputs": [],
   "source": [
    "# ANSWER CELL\n",
    "q9_1 = ...\n",
    "print(f'The probability that there will be light rainfall is {q9_1:.3f}')"
   ]
  },
  {
   "cell_type": "code",
   "execution_count": null,
   "id": "b1e7d4bb",
   "metadata": {
    "deletable": false,
    "editable": false
   },
   "outputs": [],
   "source": [
    "grader.check(\"q9.1\")"
   ]
  },
  {
   "cell_type": "markdown",
   "id": "dc9b3286",
   "metadata": {
    "deletable": false,
    "editable": false
   },
   "source": [
    "<font color='red'>**Question 9.2.**</font> What is the probability that on the construction day, the daily rainfall will be between 0.2 inch and 0.8 inch (which would be considered moderate intensity)? Assign your answer to `q9_2`. Do not just manually type the numeric answer. Use Python expressions that return the desired answer and assign them to the variable. (0.5 pts)"
   ]
  },
  {
   "cell_type": "code",
   "execution_count": null,
   "id": "adb594e7",
   "metadata": {
    "tags": []
   },
   "outputs": [],
   "source": [
    "# ANSWER CELL\n",
    "q9_2 = ...\n",
    "print(f'The probability that there will be moderate rainfall is {q9_2:.3f}')"
   ]
  },
  {
   "cell_type": "code",
   "execution_count": null,
   "id": "907ec5be",
   "metadata": {
    "deletable": false,
    "editable": false
   },
   "outputs": [],
   "source": [
    "grader.check(\"q9.2\")"
   ]
  },
  {
   "cell_type": "markdown",
   "id": "8a5ea7bd",
   "metadata": {
    "deletable": false,
    "editable": false
   },
   "source": [
    "<font color='red'>**Question 9.3.**</font> Based on the PDF of the daily rainfall and properties of common distributions, which distribution would be more appropriate to use in this case? Assign your answer to the variable `q9_3` as a string. (0.25 pts)\n",
    "\n",
    "**A.** Normal because it is the most common distribution \\\n",
    "**B.** Lognormal because rainfall can't take negative values and lognormal is defined for positive values only \\\n",
    "**C.** Exponential because the occurrences are Poisson \\\n",
    "**D.** Uniform because we don't have any information about rainfall \\\n",
    "**E.** None of the options\n",
    "\n",
    "Your answer should be a string, e.g., `\"A\"`, `\"B\"`, etc.\\\n",
    "Remember to put quotes around your answer choice."
   ]
  },
  {
   "cell_type": "code",
   "execution_count": null,
   "id": "ff6cd00a",
   "metadata": {
    "tags": []
   },
   "outputs": [],
   "source": [
    "# ANSWER CELL\n",
    "q9_3 = ...\n",
    "q9_3"
   ]
  },
  {
   "cell_type": "code",
   "execution_count": null,
   "id": "bd670033",
   "metadata": {
    "deletable": false,
    "editable": false
   },
   "outputs": [],
   "source": [
    "grader.check(\"q9.3\")"
   ]
  },
  {
   "cell_type": "markdown",
   "id": "f20bba6f",
   "metadata": {},
   "source": [
    "### You're done with this Lab!\n",
    "\n",
    "**Important submission information:** After completing the assignment, click on the Save icon from the Tool Bar &nbsp;<i class=\"fa fa-save\" style=\"font-size:16px;\"></i>&nbsp;. After saving your notebook, **run the cell with** `grader.check_all()` and confirm that you pass the same tests as in the notebook. Then, **run the final cell** `grader.export()` and click the link to download the zip file. Finally, go to Gradescope and submit the zip file to the corresponding assignment. \n",
    "\n",
    "**Once you have submitted, stay on the Gradescope page to confirm that you pass the same tests as in the notebook.**"
   ]
  },
  {
   "cell_type": "code",
   "execution_count": null,
   "id": "4d1647c8",
   "metadata": {
    "tags": []
   },
   "outputs": [],
   "source": [
    "%matplotlib inline\n",
    "img = mpimg.imread('resources/animal.jpeg')\n",
    "imgplot = plt.imshow(img)\n",
    "imgplot.axes.get_xaxis().set_visible(False)\n",
    "imgplot.axes.get_yaxis().set_visible(False)\n",
    "print(\"Congratulations on finishing this lab!\")\n",
    "plt.show()"
   ]
  },
  {
   "cell_type": "markdown",
   "id": "b973204e",
   "metadata": {
    "deletable": false,
    "editable": false
   },
   "source": [
    "---\n",
    "\n",
    "To double-check your work, the cell below will rerun all of the autograder tests."
   ]
  },
  {
   "cell_type": "code",
   "execution_count": null,
   "id": "ddbe67b1",
   "metadata": {
    "deletable": false,
    "editable": false
   },
   "outputs": [],
   "source": [
    "grader.check_all()"
   ]
  },
  {
   "cell_type": "markdown",
   "id": "17a79abb",
   "metadata": {
    "deletable": false,
    "editable": false
   },
   "source": [
    "## Submission\n",
    "\n",
    "Make sure you have run all cells in your notebook in order before running the cell below, so that all images/graphs appear in the output. The cell below will generate a zip file for you to submit. **Please save before exporting!**\n",
    "\n",
    "Make sure you submit the .zip file to Gradescope."
   ]
  },
  {
   "cell_type": "code",
   "execution_count": null,
   "id": "a14b0b03",
   "metadata": {
    "deletable": false,
    "editable": false
   },
   "outputs": [],
   "source": [
    "# Save your notebook first, then run this cell to export your submission.\n",
    "grader.export(pdf=False)"
   ]
  },
  {
   "cell_type": "markdown",
   "id": "ccae7aa7",
   "metadata": {},
   "source": [
    " "
   ]
  }
 ],
 "metadata": {
  "kernelspec": {
   "display_name": "Python 3 (ipykernel)",
   "language": "python",
   "name": "python3"
  },
  "language_info": {
   "codemirror_mode": {
    "name": "ipython",
    "version": 3
   },
   "file_extension": ".py",
   "mimetype": "text/x-python",
   "name": "python",
   "nbconvert_exporter": "python",
   "pygments_lexer": "ipython3",
   "version": "3.9.15"
  },
  "otter": {
   "OK_FORMAT": true,
   "assignment_name": "lab06",
   "tests": {
    "q1.0": {
     "name": "q1.0",
     "points": null,
     "suites": [
      {
       "cases": [
        {
         "code": ">>> assert isinstance(q1_0, (tuple, str))\n>>> assert all((isinstance(option, str) for option in q1_0))\n>>> assert all((len(option) == 1 for option in q1_0))\n",
         "failure_message": "Incorrect answer format. Make sure you only have the letter of your answer choice in quotes and answers are separated by commas.",
         "hidden": false,
         "locked": false,
         "points": 0,
         "success_message": "Correct answer format."
        },
        {
         "code": ">>> assert get_hash('A' in q1_0 or 'a' in q1_0) == 'f827cf462f62848df37c5e1e94a4da74'\n",
         "failure_message": "Incorrect answer.",
         "hidden": false,
         "locked": false,
         "points": 0.15
        },
        {
         "code": ">>> assert get_hash('B' in q1_0 or 'b' in q1_0) == 'f8320b26d30ab433c5a54546d21f414c'\n",
         "failure_message": "Incorrect answer.",
         "hidden": false,
         "locked": false,
         "points": 0.05
        },
        {
         "code": ">>> assert get_hash('C' in q1_0 or 'c' in q1_0) == 'f8320b26d30ab433c5a54546d21f414c'\n",
         "failure_message": "Incorrect answer.",
         "hidden": false,
         "locked": false,
         "points": 0.05
        },
        {
         "code": ">>> assert get_hash('D' in q1_0 or 'd' in q1_0) == 'f827cf462f62848df37c5e1e94a4da74'\n",
         "failure_message": "Incorrect answer.",
         "hidden": false,
         "locked": false,
         "points": 0.15
        },
        {
         "code": ">>> assert get_hash('E' in q1_0 or 'e' in q1_0) == 'f8320b26d30ab433c5a54546d21f414c'\n",
         "failure_message": "Incorrect answer.",
         "hidden": false,
         "locked": false,
         "points": 0.05
        },
        {
         "code": ">>> assert get_hash('F' in q1_0 or 'f' in q1_0) == 'f8320b26d30ab433c5a54546d21f414c'\n",
         "failure_message": "Incorrect answer.",
         "hidden": false,
         "locked": false,
         "points": 0.05
        }
       ],
       "scored": true,
       "setup": "",
       "teardown": "",
       "type": "doctest"
      }
     ]
    },
    "q2.0": {
     "name": "q2.0",
     "points": 0.5,
     "suites": [
      {
       "cases": [
        {
         "code": ">>> assert get_hash(round(q2_0, 10)) == 'cdacdba1106ce138f40da7edb445942b'\n",
         "failure_message": "Incorrect answer. Check the value of mu. We are given the rate per min and need the average per 1.5 hrs.",
         "hidden": false,
         "locked": false,
         "points": 0.5
        }
       ],
       "scored": true,
       "setup": "",
       "teardown": "",
       "type": "doctest"
      }
     ]
    },
    "q2.1": {
     "name": "q2.1",
     "points": null,
     "suites": [
      {
       "cases": [
        {
         "code": ">>> assert type(fig_1).__name__ == 'Figure'\n>>> assert type(ax_1).__name__ == 'Axes'\n",
         "failure_message": "Make sure to create a figure with 1 axes and assign them to \"fig_1\" and \"ax_1\".",
         "hidden": false,
         "locked": false,
         "points": 0
        },
        {
         "code": ">>> assert isinstance(ax_1.lines[0], Line2D)\n",
         "failure_message": "Make sure you are plotting to ax_1 using plot().",
         "hidden": false,
         "locked": false,
         "points": 0
        },
        {
         "code": ">>> assert get_hash(len(k)) == '757b505cfd34c64c85ca5b5690ee5293'\n>>> assert get_hash(sum(k)) == '28982b8d271b99d6eff552b01331c6f8'\n",
         "failure_message": "Check k values. What are the possible value for the number of the cars? Your array should start at 0 and end at 200 (inclusive).",
         "hidden": false,
         "locked": false,
         "points": 0.05
        },
        {
         "code": ">>> assert get_hash(round(mu, 10)) == '2553d1ec5d87cb39b165046549f30760'\n",
         "failure_message": "Check the value of mu. We are given the rate per min and need the average per 1.5 hrs.",
         "hidden": false,
         "locked": false,
         "points": 0.05
        },
        {
         "code": ">>> assert get_hash(sum(ax_1.lines[0].get_xdata())) == '28982b8d271b99d6eff552b01331c6f8'\n>>> assert get_hash(len(ax_1.lines[0].get_xdata())) == '757b505cfd34c64c85ca5b5690ee5293'\n>>> assert get_hash(sum(ax_1.lines[0].get_ydata())) == '24bfbd5977c082a713d4e2704f041210'\n>>> assert get_hash(len(ax_1.lines[0].get_ydata())) == '757b505cfd34c64c85ca5b5690ee5293'\n",
         "failure_message": "Check the arguments of plt.plot(), mainly the x-axis and y-axis values.",
         "hidden": false,
         "locked": false,
         "points": 0.4
        },
        {
         "code": ">>> assert ax_1.lines[0].get_linestyle() == ':'\n",
         "failure_message": "Change the line style inside plot() to a dotted line.",
         "hidden": false,
         "locked": false,
         "points": 0.1
        },
        {
         "code": ">>> assert ax_1.lines[0].get_marker() == 'o'\n",
         "failure_message": "Change the marker inside plot() to a circle.",
         "hidden": false,
         "locked": false,
         "points": 0.1
        },
        {
         "code": ">>> keywords = ['NUMBER', 'OF', 'CARS']\n>>> assert all((word in ax_1.get_xlabel().upper() for word in keywords))\n",
         "failure_message": "Check x-axis label.",
         "hidden": false,
         "locked": false,
         "points": 0.15
        },
        {
         "code": ">>> keywords = ['PROBABILITY']\n>>> assert all((word in ax_1.get_ylabel().upper() for word in keywords))\n",
         "failure_message": "Check y-axis label.",
         "hidden": false,
         "locked": false,
         "points": 0.15
        }
       ],
       "scored": true,
       "setup": "",
       "teardown": "",
       "type": "doctest"
      }
     ]
    },
    "q3.0": {
     "name": "q3.0",
     "points": 0.5,
     "suites": [
      {
       "cases": [
        {
         "code": ">>> assert get_hash(round(q3_0, 10)) == '23abbdeefec8a5916d2e8be982de4a27'\n",
         "failure_message": "Incorrect answer. Check the value of mu. We are given the rate per min and need the average per 1.5 hrs.",
         "hidden": false,
         "locked": false,
         "points": 0.5
        }
       ],
       "scored": true,
       "setup": "",
       "teardown": "",
       "type": "doctest"
      }
     ]
    },
    "q3.1": {
     "name": "q3.1",
     "points": null,
     "suites": [
      {
       "cases": [
        {
         "code": ">>> assert type(fig_2).__name__ == 'Figure'\n>>> assert type(ax_2).__name__ == 'Axes'\n",
         "failure_message": "Make sure to create a figure with 1 axes and assign them to \"fig_2\" and \"ax_2\".",
         "hidden": false,
         "locked": false,
         "points": 0
        },
        {
         "code": ">>> assert isinstance(ax_2.lines[0], Line2D)\n",
         "failure_message": "Make sure you are plotting to ax_2 using plt.plot().",
         "hidden": false,
         "locked": false,
         "points": 0
        },
        {
         "code": ">>> assert get_hash(len(k)) == '757b505cfd34c64c85ca5b5690ee5293'\n>>> assert get_hash(sum(k)) == '28982b8d271b99d6eff552b01331c6f8'\n",
         "failure_message": "Check k values. What are the possible value for the number of the cars? Your array should start at 0 and end at 200 (inclusive).",
         "hidden": false,
         "locked": false,
         "points": 0.05
        },
        {
         "code": ">>> assert get_hash(round(mu, 10)) == '2553d1ec5d87cb39b165046549f30760'\n",
         "failure_message": "Check the value of mu. We are given the rate per min and need the average per 1.5 hrs.",
         "hidden": false,
         "locked": false,
         "points": 0.05
        },
        {
         "code": ">>> assert get_hash(sum(ax_2.lines[0].get_xdata())) == '28982b8d271b99d6eff552b01331c6f8'\n>>> assert get_hash(len(ax_2.lines[0].get_xdata())) == '757b505cfd34c64c85ca5b5690ee5293'\n>>> assert get_hash(sum(ax_2.lines[0].get_ydata())) == '6fcb788a29bfc2eef772f8b13c212795'\n>>> assert get_hash(len(ax_2.lines[0].get_ydata())) == '757b505cfd34c64c85ca5b5690ee5293'\n",
         "failure_message": "Check the arguments of plt.plot(), mainly the x-axis and y-axis values.",
         "hidden": false,
         "locked": false,
         "points": 0.4
        },
        {
         "code": ">>> assert ax_2.lines[0].get_linestyle() == ':'\n",
         "failure_message": "Change the line style inside plot() to a dotted line.",
         "hidden": false,
         "locked": false,
         "points": 0.05
        },
        {
         "code": ">>> assert ax_2.lines[0].get_marker() == 'o'\n",
         "failure_message": "Change the marker inside plot() to a circle.",
         "hidden": false,
         "locked": false,
         "points": 0.05
        },
        {
         "code": ">>> assert ax_2.lines[0].get_markersize() == 3\n",
         "failure_message": "Change the marker size inside plot() to 3.",
         "hidden": false,
         "locked": false,
         "points": 0.05
        },
        {
         "code": ">>> keywords = ['NUMBER', 'OF', 'CARS']\n>>> assert all((word in ax_2.get_xlabel().upper() for word in keywords))\n",
         "failure_message": "Check x-axis label.",
         "hidden": false,
         "locked": false,
         "points": 0.05
        },
        {
         "code": ">>> keywords = ['CUMULATIVE', 'PROBABILITY']\n>>> assert all((word in ax_2.get_ylabel().upper() for word in keywords))\n",
         "failure_message": "Check y-axis label.",
         "hidden": false,
         "locked": false,
         "points": 0.05
        }
       ],
       "scored": true,
       "setup": "",
       "teardown": "",
       "type": "doctest"
      }
     ]
    },
    "q4.0": {
     "name": "q4.0",
     "points": null,
     "suites": [
      {
       "cases": [
        {
         "code": ">>> assert isinstance(q4_0, (tuple, str))\n>>> assert all((isinstance(option, str) for option in q4_0))\n>>> assert all((len(option) == 1 for option in q4_0))\n",
         "failure_message": "Incorrect answer format. Make sure you only have the letter of your answer choice in quotes and answers are separated by commas.",
         "hidden": false,
         "locked": false,
         "points": 0,
         "success_message": "Correct answer format."
        },
        {
         "code": ">>> assert get_hash('A' in q4_0 or 'a' in q4_0) == 'f827cf462f62848df37c5e1e94a4da74'\n",
         "failure_message": "Incorrect answer.",
         "hidden": false,
         "locked": false,
         "points": 0.1
        },
        {
         "code": ">>> assert get_hash('B' in q4_0 or 'b' in q4_0) == 'f8320b26d30ab433c5a54546d21f414c'\n",
         "failure_message": "Incorrect answer.",
         "hidden": false,
         "locked": false,
         "points": 0.05
        },
        {
         "code": ">>> assert get_hash('C' in q4_0 or 'c' in q4_0) == 'f8320b26d30ab433c5a54546d21f414c'\n",
         "failure_message": "Incorrect answer.",
         "hidden": false,
         "locked": false,
         "points": 0.05
        },
        {
         "code": ">>> assert get_hash('D' in q4_0 or 'd' in q4_0) == 'f827cf462f62848df37c5e1e94a4da74'\n",
         "failure_message": "Incorrect answer.",
         "hidden": false,
         "locked": false,
         "points": 0.1
        },
        {
         "code": ">>> assert get_hash('E' in q4_0 or 'e' in q4_0) == 'f8320b26d30ab433c5a54546d21f414c'\n",
         "failure_message": "Incorrect answer.",
         "hidden": false,
         "locked": false,
         "points": 0.05
        },
        {
         "code": ">>> assert get_hash('F' in q4_0 or 'f' in q4_0) == 'f8320b26d30ab433c5a54546d21f414c'\n",
         "failure_message": "Incorrect answer.",
         "hidden": false,
         "locked": false,
         "points": 0.1
        },
        {
         "code": ">>> assert get_hash('G' in q4_0 or 'g' in q4_0) == 'f827cf462f62848df37c5e1e94a4da74'\n",
         "failure_message": "Incorrect answer.",
         "hidden": false,
         "locked": false,
         "points": 0.05
        }
       ],
       "scored": true,
       "setup": "",
       "teardown": "",
       "type": "doctest"
      }
     ]
    },
    "q4.1": {
     "name": "q4.1",
     "points": 0.5,
     "suites": [
      {
       "cases": [
        {
         "code": ">>> assert get_hash(round(q4_1, 10)) == 'bf9ba55179acf407a03faa7ada4b395f'\n",
         "failure_message": "Incorrect answer.",
         "hidden": false,
         "locked": false,
         "points": 0.5
        }
       ],
       "scored": true,
       "setup": "",
       "teardown": "",
       "type": "doctest"
      }
     ]
    },
    "q5_0": {
     "name": "q5_0",
     "points": 0.25,
     "suites": [
      {
       "cases": [
        {
         "code": ">>> assert len(q5_0) == 1\n>>> assert isinstance(q5_0, str)\n",
         "failure_message": "Incorrect answer format. Make sure you only have the letter of your answer choice in quotes.",
         "hidden": false,
         "locked": false,
         "points": 0,
         "success_message": "Correct answer format."
        },
        {
         "code": ">>> assert get_hash(q5_0.upper()) == 'f623e75af30e62bbd73d6df5b50bb7b5'\n",
         "failure_message": "Incorrect answer. If number of occurrences is Poisson, what is the distribution of the time between successive occurrences?",
         "hidden": false,
         "locked": false,
         "points": 0.25
        }
       ],
       "scored": true,
       "setup": "",
       "teardown": "",
       "type": "doctest"
      }
     ]
    },
    "q6.0": {
     "name": "q6.0",
     "points": 0.5,
     "suites": [
      {
       "cases": [
        {
         "code": ">>> assert get_hash(round(q6_0, 10)) == 'efc7fb3452053b5d664605cab5312006'\n",
         "failure_message": "Incorrect answer. Check the value of the parameter. We are given the rate per min.",
         "hidden": false,
         "locked": false,
         "points": 0.5
        }
       ],
       "scored": true,
       "setup": "",
       "teardown": "",
       "type": "doctest"
      }
     ]
    },
    "q6.1": {
     "name": "q6.1",
     "points": null,
     "suites": [
      {
       "cases": [
        {
         "code": ">>> assert type(fig_3).__name__ == 'Figure'\n>>> assert type(ax_3).__name__ == 'Axes'\n",
         "failure_message": "Make sure to create a figure with 1 axes and assign them to \"fig_3\" and \"ax_3\".",
         "hidden": false,
         "locked": false,
         "points": 0
        },
        {
         "code": ">>> assert isinstance(ax_3.lines[0], Line2D)\n",
         "failure_message": "Make sure you are plotting to ax_3 using plot().",
         "hidden": false,
         "locked": false,
         "points": 0
        },
        {
         "code": ">>> assert get_hash(len(x)) == 'b8c37e33defde51cf91e1e03e51657da'\n>>> assert get_hash(sum(x)) == '53baa0c52b80c03ef34eb0020c67ce1a'\n",
         "failure_message": "Check x values. Your array should start at 0 and end at 10 (inclusive) with step of 0.01.",
         "hidden": false,
         "locked": false,
         "points": 0.05
        },
        {
         "code": ">>> assert get_hash(round(param, 10)) == '3e2a94e9e7711ecc3cad28401f19b053'\n",
         "failure_message": "Check the value of param. Refer to the table of common distributions above to see the relation between the Python parameters and the ones we defined in lecture.",
         "hidden": false,
         "locked": false,
         "points": 0.05
        },
        {
         "code": ">>> assert get_hash(sum(ax_3.lines[0].get_xdata())) == '53baa0c52b80c03ef34eb0020c67ce1a'\n>>> assert get_hash(len(ax_3.lines[0].get_xdata())) == 'b8c37e33defde51cf91e1e03e51657da'\n>>> assert get_hash(sum(ax_3.lines[0].get_ydata())) == '0ce1654a0147db42fe776a26d766c72b'\n>>> assert get_hash(len(ax_3.lines[0].get_ydata())) == 'b8c37e33defde51cf91e1e03e51657da'\n",
         "failure_message": "Check the arguments of plt.plot(), mainly the x-axis and y-axis values.",
         "hidden": false,
         "locked": false,
         "points": 0.5
        },
        {
         "code": ">>> assert ax_3.lines[0].get_linestyle() == '-'\n",
         "failure_message": "Keep the default line style inside plot(), which is a solid line.",
         "hidden": false,
         "locked": false,
         "points": 0.1
        },
        {
         "code": ">>> keywords = ['TIME', 'MIN']\n>>> assert all((word in ax_3.get_xlabel().upper() for word in keywords))\n",
         "failure_message": "Check x-axis label.",
         "hidden": false,
         "locked": false,
         "points": 0.15
        },
        {
         "code": ">>> keywords = ['DENSITY']\n>>> assert all((word in ax_3.get_ylabel().upper() for word in keywords))\n",
         "failure_message": "Check y-axis label.",
         "hidden": false,
         "locked": false,
         "points": 0.15
        }
       ],
       "scored": true,
       "setup": "",
       "teardown": "",
       "type": "doctest"
      }
     ]
    },
    "q7.0": {
     "name": "q7.0",
     "points": 0.5,
     "suites": [
      {
       "cases": [
        {
         "code": ">>> assert get_hash(round(q7_0, 10)) == 'cfcd208495d565ef66e7dff9f98764da'\n",
         "failure_message": "Incorrect answer. Time is a continuous random variable!",
         "hidden": false,
         "locked": false,
         "points": 0.5
        }
       ],
       "scored": true,
       "setup": "",
       "teardown": "",
       "type": "doctest"
      }
     ]
    },
    "q7_1": {
     "name": "q7_1",
     "points": 0.5,
     "suites": [
      {
       "cases": [
        {
         "code": ">>> assert get_hash(round(q7_1, 10)) == '0f40f2de672c5a29e4f16444c1755d04'\n",
         "failure_message": "Incorrect answer.",
         "hidden": false,
         "locked": false,
         "points": 0.5
        }
       ],
       "scored": true,
       "setup": "",
       "teardown": "",
       "type": "doctest"
      }
     ]
    },
    "q8.0": {
     "name": "q8.0",
     "points": 0.5,
     "suites": [
      {
       "cases": [
        {
         "code": ">>> assert len(q8_0) == 1\n>>> assert isinstance(q8_0, str)\n",
         "failure_message": "Incorrect answer format. Make sure you only have the letter of your answer choice in quotes.",
         "hidden": false,
         "locked": false,
         "points": 0,
         "success_message": "Correct answer format."
        },
        {
         "code": ">>> assert get_hash(q8_0.upper()) == '0d61f8370cad1d412f80b84d143e1257'\n",
         "failure_message": "Incorrect answer.",
         "hidden": false,
         "locked": false,
         "points": 0.5
        }
       ],
       "scored": true,
       "setup": "",
       "teardown": "",
       "type": "doctest"
      }
     ]
    },
    "q8.2": {
     "name": "q8.2",
     "points": 0.5,
     "suites": [
      {
       "cases": [
        {
         "code": ">>> assert get_hash(round(q8_2, 10)) == '7b7a50600bf22bc0b9aeeb0db37fdec7'\n",
         "failure_message": "Incorrect answer. Make sure you are specifying the parameters correctly.",
         "hidden": false,
         "locked": false,
         "points": 0.5
        }
       ],
       "scored": true,
       "setup": "",
       "teardown": "",
       "type": "doctest"
      }
     ]
    },
    "q8_1": {
     "name": "q8_1",
     "points": 0.5,
     "suites": [
      {
       "cases": [
        {
         "code": ">>> assert len(q8_1) == 1\n>>> assert isinstance(q8_1, str)\n",
         "failure_message": "Incorrect answer format. Make sure you only have the letter of your answer choice in quotes.",
         "hidden": false,
         "locked": false,
         "points": 0,
         "success_message": "Correct answer format."
        },
        {
         "code": ">>> assert get_hash(q8_1.upper()) == '7fc56270e7a70fa81a5935b72eacbe29'\n",
         "failure_message": "Incorrect answer.",
         "hidden": false,
         "locked": false,
         "points": 0.5
        }
       ],
       "scored": true,
       "setup": "",
       "teardown": "",
       "type": "doctest"
      }
     ]
    },
    "q9.0": {
     "name": "q9.0",
     "points": null,
     "suites": [
      {
       "cases": [
        {
         "code": ">>> assert type(fig_4).__name__ == 'Figure'\n>>> assert type(ax_4).__name__ == 'Axes'\n",
         "failure_message": "Make sure to create a figure with 1 axes and assign them to \"fig_4\" and \"ax_4\".",
         "hidden": false,
         "locked": false,
         "points": 0
        },
        {
         "code": ">>> assert isinstance(ax_4.lines[0], Line2D)\n",
         "failure_message": "Make sure you are plotting to ax_4 using plot().",
         "hidden": false,
         "locked": false,
         "points": 0
        },
        {
         "code": ">>> assert get_hash(len(r)) == 'a8f15eda80c50adb0e71943adc8015cf'\n>>> assert get_hash(sum(r)) == 'fa28224d22ca0da48477d092567b7b4f'\n",
         "failure_message": "Check r values. Your array should start at 0 and end at 1.5 (inclusive) with step of 0.01.",
         "hidden": false,
         "locked": false,
         "points": 0
        },
        {
         "code": ">>> assert get_hash(sum(ax_4.lines[0].get_xdata())) == 'fa28224d22ca0da48477d092567b7b4f'\n>>> assert get_hash(len(ax_4.lines[0].get_xdata())) == 'a8f15eda80c50adb0e71943adc8015cf'\n>>> assert get_hash(sum(ax_4.lines[0].get_ydata())) == '6544eaa5d5423b959a091c3153d399ad'\n>>> assert get_hash(len(ax_4.lines[0].get_ydata())) == 'a8f15eda80c50adb0e71943adc8015cf'\n",
         "failure_message": "Check the arguments of plt.plot(), mainly the x-axis and y-axis values.",
         "hidden": false,
         "locked": false,
         "points": 0.3
        },
        {
         "code": ">>> assert ax_4.lines[0].get_linestyle() == '-'\n",
         "failure_message": "Keep the default line style inside plot(), which is a solid line.",
         "hidden": false,
         "locked": false,
         "points": 0
        },
        {
         "code": ">>> keywords = ['RAINFALL', 'INCH']\n>>> assert all((word in ax_4.get_xlabel().upper() for word in keywords))\n",
         "failure_message": "Check x-axis label.",
         "hidden": false,
         "locked": false,
         "points": 0.1
        },
        {
         "code": ">>> keywords = ['DENSITY']\n>>> assert all((word in ax_4.get_ylabel().upper() for word in keywords))\n",
         "failure_message": "Check y-axis label.",
         "hidden": false,
         "locked": false,
         "points": 0.1
        }
       ],
       "scored": true,
       "setup": "",
       "teardown": "",
       "type": "doctest"
      }
     ]
    },
    "q9.1": {
     "name": "q9.1",
     "points": 0.25,
     "suites": [
      {
       "cases": [
        {
         "code": ">>> assert get_hash(round(q9_1, 10)) == '9cba4b0ad65560619a75601b2b291583'\n",
         "failure_message": "Incorrect answer. You should be using norm.cdf() with the correct parameters.",
         "hidden": false,
         "locked": false,
         "points": 0.25
        }
       ],
       "scored": true,
       "setup": "",
       "teardown": "",
       "type": "doctest"
      }
     ]
    },
    "q9.2": {
     "name": "q9.2",
     "points": 0.5,
     "suites": [
      {
       "cases": [
        {
         "code": ">>> assert get_hash(round(q9_2, 10)) == '673c2a1c6eb7c0314beb73524d6dbc64'\n",
         "failure_message": "Incorrect answer. How does P(a<X<b) relate to the CDF? Refer to the lecture notes.",
         "hidden": false,
         "locked": false,
         "points": 0.5
        }
       ],
       "scored": true,
       "setup": "",
       "teardown": "",
       "type": "doctest"
      }
     ]
    },
    "q9.3": {
     "name": "q9.3",
     "points": 0.25,
     "suites": [
      {
       "cases": [
        {
         "code": ">>> assert len(q9_3) == 1\n>>> assert isinstance(q9_3, str)\n",
         "failure_message": "Incorrect answer format. Make sure you only have the letter of your answer choice in quotes.",
         "hidden": false,
         "locked": false,
         "points": 0,
         "success_message": "Correct answer format."
        },
        {
         "code": ">>> assert get_hash(q9_3.upper()) == '9d5ed678fe57bcca610140957afab571'\n",
         "failure_message": "Incorrect answer.",
         "hidden": false,
         "locked": false,
         "points": 0.25
        }
       ],
       "scored": true,
       "setup": "",
       "teardown": "",
       "type": "doctest"
      }
     ]
    }
   }
  }
 },
 "nbformat": 4,
 "nbformat_minor": 5
}
