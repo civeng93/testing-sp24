{
 "cells": [
  {
   "cell_type": "code",
   "execution_count": null,
   "id": "4322992a",
   "metadata": {
    "deletable": false,
    "editable": false
   },
   "outputs": [],
   "source": [
    "# Initialize Otter\n",
    "import otter\n",
    "grader = otter.Notebook(\"lab05.ipynb\")"
   ]
  },
  {
   "cell_type": "markdown",
   "id": "5af9dc94",
   "metadata": {},
   "source": [
    "### CE 93: Lab Assignment 05\n",
    "\n",
    "You must submit the lab to Gradescope by the due date. You will submit the zip file produced by running the final cell of the assignment.\n",
    "\n",
    "## About this Lab\n",
    "The objective of this assignment is to learn about properties of continuous random variables and some of the common discrete distributions. We will not load any data. Instead, we will create the random variables ourselves.\n",
    "\n",
    "## Instructions \n",
    "**Run the first cell, Initialize Otter**, to import the autograder and submission exporter.\n",
    "\n",
    "Throughout the assignment, replace `...` with your answers. We use `...` as a placeholder and theses should be deleted and replaced with your answers.\n",
    "\n",
    "Any part listed as a \"<font color='red'>**Question**</font>\" should be answered to receive credit.\n",
    "\n",
    "**Please save your work after every question!**\n",
    "\n",
    "To read the documentation on a Python function, you can type `help()` and add the function name between parentheses.\n",
    "\n",
    "**Run the cell below**, to import the required modules."
   ]
  },
  {
   "cell_type": "code",
   "execution_count": null,
   "id": "f3463c41",
   "metadata": {},
   "outputs": [],
   "source": [
    "# Please run this cell, and do not modify the contents\n",
    "import math\n",
    "import numpy as np\n",
    "import scipy\n",
    "from scipy import integrate\n",
    "from scipy.stats import * \n",
    "import pandas as pd\n",
    "import statistics as stats\n",
    "import cmath\n",
    "import re\n",
    "import matplotlib.pyplot as plt\n",
    "import matplotlib.image as mpimg\n",
    "import hashlib\n",
    "import ipywidgets as widgets\n",
    "from ipywidgets import FileUpload\n",
    "from IPython.display import display\n",
    "from PIL import Image\n",
    "import os\n",
    "import resources\n",
    "\n",
    "def get_hash(num):\n",
    "    \"\"\"Helper function for assessing correctness\"\"\"\n",
    "    return hashlib.md5(str(num).encode()).hexdigest()"
   ]
  },
  {
   "cell_type": "markdown",
   "id": "97eac86e",
   "metadata": {},
   "source": [
    "### Properties of Probability Density Function \n",
    "\n",
    "Let's first review some basic concepts."
   ]
  },
  {
   "cell_type": "markdown",
   "id": "0613b61a-48a0-43a7-9689-bec36e10d5ac",
   "metadata": {
    "deletable": false,
    "editable": false,
    "jp-MarkdownHeadingCollapsed": true
   },
   "source": [
    "<font color='red'>**Question 1.0.**</font> What is(are) the property(ies) of a probability density function? \n",
    " Assign ALL that apply to the variable `q1_0`. (0.5 pts)\n",
    "\n",
    "**A**. The probability density function is a function that assigns probabilities to each possible outcome of a continuous random variable \\\n",
    "**B**. The probability density function can take values greater than 1 as long as the integral over the entire range is equal to 1 \\\n",
    "**C**. The probability density function can take negative values as long as the integral over the entire range is equal to 1 \\\n",
    "**D**. To obtain probabilities from a probability density function, we need to integrate it \\\n",
    "**E**. The probability of a continuous random variable being exactly equal to any outcome is always 0 \\\n",
    "**F**. The probability of a continuous random variable being exactly equal to any outcome is always positive\n",
    "\n",
    "Answer in the next cell. Add each selected choice as a string and separate each two answer choices by a comma. For example, if you want to select `\"A\"` and `\"B\"`, your answer should be `\"A\", \"B\"`.\\\n",
    "Assign your answer to the given variable.\n",
    "Remember to put quotes around each answer choice."
   ]
  },
  {
   "cell_type": "code",
   "execution_count": null,
   "id": "dd70db72-e18b-4e69-b560-284c49290da1",
   "metadata": {
    "tags": []
   },
   "outputs": [],
   "source": [
    "# ANSWER CELL\n",
    "q1_0 = ...\n",
    "q1_0"
   ]
  },
  {
   "cell_type": "code",
   "execution_count": null,
   "id": "dad1ab78",
   "metadata": {
    "deletable": false,
    "editable": false
   },
   "outputs": [],
   "source": [
    "grader.check(\"q1.0\")"
   ]
  },
  {
   "cell_type": "markdown",
   "id": "f941fe77-ded3-4dd4-b480-a1805a10d239",
   "metadata": {},
   "source": [
    "### Defining Functions in Python\n",
    "\n",
    "Before we define our own probability density functions, let's review how to define functions in Python.\n",
    "\n",
    "In programming, a function is a named sequence of statements that takes input data and returns an output. Similar to mathematical functions, Python functions take in data, perform on them a sequence of statements, and then return an output.\n",
    "\n",
    "An example of a mathematical function is: $f(x)=1.25(1-x^4)$\n",
    "\n",
    "In Python, a function that serves the same task looks like:\n",
    "\n",
    "```python\n",
    "def PDF_x(x):\n",
    "    return 1.25 * (1 - x**4)\n",
    "```\n",
    "\n",
    "We will focus on defining simple functions. The most common way to define a function in Python is using the keyword `def` (short for define), as shown below:\n",
    "\n",
    "```python\n",
    "def function_name(argument_1, argument_2, ...):\n",
    "    \n",
    "    return output_parameters\n",
    "\n",
    "```\n",
    "\n",
    "The syntax includes:\n",
    "1. Function header that begins with the keyword `def`, which is used to define a function\n",
    "2. `function_name`, which is the identifier chosen by the programmer (you)\n",
    "> Functions must conform to a naming scheme similar to variables. They can only contain alphanumeric characters and underscores, and the first character must be a letter or an underscore. Also, function names are case-sensitive.\n",
    "3. Input arguments `(argument_1, argument_2, ...)`, which are a comma-separated list of inputs that will be sent to the function \n",
    "4. `:` colon, which is used at the end of the function header, after the input arguments\n",
    "5. `return`, which will return (send back) the value(s) after the keyword to the calling statement"
   ]
  },
  {
   "cell_type": "markdown",
   "id": "02425b36",
   "metadata": {},
   "source": [
    "### Calling Functions in Python\n",
    "\n",
    "Defining a function does not make it run. To run or use a function, we need to **call** it. To call a function, use its name followed by the list of input arguments between parentheses: `function_name(argument_1, argument_2, ...)`.\n",
    "\n",
    "For example, if we defined the following function:\n",
    "\n",
    "```python\n",
    "def PDF_x(x):\n",
    "    return 1.25 * (1 - x**4)\n",
    "```\n",
    "\n",
    "Then, if we want to evaluate the probability density function for $x = 0.5$, we can use:\n",
    "\n",
    "```python\n",
    ">>> PDF_x(0.5)\n",
    "\n",
    "1.171875\n",
    "```"
   ]
  },
  {
   "cell_type": "markdown",
   "id": "1f68489a",
   "metadata": {
    "deletable": false,
    "editable": false
   },
   "source": [
    "### Defining Probability Density Function\n",
    "\n",
    "Let $Z$ be a continuous random variable with the following probability density function:\n",
    "\n",
    "$$ f_Z(z)=   \\left\\{\n",
    "\\begin{array}{ll}\n",
    "      \\frac{2}{30} (1+\\frac{z}{10}) & 0\\leq z \\leq 10\\\\\n",
    "      0 & \\text{otherwise}\\\\\n",
    "\\end{array} \n",
    "\\right.  $$\n",
    "\n",
    "<font color='red'>**Question 2.0.**</font> Complete the Python function below, `PDF_z(z)`, which takes as input a scalar number or a numeric sequence (i.e., list, tuple, NumPy array) of numeric values and returns the density(ies) at the input value(s) using the above equation for $f_Z(z)$. (0.5 pts)\n",
    "\n",
    "Assume that the input values are $0\\leq z \\leq 10$, so only return the input(s) evaluated using the equation $\\dfrac{2}{30} \\left(1+\\dfrac{z}{10}\\right)$.\n",
    "\n",
    "Then try out your new `PDF_z()` function using `z = 3` and assign the output to `q2_0`. Do not just manually type the numeric answer. Use Python expressions that return the desired answer and assign the expression to the variable."
   ]
  },
  {
   "cell_type": "code",
   "execution_count": null,
   "id": "8eb3ee7e",
   "metadata": {
    "tags": []
   },
   "outputs": [],
   "source": [
    "# ANSWER CELL\n",
    "\n",
    "# define a function to evaluate the PDF\n",
    "def PDF_z(z):\n",
    "    return ...\n",
    "\n",
    "# Get the density for z = 3\n",
    "q2_0 = ...\n",
    "print(f'f(z = 3) = {q2_0}')"
   ]
  },
  {
   "cell_type": "code",
   "execution_count": null,
   "id": "4136c71a",
   "metadata": {
    "deletable": false,
    "editable": false
   },
   "outputs": [],
   "source": [
    "grader.check(\"q2.0\")"
   ]
  },
  {
   "cell_type": "markdown",
   "id": "1864a514-615e-4b62-aafa-549d8e94a998",
   "metadata": {},
   "source": [
    "We can also define an array with many $z$ values and evaluate the PDF at these values using the function `PDF_z()`. Because $Z$ is a continuous random variable with $0\\leq z \\leq 10$, we can create an array with many values between 0 and 10. We can create an array with **a certain number of evenly spaced points between a start and end value** using `np.linspace()` function in NumPy:\n",
    "\n",
    "```python\n",
    "np.linspace(start, stop, num)\n",
    "```\n",
    "\n",
    "where:\n",
    "\n",
    "* `start`: a number specifying at which value to start the array. Here, this is a required argument.\n",
    "* `stop`: a number specifying at which value to stop the array. This is by default **included** in the array, unlike `np.arange()`. This is a required argument.\n",
    "* `num`: an integer number specifying how many values to generate between `start` and `stop`, including `start` and `stop`. This is an optional argument, and thus, if not specified, it will take the default value 50.\n",
    "\n",
    "**Example:**\n",
    "\n",
    "To create $10$ equally spaces numbers within the interval $[0, 1]$, we can use:\n",
    "```python\n",
    ">>> x = np.linspace(0, 1, 10)\n",
    "```"
   ]
  },
  {
   "cell_type": "markdown",
   "id": "7e48ba4c",
   "metadata": {
    "deletable": false,
    "editable": false
   },
   "source": [
    "<font color='red'>**Question 2.1.**</font> Create an array named `z` with 1000 evenly spaced values between 0 and 10 (range of z). Then, use the function that you defined to calculate the PDF for every value in the array `z`. Assign the output to `PDF_z_values`. Do not just manually type the numeric answer. Use Python expressions that return the desired answer and assign the expression to the variable. (0.5 pts)"
   ]
  },
  {
   "cell_type": "code",
   "execution_count": null,
   "id": "c6978126",
   "metadata": {
    "tags": []
   },
   "outputs": [],
   "source": [
    "# ANSWER CELL\n",
    "\n",
    "# create an array z with 1000 evenly spaced values between 0 and 10 (range of z)\n",
    "z = ...\n",
    "\n",
    "# use the function you defined to calculate the PDF for every value in the array z\n",
    "PDF_z_values = ...\n",
    "\n",
    "print(f'PDF values: [{PDF_z_values[0]}, {PDF_z_values[1]}, ..., {PDF_z_values[-2]}, {PDF_z_values[-1]}]' if not isinstance(stdev_V, type(Ellipsis)) else None)"
   ]
  },
  {
   "cell_type": "code",
   "execution_count": null,
   "id": "991aef8c",
   "metadata": {
    "deletable": false,
    "editable": false
   },
   "outputs": [],
   "source": [
    "grader.check(\"q2.1\")"
   ]
  },
  {
   "cell_type": "markdown",
   "id": "08c89c67-2726-4948-9b36-05fb4baa77a9",
   "metadata": {},
   "source": [
    "### Calculating Probabilities\n",
    "\n",
    "To calculate probabilities from the PDF of a continuous random variable, we have to integrate:\n",
    "\n",
    "$$P(a \\leq x \\leq b) = \\int_{a}^{b} f(x) \\, dx$$\n",
    "\n",
    "We can use the `integrate.quad()` function to perform integration directly in Python as follows:\n",
    "\n",
    "```python\n",
    "integrate.quad(func, a, b)\n",
    "```\n",
    "\n",
    "where:\n",
    "\n",
    "* `func`: the name of the Python function you want to integrate\n",
    "* `a`: a number specifying the lower limit of integration\n",
    "* `b`: a number specifying the upper limit of integration\n",
    "\n",
    "Note that `integrate.quad()` returns a tuple with two values, in the following order:\n",
    "1. The integral of `func` from `a` to `b`\n",
    "2. An estimate of the absolute error in the result\n",
    "\n",
    "We will only focus on the value of the integral. So we can use indexing to get the integral using `integrate.quad(func, a, b)[0]`, where `[0]` is simply indexing the first element, which is the value of the integral.\n",
    "\n",
    "**Example:**\n",
    "\n",
    "To calculate $P(1 \\leq z \\leq 5)$, we can use:\n",
    "```python\n",
    ">>> integrate.quad(PDF_z, 1, 5)[0]\n",
    "\n",
    "0.34666666666666673\n",
    "```"
   ]
  },
  {
   "cell_type": "markdown",
   "id": "6c20bfce",
   "metadata": {
    "deletable": false,
    "editable": false
   },
   "source": [
    "<font color='red'>**Question 2.2.**</font> Calculate the following probabilities: (0.5 pts)\n",
    "\n",
    "* Calculate $P(0 \\leq z \\leq 3)$ and assign the output to `P_0_3`\n",
    "* Calculate $P(5 \\leq z \\leq 9)$ and assign the output to `P_5_9`\n",
    "\n",
    "\n",
    "Do not just manually type the numeric answers. Use Python expressions that return the desired answer and assign the expressions to the variable."
   ]
  },
  {
   "cell_type": "code",
   "execution_count": null,
   "id": "cbd9a404",
   "metadata": {
    "tags": []
   },
   "outputs": [],
   "source": [
    "# ANSWER CELL\n",
    "\n",
    "# calculate P(0 < z < 3)\n",
    "P_0_3 = ...\n",
    "print(f'P(0 < z < 3) = {P_0_3:.3f}' if not isinstance(P_0_3, type(Ellipsis)) else None)\n",
    "\n",
    "# calculate P(5 < z < 9)\n",
    "P_5_9 = ...\n",
    "print(f'P(5 < z < 9) = {P_5_9:.3f}' if not isinstance(P_5_9, type(Ellipsis)) else None)"
   ]
  },
  {
   "cell_type": "code",
   "execution_count": null,
   "id": "457db95f",
   "metadata": {
    "deletable": false,
    "editable": false
   },
   "outputs": [],
   "source": [
    "grader.check(\"q2.2\")"
   ]
  },
  {
   "cell_type": "markdown",
   "id": "a80c7e2a-0cea-4650-a6ab-6a7bf4e2a002",
   "metadata": {},
   "source": [
    "So now, we know how to calculate the PDF of any continuous function and evaluate its integral easily in Python.\n",
    "\n",
    "In the lecture, we defined two criteria that should be satisfied for a function to be a valid PDF:\n",
    "\n",
    "$$1. \\quad f(x) \\geq 0 \\text{ for all }x$$\n",
    "$$2. \\quad \\displaystyle \\int \\limits_{-\\infty} ^{+\\infty} f(x)dx=1$$\n",
    "\n",
    "We can check these conditions for the random variable $Z$ that we have been working with using:\n",
    "1. `np.all(PDF_z_values >= 0)`\n",
    "> If this returns `True`, then $f(z) \\geq 0$ for all $z$\n",
    "2. `round(integrate.quad(PDF_z, 0, 10)[0], 3) == 1`\n",
    "> If this returns `True`, then the PDF integrates to 1. **Note that we are integrating the PDF here from 0 to 10, because this is the range over which $z$ is defined.** We are also rounding the answer due to numerical errors.\n",
    "\n",
    "Both conditions should be satisfied for a PDF to be valid. We can check that both conditions are satisfied using logical operators: \n",
    "\n",
    "`(np.all(PDF_z_values >= 0)) and (round(integrate.quad(PDF_z, 0, 10)[0], 3) == 1)`\n",
    "\n",
    "If both conditions are satisfied, this will return `True`. Otherwise, it will return `False`.\n",
    "\n",
    "Run the code cell below to check if the function in `PDF_z` is a valid PDF."
   ]
  },
  {
   "cell_type": "code",
   "execution_count": null,
   "id": "4abd7efd-9d72-4b1b-bdf3-af61a89cf5b9",
   "metadata": {},
   "outputs": [],
   "source": [
    "# check if f(z) is a valid PDF\n",
    "\n",
    "(np.all(PDF_z_values >= 0)) and (round(integrate.quad(PDF_z, 0, 10)[0], 3) == 1)"
   ]
  },
  {
   "cell_type": "markdown",
   "id": "15214f1b-3fcd-490a-bdee-fa1410a146ac",
   "metadata": {},
   "source": [
    "### Valid PDFs\n",
    "\n",
    "Next, you will use the method from above to check if a PDF is valid."
   ]
  },
  {
   "cell_type": "markdown",
   "id": "dd1c86e4-31fb-4c95-9c42-5e7c8721124d",
   "metadata": {
    "deletable": false,
    "editable": false
   },
   "source": [
    "<font color='red'>**Question 3.0.**</font> Using the methods we used above to check if a PDF is valid, is the following function a valid PDF? You need to perform all calculations in `Python` rather than by hand. (1 pt)\n",
    "\n",
    "$$ f_W(w)=   \\left\\{\n",
    "\\begin{array}{ll}\n",
    "      \\frac{3}{4}(1-w^2) & 0 \\leq w \\leq 1\\\\\n",
    "      0 & \\text{otherwise}\\\\\n",
    "\\end{array} \n",
    "\\right.  $$\n",
    "\n",
    "Follow these steps:\n",
    "1. Define a function that calculates the PDF values of $W$. Name the function `PDF_w`.\n",
    "2. Define an array `w` that includes 1000 evenly spaced values over the range for which $W$ is defined.\n",
    "3. Calculate the PDF for every value in the array `w`. Assign the output to `PDF_w_values`.\n",
    "4. Integrate $f_W(w)$ over the range for which $W$ is defined. Assign the integral value to `integral`.\n",
    "5. Finally, check if both conditions are satisfied for it be a valid PDF.\n",
    "\n",
    "\n",
    "Once you've completed all of the above, answer the following question: Is $f_W(w)$ a valid PDF? Assign your answer to the variable `q3` as a string.\n",
    "\n",
    "**A.** Yes it is a valid PDF.  \\\n",
    "**B.** No it is not a valid PDF because the integral over all possible values is not equal to 1. \\\n",
    "**C.** No it is not a valid PDF because not all densities are nonnegative.  \\\n",
    "**D.** No it is not a valid PDF because both the integral over all possible values is not equal to 1 and not all densities are nonnegative. \\\n",
    "**E.** No it is not a valid PDF because some densities are greater than 1. \n",
    "\n",
    "Your answer should be a string, e.g., `\"A\"`, `\"B\"`, etc.\\\n",
    "Remember to put quotes around your answer choice."
   ]
  },
  {
   "cell_type": "code",
   "execution_count": null,
   "id": "f4eb5891-4fbc-4f4a-8c50-a71ec436a7b0",
   "metadata": {
    "tags": []
   },
   "outputs": [],
   "source": [
    "# ANSWER CELL\n",
    "\n",
    "# define a function to evaluate the PDF\n",
    "...\n",
    "\n",
    "# create an array w with 1000 evenly spaced values over the range of W\n",
    "w = ...\n",
    "\n",
    "# use the function you defined to calculate the PDF for every value in the array w\n",
    "PDF_w_values = ...\n",
    "\n",
    "# integrate f(w) over the range for which W is defined. Make sure you index the value of the integral.\n",
    "integral = ...\n",
    "\n",
    "# Check the conditions for f(w) to be a valid PDF (check each condition separately to answer the question below)\n",
    "...\n",
    "\n",
    "# Is f(w) a valid PDF? Choose your answer from the choices above.\n",
    "q3 = ...\n",
    "q3"
   ]
  },
  {
   "cell_type": "code",
   "execution_count": null,
   "id": "d21750fd",
   "metadata": {
    "deletable": false,
    "editable": false
   },
   "outputs": [],
   "source": [
    "grader.check(\"q3.0\")"
   ]
  },
  {
   "cell_type": "markdown",
   "id": "172807bf-44dc-4750-a8dc-da826c089601",
   "metadata": {},
   "source": [
    "### Air Particles PDF\n",
    "\n",
    "Next we will look at a real application of continuous random variables.\n",
    "\n",
    "Particles are a major component of air pollution, and are commonly described by their size. Let $Y$ represent the diameter, in micrometers ($\\mu m$ : $10^{-6} m$), of a randomly chosen particle. The probability density function of $Y$ is inversely proportional to the volume of the particle; that is:\n",
    "\n",
    "$$ f_Y(y)=   \\left\\{\n",
    "\\begin{array}{ll}\n",
    "      \\Large\\frac{2}{y^3} & y \\geq 1\\\\\n",
    "      0 & \\text{otherwise}\\\\\n",
    "\\end{array} \n",
    "\\right.  $$"
   ]
  },
  {
   "cell_type": "markdown",
   "id": "cd516270",
   "metadata": {
    "deletable": false,
    "editable": false
   },
   "source": [
    "<font color='red'>**Question 4.0.**</font> Define a Python function `PDF_y(y)`, which takes as input a scalar number or a numeric sequence (i.e., list, tuple, NumPy array) of numeric values and returns the density(ies) at the input value(s) using the above equation for $f_Y(y)$. (0.25 pts)\n",
    "\n",
    "Assume that the input value is $y \\geq 1$."
   ]
  },
  {
   "cell_type": "code",
   "execution_count": null,
   "id": "cb7da170",
   "metadata": {
    "tags": []
   },
   "outputs": [],
   "source": [
    "# ANSWER CELL\n",
    "\n",
    "# define a function to evaluate the PDF\n",
    "..."
   ]
  },
  {
   "cell_type": "code",
   "execution_count": null,
   "id": "764e8e8d",
   "metadata": {
    "deletable": false,
    "editable": false
   },
   "outputs": [],
   "source": [
    "grader.check(\"q4.0\")"
   ]
  },
  {
   "cell_type": "markdown",
   "id": "8895d107-5749-42dc-8e3e-e56d1ecfe440",
   "metadata": {
    "deletable": false,
    "editable": false
   },
   "source": [
    "<font color='red'>**Question 4.1.**</font> One common measure of air quality is the Particulate Matter 2.5 ($PM_{2.5}$), which refers to particles 2.5 $\\mu m$ or less in diameter (i.e., $z<2.5$). Based on the PDF of $Y$, what proportion of the contaminating particles are $PM_{2.5}$? Assign your answer to `q4_1`. Do not just manually type the numeric answer. Use Python expressions that return the desired answer and assign the expression to the variable. (0.75 pts)\n",
    "\n",
    "*Hint:* This is the same as getting $P(y\\leq2.5)$. Be careful regarding the range for which $f_Y(y)$ is defined."
   ]
  },
  {
   "cell_type": "code",
   "execution_count": null,
   "id": "9d719660-684f-40ba-ac26-2dc12d3970e8",
   "metadata": {
    "tags": []
   },
   "outputs": [],
   "source": [
    "# ANSWER CELL\n",
    "\n",
    "q4_1 = ...\n",
    "print(f'PM 2.5 is equal to {q4_1:.3f}' if not isinstance(q4_1, type(Ellipsis)) else None)"
   ]
  },
  {
   "cell_type": "code",
   "execution_count": null,
   "id": "277820c8",
   "metadata": {
    "deletable": false,
    "editable": false
   },
   "outputs": [],
   "source": [
    "grader.check(\"q4.1\")"
   ]
  },
  {
   "cell_type": "markdown",
   "id": "f86485e9",
   "metadata": {
    "deletable": false,
    "editable": false
   },
   "source": [
    "<font color='red'>**Question 4.2.**</font> What is the probability that diameter of a selected air particle is exactly equal to 2.5 $\\mu m$. Assign your answer to `q4_2`. (0.5 pts)\n",
    "\n",
    "*Hint:* This is a conceptual question."
   ]
  },
  {
   "cell_type": "code",
   "execution_count": null,
   "id": "80330403",
   "metadata": {
    "tags": []
   },
   "outputs": [],
   "source": [
    "# ANSWER CELL\n",
    "\n",
    "q4_2 = ...\n",
    "print(f'P(y = 2.5) = {q4_2}')"
   ]
  },
  {
   "cell_type": "code",
   "execution_count": null,
   "id": "4834ef94",
   "metadata": {
    "deletable": false,
    "editable": false
   },
   "outputs": [],
   "source": [
    "grader.check(\"q4.2\")"
   ]
  },
  {
   "cell_type": "markdown",
   "id": "8159212a",
   "metadata": {
    "deletable": false,
    "editable": false
   },
   "source": [
    "<font color='red'>**Question 4.3.**</font> Is it more likely for the diameter of a selected air particle to be close to 5 $\\mu m$ than to 10 $\\mu m$? Assign your answer to `q4_3` as a string. (0.5 pts)\n",
    "\n",
    "**A.** We can't tell based on the available information  \\\n",
    "**B.** Yes because $P(Y=5) > P(Y=10)$ \\\n",
    "**C.** No because $P(Y=5) < P(Y=10)$ \\\n",
    "**D.** Yes because $f(Y=5) > f(Y=10)$ \\\n",
    "**E.** No because $f(Y=5) < f(Y=10)$ \n",
    "\n",
    "Your answer should be a string, e.g., `\"A\"`, `\"B\"`, etc.\\\n",
    "Remember to put quotes around your answer choice."
   ]
  },
  {
   "cell_type": "code",
   "execution_count": null,
   "id": "9f5eb142",
   "metadata": {
    "tags": []
   },
   "outputs": [],
   "source": [
    "# ANSWER CELL\n",
    "\n",
    "# Type any code below to help you with this question\n",
    "...\n",
    "\n",
    "q4_3 = ...\n",
    "q4_3"
   ]
  },
  {
   "cell_type": "code",
   "execution_count": null,
   "id": "a9e6fe33",
   "metadata": {
    "deletable": false,
    "editable": false
   },
   "outputs": [],
   "source": [
    "grader.check(\"q4.3\")"
   ]
  },
  {
   "cell_type": "markdown",
   "id": "161aff1c-ce72-469d-9b96-abc7ad29da5f",
   "metadata": {},
   "source": [
    "### Calculating Numerical Summaries \n",
    "\n",
    "In the lecture, we defined the mean of a continuous random variable as:\n",
    "\n",
    "$\\mu_x=E[x]= {\\displaystyle \\int \\limits_{-\\infty} ^{+\\infty} x \\cdot f_X(x) \\ dx}\\$\n",
    "\n",
    "When integrating the PDF, we have to be careful of the range over which the PDF is defined. So, if for example, we have:\n",
    "\n",
    "$$ f_X(x)=   \\left\\{\n",
    "\\begin{array}{ll}\n",
    "      1.25(1-x^4) & 0\\leq x \\leq 1\\\\\n",
    "      0 & \\text{otherwise}\\\\\n",
    "\\end{array} \n",
    "\\right.  $$\n",
    "\n",
    "Then, to get the mean:\n",
    "\n",
    "$$E(X) = {\\displaystyle \\int \\limits_{-\\infty} ^{+\\infty} x \\cdot f_X(x) \\ dx} =  {\\displaystyle \\color {red} {\\displaystyle \\int \\limits_{-\\infty} ^{0} x \\cdot 0 \\ dx}} + {\\displaystyle \\color {blue} {\\displaystyle \\int \\limits_{0} ^{1} x \\cdot 1.25(1-x^4) \\ dx}} + {\\displaystyle \\color {red} {\\displaystyle \\int \\limits_{1} ^{+\\infty} x \\cdot 0 \\ dx}} = {\\displaystyle \\color {blue} {\\displaystyle \\int \\limits_{0} ^{1} x \\cdot 1.25(1-x^4) \\ dx}}$$\n",
    "\n",
    "So, we should only integrate $x \\cdot 1.25(1-x^4)$ between $0$ and $1$, because this is the range of $X$ for which the PDF equation is defined.\n",
    "\n",
    "The same applies when integrating the PDF for any other purpose (getting variance, etc.)."
   ]
  },
  {
   "cell_type": "markdown",
   "id": "2b229fd0",
   "metadata": {
    "deletable": false,
    "editable": false
   },
   "source": [
    "Recall that we are working with the following PDF of the diameter, in micrometers ($\\mu m$ : $10^{-6} m$), of a randomly chosen air particle:\n",
    "\n",
    "$$ f_Y(y)=   \\left\\{\n",
    "\\begin{array}{ll}\n",
    "      \\Large\\frac{2}{y^3} & y \\geq 1\\\\\n",
    "      0 & \\text{otherwise}\\\\\n",
    "\\end{array} \n",
    "\\right.  $$\n",
    "\n",
    "You already defined a Python function named `PDF_y()` to get $f_Y(y)$. So to get the mean value, we need to integrate the function $y \\cdot f_Y(y)$ over the range of interest. \n",
    "\n",
    "To do so, we need to first define a new Python function, say `fun_mean()`, that returns: $y \\cdot f_Y(y)$. Then, we can integrate the new function, `fun_mean()` using `integrate.quad()` to compute $\\mu_Y$.\n",
    "\n",
    "<font color='red'>**Question 5.0.**</font> Define a Python function `fun_mean(y)`, which takes as input a scalar number or a numeric sequence (i.e., list, tuple, NumPy array) of numeric values and returns $y \\cdot f_Y(y)$ at the input value(s) using the above equation for $f_Y(y)$. (0.25 pts)\n",
    "\n",
    "Assume that the input value is $y \\geq 1$."
   ]
  },
  {
   "cell_type": "code",
   "execution_count": null,
   "id": "284552fd",
   "metadata": {
    "tags": []
   },
   "outputs": [],
   "source": [
    "# ANSWER CELL\n",
    "\n",
    "# define a function to evaluate y * f(y)\n",
    "..."
   ]
  },
  {
   "cell_type": "code",
   "execution_count": null,
   "id": "368d2a60",
   "metadata": {
    "deletable": false,
    "editable": false
   },
   "outputs": [],
   "source": [
    "grader.check(\"q5.0\")"
   ]
  },
  {
   "cell_type": "markdown",
   "id": "4df2bfe3-c876-4711-9e85-99ab9055dadc",
   "metadata": {
    "deletable": false,
    "editable": false
   },
   "source": [
    "<font color='red'>**Question 5.1.**</font> What is the value of $\\mu_Y$? Assign your answer to `mean_y`. Do not just manually type the numeric answer. Use Python expressions that return the desired answer and assign the expression to the variable. (0.75 pts)\n",
    "\n",
    "*You have to use `integrate.quad(function_mean, a, b)[0]` to calculate the mean by simply integrating `fun_mean()` (instead of integrating `PDF_y`) over the possible values of $y$. Because $y\\geq1$, set the upper limit for the integral equal to $10^6$ instead of $+\\infty$.*"
   ]
  },
  {
   "cell_type": "code",
   "execution_count": null,
   "id": "5e5c0a62-83af-4176-8132-d7a9e26c748a",
   "metadata": {
    "tags": []
   },
   "outputs": [],
   "source": [
    "# ANSWER CELL\n",
    "\n",
    "# Use integrate.quad() to calculate the mean\n",
    "mean_y = ...\n",
    "print(f'The mean particle diameter is {mean_y:.1f} micrometers' if not isinstance(mean_y, type(Ellipsis)) else None)"
   ]
  },
  {
   "cell_type": "code",
   "execution_count": null,
   "id": "29e6c96f",
   "metadata": {
    "deletable": false,
    "editable": false
   },
   "outputs": [],
   "source": [
    "grader.check(\"q5.1\")"
   ]
  },
  {
   "cell_type": "markdown",
   "id": "76a814be-aeeb-457c-86e4-809b544b2686",
   "metadata": {},
   "source": [
    "We also defined the variance of a continuous random variable as:\n",
    "\n",
    "$\\sigma_X^2=Var[X]= {\\displaystyle \\int \\limits_{-\\infty} ^{+\\infty} (x-\\mu_X)^2 \\cdot f_X(x) \\ dx }$\n",
    "\n",
    "In this case, if we wanted to use `integrate.quad()` to calculate variance, we have to define a function that returns: $(x-\\mu_X)^2 \\cdot f_X(x)$ and then integrate it."
   ]
  },
  {
   "cell_type": "markdown",
   "id": "9dc72291",
   "metadata": {
    "deletable": false,
    "editable": false
   },
   "source": [
    "<font color='red'>**Question 5.2.**</font> Define a Python function `fun_var(y)`, which takes as input a scalar number or a numeric sequence (i.e., list, tuple, NumPy array) of numeric values and returns $(y - \\mu_Y)^2 \\cdot f_Y(y)$ at the input value(s) using the above equation for $f_Y(y)$. (0.25 pts)\n",
    "\n",
    "Assume that the input value is $y \\geq 1$.\n",
    "\n",
    "Note that $\\mu_Y$ is saved as variable `mean_y`."
   ]
  },
  {
   "cell_type": "code",
   "execution_count": null,
   "id": "70f81900",
   "metadata": {
    "tags": []
   },
   "outputs": [],
   "source": [
    "# ANSWER CELL\n",
    "\n",
    "# define a function to evaluate (y - mean)^2 * f(y)\n",
    "..."
   ]
  },
  {
   "cell_type": "code",
   "execution_count": null,
   "id": "2c493c14",
   "metadata": {
    "deletable": false,
    "editable": false
   },
   "outputs": [],
   "source": [
    "grader.check(\"q5.2\")"
   ]
  },
  {
   "cell_type": "markdown",
   "id": "257ee7eb-1652-4001-89c7-6558b4d78bfe",
   "metadata": {
    "deletable": false,
    "editable": false
   },
   "source": [
    "<font color='red'>**Question 5.3.**</font> What is the value of $\\sigma_Z$? Assign your answer to `stdev_y`. Do not just manually type the numeric answer. Use Python expressions that return the desired answer and assign the expression to the variable. (0.75 pts)\n",
    "\n",
    "*Similar to the mean, set the upper limit for the integral equal to $10^6$ instead of $+\\infty$.*"
   ]
  },
  {
   "cell_type": "code",
   "execution_count": null,
   "id": "05f6ea21-4d59-474f-8f6c-2f1cd336f3ff",
   "metadata": {
    "tags": []
   },
   "outputs": [],
   "source": [
    "# ANSWER CELL\n",
    "\n",
    "stdev_y = ...\n",
    "print(f'The standard deviation of the particle diameter is {stdev_y:.3f} micrometers' if not isinstance(stdev_y, type(Ellipsis)) else None)"
   ]
  },
  {
   "cell_type": "code",
   "execution_count": null,
   "id": "b9a53cb6",
   "metadata": {
    "deletable": false,
    "editable": false
   },
   "outputs": [],
   "source": [
    "grader.check(\"q5.3\")"
   ]
  },
  {
   "cell_type": "markdown",
   "id": "74e3bc10-acfa-495b-8c5a-bc971c074bc8",
   "metadata": {},
   "source": [
    "### Plotting the PDF\n",
    "\n",
    "Finally, let's plot the probability density function to visually assess the skewness of the distribution of the particle diameter.\n",
    "\n",
    "We can simply plot the PDF by defining a reasonable range for the $y$ values (using for example, `np.linspace(start, stop, num)`), getting the PDF values, and then plotting them using `plt.plot()`."
   ]
  },
  {
   "cell_type": "markdown",
   "id": "0095d511-01cc-488c-b438-c3e1d7d7b314",
   "metadata": {
    "deletable": false,
    "editable": false
   },
   "source": [
    "<font color='red'>**Question 6.0.**</font> Modify the code below to plot the PDF of $Y$. Follow these steps: (0.75 pts)\n",
    "\n",
    "1. Create an array named `y` with 1000 evenly spaced values between 1 and 10\n",
    "2. Calculate the $f_Y(y)$ for every value in the array `y`. Assign the output to `PDF_y_values`. *Hint: use your function PDF_y()*\n",
    "3. Plot the PDF using `plt.plot(y, PDF_y_values)`. \n",
    "4. Change the line color of `plt.plot(y, PDF_y_values)` to anything other than the default color. You can control the line color, style, and other properties. See [here](https://matplotlib.org/stable/api/_as_gen/matplotlib.pyplot.plot.html) for more details.\n",
    "5. Set the x-axis label to \"Particle Diameter (micrometers)\"\n",
    "6. Set the x-axis label to \"Density\""
   ]
  },
  {
   "cell_type": "code",
   "execution_count": null,
   "id": "4321c20d-dae8-43e0-b792-5b0c31d4b758",
   "metadata": {
    "scrolled": true,
    "tags": []
   },
   "outputs": [],
   "source": [
    "# ANSWER CELL\n",
    "\n",
    "# Do not modify this line for grading purposes\n",
    "import matplotlib.pyplot as plt\n",
    "from matplotlib.lines import Line2D\n",
    "\n",
    "# Edit the code below to plot the PDF of Y (only edit where you have ...)\n",
    "\n",
    "# create an array y with 1000 evenly spaced values between 1 and 10\n",
    "y = ...\n",
    "\n",
    "# use the function you defined to calculate the PDF for every value in the array y\n",
    "PDF_y_values = ...\n",
    "\n",
    "# create figure and axes\n",
    "fig_1, ax_1 = plt.subplots(nrows=1, ncols=1, figsize=(5,3))\n",
    "\n",
    "# Plot the PDF\n",
    "...\n",
    "\n",
    "# set title, xlabel, and ylabel\n",
    "...\n",
    "\n",
    "# add grid lines\n",
    "ax_1.grid()\n",
    "\n",
    "# display all figures\n",
    "plt.tight_layout()\n",
    "plt.show()"
   ]
  },
  {
   "cell_type": "code",
   "execution_count": null,
   "id": "075eeab4",
   "metadata": {
    "deletable": false,
    "editable": false
   },
   "outputs": [],
   "source": [
    "grader.check(\"q6.0\")"
   ]
  },
  {
   "cell_type": "markdown",
   "id": "061c8872-8263-4a78-b69e-1692323c4b89",
   "metadata": {
    "deletable": false,
    "editable": false
   },
   "source": [
    "<font color='red'>**Question 6.1.**</font> Based on your plot of the PDF, what can you say about the skewness of the particle diameter, $Y$? Assign your answer to `q6_1` as a string. (0.25 pts)\n",
    "\n",
    "**A.** Symmetric\\\n",
    "**B.** Negatively Skewed\\\n",
    "**C.** Positively Skewed\n",
    "\n",
    "Your answer should be a string, e.g., `\"A\"`, `\"B\"`, etc.\\\n",
    "Remember to put quotes around your answer choice."
   ]
  },
  {
   "cell_type": "code",
   "execution_count": null,
   "id": "11bf5004-ef7d-4820-a01f-127128d4a9ba",
   "metadata": {
    "tags": []
   },
   "outputs": [],
   "source": [
    "# ANSWER CELL\n",
    "\n",
    "q6_1 = ...\n",
    "q6_1"
   ]
  },
  {
   "cell_type": "code",
   "execution_count": null,
   "id": "4a605fae",
   "metadata": {
    "deletable": false,
    "editable": false
   },
   "outputs": [],
   "source": [
    "grader.check(\"q6.1\")"
   ]
  },
  {
   "cell_type": "markdown",
   "id": "e62609de",
   "metadata": {},
   "source": [
    "### Common Discrete Distributions\n",
    "\n",
    "After understanding the distribution of the particle diameter, you want to collect several air samples and test them for pollution. In the next few questions, you will be asked to identify the distribution of the random variable, its parameters, and any summary statistics. \n",
    "\n",
    "The table below lists the common discrete distributions we have discussed in class and their corresponding Python functions and their input parameters. You can click on the different Python functions to read their documentation. When you select a distribution in the next questions, click on the corresponding link and read the documentation to understand the inputs. **Note that the input parameters might use different symbols or be different from the ones we defined in the lecture.** So it's important you read the corresponding documentation carefully.\n",
    "\n",
    "| Choice | Distribution      | Python function |\n",
    "|:-------|:------------------|:----------------|\n",
    "| \"A\"    | Bernoulli         | [`bernoulli(p)`](https://docs.scipy.org/doc/scipy/reference/generated/scipy.stats.bernoulli.html#scipy.stats.bernoulli) |\n",
    "| \"B\"    | Binomial          | [`binom(n, p)`](https://docs.scipy.org/doc/scipy/reference/generated/scipy.stats.binom.html#scipy.stats.binom) |\n",
    "| \"C\"    | Hypergeometric    | [`hypergeom(M, n, N)`](https://docs.scipy.org/doc/scipy/reference/generated/scipy.stats.hypergeom.html#scipy.stats.hypergeom) |\n",
    "| \"D\"    | Geometric         | [`geom(p)`](https://docs.scipy.org/doc/scipy/reference/generated/scipy.stats.geom.html#scipy.stats.geom) |\n",
    "| \"E\"    | Negative Binomial | [`nbinom(n, p)`](https://docs.scipy.org/doc/scipy/reference/generated/scipy.stats.nbinom.html#scipy.stats.nbinom) |\n",
    "| \"F\"    | Poisson           | [`poisson(mu)`](https://docs.scipy.org/doc/scipy/reference/generated/scipy.stats.poisson.html#scipy.stats.poisson) |"
   ]
  },
  {
   "cell_type": "markdown",
   "id": "e4e9a3d8",
   "metadata": {
    "deletable": false,
    "editable": false
   },
   "source": [
    "You collected 10 air samples. Assume that the probability that an air sample has **healthy** levels of $PM_{2.5}$ is constant and is equal to **0.70**. Also, assume that $PM_{2.5}$ levels in different samples are independent of one another.\n",
    "\n",
    "Let $X$ represent the number of samples out of the 10 with **unhealthy** levels of $PM_{2.5}$.\n",
    "\n",
    "<font color='red'>**Question 7.0.**</font> What is the distribution of $X$? Assign your answer to `q7_0` as a string. The letter choices for the different distributions are shown above. (0.25 pts)\n",
    "\n",
    "Your answer should be a string, e.g., `\"A\"`, `\"B\"`, etc.\\\n",
    "Remember to put quotes around your answer choice."
   ]
  },
  {
   "cell_type": "code",
   "execution_count": null,
   "id": "d6f95cc3",
   "metadata": {
    "tags": []
   },
   "outputs": [],
   "source": [
    "# ANSWER CELL\n",
    "\n",
    "q7_0 = ...\n",
    "q7_0"
   ]
  },
  {
   "cell_type": "code",
   "execution_count": null,
   "id": "d307bccf",
   "metadata": {
    "deletable": false,
    "editable": false
   },
   "outputs": [],
   "source": [
    "grader.check(\"q7.0\")"
   ]
  },
  {
   "cell_type": "markdown",
   "id": "256226b3",
   "metadata": {
    "deletable": false,
    "editable": false
   },
   "source": [
    "<font color='red'>**Question 7.1.**</font> Calculate the following numerical summaries using appropriate Python functions: (0.75 pts)\n",
    "1. What is the mean number of samples out of the 10 with unhealthy levels of $PM_{2.5}$, $\\mu_X$. Assign the value to `mean_X`.\n",
    "2. What is the median of the number of samples out of the 10 with unhealthy levels of $PM_{2.5}$. Assign the value to `median_X`.\n",
    "3. What is the standard deviation of the number of samples out of the 10 with unhealthy levels of $PM_{2.5}$, $\\sigma_X$. Assign the value to `stdev_X`.\n",
    "\n",
    "\n",
    "Python provides specific functions to directly calculate summary statistics for various distributions. For instance, if you wish to find the mean of a Bernoulli distribution with parameter $p = 0.2$, you can utilize `bernoulli.mean(p=0.2)`.\n",
    "\n",
    "Similarly, to obtain the standard deviation of the same Bernoulli distribution with parameters, you can use `bernoulli.std(p=0.2)`. \n",
    "\n",
    "Make sure to adjust the function names and input parameters accordingly for other distributions. Refer to the table above for the name and parameter(s) of each distribution."
   ]
  },
  {
   "cell_type": "code",
   "execution_count": null,
   "id": "fa74dddf",
   "metadata": {
    "tags": []
   },
   "outputs": [],
   "source": [
    "# ANSWER CELL\n",
    "\n",
    "mean_X = ...\n",
    "print(f'The mean of X is {mean_X:.1f} samples' if not isinstance(mean_X, type(Ellipsis)) else None)\n",
    "\n",
    "median_X = ...\n",
    "print(f'The median of X is {median_X:.1f} samples' if not isinstance(median_X, type(Ellipsis)) else None)\n",
    "\n",
    "stdev_X = ...\n",
    "print(f'The standard deviation of X is {stdev_X:.3f} samples' if not isinstance(stdev_X, type(Ellipsis)) else None)"
   ]
  },
  {
   "cell_type": "code",
   "execution_count": null,
   "id": "e2bafa1b",
   "metadata": {
    "deletable": false,
    "editable": false
   },
   "outputs": [],
   "source": [
    "grader.check(\"q7.1\")"
   ]
  },
  {
   "cell_type": "markdown",
   "id": "7721e4cb",
   "metadata": {
    "deletable": false,
    "editable": false
   },
   "source": [
    "Now assume that after testing the 10 air samples, 3 were found to have unhealthy levels of $PM_{2.5}$. You forgot to label the samples, and they got mixed up. You selected 5 out of the 10 samples at random and tested them again. Let $V$ be the number of samples with unhealthy levels of $PM_{2.5}$ out of the 5 you tested again.\n",
    "\n",
    "<font color='red'>**Question 8.0.**</font> What is the distribution of $V$? Assign your answer to `q8_0` as a string. The letter choices for the different distributions are shown in the table above. (0.25 pts)\n",
    "\n",
    "Your answer should be a string, e.g., `\"A\"`, `\"B\"`, etc.\\\n",
    "Remember to put quotes around your answer choice."
   ]
  },
  {
   "cell_type": "code",
   "execution_count": null,
   "id": "b3bcfa69",
   "metadata": {
    "tags": []
   },
   "outputs": [],
   "source": [
    "# ANSWER CELL\n",
    "\n",
    "q8_0 = ...\n",
    "q8_0"
   ]
  },
  {
   "cell_type": "code",
   "execution_count": null,
   "id": "560312f8",
   "metadata": {
    "deletable": false,
    "editable": false
   },
   "outputs": [],
   "source": [
    "grader.check(\"q8.0\")"
   ]
  },
  {
   "cell_type": "markdown",
   "id": "6e7f0427",
   "metadata": {
    "deletable": false,
    "editable": false
   },
   "source": [
    "<font color='red'>**Question 8.1.**</font> Calculate the following numerical summaries using appropriate Python functions: (0.75 pts)\n",
    "1. What is the mean of the number of samples with unhealthy $PM_{2.5}$ levels out of the 5 you tested again, $\\mu_V$. Assign the value to `mean_V`.\n",
    "2. What is the median of the number of samples with unhealthy $PM_{2.5}$ levels out of the 5 you tested again,. Assign the value to `median_V`.\n",
    "3. What is the standard deviation of the number of samples with unhealthy $PM_{2.5}$ levels out of the 5 you tested again,, $\\sigma_V$. Assign the value to `stdev_V`.\n",
    "\n",
    "\n",
    "**Note that the input parameters might use different symbols or be different from the ones we defined in the lecture.** So it's important you read the corresponding documentation carefully by clicking on the Python function of the corresponding distribution in the table above."
   ]
  },
  {
   "cell_type": "code",
   "execution_count": null,
   "id": "c2042982",
   "metadata": {
    "tags": []
   },
   "outputs": [],
   "source": [
    "# ANSWER CELL\n",
    "\n",
    "mean_V = ...\n",
    "print(f'The mean of V is {mean_V:.1f} samples' if not isinstance(mean_V, type(Ellipsis)) else None)\n",
    "\n",
    "median_V = ...\n",
    "print(f'The median of V is {median_V:.1f} samples' if not isinstance(median_V, type(Ellipsis)) else None)\n",
    "\n",
    "stdev_V = ...\n",
    "print(f'The standard deviation of V is {stdev_V:.3f} samples' if not isinstance(stdev_V, type(Ellipsis)) else None)"
   ]
  },
  {
   "cell_type": "code",
   "execution_count": null,
   "id": "2e18d354",
   "metadata": {
    "deletable": false,
    "editable": false
   },
   "outputs": [],
   "source": [
    "grader.check(\"q8.1\")"
   ]
  },
  {
   "cell_type": "markdown",
   "id": "f20bba6f",
   "metadata": {},
   "source": [
    "### You're done with this Lab!\n",
    "\n",
    "**Important submission information:** After completing the assignment, click on the Save icon from the Tool Bar &nbsp;<i class=\"fa fa-save\" style=\"font-size:16px;\"></i>&nbsp;. After saving your notebook, **run the cell with** `grader.check_all()` and confirm that you pass the same tests as in the notebook. Then, **run the final cell** `grader.export()` and click the link to download the zip file. Finally, go to Gradescope and submit the zip file to the corresponding assignment. \n",
    "\n",
    "**Once you have submitted, stay on the Gradescope page to confirm that you pass the same tests as in the notebook.**"
   ]
  },
  {
   "cell_type": "code",
   "execution_count": null,
   "id": "4d1647c8",
   "metadata": {
    "tags": []
   },
   "outputs": [],
   "source": [
    "%matplotlib inline\n",
    "img = mpimg.imread('resources/animal.jpg')\n",
    "imgplot = plt.imshow(img)\n",
    "imgplot.axes.get_xaxis().set_visible(False)\n",
    "imgplot.axes.get_yaxis().set_visible(False)\n",
    "print(\"Congratulations on finishing this lab!\")\n",
    "plt.show()"
   ]
  },
  {
   "cell_type": "markdown",
   "id": "e3588913",
   "metadata": {
    "deletable": false,
    "editable": false
   },
   "source": [
    "---\n",
    "\n",
    "To double-check your work, the cell below will rerun all of the autograder tests."
   ]
  },
  {
   "cell_type": "code",
   "execution_count": null,
   "id": "e1d32296",
   "metadata": {
    "deletable": false,
    "editable": false
   },
   "outputs": [],
   "source": [
    "grader.check_all()"
   ]
  },
  {
   "cell_type": "markdown",
   "id": "eab8fbb7",
   "metadata": {
    "deletable": false,
    "editable": false
   },
   "source": [
    "## Submission\n",
    "\n",
    "Make sure you have run all cells in your notebook in order before running the cell below, so that all images/graphs appear in the output. The cell below will generate a zip file for you to submit. **Please save before exporting!**\n",
    "\n",
    "Make sure you submit the .zip file to Gradescope."
   ]
  },
  {
   "cell_type": "code",
   "execution_count": null,
   "id": "904b9a4e",
   "metadata": {
    "deletable": false,
    "editable": false
   },
   "outputs": [],
   "source": [
    "# Save your notebook first, then run this cell to export your submission.\n",
    "grader.export(pdf=False)"
   ]
  },
  {
   "cell_type": "markdown",
   "id": "7412cdab",
   "metadata": {},
   "source": [
    " "
   ]
  }
 ],
 "metadata": {
  "kernelspec": {
   "display_name": "Python 3 (ipykernel)",
   "language": "python",
   "name": "python3"
  },
  "language_info": {
   "codemirror_mode": {
    "name": "ipython",
    "version": 3
   },
   "file_extension": ".py",
   "mimetype": "text/x-python",
   "name": "python",
   "nbconvert_exporter": "python",
   "pygments_lexer": "ipython3",
   "version": "3.9.15"
  },
  "otter": {
   "OK_FORMAT": true,
   "assignment_name": "lab05",
   "tests": {
    "q1.0": {
     "name": "q1.0",
     "points": 0.5,
     "suites": [
      {
       "cases": [
        {
         "code": ">>> assert isinstance(q1_0, tuple)\n>>> assert all((isinstance(option, str) for option in q1_0))\n>>> assert all((len(option) == 1 for option in q1_0))\n",
         "failure_message": "Incorrect answer format. Make sure you only have the letter of your answer choice in quotes and answers are separated by commas.",
         "hidden": false,
         "locked": false,
         "points": 0,
         "success_message": "Correct answer format."
        },
        {
         "code": ">>> assert get_hash('A' in q1_0 or 'a' in q1_0) == 'f8320b26d30ab433c5a54546d21f414c'\n",
         "failure_message": "Incorrect answer.",
         "hidden": false,
         "locked": false,
         "points": 0.05
        },
        {
         "code": ">>> assert get_hash('B' in q1_0 or 'b' in q1_0) == 'f827cf462f62848df37c5e1e94a4da74'\n",
         "failure_message": "Incorrect answer.",
         "hidden": false,
         "locked": false,
         "points": 0.1
        },
        {
         "code": ">>> assert get_hash('C' in q1_0 or 'c' in q1_0) == 'f8320b26d30ab433c5a54546d21f414c'\n",
         "failure_message": "Incorrect answer.",
         "hidden": false,
         "locked": false,
         "points": 0.05
        },
        {
         "code": ">>> assert get_hash('D' in q1_0 or 'd' in q1_0) == 'f827cf462f62848df37c5e1e94a4da74'\n",
         "failure_message": "Incorrect answer.",
         "hidden": false,
         "locked": false,
         "points": 0.15
        },
        {
         "code": ">>> assert get_hash('E' in q1_0 or 'e' in q1_0) == 'f827cf462f62848df37c5e1e94a4da74'\n",
         "failure_message": "Incorrect answer.",
         "hidden": false,
         "locked": false,
         "points": 0.1
        },
        {
         "code": ">>> assert get_hash('F' in q1_0 or 'f' in q1_0) == 'f8320b26d30ab433c5a54546d21f414c'\n",
         "failure_message": "Incorrect answer.",
         "hidden": false,
         "locked": false,
         "points": 0.05
        }
       ],
       "scored": true,
       "setup": "",
       "teardown": "",
       "type": "doctest"
      }
     ]
    },
    "q2.0": {
     "name": "q2.0",
     "points": 0.5,
     "suites": [
      {
       "cases": [
        {
         "code": ">>> assert get_hash(PDF_z(1)) == '46aeed2a0e482947e98b93752353c7cc'\n>>> assert get_hash(PDF_z(5)) == 'cb5ae17636e975f9bf71ddf5bc542075'\n>>> assert get_hash(PDF_z(10)) == 'c7e230ff5bea174a9dad0a5f34a3d48f'\n",
         "failure_message": "Incorrect function.",
         "hidden": false,
         "locked": false,
         "points": 0.4
        },
        {
         "code": ">>> assert get_hash(type(q2_0)) != '14e736438b115821cbb9b7ac0ba79034'\n",
         "failure_message": "Make sure to test your function!",
         "hidden": false,
         "locked": false,
         "points": 0
        },
        {
         "code": ">>> assert get_hash(q2_0) == '29d679c60745d297cf5863ac1ce9ec74'\n",
         "failure_message": "Incorrect q2_0.",
         "hidden": false,
         "locked": false,
         "points": 0.1
        }
       ],
       "scored": true,
       "setup": "",
       "teardown": "",
       "type": "doctest"
      }
     ]
    },
    "q2.1": {
     "name": "q2.1",
     "points": 0.5,
     "suites": [
      {
       "cases": [
        {
         "code": ">>> assert get_hash(len(z)) == 'a9b7ba70783b617e9998dc4dd82eb3c5'\n>>> assert get_hash(round(sum(z), 15)) == 'aa772fc56cc61aadc9e536e936619f89'\n",
         "failure_message": "Incorrect z.",
         "hidden": false,
         "locked": false,
         "points": 0.2
        },
        {
         "code": ">>> assert get_hash(len(PDF_z_values)) == 'a9b7ba70783b617e9998dc4dd82eb3c5'\n>>> assert get_hash(round(sum(PDF_z_values), 15)) == '62dca49f0781bf26b4305bddb0414bea'\n",
         "failure_message": "Incorrect PDF_z_values. Simply call your function PDF_z() uisng z as input.",
         "hidden": false,
         "locked": false,
         "points": 0.3
        }
       ],
       "scored": true,
       "setup": "",
       "teardown": "",
       "type": "doctest"
      }
     ]
    },
    "q2.2": {
     "name": "q2.2",
     "points": 0.5,
     "suites": [
      {
       "cases": [
        {
         "code": ">>> assert get_hash(round(P_0_3, 15)) == '8f11bfb91ec29936603314c7cbc46119'\n",
         "failure_message": "Incorrect P_0_3.",
         "hidden": false,
         "locked": false,
         "points": 0.25
        },
        {
         "code": ">>> assert get_hash(round(P_5_9, 15)) == '6ca65d752da20bfe10fa409a89b0379b'\n",
         "failure_message": "Incorrect P_5_9.",
         "hidden": false,
         "locked": false,
         "points": 0.25
        }
       ],
       "scored": true,
       "setup": "",
       "teardown": "",
       "type": "doctest"
      }
     ]
    },
    "q3.0": {
     "name": "q3.0",
     "points": 1.0,
     "suites": [
      {
       "cases": [
        {
         "code": ">>> assert get_hash(PDF_w(0)) == '4c8d9ac7c62b7fbf21fb2f2ae14dd65b'\n>>> assert get_hash(PDF_w(0.5)) == 'b247775f8ab3d659c1aa9bf453cd0912'\n>>> assert get_hash(PDF_w(1)) == '30565a8911a6bb487e3745c0ea3c8224'\n",
         "failure_message": "Incorrect function.",
         "hidden": false,
         "locked": false,
         "points": 0.3
        },
        {
         "code": ">>> assert get_hash(len(w)) == 'a9b7ba70783b617e9998dc4dd82eb3c5'\n>>> assert get_hash(round(sum(w), 15)) == '7ee66a0b059261539c7a25b7cfa5012b'\n",
         "failure_message": "Incorrect w.",
         "hidden": false,
         "locked": false,
         "points": 0.1
        },
        {
         "code": ">>> assert get_hash(len(PDF_w_values)) == 'a9b7ba70783b617e9998dc4dd82eb3c5'\n>>> assert get_hash(round(sum(PDF_w_values), 15)) == 'c56d654ac7d1a88aa93f1a90787e46e0'\n",
         "failure_message": "Incorrect PDF_w_values. Simply call your function PDF_w() uisng w as input.",
         "hidden": false,
         "locked": false,
         "points": 0.1
        },
        {
         "code": ">>> assert get_hash(round(integral, 15)) == 'd310cb367d993fb6fb584b198a2fd72c'\n",
         "failure_message": "Incorrect integral. You should integrate f(w) over its range and only index the value of the integral.",
         "hidden": false,
         "locked": false,
         "points": 0.2
        },
        {
         "code": ">>> assert len(q3) == 1\n>>> assert isinstance(q3, str)\n",
         "failure_message": "Incorrect answer format. Make sure you only have the letter of your answer choice in quotes.",
         "hidden": false,
         "locked": false,
         "points": 0.0,
         "success_message": "Correct answer format."
        },
        {
         "code": ">>> assert get_hash(q3.upper()) == '9d5ed678fe57bcca610140957afab571'\n",
         "failure_message": "Incorrect answer.",
         "hidden": false,
         "locked": false,
         "points": 0.3
        }
       ],
       "scored": true,
       "setup": "",
       "teardown": "",
       "type": "doctest"
      }
     ]
    },
    "q4.0": {
     "name": "q4.0",
     "points": 0.25,
     "suites": [
      {
       "cases": [
        {
         "code": ">>> assert get_hash(PDF_y(1)) == 'd1bd83a33f1a841ab7fda32449746cc4'\n>>> assert get_hash(PDF_y(5)) == 'ba4b140343c1a0b1ad0dd842f6b6a4f6'\n>>> assert get_hash(PDF_y(10)) == 'd1c6c5ed1452a2c20690b2d93a4f00e0'\n",
         "failure_message": "Incorrect function.",
         "hidden": false,
         "locked": false,
         "points": 0.25
        }
       ],
       "scored": true,
       "setup": "",
       "teardown": "",
       "type": "doctest"
      }
     ]
    },
    "q4.1": {
     "name": "q4.1",
     "points": 0.75,
     "suites": [
      {
       "cases": [
        {
         "code": ">>> assert get_hash(round(q4_1, 10)) == '8b302979fdd1a5811d5e4f96d0f6dccd'\n",
         "failure_message": "Incorrect answer.",
         "hidden": false,
         "locked": false,
         "points": 0.75
        }
       ],
       "scored": true,
       "setup": "",
       "teardown": "",
       "type": "doctest"
      }
     ]
    },
    "q4.2": {
     "name": "q4.2",
     "points": 0.5,
     "suites": [
      {
       "cases": [
        {
         "code": ">>> assert get_hash(round(q4_2, 10)) == 'cfcd208495d565ef66e7dff9f98764da'\n",
         "failure_message": "Incorrect answer.",
         "hidden": false,
         "locked": false,
         "points": 0.5
        }
       ],
       "scored": true,
       "setup": "",
       "teardown": "",
       "type": "doctest"
      }
     ]
    },
    "q4.3": {
     "name": "q4.3",
     "points": 0.5,
     "suites": [
      {
       "cases": [
        {
         "code": ">>> assert len(q4_3) == 1\n>>> assert isinstance(q4_3, str)\n",
         "failure_message": "Incorrect answer format. Make sure you only have the letter of your answer choice in quotes.",
         "hidden": false,
         "locked": false,
         "points": 0,
         "success_message": "Correct answer format."
        },
        {
         "code": ">>> assert get_hash(q4_3.upper()) == 'f623e75af30e62bbd73d6df5b50bb7b5'\n",
         "failure_message": "Incorrect answer.",
         "hidden": false,
         "locked": false,
         "points": 0.5
        }
       ],
       "scored": true,
       "setup": "",
       "teardown": "",
       "type": "doctest"
      }
     ]
    },
    "q5.0": {
     "name": "q5.0",
     "points": 0.25,
     "suites": [
      {
       "cases": [
        {
         "code": ">>> assert get_hash(fun_mean(1)) == 'd1bd83a33f1a841ab7fda32449746cc4'\n>>> assert get_hash(fun_mean(5)) == '37d5c0b6b354bc3c790d2696b42756c9'\n>>> assert get_hash(fun_mean(10)) == '0d16a6cb2ca34d65da949608a7bc01d1'\n",
         "failure_message": "Incorrect function.",
         "hidden": false,
         "locked": false,
         "points": 0.25
        }
       ],
       "scored": true,
       "setup": "",
       "teardown": "",
       "type": "doctest"
      }
     ]
    },
    "q5.1": {
     "name": "q5.1",
     "points": 0.75,
     "suites": [
      {
       "cases": [
        {
         "code": ">>> assert get_hash(round(mean_y, 10)) == '8569c22c1bc7a8fbd48c31cb624b9479'\n",
         "failure_message": "Incorrect answer. Make sure you are integrating fun_mean over the correct limits.",
         "hidden": false,
         "locked": false,
         "points": 0.75
        }
       ],
       "scored": true,
       "setup": "",
       "teardown": "",
       "type": "doctest"
      }
     ]
    },
    "q5.2": {
     "name": "q5.2",
     "points": 0.25,
     "suites": [
      {
       "cases": [
        {
         "code": ">>> assert get_hash(fun_var(1)) == '9833e8443b6ce951636614be724b0151'\n>>> assert get_hash(fun_var(5)) == '8f6e982d6e7139006039aed9bc2d0768'\n>>> assert get_hash(fun_var(10)) == '3cccf2a7236332d329f98495973ba7bd'\n",
         "failure_message": "Incorrect function.",
         "hidden": false,
         "locked": false,
         "points": 0.25
        }
       ],
       "scored": true,
       "setup": "",
       "teardown": "",
       "type": "doctest"
      }
     ]
    },
    "q5.3": {
     "name": "q5.3",
     "points": 0.75,
     "suites": [
      {
       "cases": [
        {
         "code": ">>> assert get_hash(round(stdev_y, 10)) == '488ab874694a72822348d6cf155fb487'\n",
         "failure_message": "Incorrect answer. Make sure you are integrating fun_var over the correct limits. Also, you need standard deviation.",
         "hidden": false,
         "locked": false,
         "points": 0.75
        }
       ],
       "scored": true,
       "setup": "",
       "teardown": "",
       "type": "doctest"
      }
     ]
    },
    "q6.0": {
     "name": "q6.0",
     "points": 0.75,
     "suites": [
      {
       "cases": [
        {
         "code": ">>> assert get_hash(len(y)) == 'a9b7ba70783b617e9998dc4dd82eb3c5'\n>>> assert get_hash(round(sum(y), 15)) == '69199d4fe1973959c323b0d5450baf1f'\n",
         "failure_message": "Incorrect y.",
         "hidden": false,
         "locked": false,
         "points": 0
        },
        {
         "code": ">>> assert get_hash(len(PDF_y_values)) == 'a9b7ba70783b617e9998dc4dd82eb3c5'\n>>> assert get_hash(round(sum(PDF_y_values), 15)) == '3a8a83ce01f872534e3cabd4ce147e33'\n",
         "failure_message": "Incorrect PDF_y_values. Simply call your function PDF_y() uisng y as input.",
         "hidden": false,
         "locked": false,
         "points": 0
        },
        {
         "code": ">>> assert type(fig_1).__name__ == 'Figure'\n>>> assert type(ax_1).__name__ == 'Axes'\n",
         "failure_message": "Make sure to create a figure with 1 axes and assign them to \"fig_1\" and \"ax_1\".",
         "hidden": false,
         "locked": false,
         "points": 0
        },
        {
         "code": ">>> assert isinstance(ax_1.lines[0], Line2D)\n",
         "failure_message": "Make sure you are plotting to ax_1 using plot().",
         "hidden": false,
         "locked": false,
         "points": 0
        },
        {
         "code": ">>> assert get_hash(sum(ax_1.lines[0].get_xdata())) == '69199d4fe1973959c323b0d5450baf1f'\n>>> assert get_hash(len(ax_1.lines[0].get_xdata())) == 'a9b7ba70783b617e9998dc4dd82eb3c5'\n>>> assert get_hash(sum(ax_1.lines[0].get_ydata())) == '3a8a83ce01f872534e3cabd4ce147e33'\n>>> assert get_hash(len(ax_1.lines[0].get_ydata())) == 'a9b7ba70783b617e9998dc4dd82eb3c5'\n",
         "failure_message": "Check the arguments of plt.plot()",
         "hidden": false,
         "locked": false,
         "points": 0.4
        },
        {
         "code": ">>> assert ax_1.lines[0].get_color() != '#1f77b4'\n>>> assert ax_1.lines[0].get_linestyle() == '-'\n",
         "failure_message": "Change the line color inside plot() to any color other than the deafult. Do not change line style.",
         "hidden": false,
         "locked": false,
         "points": 0.15
        },
        {
         "code": ">>> keywords = ['PARTICLE', 'DIAMETER', 'MICROMETERS']\n>>> assert all((word in ax_1.get_xlabel().upper() for word in keywords))\n",
         "failure_message": "Check x-axis label. Make sure correct units are included.",
         "hidden": false,
         "locked": false,
         "points": 0.1
        },
        {
         "code": ">>> keywords = ['DENSITY']\n>>> assert all((word in ax_1.get_ylabel().upper() for word in keywords))\n",
         "failure_message": "Check y-axis label.",
         "hidden": false,
         "locked": false,
         "points": 0.1
        }
       ],
       "scored": true,
       "setup": "",
       "teardown": "",
       "type": "doctest"
      }
     ]
    },
    "q6.1": {
     "name": "q6.1",
     "points": 0.25,
     "suites": [
      {
       "cases": [
        {
         "code": ">>> assert len(q6_1) == 1\n>>> assert isinstance(q6_1, str)\n",
         "failure_message": "Incorrect answer format. Make sure you only have the letter of your answer choice in quotes.",
         "hidden": false,
         "locked": false,
         "points": 0,
         "success_message": "Correct answer format."
        },
        {
         "code": ">>> assert get_hash(q6_1.upper()) == '0d61f8370cad1d412f80b84d143e1257'\n",
         "failure_message": "Incorrect answer.",
         "hidden": false,
         "locked": false,
         "points": 0.25
        }
       ],
       "scored": true,
       "setup": "",
       "teardown": "",
       "type": "doctest"
      }
     ]
    },
    "q7.0": {
     "name": "q7.0",
     "points": 0.25,
     "suites": [
      {
       "cases": [
        {
         "code": ">>> assert len(q7_0) == 1\n>>> assert isinstance(q7_0, str)\n",
         "failure_message": "Incorrect answer format. Make sure you only have the letter of your answer choice in quotes.",
         "hidden": false,
         "locked": false,
         "points": 0,
         "success_message": "Correct answer format."
        },
        {
         "code": ">>> assert get_hash(q7_0.upper()) == '9d5ed678fe57bcca610140957afab571'\n",
         "failure_message": "Incorrect answer.",
         "hidden": false,
         "locked": false,
         "points": 0.25
        }
       ],
       "scored": true,
       "setup": "",
       "teardown": "",
       "type": "doctest"
      }
     ]
    },
    "q7.1": {
     "name": "q7.1",
     "points": 0.75,
     "suites": [
      {
       "cases": [
        {
         "code": ">>> assert get_hash(round(mean_X, 10)) == '55c82b601deae028c1c5e87fd820923d'\n",
         "failure_message": "Incorrect mean.",
         "hidden": false,
         "locked": false,
         "points": 0.25
        },
        {
         "code": ">>> assert get_hash(round(median_X, 10)) == '55c82b601deae028c1c5e87fd820923d'\n",
         "failure_message": "Incorrect median.",
         "hidden": false,
         "locked": false,
         "points": 0.25
        },
        {
         "code": ">>> assert get_hash(round(stdev_X, 10)) == '383951d96f2cba387df6ba40e94f885d'\n",
         "failure_message": "Incorrect standard deviation.",
         "hidden": false,
         "locked": false,
         "points": 0.25
        }
       ],
       "scored": true,
       "setup": "",
       "teardown": "",
       "type": "doctest"
      }
     ]
    },
    "q8.0": {
     "name": "q8.0",
     "points": 0.25,
     "suites": [
      {
       "cases": [
        {
         "code": ">>> assert len(q8_0) == 1\n>>> assert isinstance(q8_0, str)\n",
         "failure_message": "Incorrect answer format. Make sure you only have the letter of your answer choice in quotes.",
         "hidden": false,
         "locked": false,
         "points": 0,
         "success_message": "Correct answer format."
        },
        {
         "code": ">>> assert get_hash(q8_0.upper()) == '0d61f8370cad1d412f80b84d143e1257'\n",
         "failure_message": "Incorrect answer.",
         "hidden": false,
         "locked": false,
         "points": 0.25
        }
       ],
       "scored": true,
       "setup": "",
       "teardown": "",
       "type": "doctest"
      }
     ]
    },
    "q8.1": {
     "name": "q8.1",
     "points": 0.75,
     "suites": [
      {
       "cases": [
        {
         "code": ">>> assert get_hash(round(mean_V, 10)) == '6008647277c4454cecd97d33c069f0ca'\n",
         "failure_message": "Incorrect mean.",
         "hidden": false,
         "locked": false,
         "points": 0.25
        },
        {
         "code": ">>> assert get_hash(round(median_V, 10)) == 'e4c2e8edac362acab7123654b9e73432'\n",
         "failure_message": "Incorrect median.",
         "hidden": false,
         "locked": false,
         "points": 0.25
        },
        {
         "code": ">>> assert get_hash(round(stdev_V, 10)) == '663f9fb4061bfa1081f26c0282f70d19'\n",
         "failure_message": "Incorrect standard deviation.",
         "hidden": false,
         "locked": false,
         "points": 0.25
        }
       ],
       "scored": true,
       "setup": "",
       "teardown": "",
       "type": "doctest"
      }
     ]
    }
   }
  }
 },
 "nbformat": 4,
 "nbformat_minor": 5
}
