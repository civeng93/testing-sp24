{
 "cells": [
  {
   "cell_type": "code",
   "execution_count": null,
   "id": "5c639168",
   "metadata": {
    "deletable": false,
    "editable": false
   },
   "outputs": [],
   "source": [
    "# Initialize Otter\n",
    "import otter\n",
    "grader = otter.Notebook(\"lab03.ipynb\")"
   ]
  },
  {
   "cell_type": "markdown",
   "id": "5af9dc94",
   "metadata": {},
   "source": [
    "# CE 93: Lab Assignment 03\n",
    "\n",
    "You must submit the lab to Gradescope by the due date. You will submit the zip file produced by running the final cell of the assignment.\n",
    "\n",
    "## About this Lab\n",
    "The objective of this assignment is to apply the frequency notion of probability.\n",
    "\n",
    "## Instructions \n",
    "**Run the first cell, Initialize Otter**, to import the autograder and submission exporter.\n",
    "\n",
    "Throughout the assignment, replace `...` with your answers. We use `...` as a placeholder and theses should be deleted and replaced with your answers.\n",
    "\n",
    "Any part listed as a \"<font color='red'>**Question**</font>\" should be answered to receive credit.\n",
    "\n",
    "**Please save your work after every question!**\n",
    "\n",
    "To read the documentation on a Python function, you can type `help()` and add the function name between parentheses.\n",
    "\n",
    "**Run the cell below**, to import the required modules."
   ]
  },
  {
   "cell_type": "code",
   "execution_count": null,
   "id": "f3463c41",
   "metadata": {},
   "outputs": [],
   "source": [
    "# Please run this cell, and do not modify the contents\n",
    "import math\n",
    "import numpy as np\n",
    "import scipy\n",
    "import pandas as pd\n",
    "import statistics as stats\n",
    "import cmath\n",
    "import re\n",
    "import matplotlib.pyplot as plt\n",
    "import matplotlib.image as mpimg\n",
    "import hashlib\n",
    "import ipywidgets as widgets\n",
    "from ipywidgets import FileUpload\n",
    "from IPython.display import display\n",
    "from PIL import Image\n",
    "import os\n",
    "import resources\n",
    "\n",
    "def get_hash(num):\n",
    "    \"\"\"Helper function for assessing correctness\"\"\"\n",
    "    return hashlib.md5(str(num).encode()).hexdigest()"
   ]
  },
  {
   "cell_type": "markdown",
   "id": "97eac86e",
   "metadata": {},
   "source": [
    "### Introduction\n",
    "\n",
    "In this lab, we will be using the frequency notion of probability. According to this notion, the probability of an event, $E$, is estimated as the proportion of times $E$ would occur in the long run, if the experiment were to be repeated over and over again.\n",
    "\n",
    "More specifically, let $n$ denote the number of observations of the phenomenon of interest and $n_E$ the number of observations during which event $E$ occurred. Then the probability of event $E$ occurring, $P(E)$, is formally defined as: \n",
    "\n",
    "$$\n",
    "P(E) = \\lim_{n\\to\\infty} \\frac{n_E}{n} \n",
    "$$\n",
    "\n",
    "In practice, the number of observations is usually finite. In this case, only an approximate estimate of the probability is obtained. Naturally, the accuracy of the probability estimation increases as the sample size $n$ increases.\n",
    "\n",
    "It should be noted that other notions of probability exist. We will discuss them in the class and future assignments.       "
   ]
  },
  {
   "cell_type": "markdown",
   "id": "25b327e0-6883-478c-b70f-edf80e58410c",
   "metadata": {},
   "source": [
    "In response to the drought, the San Francisco Public Utilities Commission is considering a program to incentivize rainwater harvesting for new residential and commercial buildings in the city. The program would create a $1000 rebate for high-volume rainwater cisterns. Before making the expensive investment, the Commission wants to better understand the rainfall statistics for the area. They are asking you, a Civil and Environmental Engineering consultant, to analyze historical probability data for rainfall in the city.\n",
    "\n",
    "<img src=\"resources/rain.png\" width='450'/>\n",
    "\n",
    "Fig 1. Rainfall at Fort Mason, San Francisco http://www.sfgate.com/bayarea/article/First-Bay-Area-rain-this-fall-could-uproot-trees-9966631.php"
   ]
  },
  {
   "cell_type": "markdown",
   "id": "b334f350",
   "metadata": {},
   "source": [
    "### Load the data\n",
    "\n",
    "In this lab we will be working with rainfall data set in San Francisco from 1849-50 to 2021-2022. The file is named `SFrainfall_2021.csv`. \n",
    "\n",
    "Source: https://ggweather.com/sf/season.html\n",
    "\n",
    "Let's load the provided data set `SFrainfall_2021.csv`. These are all the features:\n",
    "\n",
    "|Feature|Units|Description|\n",
    "|:-|:-|:-|\n",
    "|year|yr|The year over which data was recorded|\n",
    "|days|days|Number of rainy days in the year|\n",
    "|rain|inch|Cumulative rainfall in the year|\n",
    "\n",
    "* Load the data using the Pandas `pd.read_csv()` function\n",
    "\n",
    "Run the cell below, which reads the data and saves it as a variable named `df`."
   ]
  },
  {
   "cell_type": "code",
   "execution_count": null,
   "id": "b0844215",
   "metadata": {
    "scrolled": true
   },
   "outputs": [],
   "source": [
    "# read a .csv file as a DataFrame\n",
    "df = pd.read_csv('resources/SFrainfall_2021.csv')\n",
    "\n",
    "# returns the first 5 rows of the data set by default\n",
    "df.head()"
   ]
  },
  {
   "cell_type": "markdown",
   "id": "f7d9c7e0-5cb9-4540-9909-5d80e183c73a",
   "metadata": {},
   "source": [
    "### Create Variables from the DataFrame\n",
    "\n",
    "We want to generate data vectors, one for each column in the dataset (one for years, one for days, and one for rain). "
   ]
  },
  {
   "cell_type": "markdown",
   "id": "d0ac263e-017d-4787-abd2-f8a8e0fcad17",
   "metadata": {
    "deletable": false,
    "editable": false
   },
   "source": [
    "<font color='red'>**Question 1.0.**</font> Create different variables for each column in the Dataframe. You can refer to the previous lab for guidance on how to answer this question. (0.25 pts)\n",
    "- Create a variable `year`  for the year\n",
    "- Create a variable `days`  for the number of rainy days in each year\n",
    "- Create a variable `rain` for the cumulative rainfall (inches) in each year\n"
   ]
  },
  {
   "cell_type": "code",
   "execution_count": null,
   "id": "21a395d9-b3af-49d5-b5a7-355764f77dde",
   "metadata": {
    "tags": []
   },
   "outputs": [],
   "source": [
    "# ANSWER CELL\n",
    "# create variables for year, days, and rain\n",
    "# replace ... with your code\n",
    "\n",
    "year = ...\n",
    "days = ...\n",
    "rain = ..."
   ]
  },
  {
   "cell_type": "code",
   "execution_count": null,
   "id": "8f7d65ec",
   "metadata": {
    "deletable": false,
    "editable": false
   },
   "outputs": [],
   "source": [
    "grader.check(\"q1.0\")"
   ]
  },
  {
   "cell_type": "markdown",
   "id": "bb3c897d-59c8-45b5-843b-6a7d0e355735",
   "metadata": {},
   "source": [
    "### Graphical Summaries\n",
    "\n",
    "Next, consider the following graphical summaries of the data sets.\n",
    "\n",
    " <img src=\"resources/Graphical_Summaries.png\"/>"
   ]
  },
  {
   "cell_type": "markdown",
   "id": "29775aa1-7d6c-435d-b499-28be0278ec1f",
   "metadata": {
    "deletable": false,
    "editable": false
   },
   "source": [
    "<font color='red'>**Question 2.0.**</font> For each of the four plots, match it with the correct corresponding graph type from the options below by assigning your answer to the variables given in the cell below as a string. (1 pt)\n",
    "\n",
    "**A.** Not a good graphical summary \\\n",
    "**B.** Pie Chart \\\n",
    "**C.** Histogram \\\n",
    "**D.** Line Graph \\\n",
    "**E.** Scatter Plot \\\n",
    "**F.** Box Plot\n",
    "\n",
    "Answer in the next cell. Your answer should be a string, e.g., `\"A\"`, `\"B\"`, etc.\\\n",
    "Remember to put quotes around your answer choice."
   ]
  },
  {
   "cell_type": "code",
   "execution_count": null,
   "id": "c84dfce5-790d-47cd-80ee-39f4c5a69d38",
   "metadata": {
    "tags": []
   },
   "outputs": [],
   "source": [
    "# ANSWER CELL\n",
    "plot1_type = ...\n",
    "plot2_type = ...\n",
    "plot3_type = ...\n",
    "plot4_type = ...\n",
    "\n",
    "print(f'Plot 1 type: {plot1_type}')\n",
    "print(f'Plot 2 type: {plot2_type}')\n",
    "print(f'Plot 3 type: {plot3_type}')\n",
    "print(f'Plot 4 type: {plot4_type}')"
   ]
  },
  {
   "cell_type": "code",
   "execution_count": null,
   "id": "cc2ee214",
   "metadata": {
    "deletable": false,
    "editable": false
   },
   "outputs": [],
   "source": [
    "grader.check(\"q2.0\")"
   ]
  },
  {
   "cell_type": "markdown",
   "id": "382537d0-e1e0-4cb4-b95f-f9b31691ac77",
   "metadata": {
    "deletable": false,
    "editable": false
   },
   "source": [
    "Next, consider the following objectives of different graphs:\n",
    "\n",
    "Objective 1: Visualize the relationship between variables \\\n",
    "Objective 2: Visualize how a variable changes with time \\\n",
    "Objective 3: Visualize the distribution of a numerical variable\n",
    "\n",
    "<font color='red'>**Question 3.0.**</font>  Match each of the above objectives with the corresponding graph type from the options below by assigning your answer to the variables given in the cell below as a string. (0.75 pts)\n",
    "\n",
    "**A.** Line Graph \\\n",
    "**B.** Scatter Plot \\\n",
    "**C.** Bar Chart \\\n",
    "**D.** Histogram \n",
    "\n",
    "Your answer should be a string, e.g., `\"A\"`, `\"B\"`, etc.\\\n",
    "Remember to put quotes around your answer choice."
   ]
  },
  {
   "cell_type": "code",
   "execution_count": null,
   "id": "f32b6815-c764-4163-a07e-e0e7743b7f00",
   "metadata": {
    "tags": []
   },
   "outputs": [],
   "source": [
    "# ANSWER CELL\n",
    "objective_1 = ...\n",
    "objective_2 = ...\n",
    "objective_3 = ...\n",
    "\n",
    "print(f'Objective 1: {objective_1}')\n",
    "print(f'Objective 2: {objective_2}')\n",
    "print(f'Objective 3: {objective_3}')"
   ]
  },
  {
   "cell_type": "code",
   "execution_count": null,
   "id": "a3ea9963",
   "metadata": {
    "deletable": false,
    "editable": false
   },
   "outputs": [],
   "source": [
    "grader.check(\"q3.0\")"
   ]
  },
  {
   "cell_type": "markdown",
   "id": "08aa48f9-2af7-42bf-b0da-ddf57bba61dc",
   "metadata": {},
   "source": [
    "### Symbolic Expressions of Events\n",
    "\n",
    "Next, let's define the following events: \t\n",
    "\n",
    "- $E_1$ = the number of rainy days in SF in a given year is > 80 days\n",
    "- $E_2$ = the amount of cumulative annual rainfall in SF in a given year is > 30 inches\n",
    "\n",
    "The plots below show cumulative rainfall versus number of rainy days for every year in our data set. So, each dot represents data for a single year. The blue dots represent all of the outcomes/years. Let the orange dots represent different events that satisfy certain conditions.\n",
    "\n",
    "<img src=\"resources/Symbolic_Expressions.png\"/>"
   ]
  },
  {
   "cell_type": "markdown",
   "id": "3dc9bed3-2045-4019-979f-0964ccb20215",
   "metadata": {
    "deletable": false,
    "editable": false,
    "jp-MarkdownHeadingCollapsed": true
   },
   "source": [
    "<font color='red'>**Question 4.0.**</font> For each of the four plots, match it with the correct corresponding symbolic expression that the orange dots represent based on the definition of $E_1$ and $E_2$ above. Assign your answer to the variables given in the cell below as a string. (1 pt)\n",
    "\n",
    "**A.** $E_2$ \\\n",
    "**B.** $E_1 \\cup E_2$ \\\n",
    "**C.** $E_1$ \\\n",
    "**D.** $E_1 \\cap E_2$ \\\n",
    "**E.** $\\overline{E_1}$\n",
    "\n",
    "Your answer should be a string, e.g., `\"A\"`, `\"B\"`, etc.\\\n",
    "Remember to put quotes around your answer choice."
   ]
  },
  {
   "cell_type": "code",
   "execution_count": null,
   "id": "55b301fc-6161-4f66-8971-aced9887fc82",
   "metadata": {
    "tags": []
   },
   "outputs": [],
   "source": [
    "# ANSWER CELL\n",
    "plot_1 = ...\n",
    "plot_2 = ...\n",
    "plot_3 = ...\n",
    "plot_4 = ...\n",
    "\n",
    "print(f'Plot 1 answer: {plot_1}')\n",
    "print(f'Plot 2 answer: {plot_2}')\n",
    "print(f'Plot 3 answer: {plot_3}')\n",
    "print(f'Plot 4 answer: {plot_4}')"
   ]
  },
  {
   "cell_type": "code",
   "execution_count": null,
   "id": "63494a9f",
   "metadata": {
    "deletable": false,
    "editable": false
   },
   "outputs": [],
   "source": [
    "grader.check(\"q4.0\")"
   ]
  },
  {
   "cell_type": "markdown",
   "id": "04afbfd0-c694-4716-8d6e-c88905cc38b3",
   "metadata": {},
   "source": [
    "### Plot and Interpret CDF \n",
    "\n",
    "In previous labs, we saw how to plot histograms using `plt.hist()`. We also saw in the lecture how to plot a cumulative diagram from a histogram plot. So, let's generate cumulative distribution function (CDF) plots for our data.\n",
    "\n",
    "We can do this using `plt.hist()` by specifying the following parameters:\n",
    "* `cumulative`\n",
    "* `histtype`\n",
    "\n",
    "By default, `cumulative=False` and `histtype=bar`.\n",
    "\n",
    "To show a cumulative diagram, you have to add between parentheses: \\\n",
    "`plt.hist(..., cumulative=True, histtype=step)`.\n",
    "\n",
    "To show a cumulative diagram based on **proportions** and not frequency, add between parentheses: \\\n",
    "`plt.hist(..., cumulative=True, histtype=step, density=True)`."
   ]
  },
  {
   "cell_type": "markdown",
   "id": "0095d511-01cc-488c-b438-c3e1d7d7b314",
   "metadata": {
    "deletable": false,
    "editable": false
   },
   "source": [
    "<font color='red'>**Question 5.0.**</font> Modify the code below to make two cumulative proportion diagrams with `bins=20` such that (0.25 pts):\n",
    "1. The first is for `days` (already provided to you)\n",
    "2. The second is for `rain` (simply need to copy and edit)"
   ]
  },
  {
   "cell_type": "code",
   "execution_count": null,
   "id": "4321c20d-dae8-43e0-b792-5b0c31d4b758",
   "metadata": {
    "scrolled": true,
    "tags": []
   },
   "outputs": [],
   "source": [
    "# ANSWER CELL\n",
    "\n",
    "# Do not modify this line for grading purposes\n",
    "import matplotlib.pyplot as plt\n",
    "\n",
    "# Edit the code below to make two cumulative proportion diagrams in 1 figure (only edit where you have ...)\n",
    "\n",
    "# create figure and axes\n",
    "fig_1, ax_1 = plt.subplots(nrows=1, ncols=2, figsize=(10,3))\n",
    "\n",
    "# specify number of bins\n",
    "N = 20\n",
    "\n",
    "# plot first axes (plot)\n",
    "# Save the plot as variable q5_0_0\n",
    "q5_0_0 = ax_1[0].hist(days, bins=N, cumulative=True, histtype='step', density=True,) # using ax_1[0] because first subplot is index 0\n",
    "# set title, xlabel, and ylabel\n",
    "ax_1[0].set(title='CDF for days', \n",
    "            xlabel='number of rainy days', \n",
    "            ylabel='cumulative proportion')\n",
    "# add grid lines\n",
    "ax_1[0].grid()\n",
    "\n",
    "# first, create the plot. The second plot will have index [1].\n",
    "# Save the plot as variable q5_0_1\n",
    "q5_0_1 = ...\n",
    "# second, set title, xlabel, and ylabel\n",
    "...\n",
    "# third, add grid lines\n",
    "...\n",
    "\n",
    "# display all figures\n",
    "plt.tight_layout()\n",
    "plt.show()"
   ]
  },
  {
   "cell_type": "code",
   "execution_count": null,
   "id": "0d948189",
   "metadata": {
    "deletable": false,
    "editable": false
   },
   "outputs": [],
   "source": [
    "grader.check(\"q5.0\")"
   ]
  },
  {
   "cell_type": "markdown",
   "id": "21e81536-b3fc-4a01-b4b0-dfa7d2c38553",
   "metadata": {
    "deletable": false,
    "editable": false
   },
   "source": [
    "Recall that we defined:\n",
    "- $E_1$ = the number of rainy days in SF in a given year is > 80 days\n",
    "- $E_2$ = the amount of cumulative annual rainfall in SF in a given year is > 30 inches\n",
    "\n",
    "<font color='red'>**Question 5.1.**</font> Based on your cumulative proportion plots for `days` and `rain`, which of the following statement(s) is(are) True? Assign ALL that apply to the variable `q5_1`. (0.75 pts)\n",
    "\n",
    "**A.** We cannot estimate $P(E_1)$ from the CDF\\\n",
    "**B.** $P(E_1)$ is approximately 0.15\\\n",
    "**C.** $P(E_1)$ is approximately 0.85\\\n",
    "**D.** $P(E_2)$ is approximately 0.15\\\n",
    "**E.** $P(E_2)$ is approximately 0.85\\\n",
    "**F.** $P(\\overline{E_2})$ is approximately 0.15\\\n",
    "**G.** $P(\\overline{E_2})$ is approximately 0.85\n",
    "\n",
    "Answer in the next cell. Add each selected choice as a string and separate each two answer choices by a comma. For example, if you want to select `\"A\"` and `\"B\"`, your answer should be `\"A\", \"B\"`.\\\n",
    "Assign your answer to the given variable.\n",
    "Remember to put quotes around each answer choice."
   ]
  },
  {
   "cell_type": "code",
   "execution_count": null,
   "id": "1b6161a4-e4b9-4702-a223-d0b3c6bfd9a3",
   "metadata": {
    "tags": []
   },
   "outputs": [],
   "source": [
    "# ANSWER CELL\n",
    "q5_1 = ...\n",
    "q5_1"
   ]
  },
  {
   "cell_type": "code",
   "execution_count": null,
   "id": "00a569e3",
   "metadata": {
    "deletable": false,
    "editable": false
   },
   "outputs": [],
   "source": [
    "grader.check(\"q5.1\")"
   ]
  },
  {
   "cell_type": "markdown",
   "id": "4f77b894-1544-4b92-b105-89746452c996",
   "metadata": {},
   "source": [
    "### Estimating Probabilities Using Frequencies\n",
    "\n",
    "Let's try to calculate the probabilities of events $E_1$ and $E_2$ based on the data we have and using  logical expressions (`<`, `>`, `<=`, `>=`, `==`).\n",
    "\n",
    "Let's say $E_3$ is the event that the amount of cumulative rainfall in a given year is less than 10 inches. Then, the probability of the event can be calculated as:\n",
    "\n",
    "$$ P(E_3) = \\frac{n_{E_{3}}}{n} $$\n",
    "\n",
    "where:\n",
    "\n",
    "1. $n_{E_{3}}$ is the number of times (i.e., frequency) that this event has occurred (i.e., the number of years with cumulative rain less than 10 inches)\n",
    "\n",
    "2. $n$ is the total number of observations (i.e., the total number of years in the data set)\n",
    "\n",
    "We can calculate $P(E_3)$ in Python using logical expressions as follows: \n",
    "    \n",
    "1. Calculate $n_{E_{3}}$: If we use `rain < 10`, this will return a Boolean data type (True or False) that indicates whether the condition is satisfied for every element in the array (in this case, whether rain < 10 for every year in our data set). To obtain the frequency or total number of occurrences, we can use the `sum()` function. True is counted as 1 and False is counted as 0. Therefore, `sum(rain < 10)` yields the frequency or the total number of years where the condition rain < 10 is satisfied. The Python code to do this is:\n",
    "\n",
    "    `n_E3 = sum(rain < 10) # frequency that rain is less than 10 inches`\n",
    "       \n",
    "2. Calculate $n$ using the `len()` function (length of an object). The Python code to do this is\n",
    "  \n",
    "   `n = len(rain) # total number of observations`\n",
    "\n",
    "3. Finally, we calculate the probability by dividing the numbers above. The Python code to do this is:\n",
    "\n",
    "    `P_E3 = n_E3 / n # probability of event E3`\n",
    "\n",
    "We can combine multiple events using `&` (element-wise logical AND), `|` (element-wise logical OR). For example, if we want the number of years when rain was greater than 10 **and** less than 20 inches, we can use:\n",
    "\n",
    "`n_E4 = sum((rain > 10) & (rain < 20)) # frequency that rain is greater than 10 AND less than 20 inches`\n",
    "\n",
    "We can then divide by `n` to get the probability that cumulative rain is greater than 10 and less than 20 inches.\n"
   ]
  },
  {
   "cell_type": "markdown",
   "id": "bb1d2d96-0bad-4d5a-b457-7a902233c256",
   "metadata": {
    "deletable": false,
    "editable": false
   },
   "source": [
    "<font color='red'>**Question 6.0.**</font> Compute the following probabilities using the frequency notion and based on the instructions above. Do not just manually type the numeric answer. Use Python expressions that return the desired answer and assign it to the corresponding variable.\n",
    "1. What is $P(E_1)$? Assign your answer to `P_E1`. (0.25 pts)\n",
    "2. What is $P(E_2)$? Assign your answer to `P_E2`. (0.25 pts)\n",
    "3. What is $P(E_1\\cap E_2)$? Assign your answer to `P_E1_and_E2`. (0.25 pts)\n",
    "4. What is $P(E_1\\cup E_2)$? Assign your answer to `P_E1_or_E2`. (0.25 pts)\n",
    "\n",
    "Enter your code in the cell below to compute these probabilities.\n",
    "\n",
    "Recall that we defined:\n",
    "- $E_1$ = the number of rainy days in SF in a given year is > 80 days\n",
    "- $E_2$ = the amount of cumulative annual rainfall in SF in a given year is > 30 inches"
   ]
  },
  {
   "cell_type": "code",
   "execution_count": null,
   "id": "7884ec3b-5f44-4198-adc7-f5a795d4746d",
   "metadata": {
    "tags": []
   },
   "outputs": [],
   "source": [
    "# ANSWER CELL\n",
    "\n",
    "P_E1 = ...\n",
    "P_E2 = ...\n",
    "P_E1_and_E2 = ...\n",
    "P_E1_or_E2 = ...\n",
    "\n",
    "print(f'P(E1) =\\t\\t  {P_E1:.3f}') if not isinstance(P_E1, type(Ellipsis)) else None\n",
    "print(f'P(E2) =\\t\\t  {P_E2:.3f}') if not isinstance(P_E2, type(Ellipsis)) else None\n",
    "print(f'P(E1 ∩ E2) =\\t  {P_E1_and_E2:.3f}') if not isinstance(P_E1_and_E2, type(Ellipsis)) else None\n",
    "print(f'P(E1 U E2) =\\t  {P_E1_or_E2:.3f}') if not isinstance(P_E1_or_E2, type(Ellipsis)) else None"
   ]
  },
  {
   "cell_type": "code",
   "execution_count": null,
   "id": "64fad3bf",
   "metadata": {
    "deletable": false,
    "editable": false
   },
   "outputs": [],
   "source": [
    "grader.check(\"q6.0\")"
   ]
  },
  {
   "cell_type": "markdown",
   "id": "dc3fd39a-58c6-4ca4-a99b-df3df6138b2a",
   "metadata": {
    "deletable": false,
    "editable": false
   },
   "source": [
    "<font color='red'>**Question 6.1.**</font> Based on the above probabilities, what can you say about $E_1$ and $E_2$? Assign ALL that apply to the variable `q6_1`. (0.75 pts)\n",
    "\n",
    "**A.** None of the options \\\n",
    "**B.** $E_1$ and $E_2$ are mutually exclusive \\\n",
    "**C.** $E_1$ and $E_2$ are exhaustive \\\n",
    "**D.** $E_1$ and $E_2$ are independent\n",
    "\n",
    "Answer in the next cell. Add each selected choice as a string and separate each two answer choices by a comma. For example, if you want to select `\"A\"` and `\"B\"`, your answer should be `\"A\", \"B\"`.\\\n",
    "Assign your answer to the given variable.\n",
    "Remember to put quotes around each answer choice."
   ]
  },
  {
   "cell_type": "code",
   "execution_count": null,
   "id": "ad32f9b2-b46a-483c-8340-91b632f0e8e0",
   "metadata": {
    "tags": []
   },
   "outputs": [],
   "source": [
    "# ANSWER CELL\n",
    "q6_1 = ...\n",
    "q6_1"
   ]
  },
  {
   "cell_type": "code",
   "execution_count": null,
   "id": "f2722071",
   "metadata": {
    "deletable": false,
    "editable": false
   },
   "outputs": [],
   "source": [
    "grader.check(\"q6.1\")"
   ]
  },
  {
   "cell_type": "markdown",
   "id": "48ed9b5a-6cb7-473a-b48e-694d91ca72c5",
   "metadata": {},
   "source": [
    "### What If We Had Less Data??\n",
    "\n",
    "This data set has observations from 173 years! It is not always possible to have this many observations. The fewer the observations, the less accurate our probability estimates will be. Remember, the definition of probability is based on the limit as $n\\to\\infty$. \n",
    "\n",
    "So, let's examine if the number of observations influences the estimated probabilities.\n",
    "\n",
    "First, let's review the basics of indexing for a 1D DataFrame.\n",
    "* `rain[0]` will return the rain value for the **first** year in the data set\n",
    "* `rain[:10]` will return the rain values for the **first 10** years in the data set\n",
    "* `rain[-10:]` will return the rain values for the **last 10** years in the data set\n",
    "* `rain[10:20]` will return the rain values between the first **11 and 20** years in the data set\n",
    "\n",
    "\n",
    "**Next, suppose the data was available only for the last 25 years.**\n",
    "\n",
    "Let's recalculate the following probabilities:\n",
    "- $ P(E_1) $ \n",
    "- $ P(E_2) $\n",
    "- $P(E_1\\cap E_2)$\n",
    "- $P(E_1\\cup E_2)$\n",
    "\n",
    "I am providing you with the code below. Read it and understand it. You will have to do something similar using the first 25 years of data."
   ]
  },
  {
   "cell_type": "code",
   "execution_count": null,
   "id": "f15e188a-c122-4e1c-8bfb-972ee07ac8eb",
   "metadata": {
    "scrolled": true
   },
   "outputs": [],
   "source": [
    "# recalculate the probabilities using the last 25 years of data\n",
    "\n",
    "# get number of rainy days and amount of rainfall for last 25 years\n",
    "days_l25 = days[-25:]\n",
    "rain_l25 = rain[-25:]\n",
    "\n",
    "# Get the new total number of measurements for this reduced dataset (it should be 25 since 25 years)\n",
    "n_l25 = len(days_l25)\n",
    "\n",
    "# Get the number of times event E1 has occurred in the last 25 years\n",
    "nE1_l25 = sum(days_l25 > 80)\n",
    "\n",
    "# Get Probability of E1 based on the last 25 years\n",
    "P_E1_l25 = nE1_l25 / n_l25\n",
    "\n",
    "####################################################\n",
    "\n",
    "# Get the number of times event E2 has occurred in the last 25 years\n",
    "nE2_l25 = sum(rain_l25 > 30)\n",
    "\n",
    "# Get Probability of E2 based on the last 25 years\n",
    "P_E2_l25 = nE2_l25 / n_l25\n",
    "\n",
    "####################################################\n",
    "\n",
    "# Get the number of times E1 AND E2 occurred based on the last 25 years\n",
    "nE1_and_E2_l25 = sum((days_l25>80) & (rain_l25>30))\n",
    "\n",
    "# Get the Probability of E1 AND E2 based on the last 25 years\n",
    "P_E1_and_E2_l25 = nE1_and_E2_l25 / n_l25\n",
    "\n",
    "####################################################\n",
    "\n",
    "# Get the number of times E1 OR E2 occurred based on the last 25 years\n",
    "nE1_or_E2_l25 = sum((days_l25>80) | (rain_l25>30))\n",
    "\n",
    "# Get the Probability of E1 OR E2 based on the last 25 years\n",
    "P_E1_or_E2_l25 = nE1_or_E2_l25 / n_l25\n",
    "\n",
    "# print results\n",
    "print(f'P(E1) =\\t\\t  {P_E1_l25:.3f}')\n",
    "print(f'P(E2) =\\t\\t  {P_E2_l25:.3f}')\n",
    "print(f'P(E1 ∩ E2) =\\t  {P_E1_and_E2_l25:.3f}')\n",
    "print(f'P(E1 U E2) =\\t  {P_E1_or_E2_l25:.3f}')"
   ]
  },
  {
   "cell_type": "markdown",
   "id": "0f48c427-4c27-4a0f-afdd-349f059fee5f",
   "metadata": {
    "deletable": false,
    "editable": false
   },
   "source": [
    "**Next, suppose the data was available only for the first 25 years.**\n",
    "\n",
    "<font color='red'>**Question 7.0.**</font> Adapt the Python routine from above to recalculate the following probabilities using the first 25 years of data. Do not just manually type the numeric answer. Use Python expressions that return the desired answer and assign it to the corresponding variable.\n",
    "1. What is $P(E_1)$? Assign your answer to `P_E1_f25`. (0.25 pts)\n",
    "2. What is $P(E_2)$? Assign your answer to `P_E2_f25`. (0.25 pts)\n",
    "3. What is $P(E_1\\cap E_2)$? Assign your answer to `P_E1_and_E2_f25`. (0.25 pts)\n",
    "4. What is $P(E_1\\cup E_2)$? Assign your answer to `P_E1_or_E2_f25`. (0.25 pts)\n",
    "\n",
    "Enter your code in the cell below to compute these probabilities.\n",
    "\n",
    "Recall that we defined:\n",
    "- $E_1$ = the number of rainy days in SF in a given year is > 80 days\n",
    "- $E_2$ = the amount of cumulative annual rainfall in SF in a given year is > 30 inches\n",
    "\n",
    "*Hint: First, define a new variable, say `days_f25`, and set it equal to the first 25 values in `days`. Second, define a new variable, say `rain_f25`, and set it equal to the first 25 values in `rain`. Then, apply the same code from above to calculate probabilities but now using `days_f25` and `rain_f25`. Recall that `rain[:10]` will return the rain values for the **first 10** years in the data set*."
   ]
  },
  {
   "cell_type": "code",
   "execution_count": null,
   "id": "55176d48-5a15-4a8e-9e0c-a822a24077dd",
   "metadata": {
    "tags": []
   },
   "outputs": [],
   "source": [
    "# ANSWER CELL\n",
    "# recalculate the probabilities using the first 25 years of data\n",
    "\n",
    "# get number of rainy days and amount of rainfall for first 25 years\n",
    "days_f25 = ...\n",
    "rain_f25 = ...\n",
    "\n",
    "# Get the new total number of measurements for this reduced dataset (it should be 25 since 25 years)\n",
    "n_f25 = ...\n",
    "\n",
    "# Get the number of times event E1 has occurred in the first 25 years\n",
    "nE1_f25 = ...\n",
    "\n",
    "# Get Probability of E1 based on the first 25 years\n",
    "P_E1_f25 = ...\n",
    "\n",
    "####################################################\n",
    "\n",
    "# Get the number of times event E2 has occurred in the first 25 years\n",
    "nE2_f25 = ...\n",
    "\n",
    "# Get Probability of E2 based on the first 25 years\n",
    "P_E2_f25 = ...\n",
    "\n",
    "####################################################\n",
    "\n",
    "# Get the number of times E1 AND E2 occurred based on the first 25 years\n",
    "nE1_and_E2_f25 = ...\n",
    "\n",
    "# Get the Probability of E1 AND E2 based on the first 25 years\n",
    "P_E1_and_E2_f25 = ...\n",
    "\n",
    "####################################################\n",
    "\n",
    "# Get the number of times E1 OR E2 occurred based on the first 25 years\n",
    "nE1_or_E2_f25 = ...\n",
    "\n",
    "# Get the Probability of E1 OR E2 based on the first 25 years\n",
    "P_E1_or_E2_f25 = ...\n",
    "\n",
    "# print results\n",
    "print(f'P(E1) =\\t\\t  {P_E1_f25:.3f}') if not isinstance(P_E1_f25, type(Ellipsis)) else None\n",
    "print(f'P(E2) =\\t\\t  {P_E2_f25:.3f}') if not isinstance(P_E2_f25, type(Ellipsis)) else None\n",
    "print(f'P(E1 ∩ E2) =\\t  {P_E1_and_E2_f25:.3f}') if not isinstance(P_E1_and_E2_f25, type(Ellipsis)) else None\n",
    "print(f'P(E1 U E2) =\\t  {P_E1_or_E2_f25:.3f}') if not isinstance(P_E1_or_E2_f25, type(Ellipsis)) else None"
   ]
  },
  {
   "cell_type": "code",
   "execution_count": null,
   "id": "2d9d8b4e",
   "metadata": {
    "deletable": false,
    "editable": false
   },
   "outputs": [],
   "source": [
    "grader.check(\"q7.0\")"
   ]
  },
  {
   "cell_type": "markdown",
   "id": "0f3fb5f8-5095-4232-8f3c-8edbd1e523a0",
   "metadata": {
    "deletable": false,
    "editable": false
   },
   "source": [
    "<font color='red'>**Question 7.1.**</font> Compare the probabilities of the different events when using the full dataset, last 25 years, and first 25 years. What do you observe? Assign your answer to the variable `q7_1` as a string. (0.5 pts)\n",
    "\n",
    "**A.** The probabilities of the events change based on the years used in the analysis. \\\n",
    "**B.** The probabilities of the events remain exactly the same regardless of the years used in the analysis. \n",
    "\n",
    "Your answer should be a string, e.g., `\"A\"`, `\"B\"`, etc.\\\n",
    "Remember to put quotes around your answer choice."
   ]
  },
  {
   "cell_type": "code",
   "execution_count": null,
   "id": "3e867a5e-a64a-4399-9a74-348d3261b873",
   "metadata": {
    "tags": []
   },
   "outputs": [],
   "source": [
    "# ANSWER CELL\n",
    "q7_1 = ...\n",
    "q7_1"
   ]
  },
  {
   "cell_type": "code",
   "execution_count": null,
   "id": "d5cc7ebc",
   "metadata": {
    "deletable": false,
    "editable": false
   },
   "outputs": [],
   "source": [
    "grader.check(\"q7.1\")"
   ]
  },
  {
   "cell_type": "markdown",
   "id": "5e3770eb-cc2f-4120-afe0-56b01f893fe3",
   "metadata": {
    "deletable": false,
    "editable": false
   },
   "source": [
    "<font color='red'>**Question 7.2.**</font> What can you tell based on these results? Assign ALL that apply to the variable `q7_2`. (0.5 pts)\n",
    "\n",
    "**A.** Probability is based on our state of knowledge and it is influenced by the extent of our knowledge at a given point in time \\\n",
    "**B.** For any event, its probability is always constant \\\n",
    "**C.** The probabilities based on the first 25 years are our best estimate because they are more historic \\\n",
    "**D.** The probabilities based on the complete data set are our best estimate because they have more observations\n",
    "\n",
    "Answer in the next cell. Add each selected choice as a string and separate each two answer choices by a comma. For example, if you want to select `\"A\"` and `\"B\"`, your answer should be `\"A\", \"B\"`.\\\n",
    "Assign your answer to the given variable.\n",
    "Remember to put quotes around each answer choice."
   ]
  },
  {
   "cell_type": "code",
   "execution_count": null,
   "id": "fe2a362b-8f3e-43cd-85f2-78e6704e8ad3",
   "metadata": {
    "tags": []
   },
   "outputs": [],
   "source": [
    "# ANSWER CELL\n",
    "q7_2 = ...\n",
    "q7_2"
   ]
  },
  {
   "cell_type": "code",
   "execution_count": null,
   "id": "6ba576ce",
   "metadata": {
    "deletable": false,
    "editable": false
   },
   "outputs": [],
   "source": [
    "grader.check(\"q7.2\")"
   ]
  },
  {
   "cell_type": "markdown",
   "id": "230e029a-0189-4e72-a992-a485ab50829f",
   "metadata": {},
   "source": [
    "### Conditional Probability\n",
    "\n",
    "The Climate Prediction Center (CPC) issues maps showing the probabilities of temperature and precipitation deviation from normal. The precipitation outlook for the next three months is shown below. (https://www.cpc.ncep.noaa.gov/products/predictions/long_range/seasonal.php?lead=1)\n",
    "\n",
    "<img src=\"https://www.cpc.ncep.noaa.gov/products/predictions/long_range/lead01/off01_prcp.gif\" />\n",
    "  \n",
    "<br>\n",
    "\n",
    "Based on this outlook, San Francisco has equal chances of getting precipitation above and below normal.\n",
    "\n",
    "Let's define *equal chances of getting precipitation above and below normal* as getting cumulative precipitation within the inter quartile range (IQR). We can calculate percentiles and quartiles directly in Python as follows: \n",
    "\n",
    "* For example, [`np.percentile(data, q)`](https://numpy.org/doc/stable/reference/generated/numpy.percentile.html) returns the qth percentile for the specified data\n",
    "* `np.percentile(rain, q=[20, 40])` returns the 20th and 40th percentile (in the order you specify the `q` values)\n",
    "* If you use `per20, per40 = np.percentile(rain, q=[20, 40])`, variable `per20` will be the 20th percentile and variable `per40` will be the 40th percentile, and you can perform operations like `per40 - per20`\n",
    "\n",
    "Remember that the interquartile range is the third quartile (75th percentile) - first quartile (25th percentile)."
   ]
  },
  {
   "cell_type": "markdown",
   "id": "4de8bd60-dba1-4717-a59d-508ef3655f7d",
   "metadata": {
    "deletable": false,
    "editable": false
   },
   "source": [
    "<font color='red'>**Question 8.0.**</font> Compute the following summary statistics of the `rain` data (using the full data set). Do not just manually type the numeric answer. Use Python expressions that return the desired answer and assign it to the corresponding variable.\n",
    "1. What is the first quartile of the rain data set? Assign your answer to `Q1`. (0.25 pts)\n",
    "2. What is the third quartile of the rain data set? Assign your answer to `Q3`. (0.25 pts)\n",
    "3. What is the interquartile range of the rain data set? Assign your answer to `IQR`. (0.25 pts)\n",
    "\n",
    "Enter your code in the cell below to compute these summary statistics."
   ]
  },
  {
   "cell_type": "code",
   "execution_count": null,
   "id": "dfb1cb41-d4eb-4ae4-a459-d84d65d3bf00",
   "metadata": {
    "tags": []
   },
   "outputs": [],
   "source": [
    "# ANSWER CELL\n",
    "# add your code below to calculate the first and third quartiles and then the IQR\n",
    "\n",
    "Q1, Q3 = ...\n",
    "IQR = ...\n",
    "\n",
    "print(f'Q1 =  {Q1:.3f} inches') if not isinstance(Q1, type(Ellipsis)) else None\n",
    "print(f'Q3 =  {Q3:.3f} inches') if not isinstance(Q3, type(Ellipsis)) else None\n",
    "print(f'IQR =  {IQR:.3f} inches') if not isinstance(IQR, type(Ellipsis)) else None"
   ]
  },
  {
   "cell_type": "code",
   "execution_count": null,
   "id": "43203381",
   "metadata": {
    "deletable": false,
    "editable": false
   },
   "outputs": [],
   "source": [
    "grader.check(\"q8.0\")"
   ]
  },
  {
   "cell_type": "markdown",
   "id": "88aaf755-de0d-4030-a34c-be78002df29b",
   "metadata": {
    "jp-MarkdownHeadingCollapsed": true
   },
   "source": [
    "Assume that so far this year, the cumulative rainfall in SF has been 30 inches. Thus, we know that by the end of the year, rain > 30 inches (we can't get negative rain!). Thus, we know that event $E_2$ has occurred. Remember, we previously defined: \t\n",
    "\n",
    "- $E_1$ = the number of rainy days in SF in a given year is > 80 days\n",
    "- $E_2$ = amount of cumulative annual rainfall in SF in a given year is > 30 inches\n"
   ]
  },
  {
   "cell_type": "markdown",
   "id": "47261017-8bd4-4203-877a-804db55fd4f8",
   "metadata": {
    "deletable": false,
    "editable": false
   },
   "source": [
    "<font color='red'>**Question 8.1.**</font> Knowing that the cumulative precipitation will be > 30 inches, and based on the historical data that we have from 1849-50 to 2021-2022 (complete dataset), what is the probability that there will be more than 80 days of rain in this year? What is the mean of nitrates? Assign your answer to `q8_1`. Do not just manually type the numeric answer. Use Python expressions that return the desired answer and assign it to the corresponding variable. (0.5 pts)\n",
    "\n",
    "*Hint: This is a conditional probability. There are different ways to calculate this probability. Mathematically, conditional probability is:*\n",
    "\n",
    "$$P(A|B)=\\dfrac{P(A \\cap B)}{P(B)}$$"
   ]
  },
  {
   "cell_type": "code",
   "execution_count": null,
   "id": "a7cf0829-4dc0-489a-9b03-929e033d0b38",
   "metadata": {
    "tags": []
   },
   "outputs": [],
   "source": [
    "# ANSWER CELL\n",
    "# feel free to add any additional code\n",
    "# Make sure the final answer is assigned to variable q8_1\n",
    "\n",
    "q8_1 = ...\n",
    "\n",
    "print(f'P(days > 80 | rain > 30) =  {q8_1:.3f}') if not isinstance(q8_1, type(Ellipsis)) else None"
   ]
  },
  {
   "cell_type": "code",
   "execution_count": null,
   "id": "80594230",
   "metadata": {
    "deletable": false,
    "editable": false
   },
   "outputs": [],
   "source": [
    "grader.check(\"q8.1\")"
   ]
  },
  {
   "cell_type": "markdown",
   "id": "3e9846cb-dc43-4d8c-a821-d2aac44e7473",
   "metadata": {
    "deletable": false,
    "editable": false
   },
   "source": [
    "<font color='red'>**Question 8.2.**</font> What can you tell about the events $E_1$ and $E_2$? Assign your answer to the variable `q8_2` as a string. (0.5 pts)\n",
    "\n",
    "**A.** Dependent \\\n",
    "**B.** Independent \\\n",
    "**C.** Exclusive \\\n",
    "**D.** Exhaustive\n",
    "\n",
    "Your answer should be a string, e.g., `\"A\"`, `\"B\"`, etc.\\\n",
    "Remember to put quotes around your answer choice."
   ]
  },
  {
   "cell_type": "code",
   "execution_count": null,
   "id": "592f6dbe-b767-4288-93a6-3e7694c5df56",
   "metadata": {
    "tags": []
   },
   "outputs": [],
   "source": [
    "# ANSWER CELL\n",
    "q8_2 = ...\n",
    "q8_2"
   ]
  },
  {
   "cell_type": "code",
   "execution_count": null,
   "id": "da0bf31a",
   "metadata": {
    "deletable": false,
    "editable": false
   },
   "outputs": [],
   "source": [
    "grader.check(\"q8.2\")"
   ]
  },
  {
   "cell_type": "markdown",
   "id": "6640b73f-0375-4e63-b9e2-a12243fcf8d3",
   "metadata": {},
   "source": [
    "### Decision Making\n",
    "\n",
    "Recent research shows that the drought and a changing climate have resulted in changes to historical precipitation trends in more recent years. In addition, UCB researchers have shown that prolonged droughts which are affecting California will decrease the number of total rainy days in the future. "
   ]
  },
  {
   "cell_type": "markdown",
   "id": "197379ba-9281-445d-9d3c-a4aad044b9ba",
   "metadata": {
    "deletable": false,
    "editable": false
   },
   "source": [
    "<font color='red'>**Question 9.0.**</font> Based on this and your statistical analysis, what would be your recommendation to the San Francisco Public Utilities Commission? Assign your answer to the variable `q9` as a string. (0.5 pts)\n",
    "\n",
    "**A.** Rainfall harvesting is recommended because rain and number of rainy days are independent \\\n",
    "**B.** Rainfall harvesting is recommended because we are expecting more rainfall in San Francisco in the future \\\n",
    "**C.** Rainfall harvesting might not be ideal because the decrease in the number of total rainy days will decrease the precipitation in San Francisco\n",
    "\n",
    "Your answer should be a string, e.g., `\"A\"`, `\"B\"`, etc.\\\n",
    "Remember to put quotes around your answer choice."
   ]
  },
  {
   "cell_type": "code",
   "execution_count": null,
   "id": "48c52e1d-5cb3-47c2-a448-b92d9a2793dc",
   "metadata": {
    "tags": []
   },
   "outputs": [],
   "source": [
    "# ANSWER CELL\n",
    "q9 = ...\n",
    "q9"
   ]
  },
  {
   "cell_type": "code",
   "execution_count": null,
   "id": "744a1d26",
   "metadata": {
    "deletable": false,
    "editable": false
   },
   "outputs": [],
   "source": [
    "grader.check(\"q9.0\")"
   ]
  },
  {
   "cell_type": "markdown",
   "id": "f20bba6f",
   "metadata": {},
   "source": [
    "### You're done with this Lab!\n",
    "\n",
    "**Important submission information:** After completing the assignment, click on the Save icon from the Tool Bar &nbsp;<i class=\"fa fa-save\" style=\"font-size:16px;\"></i>&nbsp;. After saving your notebook, **run the cell with** `grader.check_all()` and confirm that you pass the same tests as in the notebook. Then, **run the final cell** `grader.export()` and click the link to download the zip file. Finally, go to Gradescope and submit the zip file to the corresponding assignment. \n",
    "\n",
    "**Once you have submitted, stay on the Gradescope page to confirm that you pass the same tests as in the notebook.**"
   ]
  },
  {
   "cell_type": "code",
   "execution_count": null,
   "id": "4d1647c8",
   "metadata": {
    "scrolled": true,
    "tags": []
   },
   "outputs": [],
   "source": [
    "%matplotlib inline\n",
    "img = mpimg.imread('resources/animal.jpg')\n",
    "imgplot = plt.imshow(img)\n",
    "imgplot.axes.get_xaxis().set_visible(False)\n",
    "imgplot.axes.get_yaxis().set_visible(False)\n",
    "print(\"Congratulations on finishing this lab!\")\n",
    "plt.show()"
   ]
  },
  {
   "cell_type": "markdown",
   "id": "bfe92527",
   "metadata": {
    "deletable": false,
    "editable": false
   },
   "source": [
    "---\n",
    "\n",
    "To double-check your work, the cell below will rerun all of the autograder tests."
   ]
  },
  {
   "cell_type": "code",
   "execution_count": null,
   "id": "e58ccd7e",
   "metadata": {
    "deletable": false,
    "editable": false
   },
   "outputs": [],
   "source": [
    "grader.check_all()"
   ]
  },
  {
   "cell_type": "markdown",
   "id": "3a13b55e",
   "metadata": {
    "deletable": false,
    "editable": false
   },
   "source": [
    "## Submission\n",
    "\n",
    "Make sure you have run all cells in your notebook in order before running the cell below, so that all images/graphs appear in the output. The cell below will generate a zip file for you to submit. **Please save before exporting!**\n",
    "\n",
    "Make sure you submit the .zip file to Gradescope."
   ]
  },
  {
   "cell_type": "code",
   "execution_count": null,
   "id": "7dc2bd13",
   "metadata": {
    "deletable": false,
    "editable": false
   },
   "outputs": [],
   "source": [
    "# Save your notebook first, then run this cell to export your submission.\n",
    "grader.export(pdf=False)"
   ]
  },
  {
   "cell_type": "markdown",
   "id": "d4749b6f",
   "metadata": {},
   "source": [
    " "
   ]
  }
 ],
 "metadata": {
  "kernelspec": {
   "display_name": "Python 3 (ipykernel)",
   "language": "python",
   "name": "python3"
  },
  "language_info": {
   "codemirror_mode": {
    "name": "ipython",
    "version": 3
   },
   "file_extension": ".py",
   "mimetype": "text/x-python",
   "name": "python",
   "nbconvert_exporter": "python",
   "pygments_lexer": "ipython3",
   "version": "3.9.15"
  },
  "otter": {
   "OK_FORMAT": true,
   "assignment_name": "lab03",
   "tests": {
    "q1.0": {
     "name": "q1.0",
     "points": 0.25,
     "suites": [
      {
       "cases": [
        {
         "code": ">>> assert get_hash(len(year)) == 'f7e6c85504ce6e82442c770f7c8606f0'\n>>> assert get_hash(sum(year)) == '104c2654792ea80a8737d22bda329fba'\n",
         "failure_message": "Incorrect answer for year.",
         "hidden": false,
         "locked": false
        },
        {
         "code": ">>> assert get_hash(len(days)) == 'f7e6c85504ce6e82442c770f7c8606f0'\n>>> assert get_hash(sum(days)) == '0dc23b6a0e4abc39904388dd3ffadcd1'\n",
         "failure_message": "Incorrect answer for days.",
         "hidden": false,
         "locked": false
        },
        {
         "code": ">>> assert get_hash(len(rain)) == 'f7e6c85504ce6e82442c770f7c8606f0'\n>>> assert get_hash(sum(rain)) == '9cd0dd80fdf0cb9f00ea370b65af1ef3'\n",
         "failure_message": "Incorrect answer for rain.",
         "hidden": false,
         "locked": false
        }
       ],
       "scored": true,
       "setup": "",
       "teardown": "",
       "type": "doctest"
      }
     ]
    },
    "q2.0": {
     "name": "q2.0",
     "points": 1.0,
     "suites": [
      {
       "cases": [
        {
         "code": ">>> assert len(plot1_type) == 1\n>>> assert isinstance(plot1_type, str)\n>>> assert len(plot2_type) == 1\n>>> assert isinstance(plot2_type, str)\n>>> assert len(plot3_type) == 1\n>>> assert isinstance(plot3_type, str)\n>>> assert len(plot4_type) == 1\n>>> assert isinstance(plot4_type, str)\n",
         "failure_message": "Incorrect answer format. Make sure you only have the letter of your answer choice in quotes for each plot.",
         "hidden": false,
         "locked": false,
         "points": 0,
         "success_message": "Correct answer format."
        },
        {
         "code": ">>> assert get_hash(plot1_type.upper()) == '3a3ea00cfc35332cedf6e5e9a32e94da'\n",
         "failure_message": "Incorrect answer for Plot 1.",
         "hidden": false,
         "locked": false,
         "points": 0.25
        },
        {
         "code": ">>> assert get_hash(plot2_type.upper()) == 'f623e75af30e62bbd73d6df5b50bb7b5'\n",
         "failure_message": "Incorrect answer for Plot 2.",
         "hidden": false,
         "locked": false,
         "points": 0.25
        },
        {
         "code": ">>> assert get_hash(plot3_type.upper()) == '7fc56270e7a70fa81a5935b72eacbe29'\n",
         "failure_message": "Incorrect answer for Plot 3.",
         "hidden": false,
         "locked": false,
         "points": 0.25
        },
        {
         "code": ">>> assert get_hash(plot4_type.upper()) == '0d61f8370cad1d412f80b84d143e1257'\n",
         "failure_message": "Incorrect answer for Plot 4.",
         "hidden": false,
         "locked": false,
         "points": 0.25
        }
       ],
       "scored": true,
       "setup": "",
       "teardown": "",
       "type": "doctest"
      }
     ]
    },
    "q3.0": {
     "name": "q3.0",
     "points": 0.75,
     "suites": [
      {
       "cases": [
        {
         "code": ">>> assert len(objective_1) == 1\n>>> assert isinstance(objective_1, str)\n>>> assert len(objective_2) == 1\n>>> assert isinstance(objective_2, str)\n>>> assert len(objective_3) == 1\n>>> assert isinstance(objective_3, str)\n",
         "failure_message": "Incorrect answer format. Make sure you only have the letter of your answer choice in quotes.",
         "hidden": false,
         "locked": false,
         "points": 0,
         "success_message": "Correct answer format."
        },
        {
         "code": ">>> assert get_hash(objective_1.upper()) == '9d5ed678fe57bcca610140957afab571'\n>>> assert get_hash(objective_2.upper()) == '7fc56270e7a70fa81a5935b72eacbe29'\n>>> assert get_hash(objective_3.upper()) == 'f623e75af30e62bbd73d6df5b50bb7b5'\n",
         "failure_message": "Incorrect answer for Objective 1.",
         "hidden": false,
         "locked": false,
         "points": 0.25
        },
        {
         "code": ">>> assert get_hash(objective_2.upper()) == '7fc56270e7a70fa81a5935b72eacbe29'\n",
         "failure_message": "Incorrect answer for Objective 2.",
         "hidden": false,
         "locked": false,
         "points": 0.25
        },
        {
         "code": ">>> assert get_hash(objective_3.upper()) == 'f623e75af30e62bbd73d6df5b50bb7b5'\n",
         "failure_message": "Incorrect answer for Objective 3.",
         "hidden": false,
         "locked": false,
         "points": 0.25
        }
       ],
       "scored": true,
       "setup": "",
       "teardown": "",
       "type": "doctest"
      }
     ]
    },
    "q4.0": {
     "name": "q4.0",
     "points": 1.0,
     "suites": [
      {
       "cases": [
        {
         "code": ">>> assert len(plot_1) == 1\n>>> assert isinstance(plot_1, str)\n>>> assert len(plot_2) == 1\n>>> assert isinstance(plot_2, str)\n>>> assert len(plot_3) == 1\n>>> assert isinstance(plot_3, str)\n>>> assert len(plot_4) == 1\n>>> assert isinstance(plot_4, str)\n",
         "failure_message": "Incorrect answer format. Make sure you only have the letter of your answer choice in quotes.",
         "hidden": false,
         "locked": false,
         "points": 0,
         "success_message": "Correct answer format."
        },
        {
         "code": ">>> assert get_hash(plot_1.upper()) == 'f623e75af30e62bbd73d6df5b50bb7b5'\n",
         "failure_message": "Incorrect answer for Plot 1.",
         "hidden": false,
         "locked": false,
         "points": 0.25
        },
        {
         "code": ">>> assert get_hash(plot_2.upper()) == '7fc56270e7a70fa81a5935b72eacbe29'\n",
         "failure_message": "Incorrect answer for Plot 2",
         "hidden": false,
         "locked": false,
         "points": 0.25
        },
        {
         "code": ">>> assert get_hash(plot_3.upper()) == '9d5ed678fe57bcca610140957afab571'\n",
         "failure_message": "Incorrect answer for Plot 3.",
         "hidden": false,
         "locked": false,
         "points": 0.25
        },
        {
         "code": ">>> assert get_hash(plot_4.upper()) == '0d61f8370cad1d412f80b84d143e1257'\n",
         "failure_message": "Incorrect answer for Plot 4.",
         "hidden": false,
         "locked": false,
         "points": 0.25
        }
       ],
       "scored": true,
       "setup": "",
       "teardown": "",
       "type": "doctest"
      }
     ]
    },
    "q5.0": {
     "name": "q5.0",
     "points": 0.25,
     "suites": [
      {
       "cases": [
        {
         "code": ">>> assert isinstance(q5_0_0, tuple)\n>>> assert isinstance(q5_0_1, tuple)\n>>> assert len(q5_0_0) == 3\n>>> assert len(q5_0_1) == 3\n",
         "failure_message": "Make sure to save the CDFs as objects \"q5_0_0\", \"q5_0_1\".",
         "hidden": false,
         "locked": false,
         "points": 0
        },
        {
         "code": ">>> assert get_hash(len(q5_0_0[0])) == '98f13708210194c475687be6106a3b84'\n>>> assert get_hash(len(q5_0_0[1])) == '3c59dc048e8850243be8079a5c74d079'\n>>> assert get_hash(sum(q5_0_0[0])) == '8fda8bfa9031ecfd6b887476dfcf0834'\n>>> assert get_hash(sum(q5_0_0[1])) == 'c445fc8e95866fd14ceacb597a98b665'\n",
         "failure_message": "Check CDF for days. Do not edit the code for q5_0_0.",
         "hidden": false,
         "locked": false,
         "points": 0
        },
        {
         "code": ">>> assert get_hash(len(q5_0_1[0])) == '98f13708210194c475687be6106a3b84'\n>>> assert get_hash(len(q5_0_1[1])) == '3c59dc048e8850243be8079a5c74d079'\n>>> assert get_hash(sum(q5_0_1[0])) == '4b00bfa82dc871c76ba15ae3967a1a9f'\n>>> assert get_hash(sum(q5_0_1[1])) == 'f60c2f470e59f22d013e151bcfff9d21'\n",
         "failure_message": "Check CDF for rain.",
         "hidden": false,
         "locked": false,
         "points": 0.25
        }
       ],
       "scored": true,
       "setup": "",
       "teardown": "",
       "type": "doctest"
      }
     ]
    },
    "q5.1": {
     "name": "q5.1",
     "points": 0.75,
     "suites": [
      {
       "cases": [
        {
         "code": ">>> assert all((isinstance(option, str) for option in q5_1))\n>>> assert all((len(option) == 1 for option in q5_1))\n",
         "failure_message": "Incorrect answer format. Make sure you only have the letter of your answer choice in quotes and answers are separated by commas.",
         "hidden": false,
         "locked": false,
         "points": 0,
         "success_message": "Correct answer format."
        },
        {
         "code": ">>> assert get_hash('A' in q5_1 or 'a' in q5_1) == 'f8320b26d30ab433c5a54546d21f414c'\n",
         "failure_message": "Incorrect answer.",
         "hidden": false,
         "locked": false,
         "points": 0.075
        },
        {
         "code": ">>> assert get_hash('B' in q5_1 or 'b' in q5_1) == 'f827cf462f62848df37c5e1e94a4da74'\n",
         "failure_message": "Incorrect answer.",
         "hidden": false,
         "locked": false,
         "points": 0.15
        },
        {
         "code": ">>> assert get_hash('C' in q5_1 or 'c' in q5_1) == 'f8320b26d30ab433c5a54546d21f414c'\n",
         "failure_message": "Incorrect answer.",
         "hidden": false,
         "locked": false,
         "points": 0.075
        },
        {
         "code": ">>> assert get_hash('D' in q5_1 or 'd' in q5_1) == 'f827cf462f62848df37c5e1e94a4da74'\n",
         "failure_message": "Incorrect answer.",
         "hidden": false,
         "locked": false,
         "points": 0.15
        },
        {
         "code": ">>> assert get_hash('E' in q5_1 or 'e' in q5_1) == 'f8320b26d30ab433c5a54546d21f414c'\n",
         "failure_message": "Incorrect answer.",
         "hidden": false,
         "locked": false,
         "points": 0.075
        },
        {
         "code": ">>> assert get_hash('F' in q5_1 or 'f' in q5_1) == 'f8320b26d30ab433c5a54546d21f414c'\n",
         "failure_message": "Incorrect answer.",
         "hidden": false,
         "locked": false,
         "points": 0.075
        },
        {
         "code": ">>> assert get_hash('G' in q5_1 or 'g' in q5_1) == 'f827cf462f62848df37c5e1e94a4da74'\n",
         "failure_message": "Incorrect answer.",
         "hidden": false,
         "locked": false,
         "points": 0.15
        }
       ],
       "scored": true,
       "setup": "",
       "teardown": "",
       "type": "doctest"
      }
     ]
    },
    "q6.0": {
     "name": "q6.0",
     "points": 1.0,
     "suites": [
      {
       "cases": [
        {
         "code": ">>> assert get_hash(round(P_E1, 10)) == 'b6c73601d7d61ff68b705cae19f36eeb'\n",
         "failure_message": "Incorrect answer for P_E1.",
         "hidden": false,
         "locked": false,
         "points": 0.25
        },
        {
         "code": ">>> assert get_hash(round(P_E2, 10)) == '46440fef1c716c5e0ab017fcee9b6a42'\n",
         "failure_message": "Incorrect answer for P_E2.",
         "hidden": false,
         "locked": false,
         "points": 0.25
        },
        {
         "code": ">>> assert get_hash(round(P_E1_and_E2, 10)) == '356d83c6d96323ef7a728bfeb939fd6b'\n",
         "failure_message": "Incorrect answer for P_E1_and_E2.",
         "hidden": false,
         "locked": false,
         "points": 0.25
        },
        {
         "code": ">>> assert get_hash(round(P_E1_or_E2, 10)) == 'c924d404f9a1a4b957ab328821d69994'\n",
         "failure_message": "Incorrect answer for P_E1_or_E2.",
         "hidden": false,
         "locked": false,
         "points": 0.25
        }
       ],
       "scored": true,
       "setup": "",
       "teardown": "",
       "type": "doctest"
      }
     ]
    },
    "q6.1": {
     "name": "q6.1",
     "points": 0.75,
     "suites": [
      {
       "cases": [
        {
         "code": ">>> assert all((isinstance(option, str) for option in q6_1))\n>>> assert all((len(option) == 1 for option in q6_1))\n",
         "failure_message": "Incorrect answer format. Make sure you only have the letter of your answer choice in quotes and answers are separated by commas.",
         "hidden": false,
         "locked": false,
         "points": 0,
         "success_message": "Correct answer format."
        },
        {
         "code": ">>> assert get_hash('A' in q6_1 or 'a' in q6_1) == 'f827cf462f62848df37c5e1e94a4da74'\n",
         "failure_message": "Incorrect answer.",
         "hidden": false,
         "locked": false,
         "points": 0.15
        },
        {
         "code": ">>> assert get_hash('B' in q6_1 or 'b' in q6_1) == 'f8320b26d30ab433c5a54546d21f414c'\n",
         "failure_message": "Incorrect answer.",
         "hidden": false,
         "locked": false,
         "points": 0.2
        },
        {
         "code": ">>> assert get_hash('C' in q6_1 or 'c' in q6_1) == 'f8320b26d30ab433c5a54546d21f414c'\n",
         "failure_message": "Incorrect answer.",
         "hidden": false,
         "locked": false,
         "points": 0.2
        },
        {
         "code": ">>> assert get_hash('D' in q6_1 or 'd' in q6_1) == 'f8320b26d30ab433c5a54546d21f414c'\n",
         "failure_message": "Incorrect answer.",
         "hidden": false,
         "locked": false,
         "points": 0.2
        }
       ],
       "scored": true,
       "setup": "",
       "teardown": "",
       "type": "doctest"
      }
     ]
    },
    "q7.0": {
     "name": "q7.0",
     "points": 1.0,
     "suites": [
      {
       "cases": [
        {
         "code": ">>> assert get_hash(round(P_E1_f25, 10)) == '37d5c0b6b354bc3c790d2696b42756c9'\n",
         "failure_message": "Incorrect answer for P_E1_f25.",
         "hidden": false,
         "locked": false,
         "points": 0.25
        },
        {
         "code": ">>> assert get_hash(round(P_E2_f25, 10)) == '5d6182b8169f820c3e247e91131138ea'\n",
         "failure_message": "Incorrect answer for P_E2_f25.",
         "hidden": false,
         "locked": false,
         "points": 0.25
        },
        {
         "code": ">>> assert get_hash(round(P_E1_and_E2_f25, 10)) == 'e38502749f773d33ee02de5c2f61d6f3'\n",
         "failure_message": "Incorrect answer for P_E1_and_E2_f25.",
         "hidden": false,
         "locked": false,
         "points": 0.25
        },
        {
         "code": ">>> assert get_hash(round(P_E1_or_E2_f25, 10)) == '45efc23f34e05a9ea4f5024988047dd6'\n",
         "failure_message": "Incorrect answer for P_E1_or_E2_f25.",
         "hidden": false,
         "locked": false,
         "points": 0.25
        }
       ],
       "scored": true,
       "setup": "",
       "teardown": "",
       "type": "doctest"
      }
     ]
    },
    "q7.1": {
     "name": "q7.1",
     "points": 0.5,
     "suites": [
      {
       "cases": [
        {
         "code": ">>> assert len(q7_1) == 1\n>>> assert isinstance(q7_1, str)\n",
         "failure_message": "Incorrect answer format. Make sure you only have the letter of your answer choice in quotes.",
         "hidden": false,
         "locked": false,
         "points": 0,
         "success_message": "Correct answer format."
        },
        {
         "code": ">>> assert get_hash(q7_1.upper()) == '7fc56270e7a70fa81a5935b72eacbe29'\n",
         "failure_message": "Incorrect answer.",
         "hidden": false,
         "locked": false,
         "points": 0.5
        }
       ],
       "scored": true,
       "setup": "",
       "teardown": "",
       "type": "doctest"
      }
     ]
    },
    "q7.2": {
     "name": "q7.2",
     "points": 0.5,
     "suites": [
      {
       "cases": [
        {
         "code": ">>> assert isinstance(q7_2, (tuple, str))\n>>> assert all((isinstance(option, str) for option in q7_2))\n>>> assert all((len(option) == 1 for option in q7_2))\n",
         "failure_message": "Incorrect answer format. Make sure you only have the letter of your answer choice in quotes and answers are separated by commas.",
         "hidden": false,
         "locked": false,
         "points": 0,
         "success_message": "Correct answer format."
        },
        {
         "code": ">>> assert get_hash('A' in q7_2 or 'a' in q7_2) == 'f827cf462f62848df37c5e1e94a4da74'\n",
         "failure_message": "Incorrect answer.",
         "hidden": false,
         "locked": false,
         "points": 0.2
        },
        {
         "code": ">>> assert get_hash('B' in q7_2 or 'b' in q7_2) == 'f8320b26d30ab433c5a54546d21f414c'\n",
         "failure_message": "Incorrect answer.",
         "hidden": false,
         "locked": false,
         "points": 0.05
        },
        {
         "code": ">>> assert get_hash('C' in q7_2 or 'c' in q7_2) == 'f8320b26d30ab433c5a54546d21f414c'\n",
         "failure_message": "Incorrect answer.",
         "hidden": false,
         "locked": false,
         "points": 0.05
        },
        {
         "code": ">>> assert get_hash('D' in q7_2 or 'd' in q7_2) == 'f827cf462f62848df37c5e1e94a4da74'\n",
         "failure_message": "Incorrect answer.",
         "hidden": false,
         "locked": false,
         "points": 0.2
        }
       ],
       "scored": true,
       "setup": "",
       "teardown": "",
       "type": "doctest"
      }
     ]
    },
    "q8.0": {
     "name": "q8.0",
     "points": 0.75,
     "suites": [
      {
       "cases": [
        {
         "code": ">>> assert get_hash(round(Q1, 10)) == 'a645f996d70b30d9fc0fec398d92e274'\n",
         "failure_message": "Incorrect answer for Q1.",
         "hidden": false,
         "locked": false,
         "points": 0.25
        },
        {
         "code": ">>> assert get_hash(round(Q3, 10)) == '899e65dc5482a52e890a2c06afdfa88c'\n",
         "failure_message": "Incorrect answer for Q3.",
         "hidden": false,
         "locked": false,
         "points": 0.25
        },
        {
         "code": ">>> assert get_hash(round(IQR, 10)) == '3339138c02310919142f3140cd0ed1d7'\n",
         "failure_message": "Incorrect answer for IQR.",
         "hidden": false,
         "locked": false,
         "points": 0.25
        }
       ],
       "scored": true,
       "setup": "",
       "teardown": "",
       "type": "doctest"
      }
     ]
    },
    "q8.1": {
     "name": "q8.1",
     "points": 0.5,
     "suites": [
      {
       "cases": [
        {
         "code": ">>> assert get_hash(round(q8_1, 10)) == '03cd5cee0878d571e957140c5ca3d0ab'\n",
         "failure_message": "Incorrect answer.",
         "hidden": false,
         "locked": false,
         "points": 0.5
        }
       ],
       "scored": true,
       "setup": "",
       "teardown": "",
       "type": "doctest"
      }
     ]
    },
    "q8.2": {
     "name": "q8.2",
     "points": 0.5,
     "suites": [
      {
       "cases": [
        {
         "code": ">>> assert len(q8_2) == 1\n>>> assert isinstance(q8_2, str)\n",
         "failure_message": "Incorrect answer format. Make sure you only have the letter of your answer choice in quotes.",
         "hidden": false,
         "locked": false,
         "points": 0,
         "success_message": "Correct answer format."
        },
        {
         "code": ">>> assert get_hash(q8_2.upper()) == '7fc56270e7a70fa81a5935b72eacbe29'\n",
         "failure_message": "Incorrect answer.",
         "hidden": false,
         "locked": false,
         "points": 0.5
        }
       ],
       "scored": true,
       "setup": "",
       "teardown": "",
       "type": "doctest"
      }
     ]
    },
    "q9.0": {
     "name": "q9.0",
     "points": 0.5,
     "suites": [
      {
       "cases": [
        {
         "code": ">>> assert len(q9) == 1\n>>> assert isinstance(q9, str)\n",
         "failure_message": "Incorrect answer format. Make sure you only have the letter of your answer choice in quotes.",
         "hidden": false,
         "locked": false,
         "points": 0,
         "success_message": "Correct answer format."
        },
        {
         "code": ">>> assert get_hash(q9.upper()) == '0d61f8370cad1d412f80b84d143e1257'\n",
         "failure_message": "Incorrect answer.",
         "hidden": false,
         "locked": false,
         "points": 0.5
        }
       ],
       "scored": true,
       "setup": "",
       "teardown": "",
       "type": "doctest"
      }
     ]
    }
   }
  }
 },
 "nbformat": 4,
 "nbformat_minor": 5
}
